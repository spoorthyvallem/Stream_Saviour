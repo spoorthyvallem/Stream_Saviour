{
  "nbformat": 4,
  "nbformat_minor": 0,
  "metadata": {
    "colab": {
      "provenance": []
    },
    "kernelspec": {
      "name": "python3",
      "display_name": "Python 3"
    },
    "language_info": {
      "name": "python"
    }
  },
  "cells": [
    {
      "cell_type": "code",
      "execution_count": null,
      "metadata": {
        "id": "A2FScVPSF0Ky"
      },
      "outputs": [],
      "source": [
        "import numpy as np\n",
        "from tensorflow.keras.models import Sequential\n",
        "from tensorflow.keras.layers import LSTM\n",
        "from tensorflow.keras.layers import Dense, Dropout\n",
        "import pandas as pd\n",
        "from matplotlib import pyplot as plt\n",
        "from sklearn.preprocessing import StandardScaler\n",
        "import seaborn as sns"
      ]
    },
    {
      "cell_type": "code",
      "source": [
        "from google.colab import drive\n",
        "drive.mount('/content/drive')\n"
      ],
      "metadata": {
        "colab": {
          "base_uri": "https://localhost:8080/"
        },
        "id": "Uh8kxTU5GA8n",
        "outputId": "267d5dc4-390c-47b3-e51d-91636071a933"
      },
      "execution_count": null,
      "outputs": [
        {
          "output_type": "stream",
          "name": "stdout",
          "text": [
            "Mounted at /content/drive\n"
          ]
        }
      ]
    },
    {
      "cell_type": "code",
      "source": [
        "fi = pd.read_csv('/content/drive/MyDrive/Ramagundam.csv')\n",
        "print(fi.shape)\n",
        "fi\n"
      ],
      "metadata": {
        "colab": {
          "base_uri": "https://localhost:8080/",
          "height": 380
        },
        "id": "KS1XeEJAGLky",
        "outputId": "d30c79fc-b3ef-4e44-f803-6c762ce0e38a"
      },
      "execution_count": null,
      "outputs": [
        {
          "output_type": "stream",
          "name": "stdout",
          "text": [
            "(10, 10)\n"
          ]
        },
        {
          "output_type": "execute_result",
          "data": {
            "text/plain": [
              "   S.No.   DO (mg/L)    pH  BOD (mg/L)  Turbidity (NTU)  COD (mg/L)  \\\n",
              "0       1       5.90  8.18         5.3             23.0        20.0   \n",
              "1       2       6.00  8.12         3.3             13.0        24.0   \n",
              "2       3       5.10  8.18         4.0             24.0        28.0   \n",
              "3       4       5.00  8.12         4.0              9.0        25.0   \n",
              "4       5       5.10  7.93         3.0              8.0        17.0   \n",
              "5       6       5.00  8.02         3.0              7.0        25.0   \n",
              "6       7       5.40  8.07         2.5             11.0        23.0   \n",
              "7       8       5.30  8.00         2.3              7.0        19.0   \n",
              "8       9       5.80  8.28         1.2              9.0        13.0   \n",
              "9      10       5.41  8.43         2.1              6.2        29.9   \n",
              "\n",
              "   TDS (mg/L)   EC  TSS (mg/L)  Year  \n",
              "0       328.0  565           7  2014  \n",
              "1       352.0  536          14  2015  \n",
              "2       298.0  464          17  2016  \n",
              "3       364.0  563          12  2017  \n",
              "4       412.0  571           9  2018  \n",
              "5       348.0  678           6  2019  \n",
              "6       299.0  487          13  2020  \n",
              "7       292.0  482          10  2021  \n",
              "8       340.0  549          15  2022  \n",
              "9       373.6  625          11  2023  "
            ],
            "text/html": [
              "\n",
              "  <div id=\"df-5f6f4212-38ad-4ce6-867b-e25f4d6f5d96\" class=\"colab-df-container\">\n",
              "    <div>\n",
              "<style scoped>\n",
              "    .dataframe tbody tr th:only-of-type {\n",
              "        vertical-align: middle;\n",
              "    }\n",
              "\n",
              "    .dataframe tbody tr th {\n",
              "        vertical-align: top;\n",
              "    }\n",
              "\n",
              "    .dataframe thead th {\n",
              "        text-align: right;\n",
              "    }\n",
              "</style>\n",
              "<table border=\"1\" class=\"dataframe\">\n",
              "  <thead>\n",
              "    <tr style=\"text-align: right;\">\n",
              "      <th></th>\n",
              "      <th>S.No.</th>\n",
              "      <th>DO (mg/L)</th>\n",
              "      <th>pH</th>\n",
              "      <th>BOD (mg/L)</th>\n",
              "      <th>Turbidity (NTU)</th>\n",
              "      <th>COD (mg/L)</th>\n",
              "      <th>TDS (mg/L)</th>\n",
              "      <th>EC</th>\n",
              "      <th>TSS (mg/L)</th>\n",
              "      <th>Year</th>\n",
              "    </tr>\n",
              "  </thead>\n",
              "  <tbody>\n",
              "    <tr>\n",
              "      <th>0</th>\n",
              "      <td>1</td>\n",
              "      <td>5.90</td>\n",
              "      <td>8.18</td>\n",
              "      <td>5.3</td>\n",
              "      <td>23.0</td>\n",
              "      <td>20.0</td>\n",
              "      <td>328.0</td>\n",
              "      <td>565</td>\n",
              "      <td>7</td>\n",
              "      <td>2014</td>\n",
              "    </tr>\n",
              "    <tr>\n",
              "      <th>1</th>\n",
              "      <td>2</td>\n",
              "      <td>6.00</td>\n",
              "      <td>8.12</td>\n",
              "      <td>3.3</td>\n",
              "      <td>13.0</td>\n",
              "      <td>24.0</td>\n",
              "      <td>352.0</td>\n",
              "      <td>536</td>\n",
              "      <td>14</td>\n",
              "      <td>2015</td>\n",
              "    </tr>\n",
              "    <tr>\n",
              "      <th>2</th>\n",
              "      <td>3</td>\n",
              "      <td>5.10</td>\n",
              "      <td>8.18</td>\n",
              "      <td>4.0</td>\n",
              "      <td>24.0</td>\n",
              "      <td>28.0</td>\n",
              "      <td>298.0</td>\n",
              "      <td>464</td>\n",
              "      <td>17</td>\n",
              "      <td>2016</td>\n",
              "    </tr>\n",
              "    <tr>\n",
              "      <th>3</th>\n",
              "      <td>4</td>\n",
              "      <td>5.00</td>\n",
              "      <td>8.12</td>\n",
              "      <td>4.0</td>\n",
              "      <td>9.0</td>\n",
              "      <td>25.0</td>\n",
              "      <td>364.0</td>\n",
              "      <td>563</td>\n",
              "      <td>12</td>\n",
              "      <td>2017</td>\n",
              "    </tr>\n",
              "    <tr>\n",
              "      <th>4</th>\n",
              "      <td>5</td>\n",
              "      <td>5.10</td>\n",
              "      <td>7.93</td>\n",
              "      <td>3.0</td>\n",
              "      <td>8.0</td>\n",
              "      <td>17.0</td>\n",
              "      <td>412.0</td>\n",
              "      <td>571</td>\n",
              "      <td>9</td>\n",
              "      <td>2018</td>\n",
              "    </tr>\n",
              "    <tr>\n",
              "      <th>5</th>\n",
              "      <td>6</td>\n",
              "      <td>5.00</td>\n",
              "      <td>8.02</td>\n",
              "      <td>3.0</td>\n",
              "      <td>7.0</td>\n",
              "      <td>25.0</td>\n",
              "      <td>348.0</td>\n",
              "      <td>678</td>\n",
              "      <td>6</td>\n",
              "      <td>2019</td>\n",
              "    </tr>\n",
              "    <tr>\n",
              "      <th>6</th>\n",
              "      <td>7</td>\n",
              "      <td>5.40</td>\n",
              "      <td>8.07</td>\n",
              "      <td>2.5</td>\n",
              "      <td>11.0</td>\n",
              "      <td>23.0</td>\n",
              "      <td>299.0</td>\n",
              "      <td>487</td>\n",
              "      <td>13</td>\n",
              "      <td>2020</td>\n",
              "    </tr>\n",
              "    <tr>\n",
              "      <th>7</th>\n",
              "      <td>8</td>\n",
              "      <td>5.30</td>\n",
              "      <td>8.00</td>\n",
              "      <td>2.3</td>\n",
              "      <td>7.0</td>\n",
              "      <td>19.0</td>\n",
              "      <td>292.0</td>\n",
              "      <td>482</td>\n",
              "      <td>10</td>\n",
              "      <td>2021</td>\n",
              "    </tr>\n",
              "    <tr>\n",
              "      <th>8</th>\n",
              "      <td>9</td>\n",
              "      <td>5.80</td>\n",
              "      <td>8.28</td>\n",
              "      <td>1.2</td>\n",
              "      <td>9.0</td>\n",
              "      <td>13.0</td>\n",
              "      <td>340.0</td>\n",
              "      <td>549</td>\n",
              "      <td>15</td>\n",
              "      <td>2022</td>\n",
              "    </tr>\n",
              "    <tr>\n",
              "      <th>9</th>\n",
              "      <td>10</td>\n",
              "      <td>5.41</td>\n",
              "      <td>8.43</td>\n",
              "      <td>2.1</td>\n",
              "      <td>6.2</td>\n",
              "      <td>29.9</td>\n",
              "      <td>373.6</td>\n",
              "      <td>625</td>\n",
              "      <td>11</td>\n",
              "      <td>2023</td>\n",
              "    </tr>\n",
              "  </tbody>\n",
              "</table>\n",
              "</div>\n",
              "    <div class=\"colab-df-buttons\">\n",
              "\n",
              "  <div class=\"colab-df-container\">\n",
              "    <button class=\"colab-df-convert\" onclick=\"convertToInteractive('df-5f6f4212-38ad-4ce6-867b-e25f4d6f5d96')\"\n",
              "            title=\"Convert this dataframe to an interactive table.\"\n",
              "            style=\"display:none;\">\n",
              "\n",
              "  <svg xmlns=\"http://www.w3.org/2000/svg\" height=\"24px\" viewBox=\"0 -960 960 960\">\n",
              "    <path d=\"M120-120v-720h720v720H120Zm60-500h600v-160H180v160Zm220 220h160v-160H400v160Zm0 220h160v-160H400v160ZM180-400h160v-160H180v160Zm440 0h160v-160H620v160ZM180-180h160v-160H180v160Zm440 0h160v-160H620v160Z\"/>\n",
              "  </svg>\n",
              "    </button>\n",
              "\n",
              "  <style>\n",
              "    .colab-df-container {\n",
              "      display:flex;\n",
              "      gap: 12px;\n",
              "    }\n",
              "\n",
              "    .colab-df-convert {\n",
              "      background-color: #E8F0FE;\n",
              "      border: none;\n",
              "      border-radius: 50%;\n",
              "      cursor: pointer;\n",
              "      display: none;\n",
              "      fill: #1967D2;\n",
              "      height: 32px;\n",
              "      padding: 0 0 0 0;\n",
              "      width: 32px;\n",
              "    }\n",
              "\n",
              "    .colab-df-convert:hover {\n",
              "      background-color: #E2EBFA;\n",
              "      box-shadow: 0px 1px 2px rgba(60, 64, 67, 0.3), 0px 1px 3px 1px rgba(60, 64, 67, 0.15);\n",
              "      fill: #174EA6;\n",
              "    }\n",
              "\n",
              "    .colab-df-buttons div {\n",
              "      margin-bottom: 4px;\n",
              "    }\n",
              "\n",
              "    [theme=dark] .colab-df-convert {\n",
              "      background-color: #3B4455;\n",
              "      fill: #D2E3FC;\n",
              "    }\n",
              "\n",
              "    [theme=dark] .colab-df-convert:hover {\n",
              "      background-color: #434B5C;\n",
              "      box-shadow: 0px 1px 3px 1px rgba(0, 0, 0, 0.15);\n",
              "      filter: drop-shadow(0px 1px 2px rgba(0, 0, 0, 0.3));\n",
              "      fill: #FFFFFF;\n",
              "    }\n",
              "  </style>\n",
              "\n",
              "    <script>\n",
              "      const buttonEl =\n",
              "        document.querySelector('#df-5f6f4212-38ad-4ce6-867b-e25f4d6f5d96 button.colab-df-convert');\n",
              "      buttonEl.style.display =\n",
              "        google.colab.kernel.accessAllowed ? 'block' : 'none';\n",
              "\n",
              "      async function convertToInteractive(key) {\n",
              "        const element = document.querySelector('#df-5f6f4212-38ad-4ce6-867b-e25f4d6f5d96');\n",
              "        const dataTable =\n",
              "          await google.colab.kernel.invokeFunction('convertToInteractive',\n",
              "                                                    [key], {});\n",
              "        if (!dataTable) return;\n",
              "\n",
              "        const docLinkHtml = 'Like what you see? Visit the ' +\n",
              "          '<a target=\"_blank\" href=https://colab.research.google.com/notebooks/data_table.ipynb>data table notebook</a>'\n",
              "          + ' to learn more about interactive tables.';\n",
              "        element.innerHTML = '';\n",
              "        dataTable['output_type'] = 'display_data';\n",
              "        await google.colab.output.renderOutput(dataTable, element);\n",
              "        const docLink = document.createElement('div');\n",
              "        docLink.innerHTML = docLinkHtml;\n",
              "        element.appendChild(docLink);\n",
              "      }\n",
              "    </script>\n",
              "  </div>\n",
              "\n",
              "\n",
              "<div id=\"df-a331e6d1-0ccc-4f2c-bee9-e61fca9bd0ff\">\n",
              "  <button class=\"colab-df-quickchart\" onclick=\"quickchart('df-a331e6d1-0ccc-4f2c-bee9-e61fca9bd0ff')\"\n",
              "            title=\"Suggest charts\"\n",
              "            style=\"display:none;\">\n",
              "\n",
              "<svg xmlns=\"http://www.w3.org/2000/svg\" height=\"24px\"viewBox=\"0 0 24 24\"\n",
              "     width=\"24px\">\n",
              "    <g>\n",
              "        <path d=\"M19 3H5c-1.1 0-2 .9-2 2v14c0 1.1.9 2 2 2h14c1.1 0 2-.9 2-2V5c0-1.1-.9-2-2-2zM9 17H7v-7h2v7zm4 0h-2V7h2v10zm4 0h-2v-4h2v4z\"/>\n",
              "    </g>\n",
              "</svg>\n",
              "  </button>\n",
              "\n",
              "<style>\n",
              "  .colab-df-quickchart {\n",
              "      --bg-color: #E8F0FE;\n",
              "      --fill-color: #1967D2;\n",
              "      --hover-bg-color: #E2EBFA;\n",
              "      --hover-fill-color: #174EA6;\n",
              "      --disabled-fill-color: #AAA;\n",
              "      --disabled-bg-color: #DDD;\n",
              "  }\n",
              "\n",
              "  [theme=dark] .colab-df-quickchart {\n",
              "      --bg-color: #3B4455;\n",
              "      --fill-color: #D2E3FC;\n",
              "      --hover-bg-color: #434B5C;\n",
              "      --hover-fill-color: #FFFFFF;\n",
              "      --disabled-bg-color: #3B4455;\n",
              "      --disabled-fill-color: #666;\n",
              "  }\n",
              "\n",
              "  .colab-df-quickchart {\n",
              "    background-color: var(--bg-color);\n",
              "    border: none;\n",
              "    border-radius: 50%;\n",
              "    cursor: pointer;\n",
              "    display: none;\n",
              "    fill: var(--fill-color);\n",
              "    height: 32px;\n",
              "    padding: 0;\n",
              "    width: 32px;\n",
              "  }\n",
              "\n",
              "  .colab-df-quickchart:hover {\n",
              "    background-color: var(--hover-bg-color);\n",
              "    box-shadow: 0 1px 2px rgba(60, 64, 67, 0.3), 0 1px 3px 1px rgba(60, 64, 67, 0.15);\n",
              "    fill: var(--button-hover-fill-color);\n",
              "  }\n",
              "\n",
              "  .colab-df-quickchart-complete:disabled,\n",
              "  .colab-df-quickchart-complete:disabled:hover {\n",
              "    background-color: var(--disabled-bg-color);\n",
              "    fill: var(--disabled-fill-color);\n",
              "    box-shadow: none;\n",
              "  }\n",
              "\n",
              "  .colab-df-spinner {\n",
              "    border: 2px solid var(--fill-color);\n",
              "    border-color: transparent;\n",
              "    border-bottom-color: var(--fill-color);\n",
              "    animation:\n",
              "      spin 1s steps(1) infinite;\n",
              "  }\n",
              "\n",
              "  @keyframes spin {\n",
              "    0% {\n",
              "      border-color: transparent;\n",
              "      border-bottom-color: var(--fill-color);\n",
              "      border-left-color: var(--fill-color);\n",
              "    }\n",
              "    20% {\n",
              "      border-color: transparent;\n",
              "      border-left-color: var(--fill-color);\n",
              "      border-top-color: var(--fill-color);\n",
              "    }\n",
              "    30% {\n",
              "      border-color: transparent;\n",
              "      border-left-color: var(--fill-color);\n",
              "      border-top-color: var(--fill-color);\n",
              "      border-right-color: var(--fill-color);\n",
              "    }\n",
              "    40% {\n",
              "      border-color: transparent;\n",
              "      border-right-color: var(--fill-color);\n",
              "      border-top-color: var(--fill-color);\n",
              "    }\n",
              "    60% {\n",
              "      border-color: transparent;\n",
              "      border-right-color: var(--fill-color);\n",
              "    }\n",
              "    80% {\n",
              "      border-color: transparent;\n",
              "      border-right-color: var(--fill-color);\n",
              "      border-bottom-color: var(--fill-color);\n",
              "    }\n",
              "    90% {\n",
              "      border-color: transparent;\n",
              "      border-bottom-color: var(--fill-color);\n",
              "    }\n",
              "  }\n",
              "</style>\n",
              "\n",
              "  <script>\n",
              "    async function quickchart(key) {\n",
              "      const quickchartButtonEl =\n",
              "        document.querySelector('#' + key + ' button');\n",
              "      quickchartButtonEl.disabled = true;  // To prevent multiple clicks.\n",
              "      quickchartButtonEl.classList.add('colab-df-spinner');\n",
              "      try {\n",
              "        const charts = await google.colab.kernel.invokeFunction(\n",
              "            'suggestCharts', [key], {});\n",
              "      } catch (error) {\n",
              "        console.error('Error during call to suggestCharts:', error);\n",
              "      }\n",
              "      quickchartButtonEl.classList.remove('colab-df-spinner');\n",
              "      quickchartButtonEl.classList.add('colab-df-quickchart-complete');\n",
              "    }\n",
              "    (() => {\n",
              "      let quickchartButtonEl =\n",
              "        document.querySelector('#df-a331e6d1-0ccc-4f2c-bee9-e61fca9bd0ff button');\n",
              "      quickchartButtonEl.style.display =\n",
              "        google.colab.kernel.accessAllowed ? 'block' : 'none';\n",
              "    })();\n",
              "  </script>\n",
              "</div>\n",
              "    </div>\n",
              "  </div>\n"
            ],
            "application/vnd.google.colaboratory.intrinsic+json": {
              "type": "dataframe",
              "variable_name": "fi",
              "summary": "{\n  \"name\": \"fi\",\n  \"rows\": 10,\n  \"fields\": [\n    {\n      \"column\": \"S.No. \",\n      \"properties\": {\n        \"dtype\": \"number\",\n        \"std\": 3,\n        \"min\": 1,\n        \"max\": 10,\n        \"num_unique_values\": 10,\n        \"samples\": [\n          9,\n          2,\n          6\n        ],\n        \"semantic_type\": \"\",\n        \"description\": \"\"\n      }\n    },\n    {\n      \"column\": \"DO (mg/L)\",\n      \"properties\": {\n        \"dtype\": \"number\",\n        \"std\": 0.37713687465192564,\n        \"min\": 5.0,\n        \"max\": 6.0,\n        \"num_unique_values\": 8,\n        \"samples\": [\n          6.0,\n          5.3,\n          5.9\n        ],\n        \"semantic_type\": \"\",\n        \"description\": \"\"\n      }\n    },\n    {\n      \"column\": \"pH\",\n      \"properties\": {\n        \"dtype\": \"number\",\n        \"std\": 0.14537690478354678,\n        \"min\": 7.93,\n        \"max\": 8.43,\n        \"num_unique_values\": 8,\n        \"samples\": [\n          8.12,\n          8.0,\n          8.18\n        ],\n        \"semantic_type\": \"\",\n        \"description\": \"\"\n      }\n    },\n    {\n      \"column\": \"BOD (mg/L)\",\n      \"properties\": {\n        \"dtype\": \"number\",\n        \"std\": 1.1605075517969619,\n        \"min\": 1.2,\n        \"max\": 5.3,\n        \"num_unique_values\": 8,\n        \"samples\": [\n          3.3,\n          2.3,\n          5.3\n        ],\n        \"semantic_type\": \"\",\n        \"description\": \"\"\n      }\n    },\n    {\n      \"column\": \"Turbidity (NTU)\",\n      \"properties\": {\n        \"dtype\": \"number\",\n        \"std\": 6.530747787709051,\n        \"min\": 6.2,\n        \"max\": 24.0,\n        \"num_unique_values\": 8,\n        \"samples\": [\n          13.0,\n          7.0,\n          23.0\n        ],\n        \"semantic_type\": \"\",\n        \"description\": \"\"\n      }\n    },\n    {\n      \"column\": \"COD (mg/L)\",\n      \"properties\": {\n        \"dtype\": \"number\",\n        \"std\": 5.152011473417176,\n        \"min\": 13.0,\n        \"max\": 29.9,\n        \"num_unique_values\": 9,\n        \"samples\": [\n          13.0,\n          24.0,\n          23.0\n        ],\n        \"semantic_type\": \"\",\n        \"description\": \"\"\n      }\n    },\n    {\n      \"column\": \"TDS (mg/L)\",\n      \"properties\": {\n        \"dtype\": \"number\",\n        \"std\": 37.98479812884214,\n        \"min\": 292.0,\n        \"max\": 412.0,\n        \"num_unique_values\": 10,\n        \"samples\": [\n          340.0,\n          352.0,\n          348.0\n        ],\n        \"semantic_type\": \"\",\n        \"description\": \"\"\n      }\n    },\n    {\n      \"column\": \"EC\",\n      \"properties\": {\n        \"dtype\": \"number\",\n        \"std\": 65,\n        \"min\": 464,\n        \"max\": 678,\n        \"num_unique_values\": 10,\n        \"samples\": [\n          549,\n          536,\n          678\n        ],\n        \"semantic_type\": \"\",\n        \"description\": \"\"\n      }\n    },\n    {\n      \"column\": \"TSS (mg/L)\",\n      \"properties\": {\n        \"dtype\": \"number\",\n        \"std\": 3,\n        \"min\": 6,\n        \"max\": 17,\n        \"num_unique_values\": 10,\n        \"samples\": [\n          15,\n          14,\n          6\n        ],\n        \"semantic_type\": \"\",\n        \"description\": \"\"\n      }\n    },\n    {\n      \"column\": \"Year\",\n      \"properties\": {\n        \"dtype\": \"number\",\n        \"std\": 3,\n        \"min\": 2014,\n        \"max\": 2023,\n        \"num_unique_values\": 10,\n        \"samples\": [\n          2022,\n          2015,\n          2019\n        ],\n        \"semantic_type\": \"\",\n        \"description\": \"\"\n      }\n    }\n  ]\n}"
            }
          },
          "metadata": {},
          "execution_count": 3
        }
      ]
    },
    {
      "cell_type": "code",
      "source": [
        "cols = list(fi)[1:8]\n",
        "print(cols)"
      ],
      "metadata": {
        "colab": {
          "base_uri": "https://localhost:8080/"
        },
        "id": "XsMeQLLFGqgf",
        "outputId": "1d5f822b-8e26-45e9-a843-d1f9843ad3c7"
      },
      "execution_count": null,
      "outputs": [
        {
          "output_type": "stream",
          "name": "stdout",
          "text": [
            "['DO (mg/L)', 'pH', 'BOD (mg/L)', 'Turbidity (NTU)', 'COD (mg/L)', 'TDS (mg/L)', 'EC']\n"
          ]
        }
      ]
    },
    {
      "cell_type": "code",
      "source": [
        "df_for_training = fi[cols].astype(float)\n",
        "df_for_training.plot()"
      ],
      "metadata": {
        "colab": {
          "base_uri": "https://localhost:8080/",
          "height": 447
        },
        "id": "Gztls76KHDB2",
        "outputId": "fafa5dc1-c51f-402f-9a20-d90e01547a5a"
      },
      "execution_count": null,
      "outputs": [
        {
          "output_type": "execute_result",
          "data": {
            "text/plain": [
              "<Axes: >"
            ]
          },
          "metadata": {},
          "execution_count": 5
        },
        {
          "output_type": "display_data",
          "data": {
            "text/plain": [
              "<Figure size 640x480 with 1 Axes>"
            ],
            "image/png": "[encoded data removed]"
          },
          "metadata": {}
        }
      ]
    },
    {
      "cell_type": "code",
      "source": [
        "scaler = StandardScaler()\n",
        "scaler = scaler.fit(df_for_training)\n",
        "df_for_training_scaled = scaler.transform(df_for_training)\n",
        "df_for_training"
      ],
      "metadata": {
        "colab": {
          "base_uri": "https://localhost:8080/",
          "height": 363
        },
        "id": "m4k7E8tMHIx7",
        "outputId": "2d125f7b-8990-4ecf-9e31-2951f397665d"
      },
      "execution_count": null,
      "outputs": [
        {
          "output_type": "execute_result",
          "data": {
            "text/plain": [
              "   DO (mg/L)    pH  BOD (mg/L)  Turbidity (NTU)  COD (mg/L)  TDS (mg/L)     EC\n",
              "0       5.90  8.18         5.3             23.0        20.0       328.0  565.0\n",
              "1       6.00  8.12         3.3             13.0        24.0       352.0  536.0\n",
              "2       5.10  8.18         4.0             24.0        28.0       298.0  464.0\n",
              "3       5.00  8.12         4.0              9.0        25.0       364.0  563.0\n",
              "4       5.10  7.93         3.0              8.0        17.0       412.0  571.0\n",
              "5       5.00  8.02         3.0              7.0        25.0       348.0  678.0\n",
              "6       5.40  8.07         2.5             11.0        23.0       299.0  487.0\n",
              "7       5.30  8.00         2.3              7.0        19.0       292.0  482.0\n",
              "8       5.80  8.28         1.2              9.0        13.0       340.0  549.0\n",
              "9       5.41  8.43         2.1              6.2        29.9       373.6  625.0"
            ],
            "text/html": [
              "\n",
              "  <div id=\"df-c3ac417a-9209-4003-9e58-fe04cd7987a7\" class=\"colab-df-container\">\n",
              "    <div>\n",
              "<style scoped>\n",
              "    .dataframe tbody tr th:only-of-type {\n",
              "        vertical-align: middle;\n",
              "    }\n",
              "\n",
              "    .dataframe tbody tr th {\n",
              "        vertical-align: top;\n",
              "    }\n",
              "\n",
              "    .dataframe thead th {\n",
              "        text-align: right;\n",
              "    }\n",
              "</style>\n",
              "<table border=\"1\" class=\"dataframe\">\n",
              "  <thead>\n",
              "    <tr style=\"text-align: right;\">\n",
              "      <th></th>\n",
              "      <th>DO (mg/L)</th>\n",
              "      <th>pH</th>\n",
              "      <th>BOD (mg/L)</th>\n",
              "      <th>Turbidity (NTU)</th>\n",
              "      <th>COD (mg/L)</th>\n",
              "      <th>TDS (mg/L)</th>\n",
              "      <th>EC</th>\n",
              "    </tr>\n",
              "  </thead>\n",
              "  <tbody>\n",
              "    <tr>\n",
              "      <th>0</th>\n",
              "      <td>5.90</td>\n",
              "      <td>8.18</td>\n",
              "      <td>5.3</td>\n",
              "      <td>23.0</td>\n",
              "      <td>20.0</td>\n",
              "      <td>328.0</td>\n",
              "      <td>565.0</td>\n",
              "    </tr>\n",
              "    <tr>\n",
              "      <th>1</th>\n",
              "      <td>6.00</td>\n",
              "      <td>8.12</td>\n",
              "      <td>3.3</td>\n",
              "      <td>13.0</td>\n",
              "      <td>24.0</td>\n",
              "      <td>352.0</td>\n",
              "      <td>536.0</td>\n",
              "    </tr>\n",
              "    <tr>\n",
              "      <th>2</th>\n",
              "      <td>5.10</td>\n",
              "      <td>8.18</td>\n",
              "      <td>4.0</td>\n",
              "      <td>24.0</td>\n",
              "      <td>28.0</td>\n",
              "      <td>298.0</td>\n",
              "      <td>464.0</td>\n",
              "    </tr>\n",
              "    <tr>\n",
              "      <th>3</th>\n",
              "      <td>5.00</td>\n",
              "      <td>8.12</td>\n",
              "      <td>4.0</td>\n",
              "      <td>9.0</td>\n",
              "      <td>25.0</td>\n",
              "      <td>364.0</td>\n",
              "      <td>563.0</td>\n",
              "    </tr>\n",
              "    <tr>\n",
              "      <th>4</th>\n",
              "      <td>5.10</td>\n",
              "      <td>7.93</td>\n",
              "      <td>3.0</td>\n",
              "      <td>8.0</td>\n",
              "      <td>17.0</td>\n",
              "      <td>412.0</td>\n",
              "      <td>571.0</td>\n",
              "    </tr>\n",
              "    <tr>\n",
              "      <th>5</th>\n",
              "      <td>5.00</td>\n",
              "      <td>8.02</td>\n",
              "      <td>3.0</td>\n",
              "      <td>7.0</td>\n",
              "      <td>25.0</td>\n",
              "      <td>348.0</td>\n",
              "      <td>678.0</td>\n",
              "    </tr>\n",
              "    <tr>\n",
              "      <th>6</th>\n",
              "      <td>5.40</td>\n",
              "      <td>8.07</td>\n",
              "      <td>2.5</td>\n",
              "      <td>11.0</td>\n",
              "      <td>23.0</td>\n",
              "      <td>299.0</td>\n",
              "      <td>487.0</td>\n",
              "    </tr>\n",
              "    <tr>\n",
              "      <th>7</th>\n",
              "      <td>5.30</td>\n",
              "      <td>8.00</td>\n",
              "      <td>2.3</td>\n",
              "      <td>7.0</td>\n",
              "      <td>19.0</td>\n",
              "      <td>292.0</td>\n",
              "      <td>482.0</td>\n",
              "    </tr>\n",
              "    <tr>\n",
              "      <th>8</th>\n",
              "      <td>5.80</td>\n",
              "      <td>8.28</td>\n",
              "      <td>1.2</td>\n",
              "      <td>9.0</td>\n",
              "      <td>13.0</td>\n",
              "      <td>340.0</td>\n",
              "      <td>549.0</td>\n",
              "    </tr>\n",
              "    <tr>\n",
              "      <th>9</th>\n",
              "      <td>5.41</td>\n",
              "      <td>8.43</td>\n",
              "      <td>2.1</td>\n",
              "      <td>6.2</td>\n",
              "      <td>29.9</td>\n",
              "      <td>373.6</td>\n",
              "      <td>625.0</td>\n",
              "    </tr>\n",
              "  </tbody>\n",
              "</table>\n",
              "</div>\n",
              "    <div class=\"colab-df-buttons\">\n",
              "\n",
              "  <div class=\"colab-df-container\">\n",
              "    <button class=\"colab-df-convert\" onclick=\"convertToInteractive('df-c3ac417a-9209-4003-9e58-fe04cd7987a7')\"\n",
              "            title=\"Convert this dataframe to an interactive table.\"\n",
              "            style=\"display:none;\">\n",
              "\n",
              "  <svg xmlns=\"http://www.w3.org/2000/svg\" height=\"24px\" viewBox=\"0 -960 960 960\">\n",
              "    <path d=\"M120-120v-720h720v720H120Zm60-500h600v-160H180v160Zm220 220h160v-160H400v160Zm0 220h160v-160H400v160ZM180-400h160v-160H180v160Zm440 0h160v-160H620v160ZM180-180h160v-160H180v160Zm440 0h160v-160H620v160Z\"/>\n",
              "  </svg>\n",
              "    </button>\n",
              "\n",
              "  <style>\n",
              "    .colab-df-container {\n",
              "      display:flex;\n",
              "      gap: 12px;\n",
              "    }\n",
              "\n",
              "    .colab-df-convert {\n",
              "      background-color: #E8F0FE;\n",
              "      border: none;\n",
              "      border-radius: 50%;\n",
              "      cursor: pointer;\n",
              "      display: none;\n",
              "      fill: #1967D2;\n",
              "      height: 32px;\n",
              "      padding: 0 0 0 0;\n",
              "      width: 32px;\n",
              "    }\n",
              "\n",
              "    .colab-df-convert:hover {\n",
              "      background-color: #E2EBFA;\n",
              "      box-shadow: 0px 1px 2px rgba(60, 64, 67, 0.3), 0px 1px 3px 1px rgba(60, 64, 67, 0.15);\n",
              "      fill: #174EA6;\n",
              "    }\n",
              "\n",
              "    .colab-df-buttons div {\n",
              "      margin-bottom: 4px;\n",
              "    }\n",
              "\n",
              "    [theme=dark] .colab-df-convert {\n",
              "      background-color: #3B4455;\n",
              "      fill: #D2E3FC;\n",
              "    }\n",
              "\n",
              "    [theme=dark] .colab-df-convert:hover {\n",
              "      background-color: #434B5C;\n",
              "      box-shadow: 0px 1px 3px 1px rgba(0, 0, 0, 0.15);\n",
              "      filter: drop-shadow(0px 1px 2px rgba(0, 0, 0, 0.3));\n",
              "      fill: #FFFFFF;\n",
              "    }\n",
              "  </style>\n",
              "\n",
              "    <script>\n",
              "      const buttonEl =\n",
              "        document.querySelector('#df-c3ac417a-9209-4003-9e58-fe04cd7987a7 button.colab-df-convert');\n",
              "      buttonEl.style.display =\n",
              "        google.colab.kernel.accessAllowed ? 'block' : 'none';\n",
              "\n",
              "      async function convertToInteractive(key) {\n",
              "        const element = document.querySelector('#df-c3ac417a-9209-4003-9e58-fe04cd7987a7');\n",
              "        const dataTable =\n",
              "          await google.colab.kernel.invokeFunction('convertToInteractive',\n",
              "                                                    [key], {});\n",
              "        if (!dataTable) return;\n",
              "\n",
              "        const docLinkHtml = 'Like what you see? Visit the ' +\n",
              "          '<a target=\"_blank\" href=https://colab.research.google.com/notebooks/data_table.ipynb>data table notebook</a>'\n",
              "          + ' to learn more about interactive tables.';\n",
              "        element.innerHTML = '';\n",
              "        dataTable['output_type'] = 'display_data';\n",
              "        await google.colab.output.renderOutput(dataTable, element);\n",
              "        const docLink = document.createElement('div');\n",
              "        docLink.innerHTML = docLinkHtml;\n",
              "        element.appendChild(docLink);\n",
              "      }\n",
              "    </script>\n",
              "  </div>\n",
              "\n",
              "\n",
              "<div id=\"df-29ab7272-15bb-4499-8454-c2afcbae375e\">\n",
              "  <button class=\"colab-df-quickchart\" onclick=\"quickchart('df-29ab7272-15bb-4499-8454-c2afcbae375e')\"\n",
              "            title=\"Suggest charts\"\n",
              "            style=\"display:none;\">\n",
              "\n",
              "<svg xmlns=\"http://www.w3.org/2000/svg\" height=\"24px\"viewBox=\"0 0 24 24\"\n",
              "     width=\"24px\">\n",
              "    <g>\n",
              "        <path d=\"M19 3H5c-1.1 0-2 .9-2 2v14c0 1.1.9 2 2 2h14c1.1 0 2-.9 2-2V5c0-1.1-.9-2-2-2zM9 17H7v-7h2v7zm4 0h-2V7h2v10zm4 0h-2v-4h2v4z\"/>\n",
              "    </g>\n",
              "</svg>\n",
              "  </button>\n",
              "\n",
              "<style>\n",
              "  .colab-df-quickchart {\n",
              "      --bg-color: #E8F0FE;\n",
              "      --fill-color: #1967D2;\n",
              "      --hover-bg-color: #E2EBFA;\n",
              "      --hover-fill-color: #174EA6;\n",
              "      --disabled-fill-color: #AAA;\n",
              "      --disabled-bg-color: #DDD;\n",
              "  }\n",
              "\n",
              "  [theme=dark] .colab-df-quickchart {\n",
              "      --bg-color: #3B4455;\n",
              "      --fill-color: #D2E3FC;\n",
              "      --hover-bg-color: #434B5C;\n",
              "      --hover-fill-color: #FFFFFF;\n",
              "      --disabled-bg-color: #3B4455;\n",
              "      --disabled-fill-color: #666;\n",
              "  }\n",
              "\n",
              "  .colab-df-quickchart {\n",
              "    background-color: var(--bg-color);\n",
              "    border: none;\n",
              "    border-radius: 50%;\n",
              "    cursor: pointer;\n",
              "    display: none;\n",
              "    fill: var(--fill-color);\n",
              "    height: 32px;\n",
              "    padding: 0;\n",
              "    width: 32px;\n",
              "  }\n",
              "\n",
              "  .colab-df-quickchart:hover {\n",
              "    background-color: var(--hover-bg-color);\n",
              "    box-shadow: 0 1px 2px rgba(60, 64, 67, 0.3), 0 1px 3px 1px rgba(60, 64, 67, 0.15);\n",
              "    fill: var(--button-hover-fill-color);\n",
              "  }\n",
              "\n",
              "  .colab-df-quickchart-complete:disabled,\n",
              "  .colab-df-quickchart-complete:disabled:hover {\n",
              "    background-color: var(--disabled-bg-color);\n",
              "    fill: var(--disabled-fill-color);\n",
              "    box-shadow: none;\n",
              "  }\n",
              "\n",
              "  .colab-df-spinner {\n",
              "    border: 2px solid var(--fill-color);\n",
              "    border-color: transparent;\n",
              "    border-bottom-color: var(--fill-color);\n",
              "    animation:\n",
              "      spin 1s steps(1) infinite;\n",
              "  }\n",
              "\n",
              "  @keyframes spin {\n",
              "    0% {\n",
              "      border-color: transparent;\n",
              "      border-bottom-color: var(--fill-color);\n",
              "      border-left-color: var(--fill-color);\n",
              "    }\n",
              "    20% {\n",
              "      border-color: transparent;\n",
              "      border-left-color: var(--fill-color);\n",
              "      border-top-color: var(--fill-color);\n",
              "    }\n",
              "    30% {\n",
              "      border-color: transparent;\n",
              "      border-left-color: var(--fill-color);\n",
              "      border-top-color: var(--fill-color);\n",
              "      border-right-color: var(--fill-color);\n",
              "    }\n",
              "    40% {\n",
              "      border-color: transparent;\n",
              "      border-right-color: var(--fill-color);\n",
              "      border-top-color: var(--fill-color);\n",
              "    }\n",
              "    60% {\n",
              "      border-color: transparent;\n",
              "      border-right-color: var(--fill-color);\n",
              "    }\n",
              "    80% {\n",
              "      border-color: transparent;\n",
              "      border-right-color: var(--fill-color);\n",
              "      border-bottom-color: var(--fill-color);\n",
              "    }\n",
              "    90% {\n",
              "      border-color: transparent;\n",
              "      border-bottom-color: var(--fill-color);\n",
              "    }\n",
              "  }\n",
              "</style>\n",
              "\n",
              "  <script>\n",
              "    async function quickchart(key) {\n",
              "      const quickchartButtonEl =\n",
              "        document.querySelector('#' + key + ' button');\n",
              "      quickchartButtonEl.disabled = true;  // To prevent multiple clicks.\n",
              "      quickchartButtonEl.classList.add('colab-df-spinner');\n",
              "      try {\n",
              "        const charts = await google.colab.kernel.invokeFunction(\n",
              "            'suggestCharts', [key], {});\n",
              "      } catch (error) {\n",
              "        console.error('Error during call to suggestCharts:', error);\n",
              "      }\n",
              "      quickchartButtonEl.classList.remove('colab-df-spinner');\n",
              "      quickchartButtonEl.classList.add('colab-df-quickchart-complete');\n",
              "    }\n",
              "    (() => {\n",
              "      let quickchartButtonEl =\n",
              "        document.querySelector('#df-29ab7272-15bb-4499-8454-c2afcbae375e button');\n",
              "      quickchartButtonEl.style.display =\n",
              "        google.colab.kernel.accessAllowed ? 'block' : 'none';\n",
              "    })();\n",
              "  </script>\n",
              "</div>\n",
              "    </div>\n",
              "  </div>\n"
            ],
            "application/vnd.google.colaboratory.intrinsic+json": {
              "type": "dataframe",
              "variable_name": "df_for_training",
              "summary": "{\n  \"name\": \"df_for_training\",\n  \"rows\": 10,\n  \"fields\": [\n    {\n      \"column\": \"DO (mg/L)\",\n      \"properties\": {\n        \"dtype\": \"number\",\n        \"std\": 0.37713687465192564,\n        \"min\": 5.0,\n        \"max\": 6.0,\n        \"num_unique_values\": 8,\n        \"samples\": [\n          6.0,\n          5.3,\n          5.9\n        ],\n        \"semantic_type\": \"\",\n        \"description\": \"\"\n      }\n    },\n    {\n      \"column\": \"pH\",\n      \"properties\": {\n        \"dtype\": \"number\",\n        \"std\": 0.14537690478354678,\n        \"min\": 7.93,\n        \"max\": 8.43,\n        \"num_unique_values\": 8,\n        \"samples\": [\n          8.12,\n          8.0,\n          8.18\n        ],\n        \"semantic_type\": \"\",\n        \"description\": \"\"\n      }\n    },\n    {\n      \"column\": \"BOD (mg/L)\",\n      \"properties\": {\n        \"dtype\": \"number\",\n        \"std\": 1.1605075517969619,\n        \"min\": 1.2,\n        \"max\": 5.3,\n        \"num_unique_values\": 8,\n        \"samples\": [\n          3.3,\n          2.3,\n          5.3\n        ],\n        \"semantic_type\": \"\",\n        \"description\": \"\"\n      }\n    },\n    {\n      \"column\": \"Turbidity (NTU)\",\n      \"properties\": {\n        \"dtype\": \"number\",\n        \"std\": 6.530747787709051,\n        \"min\": 6.2,\n        \"max\": 24.0,\n        \"num_unique_values\": 8,\n        \"samples\": [\n          13.0,\n          7.0,\n          23.0\n        ],\n        \"semantic_type\": \"\",\n        \"description\": \"\"\n      }\n    },\n    {\n      \"column\": \"COD (mg/L)\",\n      \"properties\": {\n        \"dtype\": \"number\",\n        \"std\": 5.152011473417176,\n        \"min\": 13.0,\n        \"max\": 29.9,\n        \"num_unique_values\": 9,\n        \"samples\": [\n          13.0,\n          24.0,\n          23.0\n        ],\n        \"semantic_type\": \"\",\n        \"description\": \"\"\n      }\n    },\n    {\n      \"column\": \"TDS (mg/L)\",\n      \"properties\": {\n        \"dtype\": \"number\",\n        \"std\": 37.98479812884214,\n        \"min\": 292.0,\n        \"max\": 412.0,\n        \"num_unique_values\": 10,\n        \"samples\": [\n          340.0,\n          352.0,\n          348.0\n        ],\n        \"semantic_type\": \"\",\n        \"description\": \"\"\n      }\n    },\n    {\n      \"column\": \"EC\",\n      \"properties\": {\n        \"dtype\": \"number\",\n        \"std\": 65.81961882465002,\n        \"min\": 464.0,\n        \"max\": 678.0,\n        \"num_unique_values\": 10,\n        \"samples\": [\n          549.0,\n          536.0,\n          678.0\n        ],\n        \"semantic_type\": \"\",\n        \"description\": \"\"\n      }\n    }\n  ]\n}"
            }
          },
          "metadata": {},
          "execution_count": 6
        }
      ]
    },
    {
      "cell_type": "code",
      "source": [
        "n_future = 1\n",
        "n_past = 3"
      ],
      "metadata": {
        "id": "EY1rIh68HNYl"
      },
      "execution_count": null,
      "outputs": []
    },
    {
      "cell_type": "code",
      "source": [
        "trainX = []\n",
        "trainYP = []\n",
        "trainYN = []\n",
        "trainYS = []\n",
        "trainYA = []\n",
        "trainYB = []\n",
        "trainYC = []\n",
        "trainYD = []"
      ],
      "metadata": {
        "id": "8bXT7Y8cHaEB"
      },
      "execution_count": null,
      "outputs": []
    },
    {
      "cell_type": "code",
      "source": [
        "for i in range(n_past, len(df_for_training_scaled) - n_future +1):\n",
        "  trainX.append(df_for_training_scaled[i - n_past:i, 0:df_for_training.shape[1]])\n",
        "  trainYP.append(df_for_training_scaled[i + n_future - 1:i + n_future, 0])\n",
        "  trainYN.append(df_for_training_scaled[i + n_future - 1:i + n_future, 1])\n",
        "  trainYS.append(df_for_training_scaled[i + n_future - 1:i + n_future, 2])\n",
        "  trainYA.append(df_for_training_scaled[i + n_future - 1:i + n_future, 3])\n",
        "  trainYB.append(df_for_training_scaled[i + n_future - 1:i + n_future, 4])\n",
        "  trainYC.append(df_for_training_scaled[i + n_future - 1:i + n_future, 5])\n",
        "  trainYD.append(df_for_training_scaled[i + n_future - 1:i + n_future, 6])\n"
      ],
      "metadata": {
        "id": "fFfRokTaHmHB"
      },
      "execution_count": null,
      "outputs": []
    },
    {
      "cell_type": "code",
      "source": [],
      "metadata": {
        "id": "E0dhLicONY-A"
      },
      "execution_count": null,
      "outputs": []
    },
    {
      "cell_type": "code",
      "source": [
        "print( trainX)\n",
        "print(trainYP)"
      ],
      "metadata": {
        "colab": {
          "base_uri": "https://localhost:8080/"
        },
        "id": "gt_zNQMEH6Jc",
        "outputId": "65894aab-808a-408d-b2ba-393afc65ebb5"
      },
      "execution_count": null,
      "outputs": [
        {
          "output_type": "stream",
          "name": "stdout",
          "text": [
            "[array([[ 1.39469837,  0.34078556,  2.02551581,  1.82064358, -0.48898983,\n",
            "        -0.3513198 ,  0.20819329],\n",
            "       [ 1.67419704, -0.09425984,  0.2089097 ,  0.20659785,  0.32940319,\n",
            "         0.3146893 , -0.2562379 ],\n",
            "       [-0.841291  ,  0.34078556,  0.84472184,  1.98204815,  1.14779621,\n",
            "        -1.18383118, -1.40930845]]), array([[ 1.67419704, -0.09425984,  0.2089097 ,  0.20659785,  0.32940319,\n",
            "         0.3146893 , -0.2562379 ],\n",
            "       [-0.841291  ,  0.34078556,  0.84472184,  1.98204815,  1.14779621,\n",
            "        -1.18383118, -1.40930845],\n",
            "       [-1.12078967, -0.09425984,  0.84472184, -0.43902044,  0.53400144,\n",
            "         0.64769385,  0.17616356]]), array([[-0.841291  ,  0.34078556,  0.84472184,  1.98204815,  1.14779621,\n",
            "        -1.18383118, -1.40930845],\n",
            "       [-1.12078967, -0.09425984,  0.84472184, -0.43902044,  0.53400144,\n",
            "         0.64769385,  0.17616356],\n",
            "       [-0.841291  , -1.47190359, -0.06358121, -0.60042501, -1.10278459,\n",
            "         1.97971205,  0.30428251]]), array([[-1.12078967, -0.09425984,  0.84472184, -0.43902044,  0.53400144,\n",
            "         0.64769385,  0.17616356],\n",
            "       [-0.841291  , -1.47190359, -0.06358121, -0.60042501, -1.10278459,\n",
            "         1.97971205,  0.30428251],\n",
            "       [-1.12078967, -0.8193355 , -0.06358121, -0.76182958,  0.53400144,\n",
            "         0.20368778,  2.01787346]]), array([[-0.841291  , -1.47190359, -0.06358121, -0.60042501, -1.10278459,\n",
            "         1.97971205,  0.30428251],\n",
            "       [-1.12078967, -0.8193355 , -0.06358121, -0.76182958,  0.53400144,\n",
            "         0.20368778,  2.01787346],\n",
            "       [-0.00279499, -0.45679767, -0.51773274, -0.11621129,  0.12480494,\n",
            "        -1.1560808 , -1.04096647]]), array([[-1.12078967, -0.8193355 , -0.06358121, -0.76182958,  0.53400144,\n",
            "         0.20368778,  2.01787346],\n",
            "       [-0.00279499, -0.45679767, -0.51773274, -0.11621129,  0.12480494,\n",
            "        -1.1560808 , -1.04096647],\n",
            "       [-0.28229366, -0.96435063, -0.69939335, -0.76182958, -0.69358808,\n",
            "        -1.35033345, -1.12104081]]), array([[-0.00279499, -0.45679767, -0.51773274, -0.11621129,  0.12480494,\n",
            "        -1.1560808 , -1.04096647],\n",
            "       [-0.28229366, -0.96435063, -0.69939335, -0.76182958, -0.69358808,\n",
            "        -1.35033345, -1.12104081],\n",
            "       [ 1.1151997 ,  1.06586122, -1.69852671, -0.43902044, -1.92117761,\n",
            "        -0.01831525, -0.04804461]])]\n",
            "[array([-1.12078967]), array([-0.841291]), array([-1.12078967]), array([-0.00279499]), array([-0.28229366]), array([1.1151997]), array([0.02515488])]\n"
          ]
        }
      ]
    },
    {
      "cell_type": "code",
      "source": [
        "trainX, trainYP, trainYN, trainYS,trainYA,trainYB,trainYC,trainYD= np.array(trainX), np.array(trainYP), np.array(trainYN), np.array(trainYS),np.array(trainYA),np.array(trainYB),np.array(trainYC),np.array(trainYD)\n",
        "print('trainX shape == {}.'.format(trainX.shape))\n",
        "print('trainYP shape == {}.'.format(trainYP.shape))\n",
        "print('trainYN shape == {}.'.format(trainYN.shape))\n",
        "print('trainYS shape == {}.'.format(trainYS.shape))\n",
        "print('trainYA shape == {}.'.format(trainYA.shape))\n",
        "print('trainYB shape == {}.'.format(trainYB.shape))\n",
        "print('trainYC shape == {}.'.format(trainYC.shape))\n",
        "print('trainYD shape == {}.'.format(trainYD.shape))"
      ],
      "metadata": {
        "colab": {
          "base_uri": "https://localhost:8080/"
        },
        "id": "AvXlpmvpNaGA",
        "outputId": "b06a2528-6671-409f-ac6e-1918e5519fa5"
      },
      "execution_count": null,
      "outputs": [
        {
          "output_type": "stream",
          "name": "stdout",
          "text": [
            "trainX shape == (7, 3, 7).\n",
            "trainYP shape == (7, 1).\n",
            "trainYN shape == (7, 1).\n",
            "trainYS shape == (7, 1).\n",
            "trainYA shape == (7, 1).\n",
            "trainYB shape == (7, 1).\n",
            "trainYC shape == (7, 1).\n",
            "trainYD shape == (7, 1).\n"
          ]
        }
      ]
    },
    {
      "cell_type": "code",
      "source": [
        "list1=[]"
      ],
      "metadata": {
        "id": "oovBNf2EtsUU"
      },
      "execution_count": null,
      "outputs": []
    },
    {
      "cell_type": "code",
      "source": [
        "modelP = Sequential()\n",
        "modelP.add(LSTM(64, activation='relu', input_shape=(trainX.shape[1], trainX.shape[2]), return_sequences=True))\n",
        "modelP.add(LSTM(32, activation='relu', return_sequences=False))\n",
        "modelP.add(Dropout(0.2))\n",
        "modelP.add(Dense(trainYP.shape[1]))"
      ],
      "metadata": {
        "id": "8ftLaxqHN903"
      },
      "execution_count": null,
      "outputs": []
    },
    {
      "cell_type": "code",
      "source": [
        "modelP.compile(optimizer='adam', loss='mse')\n",
        "modelP.summary()"
      ],
      "metadata": {
        "colab": {
          "base_uri": "https://localhost:8080/"
        },
        "id": "iniwhqBYOHLS",
        "outputId": "2be3b307-fa02-41a7-b3d7-f0926e3a1445"
      },
      "execution_count": null,
      "outputs": [
        {
          "output_type": "stream",
          "name": "stdout",
          "text": [
            "Model: \"sequential\"\n",
            "_________________________________________________________________\n",
            " Layer (type)                Output Shape              Param #   \n",
            "=================================================================\n",
            " lstm (LSTM)                 (None, 3, 64)             18432     \n",
            "                                                                 \n",
            " lstm_1 (LSTM)               (None, 32)                12416     \n",
            "                                                                 \n",
            " dropout (Dropout)           (None, 32)                0         \n",
            "                                                                 \n",
            " dense (Dense)               (None, 1)                 33        \n",
            "                                                                 \n",
            "=================================================================\n",
            "Total params: 30881 (120.63 KB)\n",
            "Trainable params: 30881 (120.63 KB)\n",
            "Non-trainable params: 0 (0.00 Byte)\n",
            "_________________________________________________________________\n"
          ]
        }
      ]
    },
    {
      "cell_type": "code",
      "source": [
        "\n",
        "history = modelP.fit(trainX, trainYP, epochs=50, batch_size=4, validation_split=0.1, verbose=1)"
      ],
      "metadata": {
        "colab": {
          "base_uri": "https://localhost:8080/"
        },
        "id": "Fkl-wxkJOJhR",
        "outputId": "5aeaa18f-e365-485b-e451-37a5753730f9"
      },
      "execution_count": null,
      "outputs": [
        {
          "output_type": "stream",
          "name": "stdout",
          "text": [
            "Epoch 1/50\n",
            "2/2 [==============================] - 4s 459ms/step - loss: 0.7223 - val_loss: 0.0022\n",
            "Epoch 2/50\n",
            "2/2 [==============================] - 0s 35ms/step - loss: 0.7121 - val_loss: 0.0024\n",
            "Epoch 3/50\n",
            "2/2 [==============================] - 0s 36ms/step - loss: 0.6841 - val_loss: 0.0028\n",
            "Epoch 4/50\n",
            "2/2 [==============================] - 0s 35ms/step - loss: 0.6753 - val_loss: 0.0029\n",
            "Epoch 5/50\n",
            "2/2 [==============================] - 0s 34ms/step - loss: 0.6379 - val_loss: 0.0028\n",
            "Epoch 6/50\n",
            "2/2 [==============================] - 0s 36ms/step - loss: 0.6226 - val_loss: 0.0029\n",
            "Epoch 7/50\n",
            "2/2 [==============================] - 0s 59ms/step - loss: 0.5981 - val_loss: 0.0030\n",
            "Epoch 8/50\n",
            "2/2 [==============================] - 0s 35ms/step - loss: 0.5943 - val_loss: 0.0031\n",
            "Epoch 9/50\n",
            "2/2 [==============================] - 0s 56ms/step - loss: 0.5773 - val_loss: 0.0034\n",
            "Epoch 10/50\n",
            "2/2 [==============================] - 0s 38ms/step - loss: 0.5791 - val_loss: 0.0036\n",
            "Epoch 11/50\n",
            "2/2 [==============================] - 0s 36ms/step - loss: 0.4909 - val_loss: 0.0038\n",
            "Epoch 12/50\n",
            "2/2 [==============================] - 0s 52ms/step - loss: 0.5004 - val_loss: 0.0040\n",
            "Epoch 13/50\n",
            "2/2 [==============================] - 0s 41ms/step - loss: 0.4602 - val_loss: 0.0042\n",
            "Epoch 14/50\n",
            "2/2 [==============================] - 0s 40ms/step - loss: 0.4061 - val_loss: 0.0043\n",
            "Epoch 15/50\n",
            "2/2 [==============================] - 0s 40ms/step - loss: 0.4227 - val_loss: 0.0045\n",
            "Epoch 16/50\n",
            "2/2 [==============================] - 0s 40ms/step - loss: 0.3751 - val_loss: 0.0046\n",
            "Epoch 17/50\n",
            "2/2 [==============================] - 0s 42ms/step - loss: 0.4114 - val_loss: 0.0045\n",
            "Epoch 18/50\n",
            "2/2 [==============================] - 0s 51ms/step - loss: 0.3161 - val_loss: 0.0044\n",
            "Epoch 19/50\n",
            "2/2 [==============================] - 0s 38ms/step - loss: 0.2931 - val_loss: 0.0038\n",
            "Epoch 20/50\n",
            "2/2 [==============================] - 0s 42ms/step - loss: 0.2589 - val_loss: 0.0029\n",
            "Epoch 21/50\n",
            "2/2 [==============================] - 0s 43ms/step - loss: 0.2208 - val_loss: 0.0021\n",
            "Epoch 22/50\n",
            "2/2 [==============================] - 0s 40ms/step - loss: 0.2122 - val_loss: 0.0013\n",
            "Epoch 23/50\n",
            "2/2 [==============================] - 0s 41ms/step - loss: 0.2186 - val_loss: 6.9383e-04\n",
            "Epoch 24/50\n",
            "2/2 [==============================] - 0s 40ms/step - loss: 0.2227 - val_loss: 1.8866e-04\n",
            "Epoch 25/50\n",
            "2/2 [==============================] - 0s 51ms/step - loss: 0.2487 - val_loss: 2.1412e-10\n",
            "Epoch 26/50\n",
            "2/2 [==============================] - 0s 41ms/step - loss: 0.2360 - val_loss: 2.5358e-04\n",
            "Epoch 27/50\n",
            "2/2 [==============================] - 0s 49ms/step - loss: 0.2059 - val_loss: 0.0012\n",
            "Epoch 28/50\n",
            "2/2 [==============================] - 0s 40ms/step - loss: 0.2010 - val_loss: 0.0030\n",
            "Epoch 29/50\n",
            "2/2 [==============================] - 0s 41ms/step - loss: 0.1343 - val_loss: 0.0060\n",
            "Epoch 30/50\n",
            "2/2 [==============================] - 0s 44ms/step - loss: 0.1626 - val_loss: 0.0105\n",
            "Epoch 31/50\n",
            "2/2 [==============================] - 0s 40ms/step - loss: 0.1724 - val_loss: 0.0166\n",
            "Epoch 32/50\n",
            "2/2 [==============================] - 0s 41ms/step - loss: 0.1410 - val_loss: 0.0240\n",
            "Epoch 33/50\n",
            "2/2 [==============================] - 0s 44ms/step - loss: 0.1433 - val_loss: 0.0316\n",
            "Epoch 34/50\n",
            "2/2 [==============================] - 0s 43ms/step - loss: 0.0973 - val_loss: 0.0420\n",
            "Epoch 35/50\n",
            "2/2 [==============================] - 0s 45ms/step - loss: 0.1779 - val_loss: 0.0524\n",
            "Epoch 36/50\n",
            "2/2 [==============================] - 0s 46ms/step - loss: 0.0734 - val_loss: 0.0666\n",
            "Epoch 37/50\n",
            "2/2 [==============================] - 0s 46ms/step - loss: 0.0879 - val_loss: 0.0865\n",
            "Epoch 38/50\n",
            "2/2 [==============================] - 0s 58ms/step - loss: 0.0482 - val_loss: 0.1088\n",
            "Epoch 39/50\n",
            "2/2 [==============================] - 0s 39ms/step - loss: 0.0467 - val_loss: 0.1389\n",
            "Epoch 40/50\n",
            "2/2 [==============================] - 0s 39ms/step - loss: 0.1041 - val_loss: 0.1704\n",
            "Epoch 41/50\n",
            "2/2 [==============================] - 0s 39ms/step - loss: 0.0709 - val_loss: 0.2058\n",
            "Epoch 42/50\n",
            "2/2 [==============================] - 0s 42ms/step - loss: 0.0585 - val_loss: 0.2418\n",
            "Epoch 43/50\n",
            "2/2 [==============================] - 0s 42ms/step - loss: 0.0289 - val_loss: 0.2825\n",
            "Epoch 44/50\n",
            "2/2 [==============================] - 0s 44ms/step - loss: 0.0229 - val_loss: 0.3208\n",
            "Epoch 45/50\n",
            "2/2 [==============================] - 0s 42ms/step - loss: 0.0342 - val_loss: 0.3554\n",
            "Epoch 46/50\n",
            "2/2 [==============================] - 0s 45ms/step - loss: 0.0319 - val_loss: 0.3841\n",
            "Epoch 47/50\n",
            "2/2 [==============================] - 0s 50ms/step - loss: 0.0296 - val_loss: 0.4189\n",
            "Epoch 48/50\n",
            "2/2 [==============================] - 0s 41ms/step - loss: 0.0377 - val_loss: 0.4305\n",
            "Epoch 49/50\n",
            "2/2 [==============================] - 0s 43ms/step - loss: 0.0300 - val_loss: 0.4424\n",
            "Epoch 50/50\n",
            "2/2 [==============================] - 0s 40ms/step - loss: 0.0220 - val_loss: 0.4600\n"
          ]
        }
      ]
    },
    {
      "cell_type": "code",
      "source": [
        "historyP = history"
      ],
      "metadata": {
        "id": "BbZcHsIyOd9D"
      },
      "execution_count": null,
      "outputs": []
    },
    {
      "cell_type": "code",
      "source": [
        "plt.plot(historyP.history['loss'], label='Training loss')\n",
        "plt.plot(historyP.history['val_loss'], label='Validation loss')\n",
        "plt.legend()"
      ],
      "metadata": {
        "colab": {
          "base_uri": "https://localhost:8080/",
          "height": 447
        },
        "id": "RkidKBV7Of6h",
        "outputId": "3294bfd5-02e6-4e09-d519-973301a8ff71"
      },
      "execution_count": null,
      "outputs": [
        {
          "output_type": "execute_result",
          "data": {
            "text/plain": [
              "<matplotlib.legend.Legend at 0x7b381c1de320>"
            ]
          },
          "metadata": {},
          "execution_count": 17
        },
        {
          "output_type": "display_data",
          "data": {
            "text/plain": [
              "<Figure size 640x480 with 1 Axes>"
            ],
            "image/png": "[encoded data removed]"
          },
          "metadata": {}
        }
      ]
    },
    {
      "cell_type": "code",
      "source": [
        "predictionP = modelP.predict(trainX)"
      ],
      "metadata": {
        "colab": {
          "base_uri": "https://localhost:8080/"
        },
        "id": "JhArTUJWOjn_",
        "outputId": "fba6b719-e8be-4a3a-b714-fe1fea0041f0"
      },
      "execution_count": null,
      "outputs": [
        {
          "output_type": "stream",
          "name": "stdout",
          "text": [
            "1/1 [==============================] - 0s 358ms/step\n"
          ]
        }
      ]
    },
    {
      "cell_type": "code",
      "source": [
        "prediction_copiesP = np.repeat(predictionP, df_for_training.shape[1], axis=-1)\n",
        "y_pred_futureP = scaler.inverse_transform(prediction_copiesP)[:,0]"
      ],
      "metadata": {
        "id": "HQrnUDY4Pvuf"
      },
      "execution_count": null,
      "outputs": []
    },
    {
      "cell_type": "code",
      "source": [
        "print(y_pred_futureP)"
      ],
      "metadata": {
        "colab": {
          "base_uri": "https://localhost:8080/"
        },
        "id": "TTt-ZpSvP0c8",
        "outputId": "944a060f-6498-431d-95f2-532abed87421"
      },
      "execution_count": null,
      "outputs": [
        {
          "output_type": "stream",
          "name": "stdout",
          "text": [
            "[5.0318494 5.1062446 4.9937973 5.289279  5.3412037 5.754076  5.65267  ]\n"
          ]
        }
      ]
    },
    {
      "cell_type": "code",
      "source": [
        "print(y_pred_futureP[-2])\n",
        "i=y_pred_futureP[-2]\n",
        "do=((i)*100/9)*0.3723\n",
        "do"
      ],
      "metadata": {
        "colab": {
          "base_uri": "https://localhost:8080/"
        },
        "id": "3cEjwtDYWRXc",
        "outputId": "8808cd26-a152-45b8-f77e-132c882b8047"
      },
      "execution_count": null,
      "outputs": [
        {
          "output_type": "stream",
          "name": "stdout",
          "text": [
            "5.754076\n"
          ]
        },
        {
          "output_type": "execute_result",
          "data": {
            "text/plain": [
              "23.802694403330488"
            ]
          },
          "metadata": {},
          "execution_count": 21
        }
      ]
    },
    {
      "cell_type": "code",
      "source": [
        "modelN = Sequential()\n",
        "modelN.add(LSTM(64, activation='relu', input_shape=(trainX.shape[1], trainX.shape[2]), return_sequences=True))\n",
        "modelN.add(LSTM(32, activation='relu', return_sequences=False))\n",
        "modelN.add(Dropout(0.2))\n",
        "modelN.add(Dense(trainYN.shape[1]))"
      ],
      "metadata": {
        "id": "g0LSbRJkXStu"
      },
      "execution_count": null,
      "outputs": []
    },
    {
      "cell_type": "code",
      "source": [
        "modelN.compile(optimizer='adam', loss='mse')\n",
        "modelN.summary()"
      ],
      "metadata": {
        "colab": {
          "base_uri": "https://localhost:8080/"
        },
        "id": "kfybrmkcYLMz",
        "outputId": "cf44cfe2-c709-4122-8c57-e837abc4cdd8"
      },
      "execution_count": null,
      "outputs": [
        {
          "output_type": "stream",
          "name": "stdout",
          "text": [
            "Model: \"sequential_1\"\n",
            "_________________________________________________________________\n",
            " Layer (type)                Output Shape              Param #   \n",
            "=================================================================\n",
            " lstm_2 (LSTM)               (None, 3, 64)             18432     \n",
            "                                                                 \n",
            " lstm_3 (LSTM)               (None, 32)                12416     \n",
            "                                                                 \n",
            " dropout_1 (Dropout)         (None, 32)                0         \n",
            "                                                                 \n",
            " dense_1 (Dense)             (None, 1)                 33        \n",
            "                                                                 \n",
            "=================================================================\n",
            "Total params: 30881 (120.63 KB)\n",
            "Trainable params: 30881 (120.63 KB)\n",
            "Non-trainable params: 0 (0.00 Byte)\n",
            "_________________________________________________________________\n"
          ]
        }
      ]
    },
    {
      "cell_type": "code",
      "source": [
        "historyN = modelN.fit(trainX, trainYN, epochs=50, batch_size=4, validation_split=0.1, verbose=1)"
      ],
      "metadata": {
        "colab": {
          "base_uri": "https://localhost:8080/"
        },
        "id": "h42wOHgwYWGn",
        "outputId": "91100a4f-7979-45a9-eb79-fed9157c6d1c"
      },
      "execution_count": null,
      "outputs": [
        {
          "output_type": "stream",
          "name": "stdout",
          "text": [
            "Epoch 1/50\n",
            "2/2 [==============================] - 4s 689ms/step - loss: 0.8200 - val_loss: 4.6498\n",
            "Epoch 2/50\n",
            "2/2 [==============================] - 0s 70ms/step - loss: 0.7914 - val_loss: 4.6749\n",
            "Epoch 3/50\n",
            "2/2 [==============================] - 0s 79ms/step - loss: 0.7713 - val_loss: 4.7044\n",
            "Epoch 4/50\n",
            "2/2 [==============================] - 0s 74ms/step - loss: 0.7735 - val_loss: 4.7189\n",
            "Epoch 5/50\n",
            "2/2 [==============================] - 0s 60ms/step - loss: 0.7371 - val_loss: 4.7386\n",
            "Epoch 6/50\n",
            "2/2 [==============================] - 0s 53ms/step - loss: 0.7328 - val_loss: 4.7553\n",
            "Epoch 7/50\n",
            "2/2 [==============================] - 0s 65ms/step - loss: 0.6945 - val_loss: 4.7739\n",
            "Epoch 8/50\n",
            "2/2 [==============================] - 0s 77ms/step - loss: 0.6817 - val_loss: 4.7862\n",
            "Epoch 9/50\n",
            "2/2 [==============================] - 0s 69ms/step - loss: 0.6615 - val_loss: 4.8023\n",
            "Epoch 10/50\n",
            "2/2 [==============================] - 0s 77ms/step - loss: 0.6435 - val_loss: 4.8234\n",
            "Epoch 11/50\n",
            "2/2 [==============================] - 0s 55ms/step - loss: 0.6918 - val_loss: 4.8442\n",
            "Epoch 12/50\n",
            "2/2 [==============================] - 0s 63ms/step - loss: 0.6097 - val_loss: 4.8680\n",
            "Epoch 13/50\n",
            "2/2 [==============================] - 0s 57ms/step - loss: 0.5724 - val_loss: 4.8922\n",
            "Epoch 14/50\n",
            "2/2 [==============================] - 0s 73ms/step - loss: 0.5732 - val_loss: 4.9219\n",
            "Epoch 15/50\n",
            "2/2 [==============================] - 0s 48ms/step - loss: 0.5923 - val_loss: 4.9469\n",
            "Epoch 16/50\n",
            "2/2 [==============================] - 0s 55ms/step - loss: 0.4648 - val_loss: 4.9564\n",
            "Epoch 17/50\n",
            "2/2 [==============================] - 0s 53ms/step - loss: 0.4943 - val_loss: 4.9669\n",
            "Epoch 18/50\n",
            "2/2 [==============================] - 0s 50ms/step - loss: 0.4790 - val_loss: 4.9744\n",
            "Epoch 19/50\n",
            "2/2 [==============================] - 0s 60ms/step - loss: 0.5235 - val_loss: 4.9829\n",
            "Epoch 20/50\n",
            "2/2 [==============================] - 0s 54ms/step - loss: 0.4657 - val_loss: 4.9682\n",
            "Epoch 21/50\n",
            "2/2 [==============================] - 0s 68ms/step - loss: 0.4717 - val_loss: 4.9453\n",
            "Epoch 22/50\n",
            "2/2 [==============================] - 0s 74ms/step - loss: 0.4194 - val_loss: 4.9013\n",
            "Epoch 23/50\n",
            "2/2 [==============================] - 0s 56ms/step - loss: 0.4375 - val_loss: 4.8506\n",
            "Epoch 24/50\n",
            "2/2 [==============================] - 0s 37ms/step - loss: 0.3474 - val_loss: 4.8024\n",
            "Epoch 25/50\n",
            "2/2 [==============================] - 0s 36ms/step - loss: 0.3586 - val_loss: 4.7517\n",
            "Epoch 26/50\n",
            "2/2 [==============================] - 0s 37ms/step - loss: 0.3555 - val_loss: 4.7011\n",
            "Epoch 27/50\n",
            "2/2 [==============================] - 0s 54ms/step - loss: 0.3903 - val_loss: 4.6508\n",
            "Epoch 28/50\n",
            "2/2 [==============================] - 0s 37ms/step - loss: 0.3723 - val_loss: 4.5872\n",
            "Epoch 29/50\n",
            "2/2 [==============================] - 0s 42ms/step - loss: 0.3367 - val_loss: 4.5166\n",
            "Epoch 30/50\n",
            "2/2 [==============================] - 0s 34ms/step - loss: 0.3370 - val_loss: 4.4510\n",
            "Epoch 31/50\n",
            "2/2 [==============================] - 0s 35ms/step - loss: 0.3501 - val_loss: 4.3749\n",
            "Epoch 32/50\n",
            "2/2 [==============================] - 0s 35ms/step - loss: 0.2951 - val_loss: 4.3030\n",
            "Epoch 33/50\n",
            "2/2 [==============================] - 0s 34ms/step - loss: 0.4780 - val_loss: 4.2410\n",
            "Epoch 34/50\n",
            "2/2 [==============================] - 0s 34ms/step - loss: 0.3303 - val_loss: 4.1866\n",
            "Epoch 35/50\n",
            "2/2 [==============================] - 0s 36ms/step - loss: 0.2764 - val_loss: 4.1184\n",
            "Epoch 36/50\n",
            "2/2 [==============================] - 0s 33ms/step - loss: 0.2789 - val_loss: 4.0577\n",
            "Epoch 37/50\n",
            "2/2 [==============================] - 0s 33ms/step - loss: 0.2413 - val_loss: 3.9986\n",
            "Epoch 38/50\n",
            "2/2 [==============================] - 0s 34ms/step - loss: 0.2165 - val_loss: 3.9282\n",
            "Epoch 39/50\n",
            "2/2 [==============================] - 0s 39ms/step - loss: 0.2993 - val_loss: 3.8428\n",
            "Epoch 40/50\n",
            "2/2 [==============================] - 0s 36ms/step - loss: 0.2675 - val_loss: 3.7438\n",
            "Epoch 41/50\n",
            "2/2 [==============================] - 0s 34ms/step - loss: 0.1754 - val_loss: 3.6227\n",
            "Epoch 42/50\n",
            "2/2 [==============================] - 0s 33ms/step - loss: 0.2438 - val_loss: 3.4990\n",
            "Epoch 43/50\n",
            "2/2 [==============================] - 0s 34ms/step - loss: 0.2566 - val_loss: 3.3842\n",
            "Epoch 44/50\n",
            "2/2 [==============================] - 0s 34ms/step - loss: 0.2448 - val_loss: 3.2744\n",
            "Epoch 45/50\n",
            "2/2 [==============================] - 0s 34ms/step - loss: 0.1834 - val_loss: 3.1662\n",
            "Epoch 46/50\n",
            "2/2 [==============================] - 0s 36ms/step - loss: 0.1183 - val_loss: 3.0498\n",
            "Epoch 47/50\n",
            "2/2 [==============================] - 0s 36ms/step - loss: 0.2183 - val_loss: 2.9185\n",
            "Epoch 48/50\n",
            "2/2 [==============================] - 0s 51ms/step - loss: 0.2078 - val_loss: 2.7911\n",
            "Epoch 49/50\n",
            "2/2 [==============================] - 0s 42ms/step - loss: 0.1165 - val_loss: 2.6672\n",
            "Epoch 50/50\n",
            "2/2 [==============================] - 0s 38ms/step - loss: 0.0383 - val_loss: 2.5638\n"
          ]
        }
      ]
    },
    {
      "cell_type": "code",
      "source": [
        "plt.plot(historyN.history['loss'], label='Training loss')\n",
        "plt.plot(historyN.history['val_loss'], label='Validation loss')\n",
        "plt.legend()"
      ],
      "metadata": {
        "colab": {
          "base_uri": "https://localhost:8080/",
          "height": 447
        },
        "id": "XVQ9CPiCYh_Z",
        "outputId": "55d8fd37-a0a1-4219-9bf1-7fc6432f77c9"
      },
      "execution_count": null,
      "outputs": [
        {
          "output_type": "execute_result",
          "data": {
            "text/plain": [
              "<matplotlib.legend.Legend at 0x7b381eae3490>"
            ]
          },
          "metadata": {},
          "execution_count": 25
        },
        {
          "output_type": "display_data",
          "data": {
            "text/plain": [
              "<Figure size 640x480 with 1 Axes>"
            ],
            "image/png": "[encoded data removed]"
          },
          "metadata": {}
        }
      ]
    },
    {
      "cell_type": "code",
      "source": [
        "predictionN = modelN.predict(trainX)"
      ],
      "metadata": {
        "colab": {
          "base_uri": "https://localhost:8080/"
        },
        "id": "7dSknr60Ykga",
        "outputId": "d2a54077-5331-4de7-a113-0e851e7be5a0"
      },
      "execution_count": null,
      "outputs": [
        {
          "output_type": "stream",
          "name": "stdout",
          "text": [
            "1/1 [==============================] - 0s 305ms/step\n"
          ]
        }
      ]
    },
    {
      "cell_type": "code",
      "source": [
        "prediction_copiesN = np.repeat(predictionN, df_for_training.shape[1], axis=-1)\n",
        "y_pred_futureN = scaler.inverse_transform(prediction_copiesN)[:,1]"
      ],
      "metadata": {
        "id": "RlUU7jFaYo9e"
      },
      "execution_count": null,
      "outputs": []
    },
    {
      "cell_type": "code",
      "source": [
        "print(y_pred_futureN)"
      ],
      "metadata": {
        "colab": {
          "base_uri": "https://localhost:8080/"
        },
        "id": "jBiMhlByYuLR",
        "outputId": "c9a5868d-0804-48ff-ed89-29a4457e550e"
      },
      "execution_count": null,
      "outputs": [
        {
          "output_type": "stream",
          "name": "stdout",
          "text": [
            "[8.06716   7.9968495 8.012405  8.052387  8.037866  8.258467  8.20917  ]\n"
          ]
        }
      ]
    },
    {
      "cell_type": "code",
      "source": [
        "print(y_pred_futureN[-2])\n",
        "i=y_pred_futureN[-1]\n",
        "ph=((i-7)*100/1.5)*0.1176"
      ],
      "metadata": {
        "colab": {
          "base_uri": "https://localhost:8080/"
        },
        "id": "RWKDuLgbYzFd",
        "outputId": "a30aa0e5-6504-4cb4-8890-beb478f8ef2d"
      },
      "execution_count": null,
      "outputs": [
        {
          "output_type": "stream",
          "name": "stdout",
          "text": [
            "8.258467\n"
          ]
        }
      ]
    },
    {
      "cell_type": "code",
      "source": [
        "modelS = Sequential()\n",
        "modelS.add(LSTM(64, activation='relu', input_shape=(trainX.shape[1], trainX.shape[2]), return_sequences=True))\n",
        "modelS.add(LSTM(32, activation='relu', return_sequences=False))\n",
        "modelS.add(Dropout(0.2))\n",
        "modelS.add(Dense(trainYS.shape[1]))"
      ],
      "metadata": {
        "id": "kBfqZWLzZR0L"
      },
      "execution_count": null,
      "outputs": []
    },
    {
      "cell_type": "code",
      "source": [
        "modelS.compile(optimizer='adam', loss='mse')\n",
        "modelS.summary()"
      ],
      "metadata": {
        "colab": {
          "base_uri": "https://localhost:8080/"
        },
        "id": "NY3Pb2OmZc5d",
        "outputId": "f2fd7ed4-9050-4261-adc0-43ad34fb6c32"
      },
      "execution_count": null,
      "outputs": [
        {
          "output_type": "stream",
          "name": "stdout",
          "text": [
            "Model: \"sequential_2\"\n",
            "_________________________________________________________________\n",
            " Layer (type)                Output Shape              Param #   \n",
            "=================================================================\n",
            " lstm_4 (LSTM)               (None, 3, 64)             18432     \n",
            "                                                                 \n",
            " lstm_5 (LSTM)               (None, 32)                12416     \n",
            "                                                                 \n",
            " dropout_2 (Dropout)         (None, 32)                0         \n",
            "                                                                 \n",
            " dense_2 (Dense)             (None, 1)                 33        \n",
            "                                                                 \n",
            "=================================================================\n",
            "Total params: 30881 (120.63 KB)\n",
            "Trainable params: 30881 (120.63 KB)\n",
            "Non-trainable params: 0 (0.00 Byte)\n",
            "_________________________________________________________________\n"
          ]
        }
      ]
    },
    {
      "cell_type": "code",
      "source": [
        "modelS.compile(optimizer='adam', loss='mse')\n",
        "modelS.summary()"
      ],
      "metadata": {
        "colab": {
          "base_uri": "https://localhost:8080/"
        },
        "id": "8gg6CnijZexC",
        "outputId": "a15cc192-74e5-4888-f145-ec85f670ae6f"
      },
      "execution_count": null,
      "outputs": [
        {
          "output_type": "stream",
          "name": "stdout",
          "text": [
            "Model: \"sequential_2\"\n",
            "_________________________________________________________________\n",
            " Layer (type)                Output Shape              Param #   \n",
            "=================================================================\n",
            " lstm_4 (LSTM)               (None, 3, 64)             18432     \n",
            "                                                                 \n",
            " lstm_5 (LSTM)               (None, 32)                12416     \n",
            "                                                                 \n",
            " dropout_2 (Dropout)         (None, 32)                0         \n",
            "                                                                 \n",
            " dense_2 (Dense)             (None, 1)                 33        \n",
            "                                                                 \n",
            "=================================================================\n",
            "Total params: 30881 (120.63 KB)\n",
            "Trainable params: 30881 (120.63 KB)\n",
            "Non-trainable params: 0 (0.00 Byte)\n",
            "_________________________________________________________________\n"
          ]
        }
      ]
    },
    {
      "cell_type": "code",
      "source": [
        "historyS = modelS.fit(trainX, trainYS, epochs=50, batch_size=4, validation_split=0.1, verbose=1)"
      ],
      "metadata": {
        "colab": {
          "base_uri": "https://localhost:8080/"
        },
        "id": "jh70reWHZkBe",
        "outputId": "d97d1166-9331-41d6-d07b-3b3e465fe223"
      },
      "execution_count": null,
      "outputs": [
        {
          "output_type": "stream",
          "name": "stdout",
          "text": [
            "Epoch 1/50\n",
            "2/2 [==============================] - 3s 471ms/step - loss: 0.7484 - val_loss: 0.7957\n",
            "Epoch 2/50\n",
            "2/2 [==============================] - 0s 45ms/step - loss: 0.7379 - val_loss: 0.7771\n",
            "Epoch 3/50\n",
            "2/2 [==============================] - 0s 49ms/step - loss: 0.6967 - val_loss: 0.7638\n",
            "Epoch 4/50\n",
            "2/2 [==============================] - 0s 57ms/step - loss: 0.6985 - val_loss: 0.7482\n",
            "Epoch 5/50\n",
            "2/2 [==============================] - 0s 50ms/step - loss: 0.6985 - val_loss: 0.7306\n",
            "Epoch 6/50\n",
            "2/2 [==============================] - 0s 42ms/step - loss: 0.6665 - val_loss: 0.7136\n",
            "Epoch 7/50\n",
            "2/2 [==============================] - 0s 39ms/step - loss: 0.6576 - val_loss: 0.6983\n",
            "Epoch 8/50\n",
            "2/2 [==============================] - 0s 61ms/step - loss: 0.6543 - val_loss: 0.6821\n",
            "Epoch 9/50\n",
            "2/2 [==============================] - 0s 40ms/step - loss: 0.6063 - val_loss: 0.6662\n",
            "Epoch 10/50\n",
            "2/2 [==============================] - 0s 41ms/step - loss: 0.6196 - val_loss: 0.6507\n",
            "Epoch 11/50\n",
            "2/2 [==============================] - 0s 59ms/step - loss: 0.5786 - val_loss: 0.6368\n",
            "Epoch 12/50\n",
            "2/2 [==============================] - 0s 56ms/step - loss: 0.5825 - val_loss: 0.6209\n",
            "Epoch 13/50\n",
            "2/2 [==============================] - 0s 35ms/step - loss: 0.5368 - val_loss: 0.6062\n",
            "Epoch 14/50\n",
            "2/2 [==============================] - 0s 45ms/step - loss: 0.5265 - val_loss: 0.5875\n",
            "Epoch 15/50\n",
            "2/2 [==============================] - 0s 36ms/step - loss: 0.5332 - val_loss: 0.5682\n",
            "Epoch 16/50\n",
            "2/2 [==============================] - 0s 37ms/step - loss: 0.5097 - val_loss: 0.5487\n",
            "Epoch 17/50\n",
            "2/2 [==============================] - 0s 34ms/step - loss: 0.5452 - val_loss: 0.5296\n",
            "Epoch 18/50\n",
            "2/2 [==============================] - 0s 34ms/step - loss: 0.4210 - val_loss: 0.5089\n",
            "Epoch 19/50\n",
            "2/2 [==============================] - 0s 40ms/step - loss: 0.4301 - val_loss: 0.4833\n",
            "Epoch 20/50\n",
            "2/2 [==============================] - 0s 36ms/step - loss: 0.3901 - val_loss: 0.4579\n",
            "Epoch 21/50\n",
            "2/2 [==============================] - 0s 35ms/step - loss: 0.4116 - val_loss: 0.4337\n",
            "Epoch 22/50\n",
            "2/2 [==============================] - 0s 35ms/step - loss: 0.3538 - val_loss: 0.4099\n",
            "Epoch 23/50\n",
            "2/2 [==============================] - 0s 36ms/step - loss: 0.3046 - val_loss: 0.3818\n",
            "Epoch 24/50\n",
            "2/2 [==============================] - 0s 45ms/step - loss: 0.3426 - val_loss: 0.3541\n",
            "Epoch 25/50\n",
            "2/2 [==============================] - 0s 37ms/step - loss: 0.3769 - val_loss: 0.3259\n",
            "Epoch 26/50\n",
            "2/2 [==============================] - 0s 33ms/step - loss: 0.3905 - val_loss: 0.3022\n",
            "Epoch 27/50\n",
            "2/2 [==============================] - 0s 34ms/step - loss: 0.2817 - val_loss: 0.2847\n",
            "Epoch 28/50\n",
            "2/2 [==============================] - 0s 34ms/step - loss: 0.2107 - val_loss: 0.2619\n",
            "Epoch 29/50\n",
            "2/2 [==============================] - 0s 36ms/step - loss: 0.3763 - val_loss: 0.2453\n",
            "Epoch 30/50\n",
            "2/2 [==============================] - 0s 35ms/step - loss: 0.1627 - val_loss: 0.2230\n",
            "Epoch 31/50\n",
            "2/2 [==============================] - 0s 35ms/step - loss: 0.1578 - val_loss: 0.1974\n",
            "Epoch 32/50\n",
            "2/2 [==============================] - 0s 40ms/step - loss: 0.1724 - val_loss: 0.1702\n",
            "Epoch 33/50\n",
            "2/2 [==============================] - 0s 59ms/step - loss: 0.1560 - val_loss: 0.1446\n",
            "Epoch 34/50\n",
            "2/2 [==============================] - 0s 41ms/step - loss: 0.0861 - val_loss: 0.1122\n",
            "Epoch 35/50\n",
            "2/2 [==============================] - 0s 40ms/step - loss: 0.1735 - val_loss: 0.0821\n",
            "Epoch 36/50\n",
            "2/2 [==============================] - 0s 44ms/step - loss: 0.0682 - val_loss: 0.0586\n",
            "Epoch 37/50\n",
            "2/2 [==============================] - 0s 48ms/step - loss: 0.0267 - val_loss: 0.0381\n",
            "Epoch 38/50\n",
            "2/2 [==============================] - 0s 40ms/step - loss: 0.0717 - val_loss: 0.0231\n",
            "Epoch 39/50\n",
            "2/2 [==============================] - 0s 42ms/step - loss: 0.0456 - val_loss: 0.0123\n",
            "Epoch 40/50\n",
            "2/2 [==============================] - 0s 44ms/step - loss: 0.1093 - val_loss: 0.0037\n",
            "Epoch 41/50\n",
            "2/2 [==============================] - 0s 62ms/step - loss: 0.0636 - val_loss: 1.5586e-04\n",
            "Epoch 42/50\n",
            "2/2 [==============================] - 0s 48ms/step - loss: 0.0544 - val_loss: 1.1609e-04\n",
            "Epoch 43/50\n",
            "2/2 [==============================] - 0s 53ms/step - loss: 0.0100 - val_loss: 7.7842e-04\n",
            "Epoch 44/50\n",
            "2/2 [==============================] - 0s 41ms/step - loss: 0.0492 - val_loss: 0.0019\n",
            "Epoch 45/50\n",
            "2/2 [==============================] - 0s 45ms/step - loss: 0.0363 - val_loss: 0.0015\n",
            "Epoch 46/50\n",
            "2/2 [==============================] - 0s 45ms/step - loss: 0.0283 - val_loss: 0.0011\n",
            "Epoch 47/50\n",
            "2/2 [==============================] - 0s 44ms/step - loss: 0.0632 - val_loss: 0.0022\n",
            "Epoch 48/50\n",
            "2/2 [==============================] - 0s 57ms/step - loss: 0.0127 - val_loss: 0.0036\n",
            "Epoch 49/50\n",
            "2/2 [==============================] - 0s 63ms/step - loss: 0.0374 - val_loss: 0.0082\n",
            "Epoch 50/50\n",
            "2/2 [==============================] - 0s 70ms/step - loss: 0.0467 - val_loss: 0.0148\n"
          ]
        }
      ]
    },
    {
      "cell_type": "code",
      "source": [
        "plt.plot(historyS.history['loss'], label='Training loss')\n",
        "plt.plot(historyS.history['val_loss'], label='Validation loss')\n",
        "plt.legend()"
      ],
      "metadata": {
        "colab": {
          "base_uri": "https://localhost:8080/",
          "height": 447
        },
        "id": "Y1v1MF7kZzR2",
        "outputId": "e20df6a5-2941-4c01-c150-68503faa2b02"
      },
      "execution_count": null,
      "outputs": [
        {
          "output_type": "execute_result",
          "data": {
            "text/plain": [
              "<matplotlib.legend.Legend at 0x7b3817c52f80>"
            ]
          },
          "metadata": {},
          "execution_count": 34
        },
        {
          "output_type": "display_data",
          "data": {
            "text/plain": [
              "<Figure size 640x480 with 1 Axes>"
            ],
            "image/png": "[encoded data removed]"
          },
          "metadata": {}
        }
      ]
    },
    {
      "cell_type": "code",
      "source": [
        "predictionS = modelS.predict(trainX)"
      ],
      "metadata": {
        "colab": {
          "base_uri": "https://localhost:8080/"
        },
        "id": "UmhHBi8yZ3_Q",
        "outputId": "0853f177-2319-4fdd-bfdd-16467807587f"
      },
      "execution_count": null,
      "outputs": [
        {
          "output_type": "stream",
          "name": "stdout",
          "text": [
            "1/1 [==============================] - 1s 1s/step\n"
          ]
        }
      ]
    },
    {
      "cell_type": "code",
      "source": [
        "prediction_copiesS = np.repeat(predictionS, df_for_training.shape[1], axis=-1)\n",
        "y_pred_futureS = scaler.inverse_transform(prediction_copiesS)[:,2]"
      ],
      "metadata": {
        "id": "WR0ur2wBZ82T"
      },
      "execution_count": null,
      "outputs": []
    },
    {
      "cell_type": "code",
      "source": [
        "print(y_pred_futureS)"
      ],
      "metadata": {
        "colab": {
          "base_uri": "https://localhost:8080/"
        },
        "id": "cQ9HMNWmaHaz",
        "outputId": "fd24b301-1b6f-4198-f02c-019ad36fc7ad"
      },
      "execution_count": null,
      "outputs": [
        {
          "output_type": "stream",
          "name": "stdout",
          "text": [
            "[3.74302   3.1436565 2.9154284 2.5740292 2.192095  1.4426306 1.9662246]\n"
          ]
        }
      ]
    },
    {
      "cell_type": "code",
      "source": [
        "i=y_pred_futureS[-2]\n",
        "bod=(i*100/25)*0.3723\n",
        "print(i)"
      ],
      "metadata": {
        "colab": {
          "base_uri": "https://localhost:8080/"
        },
        "id": "O1jzvQtzaPWz",
        "outputId": "c0fcea27-6d7f-4442-af6c-937da8a1109b"
      },
      "execution_count": null,
      "outputs": [
        {
          "output_type": "stream",
          "name": "stdout",
          "text": [
            "1.4426306\n"
          ]
        }
      ]
    },
    {
      "cell_type": "code",
      "source": [
        "modelS = Sequential()\n",
        "modelS.add(LSTM(64, activation='relu', input_shape=(trainX.shape[1], trainX.shape[2]), return_sequences=True))\n",
        "modelS.add(LSTM(32, activation='relu', return_sequences=False))\n",
        "modelS.add(Dropout(0.2))\n",
        "modelS.add(Dense(trainYA.shape[1]))"
      ],
      "metadata": {
        "id": "Z5MC2KCgagQf"
      },
      "execution_count": null,
      "outputs": []
    },
    {
      "cell_type": "code",
      "source": [
        "modelS.compile(optimizer='adam', loss='mse')\n",
        "modelS.summary()"
      ],
      "metadata": {
        "colab": {
          "base_uri": "https://localhost:8080/"
        },
        "id": "VFW5xkeIaxnZ",
        "outputId": "4a1de905-77de-4b69-e6d5-4c6bd5887cf1"
      },
      "execution_count": null,
      "outputs": [
        {
          "output_type": "stream",
          "name": "stdout",
          "text": [
            "Model: \"sequential_3\"\n",
            "_________________________________________________________________\n",
            " Layer (type)                Output Shape              Param #   \n",
            "=================================================================\n",
            " lstm_6 (LSTM)               (None, 3, 64)             18432     \n",
            "                                                                 \n",
            " lstm_7 (LSTM)               (None, 32)                12416     \n",
            "                                                                 \n",
            " dropout_3 (Dropout)         (None, 32)                0         \n",
            "                                                                 \n",
            " dense_3 (Dense)             (None, 1)                 33        \n",
            "                                                                 \n",
            "=================================================================\n",
            "Total params: 30881 (120.63 KB)\n",
            "Trainable params: 30881 (120.63 KB)\n",
            "Non-trainable params: 0 (0.00 Byte)\n",
            "_________________________________________________________________\n"
          ]
        }
      ]
    },
    {
      "cell_type": "code",
      "source": [
        "historyS = modelS.fit(trainX, trainYS, epochs=50, batch_size=4, validation_split=0.1, verbose=1)"
      ],
      "metadata": {
        "colab": {
          "base_uri": "https://localhost:8080/"
        },
        "id": "px8fESK9a1pL",
        "outputId": "9eb1d14b-9319-40db-f68c-941229d89238"
      },
      "execution_count": null,
      "outputs": [
        {
          "output_type": "stream",
          "name": "stdout",
          "text": [
            "Epoch 1/50\n",
            "2/2 [==============================] - 6s 897ms/step - loss: 0.7481 - val_loss: 0.7378\n",
            "Epoch 2/50\n",
            "2/2 [==============================] - 0s 77ms/step - loss: 0.7289 - val_loss: 0.7150\n",
            "Epoch 3/50\n",
            "2/2 [==============================] - 0s 185ms/step - loss: 0.6959 - val_loss: 0.6985\n",
            "Epoch 4/50\n",
            "2/2 [==============================] - 0s 83ms/step - loss: 0.6928 - val_loss: 0.6809\n",
            "Epoch 5/50\n",
            "2/2 [==============================] - 0s 109ms/step - loss: 0.6837 - val_loss: 0.6658\n",
            "Epoch 6/50\n",
            "2/2 [==============================] - 0s 85ms/step - loss: 0.6769 - val_loss: 0.6493\n",
            "Epoch 7/50\n",
            "2/2 [==============================] - 0s 106ms/step - loss: 0.6640 - val_loss: 0.6324\n",
            "Epoch 8/50\n",
            "2/2 [==============================] - 0s 66ms/step - loss: 0.6463 - val_loss: 0.6137\n",
            "Epoch 9/50\n",
            "2/2 [==============================] - 0s 90ms/step - loss: 0.6348 - val_loss: 0.5944\n",
            "Epoch 10/50\n",
            "2/2 [==============================] - 0s 83ms/step - loss: 0.6269 - val_loss: 0.5735\n",
            "Epoch 11/50\n",
            "2/2 [==============================] - 0s 158ms/step - loss: 0.5817 - val_loss: 0.5525\n",
            "Epoch 12/50\n",
            "2/2 [==============================] - 0s 88ms/step - loss: 0.5940 - val_loss: 0.5314\n",
            "Epoch 13/50\n",
            "2/2 [==============================] - 0s 144ms/step - loss: 0.5794 - val_loss: 0.5092\n",
            "Epoch 14/50\n",
            "2/2 [==============================] - 0s 145ms/step - loss: 0.5544 - val_loss: 0.4868\n",
            "Epoch 15/50\n",
            "2/2 [==============================] - 0s 98ms/step - loss: 0.5394 - val_loss: 0.4604\n",
            "Epoch 16/50\n",
            "2/2 [==============================] - 0s 133ms/step - loss: 0.5298 - val_loss: 0.4336\n",
            "Epoch 17/50\n",
            "2/2 [==============================] - 0s 86ms/step - loss: 0.5118 - val_loss: 0.4020\n",
            "Epoch 18/50\n",
            "2/2 [==============================] - 0s 104ms/step - loss: 0.4432 - val_loss: 0.3690\n",
            "Epoch 19/50\n",
            "2/2 [==============================] - 0s 129ms/step - loss: 0.4434 - val_loss: 0.3365\n",
            "Epoch 20/50\n",
            "2/2 [==============================] - 0s 71ms/step - loss: 0.3546 - val_loss: 0.2984\n",
            "Epoch 21/50\n",
            "2/2 [==============================] - 0s 134ms/step - loss: 0.4063 - val_loss: 0.2590\n",
            "Epoch 22/50\n",
            "2/2 [==============================] - 0s 87ms/step - loss: 0.3012 - val_loss: 0.2164\n",
            "Epoch 23/50\n",
            "2/2 [==============================] - 0s 65ms/step - loss: 0.3290 - val_loss: 0.1710\n",
            "Epoch 24/50\n",
            "2/2 [==============================] - 0s 93ms/step - loss: 0.2505 - val_loss: 0.1287\n",
            "Epoch 25/50\n",
            "2/2 [==============================] - 0s 118ms/step - loss: 0.2560 - val_loss: 0.0866\n",
            "Epoch 26/50\n",
            "2/2 [==============================] - 0s 163ms/step - loss: 0.1338 - val_loss: 0.0477\n",
            "Epoch 27/50\n",
            "2/2 [==============================] - 0s 61ms/step - loss: 0.1563 - val_loss: 0.0171\n",
            "Epoch 28/50\n",
            "2/2 [==============================] - 0s 66ms/step - loss: 0.0675 - val_loss: 0.0016\n",
            "Epoch 29/50\n",
            "2/2 [==============================] - 0s 101ms/step - loss: 0.0701 - val_loss: 0.0028\n",
            "Epoch 30/50\n",
            "2/2 [==============================] - 0s 99ms/step - loss: 0.1244 - val_loss: 0.0191\n",
            "Epoch 31/50\n",
            "2/2 [==============================] - 0s 184ms/step - loss: 0.0830 - val_loss: 0.0400\n",
            "Epoch 32/50\n",
            "2/2 [==============================] - 0s 148ms/step - loss: 0.1149 - val_loss: 0.0726\n",
            "Epoch 33/50\n",
            "2/2 [==============================] - 0s 130ms/step - loss: 0.0779 - val_loss: 0.0988\n",
            "Epoch 34/50\n",
            "2/2 [==============================] - 0s 53ms/step - loss: 0.0320 - val_loss: 0.1178\n",
            "Epoch 35/50\n",
            "2/2 [==============================] - 0s 149ms/step - loss: 0.0564 - val_loss: 0.1430\n",
            "Epoch 36/50\n",
            "2/2 [==============================] - 0s 124ms/step - loss: 0.0820 - val_loss: 0.2058\n",
            "Epoch 37/50\n",
            "2/2 [==============================] - 0s 129ms/step - loss: 0.0111 - val_loss: 0.2904\n",
            "Epoch 38/50\n",
            "2/2 [==============================] - 0s 165ms/step - loss: 0.0631 - val_loss: 0.3315\n",
            "Epoch 39/50\n",
            "2/2 [==============================] - 0s 145ms/step - loss: 0.0621 - val_loss: 0.3030\n",
            "Epoch 40/50\n",
            "2/2 [==============================] - 0s 211ms/step - loss: 0.0127 - val_loss: 0.2645\n",
            "Epoch 41/50\n",
            "2/2 [==============================] - 0s 168ms/step - loss: 0.0313 - val_loss: 0.2277\n",
            "Epoch 42/50\n",
            "2/2 [==============================] - 0s 101ms/step - loss: 0.1000 - val_loss: 0.2192\n",
            "Epoch 43/50\n",
            "2/2 [==============================] - 0s 162ms/step - loss: 0.0051 - val_loss: 0.2294\n",
            "Epoch 44/50\n",
            "2/2 [==============================] - 0s 122ms/step - loss: 0.0059 - val_loss: 0.2335\n",
            "Epoch 45/50\n",
            "2/2 [==============================] - 0s 145ms/step - loss: 0.0447 - val_loss: 0.2562\n",
            "Epoch 46/50\n",
            "2/2 [==============================] - 0s 137ms/step - loss: 0.0180 - val_loss: 0.2769\n",
            "Epoch 47/50\n",
            "2/2 [==============================] - 0s 300ms/step - loss: 0.0178 - val_loss: 0.3152\n",
            "Epoch 48/50\n",
            "2/2 [==============================] - 0s 116ms/step - loss: 0.0282 - val_loss: 0.3916\n",
            "Epoch 49/50\n",
            "2/2 [==============================] - 0s 144ms/step - loss: 0.0285 - val_loss: 0.4910\n",
            "Epoch 50/50\n",
            "2/2 [==============================] - 0s 114ms/step - loss: 0.0158 - val_loss: 0.6154\n"
          ]
        }
      ]
    },
    {
      "cell_type": "code",
      "source": [
        "plt.plot(historyS.history['loss'], label='Training loss')\n",
        "plt.plot(historyS.history['val_loss'], label='Validation loss')\n",
        "plt.legend()"
      ],
      "metadata": {
        "colab": {
          "base_uri": "https://localhost:8080/",
          "height": 447
        },
        "id": "K79oSFnibAhV",
        "outputId": "29e8470b-0272-4fcb-965c-82e5476b42e6"
      },
      "execution_count": null,
      "outputs": [
        {
          "output_type": "execute_result",
          "data": {
            "text/plain": [
              "<matplotlib.legend.Legend at 0x7b3814ef2fb0>"
            ]
          },
          "metadata": {},
          "execution_count": 42
        },
        {
          "output_type": "display_data",
          "data": {
            "text/plain": [
              "<Figure size 640x480 with 1 Axes>"
            ],
            "image/png": "[encoded data removed]"
          },
          "metadata": {}
        }
      ]
    },
    {
      "cell_type": "code",
      "source": [
        "predictionS = modelS.predict(trainX)"
      ],
      "metadata": {
        "colab": {
          "base_uri": "https://localhost:8080/"
        },
        "id": "HsJYC_9jbIn8",
        "outputId": "93a01b2b-4c73-46d6-873a-4cffcbe2a349"
      },
      "execution_count": null,
      "outputs": [
        {
          "output_type": "stream",
          "name": "stdout",
          "text": [
            "1/1 [==============================] - 1s 652ms/step\n"
          ]
        }
      ]
    },
    {
      "cell_type": "code",
      "source": [
        "prediction_copiesS = np.repeat(predictionS, df_for_training.shape[1], axis=-1)\n",
        "y_pred_futureS = scaler.inverse_transform(prediction_copiesS)[:,2]"
      ],
      "metadata": {
        "id": "sHi-BKCabLUq"
      },
      "execution_count": null,
      "outputs": []
    },
    {
      "cell_type": "code",
      "source": [
        "print(y_pred_futureS)"
      ],
      "metadata": {
        "colab": {
          "base_uri": "https://localhost:8080/"
        },
        "id": "2je0SzCQbSdB",
        "outputId": "f492a223-6b14-4921-ce65-1cb84adefe7e"
      },
      "execution_count": null,
      "outputs": [
        {
          "output_type": "stream",
          "name": "stdout",
          "text": [
            "[3.8452425 3.1004074 2.9340758 2.5798006 2.177683  1.0996156 1.2363287]\n"
          ]
        }
      ]
    },
    {
      "cell_type": "code",
      "source": [
        "i=y_pred_futureS[-2]\n",
        "tur=(i*100/5)*0.1\n",
        "print(tur)"
      ],
      "metadata": {
        "colab": {
          "base_uri": "https://localhost:8080/"
        },
        "id": "bbkc656hbXOu",
        "outputId": "448af23e-6777-4d3a-8698-0adf901521bd"
      },
      "execution_count": null,
      "outputs": [
        {
          "output_type": "stream",
          "name": "stdout",
          "text": [
            "2.1992311477661133\n"
          ]
        }
      ]
    },
    {
      "cell_type": "code",
      "source": [
        "modelS = Sequential()\n",
        "modelS.add(LSTM(64, activation='relu', input_shape=(trainX.shape[1], trainX.shape[2]), return_sequences=True))\n",
        "modelS.add(LSTM(32, activation='relu', return_sequences=False))\n",
        "modelS.add(Dropout(0.2))\n",
        "modelS.add(Dense(trainYB.shape[1]))"
      ],
      "metadata": {
        "id": "RW8XajyYbgOI"
      },
      "execution_count": null,
      "outputs": []
    },
    {
      "cell_type": "code",
      "source": [
        "modelS.compile(optimizer='adam', loss='mse')\n",
        "modelS.summary()"
      ],
      "metadata": {
        "colab": {
          "base_uri": "https://localhost:8080/"
        },
        "id": "Y_ab4isrbtT-",
        "outputId": "5714e8fe-ac8b-4fb3-913f-ff886563991c"
      },
      "execution_count": null,
      "outputs": [
        {
          "output_type": "stream",
          "name": "stdout",
          "text": [
            "Model: \"sequential_4\"\n",
            "_________________________________________________________________\n",
            " Layer (type)                Output Shape              Param #   \n",
            "=================================================================\n",
            " lstm_8 (LSTM)               (None, 3, 64)             18432     \n",
            "                                                                 \n",
            " lstm_9 (LSTM)               (None, 32)                12416     \n",
            "                                                                 \n",
            " dropout_4 (Dropout)         (None, 32)                0         \n",
            "                                                                 \n",
            " dense_4 (Dense)             (None, 1)                 33        \n",
            "                                                                 \n",
            "=================================================================\n",
            "Total params: 30881 (120.63 KB)\n",
            "Trainable params: 30881 (120.63 KB)\n",
            "Non-trainable params: 0 (0.00 Byte)\n",
            "_________________________________________________________________\n"
          ]
        }
      ]
    },
    {
      "cell_type": "code",
      "source": [
        "historyS = modelS.fit(trainX, trainYS, epochs=50, batch_size=4, validation_split=0.1, verbose=1)"
      ],
      "metadata": {
        "colab": {
          "base_uri": "https://localhost:8080/"
        },
        "id": "3d4PijwBbvK5",
        "outputId": "b5ecb8f7-6a30-4bd1-d3de-3e1ab5985d78"
      },
      "execution_count": null,
      "outputs": [
        {
          "output_type": "stream",
          "name": "stdout",
          "text": [
            "Epoch 1/50\n",
            "2/2 [==============================] - 4s 405ms/step - loss: 0.7554 - val_loss: 0.7587\n",
            "Epoch 2/50\n",
            "2/2 [==============================] - 0s 35ms/step - loss: 0.7163 - val_loss: 0.7393\n",
            "Epoch 3/50\n",
            "2/2 [==============================] - 0s 39ms/step - loss: 0.7028 - val_loss: 0.7186\n",
            "Epoch 4/50\n",
            "2/2 [==============================] - 0s 41ms/step - loss: 0.6951 - val_loss: 0.6991\n",
            "Epoch 5/50\n",
            "2/2 [==============================] - 0s 42ms/step - loss: 0.7033 - val_loss: 0.6799\n",
            "Epoch 6/50\n",
            "2/2 [==============================] - 0s 53ms/step - loss: 0.6783 - val_loss: 0.6615\n",
            "Epoch 7/50\n",
            "2/2 [==============================] - 0s 39ms/step - loss: 0.6669 - val_loss: 0.6438\n",
            "Epoch 8/50\n",
            "2/2 [==============================] - 0s 40ms/step - loss: 0.6538 - val_loss: 0.6278\n",
            "Epoch 9/50\n",
            "2/2 [==============================] - 0s 39ms/step - loss: 0.6213 - val_loss: 0.6096\n",
            "Epoch 10/50\n",
            "2/2 [==============================] - 0s 66ms/step - loss: 0.6229 - val_loss: 0.5916\n",
            "Epoch 11/50\n",
            "2/2 [==============================] - 0s 44ms/step - loss: 0.6072 - val_loss: 0.5718\n",
            "Epoch 12/50\n",
            "2/2 [==============================] - 0s 43ms/step - loss: 0.5847 - val_loss: 0.5508\n",
            "Epoch 13/50\n",
            "2/2 [==============================] - 0s 41ms/step - loss: 0.5879 - val_loss: 0.5282\n",
            "Epoch 14/50\n",
            "2/2 [==============================] - 0s 42ms/step - loss: 0.5646 - val_loss: 0.5072\n",
            "Epoch 15/50\n",
            "2/2 [==============================] - 0s 42ms/step - loss: 0.5144 - val_loss: 0.4840\n",
            "Epoch 16/50\n",
            "2/2 [==============================] - 0s 40ms/step - loss: 0.5268 - val_loss: 0.4590\n",
            "Epoch 17/50\n",
            "2/2 [==============================] - 0s 47ms/step - loss: 0.4846 - val_loss: 0.4327\n",
            "Epoch 18/50\n",
            "2/2 [==============================] - 0s 50ms/step - loss: 0.5017 - val_loss: 0.4067\n",
            "Epoch 19/50\n",
            "2/2 [==============================] - 0s 42ms/step - loss: 0.4224 - val_loss: 0.3774\n",
            "Epoch 20/50\n",
            "2/2 [==============================] - 0s 40ms/step - loss: 0.4545 - val_loss: 0.3463\n",
            "Epoch 21/50\n",
            "2/2 [==============================] - 0s 45ms/step - loss: 0.3740 - val_loss: 0.3122\n",
            "Epoch 22/50\n",
            "2/2 [==============================] - 0s 47ms/step - loss: 0.3675 - val_loss: 0.2769\n",
            "Epoch 23/50\n",
            "2/2 [==============================] - 0s 43ms/step - loss: 0.3957 - val_loss: 0.2376\n",
            "Epoch 24/50\n",
            "2/2 [==============================] - 0s 40ms/step - loss: 0.3030 - val_loss: 0.1992\n",
            "Epoch 25/50\n",
            "2/2 [==============================] - 0s 42ms/step - loss: 0.2708 - val_loss: 0.1617\n",
            "Epoch 26/50\n",
            "2/2 [==============================] - 0s 44ms/step - loss: 0.2223 - val_loss: 0.1203\n",
            "Epoch 27/50\n",
            "2/2 [==============================] - 0s 55ms/step - loss: 0.2970 - val_loss: 0.0863\n",
            "Epoch 28/50\n",
            "2/2 [==============================] - 0s 41ms/step - loss: 0.1314 - val_loss: 0.0519\n",
            "Epoch 29/50\n",
            "2/2 [==============================] - 0s 61ms/step - loss: 0.2366 - val_loss: 0.0228\n",
            "Epoch 30/50\n",
            "2/2 [==============================] - 0s 62ms/step - loss: 0.1207 - val_loss: 0.0043\n",
            "Epoch 31/50\n",
            "2/2 [==============================] - 0s 60ms/step - loss: 0.1566 - val_loss: 1.1582e-04\n",
            "Epoch 32/50\n",
            "2/2 [==============================] - 0s 65ms/step - loss: 0.1348 - val_loss: 0.0068\n",
            "Epoch 33/50\n",
            "2/2 [==============================] - 0s 47ms/step - loss: 0.0610 - val_loss: 0.0261\n",
            "Epoch 34/50\n",
            "2/2 [==============================] - 0s 42ms/step - loss: 0.1153 - val_loss: 0.0534\n",
            "Epoch 35/50\n",
            "2/2 [==============================] - 0s 43ms/step - loss: 0.0953 - val_loss: 0.0673\n",
            "Epoch 36/50\n",
            "2/2 [==============================] - 0s 47ms/step - loss: 0.0325 - val_loss: 0.0737\n",
            "Epoch 37/50\n",
            "2/2 [==============================] - 0s 36ms/step - loss: 0.0271 - val_loss: 0.0682\n",
            "Epoch 38/50\n",
            "2/2 [==============================] - 0s 34ms/step - loss: 0.0336 - val_loss: 0.0590\n",
            "Epoch 39/50\n",
            "2/2 [==============================] - 0s 37ms/step - loss: 0.0168 - val_loss: 0.0551\n",
            "Epoch 40/50\n",
            "2/2 [==============================] - 0s 35ms/step - loss: 0.0695 - val_loss: 0.0496\n",
            "Epoch 41/50\n",
            "2/2 [==============================] - 0s 36ms/step - loss: 0.0236 - val_loss: 0.0469\n",
            "Epoch 42/50\n",
            "2/2 [==============================] - 0s 38ms/step - loss: 0.0364 - val_loss: 0.0469\n",
            "Epoch 43/50\n",
            "2/2 [==============================] - 0s 37ms/step - loss: 0.0131 - val_loss: 0.0450\n",
            "Epoch 44/50\n",
            "2/2 [==============================] - 0s 46ms/step - loss: 0.0272 - val_loss: 0.0480\n",
            "Epoch 45/50\n",
            "2/2 [==============================] - 0s 34ms/step - loss: 0.0654 - val_loss: 0.0520\n",
            "Epoch 46/50\n",
            "2/2 [==============================] - 0s 42ms/step - loss: 0.1010 - val_loss: 0.0675\n",
            "Epoch 47/50\n",
            "2/2 [==============================] - 0s 34ms/step - loss: 0.0173 - val_loss: 0.1007\n",
            "Epoch 48/50\n",
            "2/2 [==============================] - 0s 34ms/step - loss: 0.0267 - val_loss: 0.1471\n",
            "Epoch 49/50\n",
            "2/2 [==============================] - 0s 35ms/step - loss: 0.0408 - val_loss: 0.2123\n",
            "Epoch 50/50\n",
            "2/2 [==============================] - 0s 34ms/step - loss: 0.0440 - val_loss: 0.2685\n"
          ]
        }
      ]
    },
    {
      "cell_type": "code",
      "source": [
        "plt.plot(historyS.history['loss'], label='Training loss')\n",
        "plt.plot(historyS.history['val_loss'], label='Validation loss')\n",
        "plt.legend()"
      ],
      "metadata": {
        "colab": {
          "base_uri": "https://localhost:8080/",
          "height": 447
        },
        "id": "zPJwc-mFgFve",
        "outputId": "e89e38ba-b083-453c-84ea-4eee08adaedc"
      },
      "execution_count": null,
      "outputs": [
        {
          "output_type": "execute_result",
          "data": {
            "text/plain": [
              "<matplotlib.legend.Legend at 0x7b3815df6f50>"
            ]
          },
          "metadata": {},
          "execution_count": 50
        },
        {
          "output_type": "display_data",
          "data": {
            "text/plain": [
              "<Figure size 640x480 with 1 Axes>"
            ],
            "image/png": "[encoded data removed]"
          },
          "metadata": {}
        }
      ]
    },
    {
      "cell_type": "code",
      "source": [
        "predictionS = modelS.predict(trainX)"
      ],
      "metadata": {
        "colab": {
          "base_uri": "https://localhost:8080/"
        },
        "id": "d9XYC52CgKvW",
        "outputId": "9010d2c4-56e5-4fe8-b9df-d8a827e4bd88"
      },
      "execution_count": null,
      "outputs": [
        {
          "output_type": "stream",
          "name": "stderr",
          "text": [
            "WARNING:tensorflow:5 out of the last 5 calls to <function Model.make_predict_function.<locals>.predict_function at 0x7b3815c21f30> triggered tf.function retracing. Tracing is expensive and the excessive number of tracings could be due to (1) creating @tf.function repeatedly in a loop, (2) passing tensors with different shapes, (3) passing Python objects instead of tensors. For (1), please define your @tf.function outside of the loop. For (2), @tf.function has reduce_retracing=True option that can avoid unnecessary retracing. For (3), please refer to https://www.tensorflow.org/guide/function#controlling_retracing and https://www.tensorflow.org/api_docs/python/tf/function for  more details.\n"
          ]
        },
        {
          "output_type": "stream",
          "name": "stdout",
          "text": [
            "1/1 [==============================] - 0s 358ms/step\n"
          ]
        }
      ]
    },
    {
      "cell_type": "code",
      "source": [
        "prediction_copiesS = np.repeat(predictionS, df_for_training.shape[1], axis=-1)\n",
        "y_pred_futureS = scaler.inverse_transform(prediction_copiesS)[:,2]"
      ],
      "metadata": {
        "id": "HiReb9wDgOd-"
      },
      "execution_count": null,
      "outputs": []
    },
    {
      "cell_type": "code",
      "source": [
        "print(y_pred_futureS)\n",
        "i=y_pred_futureS[-2]\n",
        "cod=(i*100/10)*0.12\n",
        "print(cod)"
      ],
      "metadata": {
        "colab": {
          "base_uri": "https://localhost:8080/"
        },
        "id": "0-ick9MngSTS",
        "outputId": "165208b1-dfbf-4004-88ad-ae8b617326fe"
      },
      "execution_count": null,
      "outputs": [
        {
          "output_type": "stream",
          "name": "stdout",
          "text": [
            "[4.024354  3.1465907 2.909688  2.5977168 2.156462  1.1950535 1.5295258]\n",
            "1.4340641498565674\n"
          ]
        }
      ]
    },
    {
      "cell_type": "code",
      "source": [
        "l=[do,ph,bod,tur,cod]\n",
        "print(l)\n",
        "print(sum(l))"
      ],
      "metadata": {
        "colab": {
          "base_uri": "https://localhost:8080/"
        },
        "id": "rUBYQGsrghCL",
        "outputId": "73d75afa-b3f2-412b-82ae-ac5e14c16176"
      },
      "execution_count": null,
      "outputs": [
        {
          "output_type": "stream",
          "name": "stdout",
          "text": [
            "[23.802694403330488, 9.47989547729492, 2.148365561914444, 2.1992311477661133, 1.4340641498565674]\n",
            "39.064250740162535\n"
          ]
        }
      ]
    },
    {
      "cell_type": "code",
      "source": [
        "modelP = Sequential()\n",
        "modelP.add(LSTM(64, activation='relu', input_shape=(trainX.shape[1], trainX.shape[2]), return_sequences=True))\n",
        "modelP.add(LSTM(32, activation='relu', return_sequences=False))\n",
        "modelP.add(Dropout(0.2))\n",
        "modelP.add(Dense(trainYC.shape[1]))"
      ],
      "metadata": {
        "id": "Afys-MidtGxw"
      },
      "execution_count": null,
      "outputs": []
    },
    {
      "cell_type": "code",
      "source": [
        "modelP.compile(optimizer='adam', loss='mse')\n",
        "modelP.summary()"
      ],
      "metadata": {
        "colab": {
          "base_uri": "https://localhost:8080/"
        },
        "id": "ut__0Jll3kET",
        "outputId": "fd07baac-a7e4-4f75-8402-f079d0cee572"
      },
      "execution_count": null,
      "outputs": [
        {
          "output_type": "stream",
          "name": "stdout",
          "text": [
            "Model: \"sequential_5\"\n",
            "_________________________________________________________________\n",
            " Layer (type)                Output Shape              Param #   \n",
            "=================================================================\n",
            " lstm_10 (LSTM)              (None, 3, 64)             18432     \n",
            "                                                                 \n",
            " lstm_11 (LSTM)              (None, 32)                12416     \n",
            "                                                                 \n",
            " dropout_5 (Dropout)         (None, 32)                0         \n",
            "                                                                 \n",
            " dense_5 (Dense)             (None, 1)                 33        \n",
            "                                                                 \n",
            "=================================================================\n",
            "Total params: 30881 (120.63 KB)\n",
            "Trainable params: 30881 (120.63 KB)\n",
            "Non-trainable params: 0 (0.00 Byte)\n",
            "_________________________________________________________________\n"
          ]
        }
      ]
    },
    {
      "cell_type": "code",
      "source": [
        "history = modelP.fit(trainX, trainYP, epochs=50, batch_size=4, validation_split=0.1, verbose=1)"
      ],
      "metadata": {
        "colab": {
          "base_uri": "https://localhost:8080/"
        },
        "id": "VVO7Pbwn3nnE",
        "outputId": "4ed0a310-0ec4-457a-e505-69d181892cee"
      },
      "execution_count": null,
      "outputs": [
        {
          "output_type": "stream",
          "name": "stdout",
          "text": [
            "Epoch 1/50\n",
            "2/2 [==============================] - 4s 660ms/step - loss: 0.7766 - val_loss: 0.0019\n",
            "Epoch 2/50\n",
            "2/2 [==============================] - 0s 58ms/step - loss: 0.7431 - val_loss: 0.0022\n",
            "Epoch 3/50\n",
            "2/2 [==============================] - 0s 65ms/step - loss: 0.7428 - val_loss: 0.0024\n",
            "Epoch 4/50\n",
            "2/2 [==============================] - 0s 85ms/step - loss: 0.7218 - val_loss: 0.0028\n",
            "Epoch 5/50\n",
            "2/2 [==============================] - 0s 77ms/step - loss: 0.7019 - val_loss: 0.0032\n",
            "Epoch 6/50\n",
            "2/2 [==============================] - 0s 65ms/step - loss: 0.7022 - val_loss: 0.0036\n",
            "Epoch 7/50\n",
            "2/2 [==============================] - 0s 51ms/step - loss: 0.6927 - val_loss: 0.0041\n",
            "Epoch 8/50\n",
            "2/2 [==============================] - 0s 41ms/step - loss: 0.6580 - val_loss: 0.0044\n",
            "Epoch 9/50\n",
            "2/2 [==============================] - 0s 42ms/step - loss: 0.6514 - val_loss: 0.0048\n",
            "Epoch 10/50\n",
            "2/2 [==============================] - 0s 45ms/step - loss: 0.6843 - val_loss: 0.0049\n",
            "Epoch 11/50\n",
            "2/2 [==============================] - 0s 61ms/step - loss: 0.6503 - val_loss: 0.0048\n",
            "Epoch 12/50\n",
            "2/2 [==============================] - 0s 44ms/step - loss: 0.6201 - val_loss: 0.0047\n",
            "Epoch 13/50\n",
            "2/2 [==============================] - 0s 42ms/step - loss: 0.5979 - val_loss: 0.0046\n",
            "Epoch 14/50\n",
            "2/2 [==============================] - 0s 40ms/step - loss: 0.5614 - val_loss: 0.0044\n",
            "Epoch 15/50\n",
            "2/2 [==============================] - 0s 58ms/step - loss: 0.5672 - val_loss: 0.0043\n",
            "Epoch 16/50\n",
            "2/2 [==============================] - 0s 36ms/step - loss: 0.5645 - val_loss: 0.0044\n",
            "Epoch 17/50\n",
            "2/2 [==============================] - 0s 37ms/step - loss: 0.5276 - val_loss: 0.0043\n",
            "Epoch 18/50\n",
            "2/2 [==============================] - 0s 38ms/step - loss: 0.4901 - val_loss: 0.0044\n",
            "Epoch 19/50\n",
            "2/2 [==============================] - 0s 35ms/step - loss: 0.4529 - val_loss: 0.0047\n",
            "Epoch 20/50\n",
            "2/2 [==============================] - 0s 34ms/step - loss: 0.4165 - val_loss: 0.0051\n",
            "Epoch 21/50\n",
            "2/2 [==============================] - 0s 35ms/step - loss: 0.4125 - val_loss: 0.0053\n",
            "Epoch 22/50\n",
            "2/2 [==============================] - 0s 70ms/step - loss: 0.3498 - val_loss: 0.0056\n",
            "Epoch 23/50\n",
            "2/2 [==============================] - 0s 37ms/step - loss: 0.3099 - val_loss: 0.0058\n",
            "Epoch 24/50\n",
            "2/2 [==============================] - 0s 36ms/step - loss: 0.2558 - val_loss: 0.0058\n",
            "Epoch 25/50\n",
            "2/2 [==============================] - 0s 46ms/step - loss: 0.2653 - val_loss: 0.0051\n",
            "Epoch 26/50\n",
            "2/2 [==============================] - 0s 35ms/step - loss: 0.2104 - val_loss: 0.0041\n",
            "Epoch 27/50\n",
            "2/2 [==============================] - 0s 36ms/step - loss: 0.2305 - val_loss: 0.0026\n",
            "Epoch 28/50\n",
            "2/2 [==============================] - 0s 37ms/step - loss: 0.2145 - val_loss: 0.0010\n",
            "Epoch 29/50\n",
            "2/2 [==============================] - 0s 40ms/step - loss: 0.2217 - val_loss: 1.2038e-04\n",
            "Epoch 30/50\n",
            "2/2 [==============================] - 0s 37ms/step - loss: 0.1921 - val_loss: 2.1339e-04\n",
            "Epoch 31/50\n",
            "2/2 [==============================] - 0s 35ms/step - loss: 0.2254 - val_loss: 0.0017\n",
            "Epoch 32/50\n",
            "2/2 [==============================] - 0s 34ms/step - loss: 0.1872 - val_loss: 0.0044\n",
            "Epoch 33/50\n",
            "2/2 [==============================] - 0s 36ms/step - loss: 0.1714 - val_loss: 0.0080\n",
            "Epoch 34/50\n",
            "2/2 [==============================] - 0s 38ms/step - loss: 0.1461 - val_loss: 0.0121\n",
            "Epoch 35/50\n",
            "2/2 [==============================] - 0s 35ms/step - loss: 0.1593 - val_loss: 0.0165\n",
            "Epoch 36/50\n",
            "2/2 [==============================] - 0s 34ms/step - loss: 0.1885 - val_loss: 0.0202\n",
            "Epoch 37/50\n",
            "2/2 [==============================] - 0s 41ms/step - loss: 0.2125 - val_loss: 0.0248\n",
            "Epoch 38/50\n",
            "2/2 [==============================] - 0s 35ms/step - loss: 0.1061 - val_loss: 0.0299\n",
            "Epoch 39/50\n",
            "2/2 [==============================] - 0s 36ms/step - loss: 0.1205 - val_loss: 0.0356\n",
            "Epoch 40/50\n",
            "2/2 [==============================] - 0s 36ms/step - loss: 0.1468 - val_loss: 0.0408\n",
            "Epoch 41/50\n",
            "2/2 [==============================] - 0s 44ms/step - loss: 0.0925 - val_loss: 0.0468\n",
            "Epoch 42/50\n",
            "2/2 [==============================] - 0s 37ms/step - loss: 0.1151 - val_loss: 0.0536\n",
            "Epoch 43/50\n",
            "2/2 [==============================] - 0s 37ms/step - loss: 0.0862 - val_loss: 0.0618\n",
            "Epoch 44/50\n",
            "2/2 [==============================] - 0s 34ms/step - loss: 0.0922 - val_loss: 0.0722\n",
            "Epoch 45/50\n",
            "2/2 [==============================] - 0s 49ms/step - loss: 0.0817 - val_loss: 0.0885\n",
            "Epoch 46/50\n",
            "2/2 [==============================] - 0s 36ms/step - loss: 0.0656 - val_loss: 0.1114\n",
            "Epoch 47/50\n",
            "2/2 [==============================] - 0s 35ms/step - loss: 0.1265 - val_loss: 0.1362\n",
            "Epoch 48/50\n",
            "2/2 [==============================] - 0s 35ms/step - loss: 0.0661 - val_loss: 0.1625\n",
            "Epoch 49/50\n",
            "2/2 [==============================] - 0s 37ms/step - loss: 0.0706 - val_loss: 0.1898\n",
            "Epoch 50/50\n",
            "2/2 [==============================] - 0s 34ms/step - loss: 0.0469 - val_loss: 0.2251\n"
          ]
        }
      ]
    },
    {
      "cell_type": "code",
      "source": [
        "historyP = history"
      ],
      "metadata": {
        "id": "DvqLuQ9F3wvt"
      },
      "execution_count": null,
      "outputs": []
    },
    {
      "cell_type": "code",
      "source": [
        "plt.plot(historyP.history['loss'], label='Training loss')\n",
        "plt.plot(historyP.history['val_loss'], label='Validation loss')\n",
        "plt.legend()"
      ],
      "metadata": {
        "colab": {
          "base_uri": "https://localhost:8080/",
          "height": 447
        },
        "id": "QWAUXe6w3yna",
        "outputId": "23edfb3a-b256-4a2f-c935-1dae6485ae51"
      },
      "execution_count": null,
      "outputs": [
        {
          "output_type": "execute_result",
          "data": {
            "text/plain": [
              "<matplotlib.legend.Legend at 0x7b3814382500>"
            ]
          },
          "metadata": {},
          "execution_count": 59
        },
        {
          "output_type": "display_data",
          "data": {
            "text/plain": [
              "<Figure size 640x480 with 1 Axes>"
            ],
            "image/png": "[encoded data removed]"
          },
          "metadata": {}
        }
      ]
    },
    {
      "cell_type": "code",
      "source": [
        "predictionP = modelP.predict(trainX)"
      ],
      "metadata": {
        "colab": {
          "base_uri": "https://localhost:8080/"
        },
        "id": "Eofi1P5M35Kv",
        "outputId": "76327fc4-8589-4aa1-c225-808dda473146"
      },
      "execution_count": null,
      "outputs": [
        {
          "output_type": "stream",
          "name": "stderr",
          "text": [
            "WARNING:tensorflow:6 out of the last 6 calls to <function Model.make_predict_function.<locals>.predict_function at 0x7b38143aa290> triggered tf.function retracing. Tracing is expensive and the excessive number of tracings could be due to (1) creating @tf.function repeatedly in a loop, (2) passing tensors with different shapes, (3) passing Python objects instead of tensors. For (1), please define your @tf.function outside of the loop. For (2), @tf.function has reduce_retracing=True option that can avoid unnecessary retracing. For (3), please refer to https://www.tensorflow.org/guide/function#controlling_retracing and https://www.tensorflow.org/api_docs/python/tf/function for  more details.\n"
          ]
        },
        {
          "output_type": "stream",
          "name": "stdout",
          "text": [
            "1/1 [==============================] - 0s 339ms/step\n"
          ]
        }
      ]
    },
    {
      "cell_type": "code",
      "source": [
        "prediction_copiesP = np.repeat(predictionP, df_for_training.shape[1], axis=-1)\n",
        "y_pred_futureP = scaler.inverse_transform(prediction_copiesP)[:,0]"
      ],
      "metadata": {
        "id": "NTWCTZiM37ya"
      },
      "execution_count": null,
      "outputs": []
    },
    {
      "cell_type": "code",
      "source": [
        "print(y_pred_futureP)\n",
        "ec=y_pred_futureP[-2]\n",
        "print(ec)"
      ],
      "metadata": {
        "colab": {
          "base_uri": "https://localhost:8080/"
        },
        "id": "TrbiFJqo4Alz",
        "outputId": "fe7aea3d-8d13-40d9-8fe9-03044b5075cf"
      },
      "execution_count": null,
      "outputs": [
        {
          "output_type": "stream",
          "name": "stdout",
          "text": [
            "[5.0015626 5.094821  5.0079117 5.3403316 5.3756323 5.7326756 5.579733 ]\n",
            "5.7326756\n"
          ]
        }
      ]
    },
    {
      "cell_type": "code",
      "source": [
        "l=[do,ph,bod,tur,cod,ec]\n",
        "print(l)\n",
        "WQI=sum(l)\n",
        "print(WQI)"
      ],
      "metadata": {
        "colab": {
          "base_uri": "https://localhost:8080/"
        },
        "id": "bkrV4Kjw8mJf",
        "outputId": "79fa4b2e-0d63-4e1b-d64d-e49999818b66"
      },
      "execution_count": null,
      "outputs": [
        {
          "output_type": "stream",
          "name": "stdout",
          "text": [
            "[23.802694403330488, 9.47989547729492, 2.148365561914444, 2.1992311477661133, 1.4340641498565674, 5.7326756]\n",
            "44.7969262925307\n"
          ]
        }
      ]
    },
    {
      "cell_type": "code",
      "source": [
        "def get_WQI_bucket(x):\n",
        "    if x>=0 and x <= 25:\n",
        "        return \"Excellent\"\n",
        "    elif x>=26 and x<=50:\n",
        "        return \"Good\"\n",
        "    elif x >=51 and x<=75:\n",
        "        return \"Poor\"\n",
        "    elif x>=76 and x<100:\n",
        "        return \"Very Poor\"\n",
        "    else:\n",
        "        return \"Not Suitable for drinking\"\n",
        "result=get_WQI_bucket(WQI)\n",
        "print(result)"
      ],
      "metadata": {
        "id": "jCwF1m238o9a",
        "colab": {
          "base_uri": "https://localhost:8080/"
        },
        "outputId": "a42388eb-d193-4007-e090-925577cdf588"
      },
      "execution_count": null,
      "outputs": [
        {
          "output_type": "stream",
          "name": "stdout",
          "text": [
            "Good\n"
          ]
        }
      ]
    },
    {
      "cell_type": "code",
      "source": [
        "def calculate(i,col):\n",
        "  # DO (mg/L)\n",
        "  if(col== 0):\n",
        "    return ((i-14)*100/9)*0.3723\n",
        "  #ph\n",
        "  if(col==1):\n",
        "    return ((i-7)*100/1.5)*0.1176\n",
        "  #BOD (mg/L)\n",
        "  if(col==2):\n",
        "    return (i*100/5)*0.3723\n",
        "  #Turbidity (NTU)\n",
        "  if(col==3):\n",
        "    return (i*100/5)*0.1\n",
        "  #COD (mg/L)\n",
        "  if(col==4):\n",
        "    return (i*100/10)*0.12\n",
        "  #TDS (mg/L)\n",
        "  if(col==5):\n",
        "    return (i*100/1000)*0.001\n",
        "  else:\n",
        "     #Electrical conductivity\n",
        "    return ((i)/300)*0.0033"
      ],
      "metadata": {
        "id": "oand52GJLGDO"
      },
      "execution_count": null,
      "outputs": []
    },
    {
      "cell_type": "code",
      "source": [
        "l1=[6.0,7.82,1.8,8,24,450,702]\n",
        "wqi_index=0\n",
        "for i in range(len(l1)):\n",
        "   wqi_index+=calculate(l1[i],i)\n",
        "print(wqi_index)"
      ],
      "metadata": {
        "colab": {
          "base_uri": "https://localhost:8080/"
        },
        "id": "CEiCOhNnNo2c",
        "outputId": "7934601f-8509-4fff-8db5-336a19d17437"
      },
      "execution_count": null,
      "outputs": [
        {
          "output_type": "stream",
          "name": "stdout",
          "text": [
            "31.590988666666668\n"
          ]
        }
      ]
    },
    {
      "cell_type": "code",
      "source": [],
      "metadata": {
        "id": "f0KPeyIoN-ey"
      },
      "execution_count": null,
      "outputs": []
    },
    {
      "cell_type": "code",
      "source": [],
      "metadata": {
        "id": "RTBDiwq0OZJG"
      },
      "execution_count": null,
      "outputs": []
    }
  ]
}