{
  "nbformat": 4,
  "nbformat_minor": 0,
  "metadata": {
    "colab": {
      "provenance": []
    },
    "kernelspec": {
      "name": "python3",
      "display_name": "Python 3"
    },
    "language_info": {
      "name": "python"
    }
  },
  "cells": [
    {
      "cell_type": "code",
      "execution_count": null,
      "metadata": {
        "id": "A2FScVPSF0Ky"
      },
      "outputs": [],
      "source": [
        "import numpy as np\n",
        "from tensorflow.keras.models import Sequential\n",
        "from tensorflow.keras.layers import LSTM\n",
        "from tensorflow.keras.layers import Dense, Dropout\n",
        "import pandas as pd\n",
        "from matplotlib import pyplot as plt\n",
        "from sklearn.preprocessing import StandardScaler\n",
        "import seaborn as sns"
      ]
    },
    {
      "cell_type": "code",
      "source": [
        "from google.colab import drive\n",
        "drive.mount('/content/drive')\n"
      ],
      "metadata": {
        "colab": {
          "base_uri": "https://localhost:8080/"
        },
        "id": "Uh8kxTU5GA8n",
        "outputId": "5c18b547-6982-4791-8925-2238e285142b"
      },
      "execution_count": null,
      "outputs": [
        {
          "output_type": "stream",
          "name": "stdout",
          "text": [
            "Mounted at /content/drive\n"
          ]
        }
      ]
    },
    {
      "cell_type": "code",
      "source": [
        "fi = pd.read_csv('/content/drive/MyDrive/Manchiriyal.csv')\n",
        "print(fi.shape)\n",
        "fi\n"
      ],
      "metadata": {
        "colab": {
          "base_uri": "https://localhost:8080/",
          "height": 380
        },
        "id": "KS1XeEJAGLky",
        "outputId": "92747e48-0eb5-4d72-9ab2-0eeab5e5dc52"
      },
      "execution_count": null,
      "outputs": [
        {
          "output_type": "stream",
          "name": "stdout",
          "text": [
            "(10, 9)\n"
          ]
        },
        {
          "output_type": "execute_result",
          "data": {
            "text/plain": [
              "   S.No.   DO (mg/L)    pH  BOD (mg/L)  Turbidity (NTU)  COD (mg/L)   EC  \\\n",
              "0       1       5.50  7.96        3.00             21.0        32.0  504   \n",
              "1       2       5.80  7.52        3.02              9.0        20.0  411   \n",
              "2       3       5.50  7.96        3.00             21.0        32.0  386   \n",
              "3       4       5.30  8.30        4.00              9.0        30.0  409   \n",
              "4       5       5.20  8.12        3.00              5.0        32.0  510   \n",
              "5       6       5.40  7.98        2.90              6.0        13.0  554   \n",
              "6       7       5.50  8.08        2.30             10.0        18.0  508   \n",
              "7       8       5.80  7.88        2.30              7.0        19.0  520   \n",
              "8       9       5.90  8.05        1.30              6.0        12.0  532   \n",
              "9      10       5.93  7.73        1.68              5.4        22.6  497   \n",
              "\n",
              "    TSS  Year  \n",
              "0  12.0  2014  \n",
              "1  19.0  2015  \n",
              "2  20.0  2016  \n",
              "3  10.0  2017  \n",
              "4   7.0  2018  \n",
              "5   6.0  2019  \n",
              "6  13.0  2020  \n",
              "7   8.0  2021  \n",
              "8  10.0  2022  \n",
              "9  10.2  2023  "
            ],
            "text/html": [
              "\n",
              "  <div id=\"df-a5b1f0f9-3e38-40f4-a65d-3888deff6166\" class=\"colab-df-container\">\n",
              "    <div>\n",
              "<style scoped>\n",
              "    .dataframe tbody tr th:only-of-type {\n",
              "        vertical-align: middle;\n",
              "    }\n",
              "\n",
              "    .dataframe tbody tr th {\n",
              "        vertical-align: top;\n",
              "    }\n",
              "\n",
              "    .dataframe thead th {\n",
              "        text-align: right;\n",
              "    }\n",
              "</style>\n",
              "<table border=\"1\" class=\"dataframe\">\n",
              "  <thead>\n",
              "    <tr style=\"text-align: right;\">\n",
              "      <th></th>\n",
              "      <th>S.No.</th>\n",
              "      <th>DO (mg/L)</th>\n",
              "      <th>pH</th>\n",
              "      <th>BOD (mg/L)</th>\n",
              "      <th>Turbidity (NTU)</th>\n",
              "      <th>COD (mg/L)</th>\n",
              "      <th>EC</th>\n",
              "      <th>TSS</th>\n",
              "      <th>Year</th>\n",
              "    </tr>\n",
              "  </thead>\n",
              "  <tbody>\n",
              "    <tr>\n",
              "      <th>0</th>\n",
              "      <td>1</td>\n",
              "      <td>5.50</td>\n",
              "      <td>7.96</td>\n",
              "      <td>3.00</td>\n",
              "      <td>21.0</td>\n",
              "      <td>32.0</td>\n",
              "      <td>504</td>\n",
              "      <td>12.0</td>\n",
              "      <td>2014</td>\n",
              "    </tr>\n",
              "    <tr>\n",
              "      <th>1</th>\n",
              "      <td>2</td>\n",
              "      <td>5.80</td>\n",
              "      <td>7.52</td>\n",
              "      <td>3.02</td>\n",
              "      <td>9.0</td>\n",
              "      <td>20.0</td>\n",
              "      <td>411</td>\n",
              "      <td>19.0</td>\n",
              "      <td>2015</td>\n",
              "    </tr>\n",
              "    <tr>\n",
              "      <th>2</th>\n",
              "      <td>3</td>\n",
              "      <td>5.50</td>\n",
              "      <td>7.96</td>\n",
              "      <td>3.00</td>\n",
              "      <td>21.0</td>\n",
              "      <td>32.0</td>\n",
              "      <td>386</td>\n",
              "      <td>20.0</td>\n",
              "      <td>2016</td>\n",
              "    </tr>\n",
              "    <tr>\n",
              "      <th>3</th>\n",
              "      <td>4</td>\n",
              "      <td>5.30</td>\n",
              "      <td>8.30</td>\n",
              "      <td>4.00</td>\n",
              "      <td>9.0</td>\n",
              "      <td>30.0</td>\n",
              "      <td>409</td>\n",
              "      <td>10.0</td>\n",
              "      <td>2017</td>\n",
              "    </tr>\n",
              "    <tr>\n",
              "      <th>4</th>\n",
              "      <td>5</td>\n",
              "      <td>5.20</td>\n",
              "      <td>8.12</td>\n",
              "      <td>3.00</td>\n",
              "      <td>5.0</td>\n",
              "      <td>32.0</td>\n",
              "      <td>510</td>\n",
              "      <td>7.0</td>\n",
              "      <td>2018</td>\n",
              "    </tr>\n",
              "    <tr>\n",
              "      <th>5</th>\n",
              "      <td>6</td>\n",
              "      <td>5.40</td>\n",
              "      <td>7.98</td>\n",
              "      <td>2.90</td>\n",
              "      <td>6.0</td>\n",
              "      <td>13.0</td>\n",
              "      <td>554</td>\n",
              "      <td>6.0</td>\n",
              "      <td>2019</td>\n",
              "    </tr>\n",
              "    <tr>\n",
              "      <th>6</th>\n",
              "      <td>7</td>\n",
              "      <td>5.50</td>\n",
              "      <td>8.08</td>\n",
              "      <td>2.30</td>\n",
              "      <td>10.0</td>\n",
              "      <td>18.0</td>\n",
              "      <td>508</td>\n",
              "      <td>13.0</td>\n",
              "      <td>2020</td>\n",
              "    </tr>\n",
              "    <tr>\n",
              "      <th>7</th>\n",
              "      <td>8</td>\n",
              "      <td>5.80</td>\n",
              "      <td>7.88</td>\n",
              "      <td>2.30</td>\n",
              "      <td>7.0</td>\n",
              "      <td>19.0</td>\n",
              "      <td>520</td>\n",
              "      <td>8.0</td>\n",
              "      <td>2021</td>\n",
              "    </tr>\n",
              "    <tr>\n",
              "      <th>8</th>\n",
              "      <td>9</td>\n",
              "      <td>5.90</td>\n",
              "      <td>8.05</td>\n",
              "      <td>1.30</td>\n",
              "      <td>6.0</td>\n",
              "      <td>12.0</td>\n",
              "      <td>532</td>\n",
              "      <td>10.0</td>\n",
              "      <td>2022</td>\n",
              "    </tr>\n",
              "    <tr>\n",
              "      <th>9</th>\n",
              "      <td>10</td>\n",
              "      <td>5.93</td>\n",
              "      <td>7.73</td>\n",
              "      <td>1.68</td>\n",
              "      <td>5.4</td>\n",
              "      <td>22.6</td>\n",
              "      <td>497</td>\n",
              "      <td>10.2</td>\n",
              "      <td>2023</td>\n",
              "    </tr>\n",
              "  </tbody>\n",
              "</table>\n",
              "</div>\n",
              "    <div class=\"colab-df-buttons\">\n",
              "\n",
              "  <div class=\"colab-df-container\">\n",
              "    <button class=\"colab-df-convert\" onclick=\"convertToInteractive('df-a5b1f0f9-3e38-40f4-a65d-3888deff6166')\"\n",
              "            title=\"Convert this dataframe to an interactive table.\"\n",
              "            style=\"display:none;\">\n",
              "\n",
              "  <svg xmlns=\"http://www.w3.org/2000/svg\" height=\"24px\" viewBox=\"0 -960 960 960\">\n",
              "    <path d=\"M120-120v-720h720v720H120Zm60-500h600v-160H180v160Zm220 220h160v-160H400v160Zm0 220h160v-160H400v160ZM180-400h160v-160H180v160Zm440 0h160v-160H620v160ZM180-180h160v-160H180v160Zm440 0h160v-160H620v160Z\"/>\n",
              "  </svg>\n",
              "    </button>\n",
              "\n",
              "  <style>\n",
              "    .colab-df-container {\n",
              "      display:flex;\n",
              "      gap: 12px;\n",
              "    }\n",
              "\n",
              "    .colab-df-convert {\n",
              "      background-color: #E8F0FE;\n",
              "      border: none;\n",
              "      border-radius: 50%;\n",
              "      cursor: pointer;\n",
              "      display: none;\n",
              "      fill: #1967D2;\n",
              "      height: 32px;\n",
              "      padding: 0 0 0 0;\n",
              "      width: 32px;\n",
              "    }\n",
              "\n",
              "    .colab-df-convert:hover {\n",
              "      background-color: #E2EBFA;\n",
              "      box-shadow: 0px 1px 2px rgba(60, 64, 67, 0.3), 0px 1px 3px 1px rgba(60, 64, 67, 0.15);\n",
              "      fill: #174EA6;\n",
              "    }\n",
              "\n",
              "    .colab-df-buttons div {\n",
              "      margin-bottom: 4px;\n",
              "    }\n",
              "\n",
              "    [theme=dark] .colab-df-convert {\n",
              "      background-color: #3B4455;\n",
              "      fill: #D2E3FC;\n",
              "    }\n",
              "\n",
              "    [theme=dark] .colab-df-convert:hover {\n",
              "      background-color: #434B5C;\n",
              "      box-shadow: 0px 1px 3px 1px rgba(0, 0, 0, 0.15);\n",
              "      filter: drop-shadow(0px 1px 2px rgba(0, 0, 0, 0.3));\n",
              "      fill: #FFFFFF;\n",
              "    }\n",
              "  </style>\n",
              "\n",
              "    <script>\n",
              "      const buttonEl =\n",
              "        document.querySelector('#df-a5b1f0f9-3e38-40f4-a65d-3888deff6166 button.colab-df-convert');\n",
              "      buttonEl.style.display =\n",
              "        google.colab.kernel.accessAllowed ? 'block' : 'none';\n",
              "\n",
              "      async function convertToInteractive(key) {\n",
              "        const element = document.querySelector('#df-a5b1f0f9-3e38-40f4-a65d-3888deff6166');\n",
              "        const dataTable =\n",
              "          await google.colab.kernel.invokeFunction('convertToInteractive',\n",
              "                                                    [key], {});\n",
              "        if (!dataTable) return;\n",
              "\n",
              "        const docLinkHtml = 'Like what you see? Visit the ' +\n",
              "          '<a target=\"_blank\" href=https://colab.research.google.com/notebooks/data_table.ipynb>data table notebook</a>'\n",
              "          + ' to learn more about interactive tables.';\n",
              "        element.innerHTML = '';\n",
              "        dataTable['output_type'] = 'display_data';\n",
              "        await google.colab.output.renderOutput(dataTable, element);\n",
              "        const docLink = document.createElement('div');\n",
              "        docLink.innerHTML = docLinkHtml;\n",
              "        element.appendChild(docLink);\n",
              "      }\n",
              "    </script>\n",
              "  </div>\n",
              "\n",
              "\n",
              "<div id=\"df-2e845593-a6f6-413f-986e-3837e6a1a6d8\">\n",
              "  <button class=\"colab-df-quickchart\" onclick=\"quickchart('df-2e845593-a6f6-413f-986e-3837e6a1a6d8')\"\n",
              "            title=\"Suggest charts\"\n",
              "            style=\"display:none;\">\n",
              "\n",
              "<svg xmlns=\"http://www.w3.org/2000/svg\" height=\"24px\"viewBox=\"0 0 24 24\"\n",
              "     width=\"24px\">\n",
              "    <g>\n",
              "        <path d=\"M19 3H5c-1.1 0-2 .9-2 2v14c0 1.1.9 2 2 2h14c1.1 0 2-.9 2-2V5c0-1.1-.9-2-2-2zM9 17H7v-7h2v7zm4 0h-2V7h2v10zm4 0h-2v-4h2v4z\"/>\n",
              "    </g>\n",
              "</svg>\n",
              "  </button>\n",
              "\n",
              "<style>\n",
              "  .colab-df-quickchart {\n",
              "      --bg-color: #E8F0FE;\n",
              "      --fill-color: #1967D2;\n",
              "      --hover-bg-color: #E2EBFA;\n",
              "      --hover-fill-color: #174EA6;\n",
              "      --disabled-fill-color: #AAA;\n",
              "      --disabled-bg-color: #DDD;\n",
              "  }\n",
              "\n",
              "  [theme=dark] .colab-df-quickchart {\n",
              "      --bg-color: #3B4455;\n",
              "      --fill-color: #D2E3FC;\n",
              "      --hover-bg-color: #434B5C;\n",
              "      --hover-fill-color: #FFFFFF;\n",
              "      --disabled-bg-color: #3B4455;\n",
              "      --disabled-fill-color: #666;\n",
              "  }\n",
              "\n",
              "  .colab-df-quickchart {\n",
              "    background-color: var(--bg-color);\n",
              "    border: none;\n",
              "    border-radius: 50%;\n",
              "    cursor: pointer;\n",
              "    display: none;\n",
              "    fill: var(--fill-color);\n",
              "    height: 32px;\n",
              "    padding: 0;\n",
              "    width: 32px;\n",
              "  }\n",
              "\n",
              "  .colab-df-quickchart:hover {\n",
              "    background-color: var(--hover-bg-color);\n",
              "    box-shadow: 0 1px 2px rgba(60, 64, 67, 0.3), 0 1px 3px 1px rgba(60, 64, 67, 0.15);\n",
              "    fill: var(--button-hover-fill-color);\n",
              "  }\n",
              "\n",
              "  .colab-df-quickchart-complete:disabled,\n",
              "  .colab-df-quickchart-complete:disabled:hover {\n",
              "    background-color: var(--disabled-bg-color);\n",
              "    fill: var(--disabled-fill-color);\n",
              "    box-shadow: none;\n",
              "  }\n",
              "\n",
              "  .colab-df-spinner {\n",
              "    border: 2px solid var(--fill-color);\n",
              "    border-color: transparent;\n",
              "    border-bottom-color: var(--fill-color);\n",
              "    animation:\n",
              "      spin 1s steps(1) infinite;\n",
              "  }\n",
              "\n",
              "  @keyframes spin {\n",
              "    0% {\n",
              "      border-color: transparent;\n",
              "      border-bottom-color: var(--fill-color);\n",
              "      border-left-color: var(--fill-color);\n",
              "    }\n",
              "    20% {\n",
              "      border-color: transparent;\n",
              "      border-left-color: var(--fill-color);\n",
              "      border-top-color: var(--fill-color);\n",
              "    }\n",
              "    30% {\n",
              "      border-color: transparent;\n",
              "      border-left-color: var(--fill-color);\n",
              "      border-top-color: var(--fill-color);\n",
              "      border-right-color: var(--fill-color);\n",
              "    }\n",
              "    40% {\n",
              "      border-color: transparent;\n",
              "      border-right-color: var(--fill-color);\n",
              "      border-top-color: var(--fill-color);\n",
              "    }\n",
              "    60% {\n",
              "      border-color: transparent;\n",
              "      border-right-color: var(--fill-color);\n",
              "    }\n",
              "    80% {\n",
              "      border-color: transparent;\n",
              "      border-right-color: var(--fill-color);\n",
              "      border-bottom-color: var(--fill-color);\n",
              "    }\n",
              "    90% {\n",
              "      border-color: transparent;\n",
              "      border-bottom-color: var(--fill-color);\n",
              "    }\n",
              "  }\n",
              "</style>\n",
              "\n",
              "  <script>\n",
              "    async function quickchart(key) {\n",
              "      const quickchartButtonEl =\n",
              "        document.querySelector('#' + key + ' button');\n",
              "      quickchartButtonEl.disabled = true;  // To prevent multiple clicks.\n",
              "      quickchartButtonEl.classList.add('colab-df-spinner');\n",
              "      try {\n",
              "        const charts = await google.colab.kernel.invokeFunction(\n",
              "            'suggestCharts', [key], {});\n",
              "      } catch (error) {\n",
              "        console.error('Error during call to suggestCharts:', error);\n",
              "      }\n",
              "      quickchartButtonEl.classList.remove('colab-df-spinner');\n",
              "      quickchartButtonEl.classList.add('colab-df-quickchart-complete');\n",
              "    }\n",
              "    (() => {\n",
              "      let quickchartButtonEl =\n",
              "        document.querySelector('#df-2e845593-a6f6-413f-986e-3837e6a1a6d8 button');\n",
              "      quickchartButtonEl.style.display =\n",
              "        google.colab.kernel.accessAllowed ? 'block' : 'none';\n",
              "    })();\n",
              "  </script>\n",
              "</div>\n",
              "    </div>\n",
              "  </div>\n"
            ],
            "application/vnd.google.colaboratory.intrinsic+json": {
              "type": "dataframe",
              "variable_name": "fi",
              "summary": "{\n  \"name\": \"fi\",\n  \"rows\": 10,\n  \"fields\": [\n    {\n      \"column\": \"S.No. \",\n      \"properties\": {\n        \"dtype\": \"number\",\n        \"std\": 3,\n        \"min\": 1,\n        \"max\": 10,\n        \"num_unique_values\": 10,\n        \"samples\": [\n          9,\n          2,\n          6\n        ],\n        \"semantic_type\": \"\",\n        \"description\": \"\"\n      }\n    },\n    {\n      \"column\": \"DO (mg/L)\",\n      \"properties\": {\n        \"dtype\": \"number\",\n        \"std\": 0.25733894639819543,\n        \"min\": 5.2,\n        \"max\": 5.93,\n        \"num_unique_values\": 7,\n        \"samples\": [\n          5.5,\n          5.8,\n          5.9\n        ],\n        \"semantic_type\": \"\",\n        \"description\": \"\"\n      }\n    },\n    {\n      \"column\": \"pH\",\n      \"properties\": {\n        \"dtype\": \"number\",\n        \"std\": 0.2152414664717023,\n        \"min\": 7.52,\n        \"max\": 8.3,\n        \"num_unique_values\": 9,\n        \"samples\": [\n          8.05,\n          7.52,\n          8.08\n        ],\n        \"semantic_type\": \"\",\n        \"description\": \"\"\n      }\n    },\n    {\n      \"column\": \"BOD (mg/L)\",\n      \"properties\": {\n        \"dtype\": \"number\",\n        \"std\": 0.7744388649567864,\n        \"min\": 1.3,\n        \"max\": 4.0,\n        \"num_unique_values\": 7,\n        \"samples\": [\n          3.0,\n          3.02,\n          1.3\n        ],\n        \"semantic_type\": \"\",\n        \"description\": \"\"\n      }\n    },\n    {\n      \"column\": \"Turbidity (NTU)\",\n      \"properties\": {\n        \"dtype\": \"number\",\n        \"std\": 6.0656043025864745,\n        \"min\": 5.0,\n        \"max\": 21.0,\n        \"num_unique_values\": 7,\n        \"samples\": [\n          21.0,\n          9.0,\n          7.0\n        ],\n        \"semantic_type\": \"\",\n        \"description\": \"\"\n      }\n    },\n    {\n      \"column\": \"COD (mg/L)\",\n      \"properties\": {\n        \"dtype\": \"number\",\n        \"std\": 7.9100779600035125,\n        \"min\": 12.0,\n        \"max\": 32.0,\n        \"num_unique_values\": 8,\n        \"samples\": [\n          20.0,\n          19.0,\n          32.0\n        ],\n        \"semantic_type\": \"\",\n        \"description\": \"\"\n      }\n    },\n    {\n      \"column\": \"EC\",\n      \"properties\": {\n        \"dtype\": \"number\",\n        \"std\": 58,\n        \"min\": 386,\n        \"max\": 554,\n        \"num_unique_values\": 10,\n        \"samples\": [\n          532,\n          411,\n          554\n        ],\n        \"semantic_type\": \"\",\n        \"description\": \"\"\n      }\n    },\n    {\n      \"column\": \"TSS\",\n      \"properties\": {\n        \"dtype\": \"number\",\n        \"std\": 4.713290900327617,\n        \"min\": 6.0,\n        \"max\": 20.0,\n        \"num_unique_values\": 9,\n        \"samples\": [\n          8.0,\n          19.0,\n          6.0\n        ],\n        \"semantic_type\": \"\",\n        \"description\": \"\"\n      }\n    },\n    {\n      \"column\": \"Year\",\n      \"properties\": {\n        \"dtype\": \"number\",\n        \"std\": 3,\n        \"min\": 2014,\n        \"max\": 2023,\n        \"num_unique_values\": 10,\n        \"samples\": [\n          2022,\n          2015,\n          2019\n        ],\n        \"semantic_type\": \"\",\n        \"description\": \"\"\n      }\n    }\n  ]\n}"
            }
          },
          "metadata": {},
          "execution_count": 3
        }
      ]
    },
    {
      "cell_type": "code",
      "source": [
        "cols = list(fi)[1:8]\n",
        "print(cols)"
      ],
      "metadata": {
        "colab": {
          "base_uri": "https://localhost:8080/"
        },
        "id": "XsMeQLLFGqgf",
        "outputId": "d8b60016-cf1a-47b9-acde-8156c066433c"
      },
      "execution_count": null,
      "outputs": [
        {
          "output_type": "stream",
          "name": "stdout",
          "text": [
            "['DO (mg/L)', 'pH', 'BOD (mg/L)', 'Turbidity (NTU)', 'COD (mg/L)', 'EC', 'TSS']\n"
          ]
        }
      ]
    },
    {
      "cell_type": "code",
      "source": [
        "df_for_training = fi[cols].astype(float)\n",
        "df_for_training.plot()"
      ],
      "metadata": {
        "colab": {
          "base_uri": "https://localhost:8080/",
          "height": 447
        },
        "id": "Gztls76KHDB2",
        "outputId": "970ee5d5-d7ea-45a3-fb8e-14064fe8ba41"
      },
      "execution_count": null,
      "outputs": [
        {
          "output_type": "execute_result",
          "data": {
            "text/plain": [
              "<Axes: >"
            ]
          },
          "metadata": {},
          "execution_count": 5
        },
        {
          "output_type": "display_data",
          "data": {
            "text/plain": [
              "<Figure size 640x480 with 1 Axes>"
            ],
            "image/png": "[encoded data removed]"
          },
          "metadata": {}
        }
      ]
    },
    {
      "cell_type": "code",
      "source": [
        "scaler = StandardScaler()\n",
        "scaler = scaler.fit(df_for_training)\n",
        "df_for_training_scaled = scaler.transform(df_for_training)\n",
        "df_for_training"
      ],
      "metadata": {
        "colab": {
          "base_uri": "https://localhost:8080/",
          "height": 363
        },
        "id": "m4k7E8tMHIx7",
        "outputId": "33b7784a-2154-4dc1-9d4c-87b93ab8fb10"
      },
      "execution_count": null,
      "outputs": [
        {
          "output_type": "execute_result",
          "data": {
            "text/plain": [
              "   DO (mg/L)    pH  BOD (mg/L)  Turbidity (NTU)  COD (mg/L)     EC   TSS\n",
              "0       5.50  7.96        3.00             21.0        32.0  504.0  12.0\n",
              "1       5.80  7.52        3.02              9.0        20.0  411.0  19.0\n",
              "2       5.50  7.96        3.00             21.0        32.0  386.0  20.0\n",
              "3       5.30  8.30        4.00              9.0        30.0  409.0  10.0\n",
              "4       5.20  8.12        3.00              5.0        32.0  510.0   7.0\n",
              "5       5.40  7.98        2.90              6.0        13.0  554.0   6.0\n",
              "6       5.50  8.08        2.30             10.0        18.0  508.0  13.0\n",
              "7       5.80  7.88        2.30              7.0        19.0  520.0   8.0\n",
              "8       5.90  8.05        1.30              6.0        12.0  532.0  10.0\n",
              "9       5.93  7.73        1.68              5.4        22.6  497.0  10.2"
            ],
            "text/html": [
              "\n",
              "  <div id=\"df-ac20cb8e-f91b-47f7-ac26-fb3839b13ed2\" class=\"colab-df-container\">\n",
              "    <div>\n",
              "<style scoped>\n",
              "    .dataframe tbody tr th:only-of-type {\n",
              "        vertical-align: middle;\n",
              "    }\n",
              "\n",
              "    .dataframe tbody tr th {\n",
              "        vertical-align: top;\n",
              "    }\n",
              "\n",
              "    .dataframe thead th {\n",
              "        text-align: right;\n",
              "    }\n",
              "</style>\n",
              "<table border=\"1\" class=\"dataframe\">\n",
              "  <thead>\n",
              "    <tr style=\"text-align: right;\">\n",
              "      <th></th>\n",
              "      <th>DO (mg/L)</th>\n",
              "      <th>pH</th>\n",
              "      <th>BOD (mg/L)</th>\n",
              "      <th>Turbidity (NTU)</th>\n",
              "      <th>COD (mg/L)</th>\n",
              "      <th>EC</th>\n",
              "      <th>TSS</th>\n",
              "    </tr>\n",
              "  </thead>\n",
              "  <tbody>\n",
              "    <tr>\n",
              "      <th>0</th>\n",
              "      <td>5.50</td>\n",
              "      <td>7.96</td>\n",
              "      <td>3.00</td>\n",
              "      <td>21.0</td>\n",
              "      <td>32.0</td>\n",
              "      <td>504.0</td>\n",
              "      <td>12.0</td>\n",
              "    </tr>\n",
              "    <tr>\n",
              "      <th>1</th>\n",
              "      <td>5.80</td>\n",
              "      <td>7.52</td>\n",
              "      <td>3.02</td>\n",
              "      <td>9.0</td>\n",
              "      <td>20.0</td>\n",
              "      <td>411.0</td>\n",
              "      <td>19.0</td>\n",
              "    </tr>\n",
              "    <tr>\n",
              "      <th>2</th>\n",
              "      <td>5.50</td>\n",
              "      <td>7.96</td>\n",
              "      <td>3.00</td>\n",
              "      <td>21.0</td>\n",
              "      <td>32.0</td>\n",
              "      <td>386.0</td>\n",
              "      <td>20.0</td>\n",
              "    </tr>\n",
              "    <tr>\n",
              "      <th>3</th>\n",
              "      <td>5.30</td>\n",
              "      <td>8.30</td>\n",
              "      <td>4.00</td>\n",
              "      <td>9.0</td>\n",
              "      <td>30.0</td>\n",
              "      <td>409.0</td>\n",
              "      <td>10.0</td>\n",
              "    </tr>\n",
              "    <tr>\n",
              "      <th>4</th>\n",
              "      <td>5.20</td>\n",
              "      <td>8.12</td>\n",
              "      <td>3.00</td>\n",
              "      <td>5.0</td>\n",
              "      <td>32.0</td>\n",
              "      <td>510.0</td>\n",
              "      <td>7.0</td>\n",
              "    </tr>\n",
              "    <tr>\n",
              "      <th>5</th>\n",
              "      <td>5.40</td>\n",
              "      <td>7.98</td>\n",
              "      <td>2.90</td>\n",
              "      <td>6.0</td>\n",
              "      <td>13.0</td>\n",
              "      <td>554.0</td>\n",
              "      <td>6.0</td>\n",
              "    </tr>\n",
              "    <tr>\n",
              "      <th>6</th>\n",
              "      <td>5.50</td>\n",
              "      <td>8.08</td>\n",
              "      <td>2.30</td>\n",
              "      <td>10.0</td>\n",
              "      <td>18.0</td>\n",
              "      <td>508.0</td>\n",
              "      <td>13.0</td>\n",
              "    </tr>\n",
              "    <tr>\n",
              "      <th>7</th>\n",
              "      <td>5.80</td>\n",
              "      <td>7.88</td>\n",
              "      <td>2.30</td>\n",
              "      <td>7.0</td>\n",
              "      <td>19.0</td>\n",
              "      <td>520.0</td>\n",
              "      <td>8.0</td>\n",
              "    </tr>\n",
              "    <tr>\n",
              "      <th>8</th>\n",
              "      <td>5.90</td>\n",
              "      <td>8.05</td>\n",
              "      <td>1.30</td>\n",
              "      <td>6.0</td>\n",
              "      <td>12.0</td>\n",
              "      <td>532.0</td>\n",
              "      <td>10.0</td>\n",
              "    </tr>\n",
              "    <tr>\n",
              "      <th>9</th>\n",
              "      <td>5.93</td>\n",
              "      <td>7.73</td>\n",
              "      <td>1.68</td>\n",
              "      <td>5.4</td>\n",
              "      <td>22.6</td>\n",
              "      <td>497.0</td>\n",
              "      <td>10.2</td>\n",
              "    </tr>\n",
              "  </tbody>\n",
              "</table>\n",
              "</div>\n",
              "    <div class=\"colab-df-buttons\">\n",
              "\n",
              "  <div class=\"colab-df-container\">\n",
              "    <button class=\"colab-df-convert\" onclick=\"convertToInteractive('df-ac20cb8e-f91b-47f7-ac26-fb3839b13ed2')\"\n",
              "            title=\"Convert this dataframe to an interactive table.\"\n",
              "            style=\"display:none;\">\n",
              "\n",
              "  <svg xmlns=\"http://www.w3.org/2000/svg\" height=\"24px\" viewBox=\"0 -960 960 960\">\n",
              "    <path d=\"M120-120v-720h720v720H120Zm60-500h600v-160H180v160Zm220 220h160v-160H400v160Zm0 220h160v-160H400v160ZM180-400h160v-160H180v160Zm440 0h160v-160H620v160ZM180-180h160v-160H180v160Zm440 0h160v-160H620v160Z\"/>\n",
              "  </svg>\n",
              "    </button>\n",
              "\n",
              "  <style>\n",
              "    .colab-df-container {\n",
              "      display:flex;\n",
              "      gap: 12px;\n",
              "    }\n",
              "\n",
              "    .colab-df-convert {\n",
              "      background-color: #E8F0FE;\n",
              "      border: none;\n",
              "      border-radius: 50%;\n",
              "      cursor: pointer;\n",
              "      display: none;\n",
              "      fill: #1967D2;\n",
              "      height: 32px;\n",
              "      padding: 0 0 0 0;\n",
              "      width: 32px;\n",
              "    }\n",
              "\n",
              "    .colab-df-convert:hover {\n",
              "      background-color: #E2EBFA;\n",
              "      box-shadow: 0px 1px 2px rgba(60, 64, 67, 0.3), 0px 1px 3px 1px rgba(60, 64, 67, 0.15);\n",
              "      fill: #174EA6;\n",
              "    }\n",
              "\n",
              "    .colab-df-buttons div {\n",
              "      margin-bottom: 4px;\n",
              "    }\n",
              "\n",
              "    [theme=dark] .colab-df-convert {\n",
              "      background-color: #3B4455;\n",
              "      fill: #D2E3FC;\n",
              "    }\n",
              "\n",
              "    [theme=dark] .colab-df-convert:hover {\n",
              "      background-color: #434B5C;\n",
              "      box-shadow: 0px 1px 3px 1px rgba(0, 0, 0, 0.15);\n",
              "      filter: drop-shadow(0px 1px 2px rgba(0, 0, 0, 0.3));\n",
              "      fill: #FFFFFF;\n",
              "    }\n",
              "  </style>\n",
              "\n",
              "    <script>\n",
              "      const buttonEl =\n",
              "        document.querySelector('#df-ac20cb8e-f91b-47f7-ac26-fb3839b13ed2 button.colab-df-convert');\n",
              "      buttonEl.style.display =\n",
              "        google.colab.kernel.accessAllowed ? 'block' : 'none';\n",
              "\n",
              "      async function convertToInteractive(key) {\n",
              "        const element = document.querySelector('#df-ac20cb8e-f91b-47f7-ac26-fb3839b13ed2');\n",
              "        const dataTable =\n",
              "          await google.colab.kernel.invokeFunction('convertToInteractive',\n",
              "                                                    [key], {});\n",
              "        if (!dataTable) return;\n",
              "\n",
              "        const docLinkHtml = 'Like what you see? Visit the ' +\n",
              "          '<a target=\"_blank\" href=https://colab.research.google.com/notebooks/data_table.ipynb>data table notebook</a>'\n",
              "          + ' to learn more about interactive tables.';\n",
              "        element.innerHTML = '';\n",
              "        dataTable['output_type'] = 'display_data';\n",
              "        await google.colab.output.renderOutput(dataTable, element);\n",
              "        const docLink = document.createElement('div');\n",
              "        docLink.innerHTML = docLinkHtml;\n",
              "        element.appendChild(docLink);\n",
              "      }\n",
              "    </script>\n",
              "  </div>\n",
              "\n",
              "\n",
              "<div id=\"df-2b7208cf-0a54-4025-bdba-d09ce68511aa\">\n",
              "  <button class=\"colab-df-quickchart\" onclick=\"quickchart('df-2b7208cf-0a54-4025-bdba-d09ce68511aa')\"\n",
              "            title=\"Suggest charts\"\n",
              "            style=\"display:none;\">\n",
              "\n",
              "<svg xmlns=\"http://www.w3.org/2000/svg\" height=\"24px\"viewBox=\"0 0 24 24\"\n",
              "     width=\"24px\">\n",
              "    <g>\n",
              "        <path d=\"M19 3H5c-1.1 0-2 .9-2 2v14c0 1.1.9 2 2 2h14c1.1 0 2-.9 2-2V5c0-1.1-.9-2-2-2zM9 17H7v-7h2v7zm4 0h-2V7h2v10zm4 0h-2v-4h2v4z\"/>\n",
              "    </g>\n",
              "</svg>\n",
              "  </button>\n",
              "\n",
              "<style>\n",
              "  .colab-df-quickchart {\n",
              "      --bg-color: #E8F0FE;\n",
              "      --fill-color: #1967D2;\n",
              "      --hover-bg-color: #E2EBFA;\n",
              "      --hover-fill-color: #174EA6;\n",
              "      --disabled-fill-color: #AAA;\n",
              "      --disabled-bg-color: #DDD;\n",
              "  }\n",
              "\n",
              "  [theme=dark] .colab-df-quickchart {\n",
              "      --bg-color: #3B4455;\n",
              "      --fill-color: #D2E3FC;\n",
              "      --hover-bg-color: #434B5C;\n",
              "      --hover-fill-color: #FFFFFF;\n",
              "      --disabled-bg-color: #3B4455;\n",
              "      --disabled-fill-color: #666;\n",
              "  }\n",
              "\n",
              "  .colab-df-quickchart {\n",
              "    background-color: var(--bg-color);\n",
              "    border: none;\n",
              "    border-radius: 50%;\n",
              "    cursor: pointer;\n",
              "    display: none;\n",
              "    fill: var(--fill-color);\n",
              "    height: 32px;\n",
              "    padding: 0;\n",
              "    width: 32px;\n",
              "  }\n",
              "\n",
              "  .colab-df-quickchart:hover {\n",
              "    background-color: var(--hover-bg-color);\n",
              "    box-shadow: 0 1px 2px rgba(60, 64, 67, 0.3), 0 1px 3px 1px rgba(60, 64, 67, 0.15);\n",
              "    fill: var(--button-hover-fill-color);\n",
              "  }\n",
              "\n",
              "  .colab-df-quickchart-complete:disabled,\n",
              "  .colab-df-quickchart-complete:disabled:hover {\n",
              "    background-color: var(--disabled-bg-color);\n",
              "    fill: var(--disabled-fill-color);\n",
              "    box-shadow: none;\n",
              "  }\n",
              "\n",
              "  .colab-df-spinner {\n",
              "    border: 2px solid var(--fill-color);\n",
              "    border-color: transparent;\n",
              "    border-bottom-color: var(--fill-color);\n",
              "    animation:\n",
              "      spin 1s steps(1) infinite;\n",
              "  }\n",
              "\n",
              "  @keyframes spin {\n",
              "    0% {\n",
              "      border-color: transparent;\n",
              "      border-bottom-color: var(--fill-color);\n",
              "      border-left-color: var(--fill-color);\n",
              "    }\n",
              "    20% {\n",
              "      border-color: transparent;\n",
              "      border-left-color: var(--fill-color);\n",
              "      border-top-color: var(--fill-color);\n",
              "    }\n",
              "    30% {\n",
              "      border-color: transparent;\n",
              "      border-left-color: var(--fill-color);\n",
              "      border-top-color: var(--fill-color);\n",
              "      border-right-color: var(--fill-color);\n",
              "    }\n",
              "    40% {\n",
              "      border-color: transparent;\n",
              "      border-right-color: var(--fill-color);\n",
              "      border-top-color: var(--fill-color);\n",
              "    }\n",
              "    60% {\n",
              "      border-color: transparent;\n",
              "      border-right-color: var(--fill-color);\n",
              "    }\n",
              "    80% {\n",
              "      border-color: transparent;\n",
              "      border-right-color: var(--fill-color);\n",
              "      border-bottom-color: var(--fill-color);\n",
              "    }\n",
              "    90% {\n",
              "      border-color: transparent;\n",
              "      border-bottom-color: var(--fill-color);\n",
              "    }\n",
              "  }\n",
              "</style>\n",
              "\n",
              "  <script>\n",
              "    async function quickchart(key) {\n",
              "      const quickchartButtonEl =\n",
              "        document.querySelector('#' + key + ' button');\n",
              "      quickchartButtonEl.disabled = true;  // To prevent multiple clicks.\n",
              "      quickchartButtonEl.classList.add('colab-df-spinner');\n",
              "      try {\n",
              "        const charts = await google.colab.kernel.invokeFunction(\n",
              "            'suggestCharts', [key], {});\n",
              "      } catch (error) {\n",
              "        console.error('Error during call to suggestCharts:', error);\n",
              "      }\n",
              "      quickchartButtonEl.classList.remove('colab-df-spinner');\n",
              "      quickchartButtonEl.classList.add('colab-df-quickchart-complete');\n",
              "    }\n",
              "    (() => {\n",
              "      let quickchartButtonEl =\n",
              "        document.querySelector('#df-2b7208cf-0a54-4025-bdba-d09ce68511aa button');\n",
              "      quickchartButtonEl.style.display =\n",
              "        google.colab.kernel.accessAllowed ? 'block' : 'none';\n",
              "    })();\n",
              "  </script>\n",
              "</div>\n",
              "    </div>\n",
              "  </div>\n"
            ],
            "application/vnd.google.colaboratory.intrinsic+json": {
              "type": "dataframe",
              "variable_name": "df_for_training",
              "summary": "{\n  \"name\": \"df_for_training\",\n  \"rows\": 10,\n  \"fields\": [\n    {\n      \"column\": \"DO (mg/L)\",\n      \"properties\": {\n        \"dtype\": \"number\",\n        \"std\": 0.25733894639819543,\n        \"min\": 5.2,\n        \"max\": 5.93,\n        \"num_unique_values\": 7,\n        \"samples\": [\n          5.5,\n          5.8,\n          5.9\n        ],\n        \"semantic_type\": \"\",\n        \"description\": \"\"\n      }\n    },\n    {\n      \"column\": \"pH\",\n      \"properties\": {\n        \"dtype\": \"number\",\n        \"std\": 0.2152414664717023,\n        \"min\": 7.52,\n        \"max\": 8.3,\n        \"num_unique_values\": 9,\n        \"samples\": [\n          8.05,\n          7.52,\n          8.08\n        ],\n        \"semantic_type\": \"\",\n        \"description\": \"\"\n      }\n    },\n    {\n      \"column\": \"BOD (mg/L)\",\n      \"properties\": {\n        \"dtype\": \"number\",\n        \"std\": 0.7744388649567864,\n        \"min\": 1.3,\n        \"max\": 4.0,\n        \"num_unique_values\": 7,\n        \"samples\": [\n          3.0,\n          3.02,\n          1.3\n        ],\n        \"semantic_type\": \"\",\n        \"description\": \"\"\n      }\n    },\n    {\n      \"column\": \"Turbidity (NTU)\",\n      \"properties\": {\n        \"dtype\": \"number\",\n        \"std\": 6.0656043025864745,\n        \"min\": 5.0,\n        \"max\": 21.0,\n        \"num_unique_values\": 7,\n        \"samples\": [\n          21.0,\n          9.0,\n          7.0\n        ],\n        \"semantic_type\": \"\",\n        \"description\": \"\"\n      }\n    },\n    {\n      \"column\": \"COD (mg/L)\",\n      \"properties\": {\n        \"dtype\": \"number\",\n        \"std\": 7.9100779600035125,\n        \"min\": 12.0,\n        \"max\": 32.0,\n        \"num_unique_values\": 8,\n        \"samples\": [\n          20.0,\n          19.0,\n          32.0\n        ],\n        \"semantic_type\": \"\",\n        \"description\": \"\"\n      }\n    },\n    {\n      \"column\": \"EC\",\n      \"properties\": {\n        \"dtype\": \"number\",\n        \"std\": 58.56705558588378,\n        \"min\": 386.0,\n        \"max\": 554.0,\n        \"num_unique_values\": 10,\n        \"samples\": [\n          532.0,\n          411.0,\n          554.0\n        ],\n        \"semantic_type\": \"\",\n        \"description\": \"\"\n      }\n    },\n    {\n      \"column\": \"TSS\",\n      \"properties\": {\n        \"dtype\": \"number\",\n        \"std\": 4.713290900327617,\n        \"min\": 6.0,\n        \"max\": 20.0,\n        \"num_unique_values\": 9,\n        \"samples\": [\n          8.0,\n          19.0,\n          6.0\n        ],\n        \"semantic_type\": \"\",\n        \"description\": \"\"\n      }\n    }\n  ]\n}"
            }
          },
          "metadata": {},
          "execution_count": 6
        }
      ]
    },
    {
      "cell_type": "code",
      "source": [
        "n_future = 1\n",
        "n_past = 3"
      ],
      "metadata": {
        "id": "EY1rIh68HNYl"
      },
      "execution_count": null,
      "outputs": []
    },
    {
      "cell_type": "code",
      "source": [
        "trainX = []\n",
        "trainYP = []\n",
        "trainYN = []\n",
        "trainYS = []\n",
        "trainYA = []\n",
        "trainYB = []\n",
        "trainYC = []\n",
        "trainYD = []"
      ],
      "metadata": {
        "id": "8bXT7Y8cHaEB"
      },
      "execution_count": null,
      "outputs": []
    },
    {
      "cell_type": "code",
      "source": [
        "for i in range(n_past, len(df_for_training_scaled) - n_future +1):\n",
        "  trainX.append(df_for_training_scaled[i - n_past:i, 0:df_for_training.shape[1]])\n",
        "  trainYP.append(df_for_training_scaled[i + n_future - 1:i + n_future, 0])\n",
        "  trainYN.append(df_for_training_scaled[i + n_future - 1:i + n_future, 1])\n",
        "  trainYS.append(df_for_training_scaled[i + n_future - 1:i + n_future, 2])\n",
        "  trainYA.append(df_for_training_scaled[i + n_future - 1:i + n_future, 3])\n",
        "  trainYB.append(df_for_training_scaled[i + n_future - 1:i + n_future, 4])\n",
        "  trainYC.append(df_for_training_scaled[i + n_future - 1:i + n_future, 5])\n",
        "  trainYD.append(df_for_training_scaled[i + n_future - 1:i + n_future, 6])\n"
      ],
      "metadata": {
        "id": "fFfRokTaHmHB"
      },
      "execution_count": null,
      "outputs": []
    },
    {
      "cell_type": "code",
      "source": [],
      "metadata": {
        "id": "E0dhLicONY-A"
      },
      "execution_count": null,
      "outputs": []
    },
    {
      "cell_type": "code",
      "source": [
        "print( trainX)\n",
        "print(trainYP)"
      ],
      "metadata": {
        "colab": {
          "base_uri": "https://localhost:8080/"
        },
        "id": "gt_zNQMEH6Jc",
        "outputId": "1402bdcc-af56-4002-d6c8-967b71dbdc10"
      },
      "execution_count": null,
      "outputs": [
        {
          "output_type": "stream",
          "name": "stdout",
          "text": [
            "[array([[-0.33997839,  0.00979451,  0.47638672,  1.92202838,  1.19133939,\n",
            "         0.37615916,  0.10734844],\n",
            "       [ 0.88885918, -2.14499811,  0.50360882, -0.16335503, -0.40777388,\n",
            "        -1.29765911,  1.67284652],\n",
            "       [-0.33997839,  0.00979451,  0.47638672,  1.92202838,  1.19133939,\n",
            "        -1.74761025,  1.89648911]]), array([[ 0.88885918, -2.14499811,  0.50360882, -0.16335503, -0.40777388,\n",
            "        -1.29765911,  1.67284652],\n",
            "       [-0.33997839,  0.00979451,  0.47638672,  1.92202838,  1.19133939,\n",
            "        -1.74761025,  1.89648911],\n",
            "       [-1.15920344,  1.67486154,  1.83749165, -0.16335503,  0.92482051,\n",
            "        -1.3336552 , -0.33993673]]), array([[-0.33997839,  0.00979451,  0.47638672,  1.92202838,  1.19133939,\n",
            "        -1.74761025,  1.89648911],\n",
            "       [-1.15920344,  1.67486154,  1.83749165, -0.16335503,  0.92482051,\n",
            "        -1.3336552 , -0.33993673],\n",
            "       [-1.56881597,  0.79335546,  0.47638672, -0.85848284,  1.19133939,\n",
            "         0.48414743, -1.01086448]]), array([[-1.15920344,  1.67486154,  1.83749165, -0.16335503,  0.92482051,\n",
            "        -1.3336552 , -0.33993673],\n",
            "       [-1.56881597,  0.79335546,  0.47638672, -0.85848284,  1.19133939,\n",
            "         0.48414743, -1.01086448],\n",
            "       [-0.74959092,  0.10773963,  0.34027623, -0.68470089, -1.34058996,\n",
            "         1.27606145, -1.23450706]]), array([[-1.56881597,  0.79335546,  0.47638672, -0.85848284,  1.19133939,\n",
            "         0.48414743, -1.01086448],\n",
            "       [-0.74959092,  0.10773963,  0.34027623, -0.68470089, -1.34058996,\n",
            "         1.27606145, -1.23450706],\n",
            "       [-0.33997839,  0.59746523, -0.47638672,  0.01042692, -0.67429276,\n",
            "         0.44815134,  0.33099102]]), array([[-0.74959092,  0.10773963,  0.34027623, -0.68470089, -1.34058996,\n",
            "         1.27606145, -1.23450706],\n",
            "       [-0.33997839,  0.59746523, -0.47638672,  0.01042692, -0.67429276,\n",
            "         0.44815134,  0.33099102],\n",
            "       [ 0.88885918, -0.38198596, -0.47638672, -0.51091894, -0.54103332,\n",
            "         0.66412789, -0.78722189]]), array([[-0.33997839,  0.59746523, -0.47638672,  0.01042692, -0.67429276,\n",
            "         0.44815134,  0.33099102],\n",
            "       [ 0.88885918, -0.38198596, -0.47638672, -0.51091894, -0.54103332,\n",
            "         0.66412789, -0.78722189],\n",
            "       [ 1.2984717 ,  0.45054755, -1.83749165, -0.68470089, -1.4738494 ,\n",
            "         0.88010444, -0.33993673]])]\n",
            "[array([-1.15920344]), array([-1.56881597]), array([-0.74959092]), array([-0.33997839]), array([0.88885918]), array([1.2984717]), array([1.42135546])]\n"
          ]
        }
      ]
    },
    {
      "cell_type": "code",
      "source": [
        "trainX, trainYP, trainYN, trainYS,trainYA,trainYB,trainYC,trainYD= np.array(trainX), np.array(trainYP), np.array(trainYN), np.array(trainYS),np.array(trainYA),np.array(trainYB),np.array(trainYC),np.array(trainYD)\n",
        "print('trainX shape == {}.'.format(trainX.shape))\n",
        "print('trainYP shape == {}.'.format(trainYP.shape))\n",
        "print('trainYN shape == {}.'.format(trainYN.shape))\n",
        "print('trainYS shape == {}.'.format(trainYS.shape))\n",
        "print('trainYA shape == {}.'.format(trainYA.shape))\n",
        "print('trainYB shape == {}.'.format(trainYB.shape))\n",
        "print('trainYC shape == {}.'.format(trainYC.shape))\n",
        "print('trainYD shape == {}.'.format(trainYD.shape))"
      ],
      "metadata": {
        "colab": {
          "base_uri": "https://localhost:8080/"
        },
        "id": "AvXlpmvpNaGA",
        "outputId": "ac158987-7fbd-4197-93fe-94ef229398a7"
      },
      "execution_count": null,
      "outputs": [
        {
          "output_type": "stream",
          "name": "stdout",
          "text": [
            "trainX shape == (7, 3, 7).\n",
            "trainYP shape == (7, 1).\n",
            "trainYN shape == (7, 1).\n",
            "trainYS shape == (7, 1).\n",
            "trainYA shape == (7, 1).\n",
            "trainYB shape == (7, 1).\n",
            "trainYC shape == (7, 1).\n",
            "trainYD shape == (7, 1).\n"
          ]
        }
      ]
    },
    {
      "cell_type": "code",
      "source": [
        "list1=[]"
      ],
      "metadata": {
        "id": "oovBNf2EtsUU"
      },
      "execution_count": null,
      "outputs": []
    },
    {
      "cell_type": "code",
      "source": [
        "modelP = Sequential()\n",
        "modelP.add(LSTM(64, activation='relu', input_shape=(trainX.shape[1], trainX.shape[2]), return_sequences=True))\n",
        "modelP.add(LSTM(32, activation='relu', return_sequences=False))\n",
        "modelP.add(Dropout(0.2))\n",
        "modelP.add(Dense(trainYP.shape[1]))"
      ],
      "metadata": {
        "id": "8ftLaxqHN903"
      },
      "execution_count": null,
      "outputs": []
    },
    {
      "cell_type": "code",
      "source": [
        "modelP.compile(optimizer='adam', loss='mse')\n",
        "modelP.summary()"
      ],
      "metadata": {
        "colab": {
          "base_uri": "https://localhost:8080/"
        },
        "id": "iniwhqBYOHLS",
        "outputId": "b0d67940-da31-4b34-a8ac-2c7ef6abf74a"
      },
      "execution_count": null,
      "outputs": [
        {
          "output_type": "stream",
          "name": "stdout",
          "text": [
            "Model: \"sequential\"\n",
            "_________________________________________________________________\n",
            " Layer (type)                Output Shape              Param #   \n",
            "=================================================================\n",
            " lstm (LSTM)                 (None, 3, 64)             18432     \n",
            "                                                                 \n",
            " lstm_1 (LSTM)               (None, 32)                12416     \n",
            "                                                                 \n",
            " dropout (Dropout)           (None, 32)                0         \n",
            "                                                                 \n",
            " dense (Dense)               (None, 1)                 33        \n",
            "                                                                 \n",
            "=================================================================\n",
            "Total params: 30881 (120.63 KB)\n",
            "Trainable params: 30881 (120.63 KB)\n",
            "Non-trainable params: 0 (0.00 Byte)\n",
            "_________________________________________________________________\n"
          ]
        }
      ]
    },
    {
      "cell_type": "code",
      "source": [
        "\n",
        "history = modelP.fit(trainX, trainYP, epochs=50, batch_size=4, validation_split=0.1, verbose=1)"
      ],
      "metadata": {
        "colab": {
          "base_uri": "https://localhost:8080/"
        },
        "id": "Fkl-wxkJOJhR",
        "outputId": "45348e9b-9950-4604-9644-5a915ef1b42f"
      },
      "execution_count": null,
      "outputs": [
        {
          "output_type": "stream",
          "name": "stdout",
          "text": [
            "Epoch 1/50\n",
            "2/2 [==============================] - 6s 607ms/step - loss: 1.2012 - val_loss: 1.9379\n",
            "Epoch 2/50\n",
            "2/2 [==============================] - 0s 48ms/step - loss: 1.1799 - val_loss: 1.9356\n",
            "Epoch 3/50\n",
            "2/2 [==============================] - 0s 41ms/step - loss: 1.1387 - val_loss: 1.9227\n",
            "Epoch 4/50\n",
            "2/2 [==============================] - 0s 42ms/step - loss: 1.1338 - val_loss: 1.9118\n",
            "Epoch 5/50\n",
            "2/2 [==============================] - 0s 41ms/step - loss: 1.1051 - val_loss: 1.9003\n",
            "Epoch 6/50\n",
            "2/2 [==============================] - 0s 43ms/step - loss: 1.0894 - val_loss: 1.8889\n",
            "Epoch 7/50\n",
            "2/2 [==============================] - 0s 42ms/step - loss: 1.0642 - val_loss: 1.8769\n",
            "Epoch 8/50\n",
            "2/2 [==============================] - 0s 44ms/step - loss: 1.0786 - val_loss: 1.8615\n",
            "Epoch 9/50\n",
            "2/2 [==============================] - 0s 45ms/step - loss: 1.0435 - val_loss: 1.8429\n",
            "Epoch 10/50\n",
            "2/2 [==============================] - 0s 66ms/step - loss: 1.0301 - val_loss: 1.8181\n",
            "Epoch 11/50\n",
            "2/2 [==============================] - 0s 45ms/step - loss: 1.0087 - val_loss: 1.7944\n",
            "Epoch 12/50\n",
            "2/2 [==============================] - 0s 43ms/step - loss: 0.9859 - val_loss: 1.7716\n",
            "Epoch 13/50\n",
            "2/2 [==============================] - 0s 62ms/step - loss: 0.9465 - val_loss: 1.7432\n",
            "Epoch 14/50\n",
            "2/2 [==============================] - 0s 48ms/step - loss: 0.9365 - val_loss: 1.7086\n",
            "Epoch 15/50\n",
            "2/2 [==============================] - 0s 44ms/step - loss: 0.8764 - val_loss: 1.6691\n",
            "Epoch 16/50\n",
            "2/2 [==============================] - 0s 43ms/step - loss: 0.8662 - val_loss: 1.6278\n",
            "Epoch 17/50\n",
            "2/2 [==============================] - 0s 42ms/step - loss: 0.8674 - val_loss: 1.5812\n",
            "Epoch 18/50\n",
            "2/2 [==============================] - 0s 44ms/step - loss: 0.7684 - val_loss: 1.5324\n",
            "Epoch 19/50\n",
            "2/2 [==============================] - 0s 41ms/step - loss: 0.7753 - val_loss: 1.4812\n",
            "Epoch 20/50\n",
            "2/2 [==============================] - 0s 48ms/step - loss: 0.7611 - val_loss: 1.4225\n",
            "Epoch 21/50\n",
            "2/2 [==============================] - 0s 65ms/step - loss: 0.5655 - val_loss: 1.3572\n",
            "Epoch 22/50\n",
            "2/2 [==============================] - 0s 61ms/step - loss: 0.5739 - val_loss: 1.2825\n",
            "Epoch 23/50\n",
            "2/2 [==============================] - 0s 60ms/step - loss: 0.5437 - val_loss: 1.2070\n",
            "Epoch 24/50\n",
            "2/2 [==============================] - 0s 45ms/step - loss: 0.3871 - val_loss: 1.1219\n",
            "Epoch 25/50\n",
            "2/2 [==============================] - 0s 57ms/step - loss: 0.3621 - val_loss: 1.0313\n",
            "Epoch 26/50\n",
            "2/2 [==============================] - 0s 41ms/step - loss: 0.2455 - val_loss: 0.9351\n",
            "Epoch 27/50\n",
            "2/2 [==============================] - 0s 43ms/step - loss: 0.1446 - val_loss: 0.8383\n",
            "Epoch 28/50\n",
            "2/2 [==============================] - 0s 46ms/step - loss: 0.0512 - val_loss: 0.7272\n",
            "Epoch 29/50\n",
            "2/2 [==============================] - 0s 50ms/step - loss: 0.1861 - val_loss: 0.6026\n",
            "Epoch 30/50\n",
            "2/2 [==============================] - 0s 60ms/step - loss: 0.2185 - val_loss: 0.4820\n",
            "Epoch 31/50\n",
            "2/2 [==============================] - 0s 43ms/step - loss: 0.1819 - val_loss: 0.3596\n",
            "Epoch 32/50\n",
            "2/2 [==============================] - 0s 40ms/step - loss: 0.1221 - val_loss: 0.2497\n",
            "Epoch 33/50\n",
            "2/2 [==============================] - 0s 45ms/step - loss: 0.1812 - val_loss: 0.1546\n",
            "Epoch 34/50\n",
            "2/2 [==============================] - 0s 43ms/step - loss: 0.1412 - val_loss: 0.1216\n",
            "Epoch 35/50\n",
            "2/2 [==============================] - 0s 58ms/step - loss: 0.1061 - val_loss: 0.1210\n",
            "Epoch 36/50\n",
            "2/2 [==============================] - 0s 46ms/step - loss: 0.1936 - val_loss: 0.1442\n",
            "Epoch 37/50\n",
            "2/2 [==============================] - 0s 43ms/step - loss: 0.1374 - val_loss: 0.1967\n",
            "Epoch 38/50\n",
            "2/2 [==============================] - 0s 45ms/step - loss: 0.0737 - val_loss: 0.2630\n",
            "Epoch 39/50\n",
            "2/2 [==============================] - 0s 45ms/step - loss: 0.0581 - val_loss: 0.3242\n",
            "Epoch 40/50\n",
            "2/2 [==============================] - 0s 44ms/step - loss: 0.0839 - val_loss: 0.3715\n",
            "Epoch 41/50\n",
            "2/2 [==============================] - 0s 58ms/step - loss: 0.0644 - val_loss: 0.4045\n",
            "Epoch 42/50\n",
            "2/2 [==============================] - 0s 42ms/step - loss: 0.1041 - val_loss: 0.4247\n",
            "Epoch 43/50\n",
            "2/2 [==============================] - 0s 45ms/step - loss: 0.0766 - val_loss: 0.4241\n",
            "Epoch 44/50\n",
            "2/2 [==============================] - 0s 43ms/step - loss: 0.0099 - val_loss: 0.4079\n",
            "Epoch 45/50\n",
            "2/2 [==============================] - 0s 43ms/step - loss: 0.0375 - val_loss: 0.3894\n",
            "Epoch 46/50\n",
            "2/2 [==============================] - 0s 52ms/step - loss: 0.0407 - val_loss: 0.3626\n",
            "Epoch 47/50\n",
            "2/2 [==============================] - 0s 43ms/step - loss: 0.0509 - val_loss: 0.3308\n",
            "Epoch 48/50\n",
            "2/2 [==============================] - 0s 52ms/step - loss: 0.0555 - val_loss: 0.2856\n",
            "Epoch 49/50\n",
            "2/2 [==============================] - 0s 44ms/step - loss: 0.0390 - val_loss: 0.2618\n",
            "Epoch 50/50\n",
            "2/2 [==============================] - 0s 63ms/step - loss: 0.0191 - val_loss: 0.2561\n"
          ]
        }
      ]
    },
    {
      "cell_type": "code",
      "source": [
        "historyP = history"
      ],
      "metadata": {
        "id": "BbZcHsIyOd9D"
      },
      "execution_count": null,
      "outputs": []
    },
    {
      "cell_type": "code",
      "source": [
        "plt.plot(historyP.history['loss'], label='Training loss')\n",
        "plt.plot(historyP.history['val_loss'], label='Validation loss')\n",
        "plt.legend()"
      ],
      "metadata": {
        "colab": {
          "base_uri": "https://localhost:8080/",
          "height": 447
        },
        "id": "RkidKBV7Of6h",
        "outputId": "fade08d3-c807-442b-d289-003c2b0771e3"
      },
      "execution_count": null,
      "outputs": [
        {
          "output_type": "execute_result",
          "data": {
            "text/plain": [
              "<matplotlib.legend.Legend at 0x79911f207370>"
            ]
          },
          "metadata": {},
          "execution_count": 17
        },
        {
          "output_type": "display_data",
          "data": {
            "text/plain": [
              "<Figure size 640x480 with 1 Axes>"
            ],
            "image/png": "[encoded data removed]"
          },
          "metadata": {}
        }
      ]
    },
    {
      "cell_type": "code",
      "source": [
        "predictionP = modelP.predict(trainX)"
      ],
      "metadata": {
        "colab": {
          "base_uri": "https://localhost:8080/"
        },
        "id": "JhArTUJWOjn_",
        "outputId": "44147256-2e7c-4211-ab0f-97f4ad8d4738"
      },
      "execution_count": null,
      "outputs": [
        {
          "output_type": "stream",
          "name": "stdout",
          "text": [
            "1/1 [==============================] - 0s 399ms/step\n"
          ]
        }
      ]
    },
    {
      "cell_type": "code",
      "source": [
        "prediction_copiesP = np.repeat(predictionP, df_for_training.shape[1], axis=-1)\n",
        "y_pred_futureP = scaler.inverse_transform(prediction_copiesP)[:,0]"
      ],
      "metadata": {
        "id": "HQrnUDY4Pvuf"
      },
      "execution_count": null,
      "outputs": []
    },
    {
      "cell_type": "code",
      "source": [
        "print(y_pred_futureP)"
      ],
      "metadata": {
        "colab": {
          "base_uri": "https://localhost:8080/"
        },
        "id": "TTt-ZpSvP0c8",
        "outputId": "defb1e2a-8224-4824-8b0a-99920b1c7ade"
      },
      "execution_count": null,
      "outputs": [
        {
          "output_type": "stream",
          "name": "stdout",
          "text": [
            "[5.3268433 5.234008  5.369948  5.544073  5.7722917 5.894298  5.806445 ]\n"
          ]
        }
      ]
    },
    {
      "cell_type": "code",
      "source": [
        "print(y_pred_futureP[-1])\n",
        "i=y_pred_futureP[-1]\n",
        "do=((i)*100/9)*0.3723\n",
        "do"
      ],
      "metadata": {
        "colab": {
          "base_uri": "https://localhost:8080/"
        },
        "id": "3cEjwtDYWRXc",
        "outputId": "36444cdc-29a6-40a2-ada2-c7b1cfb2ed06"
      },
      "execution_count": null,
      "outputs": [
        {
          "output_type": "stream",
          "name": "stdout",
          "text": [
            "5.806445\n"
          ]
        },
        {
          "output_type": "execute_result",
          "data": {
            "text/plain": [
              "24.01932798703512"
            ]
          },
          "metadata": {},
          "execution_count": 21
        }
      ]
    },
    {
      "cell_type": "code",
      "source": [
        "modelN = Sequential()\n",
        "modelN.add(LSTM(64, activation='relu', input_shape=(trainX.shape[1], trainX.shape[2]), return_sequences=True))\n",
        "modelN.add(LSTM(32, activation='relu', return_sequences=False))\n",
        "modelN.add(Dropout(0.2))\n",
        "modelN.add(Dense(trainYN.shape[1]))"
      ],
      "metadata": {
        "id": "g0LSbRJkXStu"
      },
      "execution_count": null,
      "outputs": []
    },
    {
      "cell_type": "code",
      "source": [
        "modelN.compile(optimizer='adam', loss='mse')\n",
        "modelN.summary()"
      ],
      "metadata": {
        "colab": {
          "base_uri": "https://localhost:8080/"
        },
        "id": "kfybrmkcYLMz",
        "outputId": "ccd597be-cf03-4317-f31a-cee08fa94344"
      },
      "execution_count": null,
      "outputs": [
        {
          "output_type": "stream",
          "name": "stdout",
          "text": [
            "Model: \"sequential_1\"\n",
            "_________________________________________________________________\n",
            " Layer (type)                Output Shape              Param #   \n",
            "=================================================================\n",
            " lstm_2 (LSTM)               (None, 3, 64)             18432     \n",
            "                                                                 \n",
            " lstm_3 (LSTM)               (None, 32)                12416     \n",
            "                                                                 \n",
            " dropout_1 (Dropout)         (None, 32)                0         \n",
            "                                                                 \n",
            " dense_1 (Dense)             (None, 1)                 33        \n",
            "                                                                 \n",
            "=================================================================\n",
            "Total params: 30881 (120.63 KB)\n",
            "Trainable params: 30881 (120.63 KB)\n",
            "Non-trainable params: 0 (0.00 Byte)\n",
            "_________________________________________________________________\n"
          ]
        }
      ]
    },
    {
      "cell_type": "code",
      "source": [
        "historyN = modelN.fit(trainX, trainYN, epochs=50, batch_size=4, validation_split=0.1, verbose=1)"
      ],
      "metadata": {
        "colab": {
          "base_uri": "https://localhost:8080/"
        },
        "id": "h42wOHgwYWGn",
        "outputId": "20d7826c-a7a4-4af8-e264-d15156f9ae0a"
      },
      "execution_count": null,
      "outputs": [
        {
          "output_type": "stream",
          "name": "stdout",
          "text": [
            "Epoch 1/50\n",
            "2/2 [==============================] - 4s 482ms/step - loss: 0.7569 - val_loss: 1.1775\n",
            "Epoch 2/50\n",
            "2/2 [==============================] - 0s 46ms/step - loss: 0.6930 - val_loss: 1.2097\n",
            "Epoch 3/50\n",
            "2/2 [==============================] - 0s 82ms/step - loss: 0.6791 - val_loss: 1.2406\n",
            "Epoch 4/50\n",
            "2/2 [==============================] - 0s 77ms/step - loss: 0.6892 - val_loss: 1.2672\n",
            "Epoch 5/50\n",
            "2/2 [==============================] - 0s 77ms/step - loss: 0.6401 - val_loss: 1.2884\n",
            "Epoch 6/50\n",
            "2/2 [==============================] - 0s 84ms/step - loss: 0.6664 - val_loss: 1.3069\n",
            "Epoch 7/50\n",
            "2/2 [==============================] - 0s 81ms/step - loss: 0.6323 - val_loss: 1.3271\n",
            "Epoch 8/50\n",
            "2/2 [==============================] - 0s 65ms/step - loss: 0.5870 - val_loss: 1.3453\n",
            "Epoch 9/50\n",
            "2/2 [==============================] - 0s 56ms/step - loss: 0.6218 - val_loss: 1.3648\n",
            "Epoch 10/50\n",
            "2/2 [==============================] - 0s 81ms/step - loss: 0.6080 - val_loss: 1.3823\n",
            "Epoch 11/50\n",
            "2/2 [==============================] - 0s 55ms/step - loss: 0.5574 - val_loss: 1.4003\n",
            "Epoch 12/50\n",
            "2/2 [==============================] - 0s 56ms/step - loss: 0.5889 - val_loss: 1.4162\n",
            "Epoch 13/50\n",
            "2/2 [==============================] - 0s 72ms/step - loss: 0.5444 - val_loss: 1.4312\n",
            "Epoch 14/50\n",
            "2/2 [==============================] - 0s 58ms/step - loss: 0.5177 - val_loss: 1.4453\n",
            "Epoch 15/50\n",
            "2/2 [==============================] - 0s 63ms/step - loss: 0.5262 - val_loss: 1.4623\n",
            "Epoch 16/50\n",
            "2/2 [==============================] - 0s 56ms/step - loss: 0.4476 - val_loss: 1.4784\n",
            "Epoch 17/50\n",
            "2/2 [==============================] - 0s 57ms/step - loss: 0.4338 - val_loss: 1.4932\n",
            "Epoch 18/50\n",
            "2/2 [==============================] - 0s 65ms/step - loss: 0.4322 - val_loss: 1.5057\n",
            "Epoch 19/50\n",
            "2/2 [==============================] - 0s 100ms/step - loss: 0.3749 - val_loss: 1.5206\n",
            "Epoch 20/50\n",
            "2/2 [==============================] - 0s 92ms/step - loss: 0.3293 - val_loss: 1.5390\n",
            "Epoch 21/50\n",
            "2/2 [==============================] - 0s 72ms/step - loss: 0.3466 - val_loss: 1.5614\n",
            "Epoch 22/50\n",
            "2/2 [==============================] - 0s 71ms/step - loss: 0.3238 - val_loss: 1.5862\n",
            "Epoch 23/50\n",
            "2/2 [==============================] - 0s 60ms/step - loss: 0.3182 - val_loss: 1.6095\n",
            "Epoch 24/50\n",
            "2/2 [==============================] - 0s 82ms/step - loss: 0.2137 - val_loss: 1.6329\n",
            "Epoch 25/50\n",
            "2/2 [==============================] - 0s 73ms/step - loss: 0.2369 - val_loss: 1.6525\n",
            "Epoch 26/50\n",
            "2/2 [==============================] - 0s 74ms/step - loss: 0.1787 - val_loss: 1.6665\n",
            "Epoch 27/50\n",
            "2/2 [==============================] - 0s 68ms/step - loss: 0.2786 - val_loss: 1.6786\n",
            "Epoch 28/50\n",
            "2/2 [==============================] - 0s 77ms/step - loss: 0.2133 - val_loss: 1.6881\n",
            "Epoch 29/50\n",
            "2/2 [==============================] - 0s 75ms/step - loss: 0.1998 - val_loss: 1.6910\n",
            "Epoch 30/50\n",
            "2/2 [==============================] - 0s 103ms/step - loss: 0.1283 - val_loss: 1.6965\n",
            "Epoch 31/50\n",
            "2/2 [==============================] - 0s 65ms/step - loss: 0.1790 - val_loss: 1.7048\n",
            "Epoch 32/50\n",
            "2/2 [==============================] - 0s 58ms/step - loss: 0.2038 - val_loss: 1.7110\n",
            "Epoch 33/50\n",
            "2/2 [==============================] - 0s 60ms/step - loss: 0.1961 - val_loss: 1.7174\n",
            "Epoch 34/50\n",
            "2/2 [==============================] - 0s 61ms/step - loss: 0.2274 - val_loss: 1.7239\n",
            "Epoch 35/50\n",
            "2/2 [==============================] - 0s 69ms/step - loss: 0.1570 - val_loss: 1.7318\n",
            "Epoch 36/50\n",
            "2/2 [==============================] - 0s 79ms/step - loss: 0.2536 - val_loss: 1.7419\n",
            "Epoch 37/50\n",
            "2/2 [==============================] - 0s 81ms/step - loss: 0.2923 - val_loss: 1.7521\n",
            "Epoch 38/50\n",
            "2/2 [==============================] - 0s 81ms/step - loss: 0.0879 - val_loss: 1.7615\n",
            "Epoch 39/50\n",
            "2/2 [==============================] - 0s 82ms/step - loss: 0.2308 - val_loss: 1.7735\n",
            "Epoch 40/50\n",
            "2/2 [==============================] - 0s 81ms/step - loss: 0.0959 - val_loss: 1.7831\n",
            "Epoch 41/50\n",
            "2/2 [==============================] - 0s 84ms/step - loss: 0.0811 - val_loss: 1.7889\n",
            "Epoch 42/50\n",
            "2/2 [==============================] - 0s 89ms/step - loss: 0.1004 - val_loss: 1.7963\n",
            "Epoch 43/50\n",
            "2/2 [==============================] - 0s 74ms/step - loss: 0.1187 - val_loss: 1.8115\n",
            "Epoch 44/50\n",
            "2/2 [==============================] - 0s 56ms/step - loss: 0.1037 - val_loss: 1.8332\n",
            "Epoch 45/50\n",
            "2/2 [==============================] - 0s 81ms/step - loss: 0.0977 - val_loss: 1.8561\n",
            "Epoch 46/50\n",
            "2/2 [==============================] - 0s 79ms/step - loss: 0.0845 - val_loss: 1.8782\n",
            "Epoch 47/50\n",
            "2/2 [==============================] - 0s 85ms/step - loss: 0.0855 - val_loss: 1.9010\n",
            "Epoch 48/50\n",
            "2/2 [==============================] - 0s 85ms/step - loss: 0.1024 - val_loss: 1.9238\n",
            "Epoch 49/50\n",
            "2/2 [==============================] - 0s 88ms/step - loss: 0.1064 - val_loss: 1.9421\n",
            "Epoch 50/50\n",
            "2/2 [==============================] - 0s 87ms/step - loss: 0.1230 - val_loss: 1.9557\n"
          ]
        }
      ]
    },
    {
      "cell_type": "code",
      "source": [
        "plt.plot(historyN.history['loss'], label='Training loss')\n",
        "plt.plot(historyN.history['val_loss'], label='Validation loss')\n",
        "plt.legend()"
      ],
      "metadata": {
        "colab": {
          "base_uri": "https://localhost:8080/",
          "height": 447
        },
        "id": "XVQ9CPiCYh_Z",
        "outputId": "c4d06582-3184-4180-83d2-50573bcbc541"
      },
      "execution_count": null,
      "outputs": [
        {
          "output_type": "execute_result",
          "data": {
            "text/plain": [
              "<matplotlib.legend.Legend at 0x7991232e5e10>"
            ]
          },
          "metadata": {},
          "execution_count": 25
        },
        {
          "output_type": "display_data",
          "data": {
            "text/plain": [
              "<Figure size 640x480 with 1 Axes>"
            ],
            "image/png": "[encoded data removed]"
          },
          "metadata": {}
        }
      ]
    },
    {
      "cell_type": "code",
      "source": [
        "predictionN = modelN.predict(trainX)"
      ],
      "metadata": {
        "colab": {
          "base_uri": "https://localhost:8080/"
        },
        "id": "7dSknr60Ykga",
        "outputId": "04f9e4cd-a2f6-4484-e46c-fa23012706e3"
      },
      "execution_count": null,
      "outputs": [
        {
          "output_type": "stream",
          "name": "stdout",
          "text": [
            "1/1 [==============================] - 0s 397ms/step\n"
          ]
        }
      ]
    },
    {
      "cell_type": "code",
      "source": [
        "prediction_copiesN = np.repeat(predictionN, df_for_training.shape[1], axis=-1)\n",
        "y_pred_futureN = scaler.inverse_transform(prediction_copiesN)[:,1]"
      ],
      "metadata": {
        "id": "RlUU7jFaYo9e"
      },
      "execution_count": null,
      "outputs": []
    },
    {
      "cell_type": "code",
      "source": [
        "print(y_pred_futureN)"
      ],
      "metadata": {
        "colab": {
          "base_uri": "https://localhost:8080/"
        },
        "id": "jBiMhlByYuLR",
        "outputId": "3d6fc6ec-ca0d-467f-9057-6d6c4a3212d5"
      },
      "execution_count": null,
      "outputs": [
        {
          "output_type": "stream",
          "name": "stdout",
          "text": [
            "[8.284528 8.130082 8.035899 8.000622 7.965203 8.011112 8.015563]\n"
          ]
        }
      ]
    },
    {
      "cell_type": "code",
      "source": [
        "print(y_pred_futureN[-1])\n",
        "i=y_pred_futureN[-1]\n",
        "ph=((i-7)*100/1.5)*0.1176"
      ],
      "metadata": {
        "colab": {
          "base_uri": "https://localhost:8080/"
        },
        "id": "RWKDuLgbYzFd",
        "outputId": "a23b3edc-9555-48d8-a925-a98c363a4725"
      },
      "execution_count": null,
      "outputs": [
        {
          "output_type": "stream",
          "name": "stdout",
          "text": [
            "8.015563\n"
          ]
        }
      ]
    },
    {
      "cell_type": "code",
      "source": [
        "modelS = Sequential()\n",
        "modelS.add(LSTM(64, activation='relu', input_shape=(trainX.shape[1], trainX.shape[2]), return_sequences=True))\n",
        "modelS.add(LSTM(32, activation='relu', return_sequences=False))\n",
        "modelS.add(Dropout(0.2))\n",
        "modelS.add(Dense(trainYS.shape[1]))"
      ],
      "metadata": {
        "id": "kBfqZWLzZR0L"
      },
      "execution_count": null,
      "outputs": []
    },
    {
      "cell_type": "code",
      "source": [
        "modelS.compile(optimizer='adam', loss='mse')\n",
        "modelS.summary()"
      ],
      "metadata": {
        "colab": {
          "base_uri": "https://localhost:8080/"
        },
        "id": "NY3Pb2OmZc5d",
        "outputId": "ed047e60-df3f-4efa-8143-94a0a90b379e"
      },
      "execution_count": null,
      "outputs": [
        {
          "output_type": "stream",
          "name": "stdout",
          "text": [
            "Model: \"sequential_2\"\n",
            "_________________________________________________________________\n",
            " Layer (type)                Output Shape              Param #   \n",
            "=================================================================\n",
            " lstm_4 (LSTM)               (None, 3, 64)             18432     \n",
            "                                                                 \n",
            " lstm_5 (LSTM)               (None, 32)                12416     \n",
            "                                                                 \n",
            " dropout_2 (Dropout)         (None, 32)                0         \n",
            "                                                                 \n",
            " dense_2 (Dense)             (None, 1)                 33        \n",
            "                                                                 \n",
            "=================================================================\n",
            "Total params: 30881 (120.63 KB)\n",
            "Trainable params: 30881 (120.63 KB)\n",
            "Non-trainable params: 0 (0.00 Byte)\n",
            "_________________________________________________________________\n"
          ]
        }
      ]
    },
    {
      "cell_type": "code",
      "source": [
        "modelS.compile(optimizer='adam', loss='mse')\n",
        "modelS.summary()"
      ],
      "metadata": {
        "colab": {
          "base_uri": "https://localhost:8080/"
        },
        "id": "8gg6CnijZexC",
        "outputId": "5fe8b631-a1e3-4b3c-c7e4-a5864bb80caf"
      },
      "execution_count": null,
      "outputs": [
        {
          "output_type": "stream",
          "name": "stdout",
          "text": [
            "Model: \"sequential_2\"\n",
            "_________________________________________________________________\n",
            " Layer (type)                Output Shape              Param #   \n",
            "=================================================================\n",
            " lstm_4 (LSTM)               (None, 3, 64)             18432     \n",
            "                                                                 \n",
            " lstm_5 (LSTM)               (None, 32)                12416     \n",
            "                                                                 \n",
            " dropout_2 (Dropout)         (None, 32)                0         \n",
            "                                                                 \n",
            " dense_2 (Dense)             (None, 1)                 33        \n",
            "                                                                 \n",
            "=================================================================\n",
            "Total params: 30881 (120.63 KB)\n",
            "Trainable params: 30881 (120.63 KB)\n",
            "Non-trainable params: 0 (0.00 Byte)\n",
            "_________________________________________________________________\n"
          ]
        }
      ]
    },
    {
      "cell_type": "code",
      "source": [
        "historyS = modelS.fit(trainX, trainYS, epochs=50, batch_size=4, validation_split=0.1, verbose=1)"
      ],
      "metadata": {
        "colab": {
          "base_uri": "https://localhost:8080/"
        },
        "id": "jh70reWHZkBe",
        "outputId": "2c3c3736-a8d8-4b67-efd8-0a0632360a85"
      },
      "execution_count": null,
      "outputs": [
        {
          "output_type": "stream",
          "name": "stdout",
          "text": [
            "Epoch 1/50\n",
            "2/2 [==============================] - 4s 465ms/step - loss: 1.2413 - val_loss: 1.7947\n",
            "Epoch 2/50\n",
            "2/2 [==============================] - 0s 53ms/step - loss: 1.2117 - val_loss: 1.7735\n",
            "Epoch 3/50\n",
            "2/2 [==============================] - 0s 48ms/step - loss: 1.1961 - val_loss: 1.7469\n",
            "Epoch 4/50\n",
            "2/2 [==============================] - 0s 46ms/step - loss: 1.1563 - val_loss: 1.7247\n",
            "Epoch 5/50\n",
            "2/2 [==============================] - 0s 64ms/step - loss: 1.1298 - val_loss: 1.7059\n",
            "Epoch 6/50\n",
            "2/2 [==============================] - 0s 40ms/step - loss: 1.1140 - val_loss: 1.6871\n",
            "Epoch 7/50\n",
            "2/2 [==============================] - 0s 43ms/step - loss: 1.0789 - val_loss: 1.6672\n",
            "Epoch 8/50\n",
            "2/2 [==============================] - 0s 44ms/step - loss: 1.0486 - val_loss: 1.6485\n",
            "Epoch 9/50\n",
            "2/2 [==============================] - 0s 48ms/step - loss: 1.0200 - val_loss: 1.6267\n",
            "Epoch 10/50\n",
            "2/2 [==============================] - 0s 46ms/step - loss: 0.9911 - val_loss: 1.6040\n",
            "Epoch 11/50\n",
            "2/2 [==============================] - 0s 45ms/step - loss: 0.9952 - val_loss: 1.5772\n",
            "Epoch 12/50\n",
            "2/2 [==============================] - 0s 43ms/step - loss: 0.9686 - val_loss: 1.5514\n",
            "Epoch 13/50\n",
            "2/2 [==============================] - 0s 45ms/step - loss: 0.9428 - val_loss: 1.5254\n",
            "Epoch 14/50\n",
            "2/2 [==============================] - 0s 42ms/step - loss: 0.8483 - val_loss: 1.4974\n",
            "Epoch 15/50\n",
            "2/2 [==============================] - 0s 67ms/step - loss: 0.8652 - val_loss: 1.4695\n",
            "Epoch 16/50\n",
            "2/2 [==============================] - 0s 48ms/step - loss: 0.7257 - val_loss: 1.4385\n",
            "Epoch 17/50\n",
            "2/2 [==============================] - 0s 49ms/step - loss: 0.7337 - val_loss: 1.4064\n",
            "Epoch 18/50\n",
            "2/2 [==============================] - 0s 62ms/step - loss: 0.6905 - val_loss: 1.3716\n",
            "Epoch 19/50\n",
            "2/2 [==============================] - 0s 48ms/step - loss: 0.6204 - val_loss: 1.3333\n",
            "Epoch 20/50\n",
            "2/2 [==============================] - 0s 47ms/step - loss: 0.5781 - val_loss: 1.2919\n",
            "Epoch 21/50\n",
            "2/2 [==============================] - 0s 49ms/step - loss: 0.5519 - val_loss: 1.2335\n",
            "Epoch 22/50\n",
            "2/2 [==============================] - 0s 49ms/step - loss: 0.5007 - val_loss: 1.1724\n",
            "Epoch 23/50\n",
            "2/2 [==============================] - 0s 44ms/step - loss: 0.5195 - val_loss: 1.1096\n",
            "Epoch 24/50\n",
            "2/2 [==============================] - 0s 42ms/step - loss: 0.4367 - val_loss: 1.0448\n",
            "Epoch 25/50\n",
            "2/2 [==============================] - 0s 46ms/step - loss: 0.3719 - val_loss: 0.9706\n",
            "Epoch 26/50\n",
            "2/2 [==============================] - 0s 43ms/step - loss: 0.5340 - val_loss: 0.9114\n",
            "Epoch 27/50\n",
            "2/2 [==============================] - 0s 51ms/step - loss: 0.3037 - val_loss: 0.8398\n",
            "Epoch 28/50\n",
            "2/2 [==============================] - 0s 46ms/step - loss: 0.4118 - val_loss: 0.7739\n",
            "Epoch 29/50\n",
            "2/2 [==============================] - 0s 63ms/step - loss: 0.3890 - val_loss: 0.7187\n",
            "Epoch 30/50\n",
            "2/2 [==============================] - 0s 52ms/step - loss: 0.2189 - val_loss: 0.6780\n",
            "Epoch 31/50\n",
            "2/2 [==============================] - 0s 46ms/step - loss: 0.3052 - val_loss: 0.6465\n",
            "Epoch 32/50\n",
            "2/2 [==============================] - 0s 60ms/step - loss: 0.2712 - val_loss: 0.6150\n",
            "Epoch 33/50\n",
            "2/2 [==============================] - 0s 58ms/step - loss: 0.3338 - val_loss: 0.5916\n",
            "Epoch 34/50\n",
            "2/2 [==============================] - 0s 65ms/step - loss: 0.2484 - val_loss: 0.5575\n",
            "Epoch 35/50\n",
            "2/2 [==============================] - 0s 46ms/step - loss: 0.2655 - val_loss: 0.5079\n",
            "Epoch 36/50\n",
            "2/2 [==============================] - 0s 45ms/step - loss: 0.1899 - val_loss: 0.4629\n",
            "Epoch 37/50\n",
            "2/2 [==============================] - 0s 49ms/step - loss: 0.1982 - val_loss: 0.4031\n",
            "Epoch 38/50\n",
            "2/2 [==============================] - 0s 50ms/step - loss: 0.1064 - val_loss: 0.3501\n",
            "Epoch 39/50\n",
            "2/2 [==============================] - 0s 47ms/step - loss: 0.4069 - val_loss: 0.3000\n",
            "Epoch 40/50\n",
            "2/2 [==============================] - 0s 46ms/step - loss: 0.1657 - val_loss: 0.2550\n",
            "Epoch 41/50\n",
            "2/2 [==============================] - 0s 49ms/step - loss: 0.2762 - val_loss: 0.2153\n",
            "Epoch 42/50\n",
            "2/2 [==============================] - 0s 45ms/step - loss: 0.1194 - val_loss: 0.1625\n",
            "Epoch 43/50\n",
            "2/2 [==============================] - 0s 42ms/step - loss: 0.1053 - val_loss: 0.1325\n",
            "Epoch 44/50\n",
            "2/2 [==============================] - 0s 60ms/step - loss: 0.1536 - val_loss: 0.1084\n",
            "Epoch 45/50\n",
            "2/2 [==============================] - 0s 44ms/step - loss: 0.2310 - val_loss: 0.0871\n",
            "Epoch 46/50\n",
            "2/2 [==============================] - 0s 48ms/step - loss: 0.0563 - val_loss: 0.0749\n",
            "Epoch 47/50\n",
            "2/2 [==============================] - 0s 46ms/step - loss: 0.0827 - val_loss: 0.0664\n",
            "Epoch 48/50\n",
            "2/2 [==============================] - 0s 58ms/step - loss: 0.1206 - val_loss: 0.0634\n",
            "Epoch 49/50\n",
            "2/2 [==============================] - 0s 46ms/step - loss: 0.1159 - val_loss: 0.0711\n",
            "Epoch 50/50\n",
            "2/2 [==============================] - 0s 43ms/step - loss: 0.0689 - val_loss: 0.0792\n"
          ]
        }
      ]
    },
    {
      "cell_type": "code",
      "source": [
        "plt.plot(historyS.history['loss'], label='Training loss')\n",
        "plt.plot(historyS.history['val_loss'], label='Validation loss')\n",
        "plt.legend()"
      ],
      "metadata": {
        "colab": {
          "base_uri": "https://localhost:8080/",
          "height": 447
        },
        "id": "Y1v1MF7kZzR2",
        "outputId": "69b107c0-ba9c-46c9-b732-e53a707ca01d"
      },
      "execution_count": null,
      "outputs": [
        {
          "output_type": "execute_result",
          "data": {
            "text/plain": [
              "<matplotlib.legend.Legend at 0x799120b46b00>"
            ]
          },
          "metadata": {},
          "execution_count": 34
        },
        {
          "output_type": "display_data",
          "data": {
            "text/plain": [
              "<Figure size 640x480 with 1 Axes>"
            ],
            "image/png": "[encoded data removed]"
          },
          "metadata": {}
        }
      ]
    },
    {
      "cell_type": "code",
      "source": [
        "predictionS = modelS.predict(trainX)"
      ],
      "metadata": {
        "colab": {
          "base_uri": "https://localhost:8080/"
        },
        "id": "UmhHBi8yZ3_Q",
        "outputId": "3135186a-66d1-446e-c4eb-7ea7738650fd"
      },
      "execution_count": null,
      "outputs": [
        {
          "output_type": "stream",
          "name": "stdout",
          "text": [
            "1/1 [==============================] - 1s 544ms/step\n"
          ]
        }
      ]
    },
    {
      "cell_type": "code",
      "source": [
        "prediction_copiesS = np.repeat(predictionS, df_for_training.shape[1], axis=-1)\n",
        "y_pred_futureS = scaler.inverse_transform(prediction_copiesS)[:,2]"
      ],
      "metadata": {
        "id": "WR0ur2wBZ82T"
      },
      "execution_count": null,
      "outputs": []
    },
    {
      "cell_type": "code",
      "source": [
        "print(y_pred_futureS)"
      ],
      "metadata": {
        "colab": {
          "base_uri": "https://localhost:8080/"
        },
        "id": "cQ9HMNWmaHaz",
        "outputId": "e22fc6e1-a007-4c9e-a99a-e71889adf5d6"
      },
      "execution_count": null,
      "outputs": [
        {
          "output_type": "stream",
          "name": "stdout",
          "text": [
            "[3.9409728 3.2679193 2.8837347 2.3894858 2.0359535 1.5068313 1.8867342]\n"
          ]
        }
      ]
    },
    {
      "cell_type": "code",
      "source": [
        "i=y_pred_futureS[-1]\n",
        "bod=(i*100/25)*0.3723\n",
        "print(i)"
      ],
      "metadata": {
        "colab": {
          "base_uri": "https://localhost:8080/"
        },
        "id": "O1jzvQtzaPWz",
        "outputId": "981be386-2a84-43de-e946-e73ba2352070"
      },
      "execution_count": null,
      "outputs": [
        {
          "output_type": "stream",
          "name": "stdout",
          "text": [
            "1.8867342\n"
          ]
        }
      ]
    },
    {
      "cell_type": "code",
      "source": [
        "modelS = Sequential()\n",
        "modelS.add(LSTM(64, activation='relu', input_shape=(trainX.shape[1], trainX.shape[2]), return_sequences=True))\n",
        "modelS.add(LSTM(32, activation='relu', return_sequences=False))\n",
        "modelS.add(Dropout(0.2))\n",
        "modelS.add(Dense(trainYA.shape[1]))"
      ],
      "metadata": {
        "id": "Z5MC2KCgagQf"
      },
      "execution_count": null,
      "outputs": []
    },
    {
      "cell_type": "code",
      "source": [
        "modelS.compile(optimizer='adam', loss='mse')\n",
        "modelS.summary()"
      ],
      "metadata": {
        "colab": {
          "base_uri": "https://localhost:8080/"
        },
        "id": "VFW5xkeIaxnZ",
        "outputId": "673f40ab-5fc0-42eb-ab27-0a042add821b"
      },
      "execution_count": null,
      "outputs": [
        {
          "output_type": "stream",
          "name": "stdout",
          "text": [
            "Model: \"sequential_3\"\n",
            "_________________________________________________________________\n",
            " Layer (type)                Output Shape              Param #   \n",
            "=================================================================\n",
            " lstm_6 (LSTM)               (None, 3, 64)             18432     \n",
            "                                                                 \n",
            " lstm_7 (LSTM)               (None, 32)                12416     \n",
            "                                                                 \n",
            " dropout_3 (Dropout)         (None, 32)                0         \n",
            "                                                                 \n",
            " dense_3 (Dense)             (None, 1)                 33        \n",
            "                                                                 \n",
            "=================================================================\n",
            "Total params: 30881 (120.63 KB)\n",
            "Trainable params: 30881 (120.63 KB)\n",
            "Non-trainable params: 0 (0.00 Byte)\n",
            "_________________________________________________________________\n"
          ]
        }
      ]
    },
    {
      "cell_type": "code",
      "source": [
        "historyS = modelS.fit(trainX, trainYS, epochs=50, batch_size=4, validation_split=0.1, verbose=1)"
      ],
      "metadata": {
        "colab": {
          "base_uri": "https://localhost:8080/"
        },
        "id": "px8fESK9a1pL",
        "outputId": "72bc8b78-893f-473a-eafb-8bf9beffc7ea"
      },
      "execution_count": null,
      "outputs": [
        {
          "output_type": "stream",
          "name": "stdout",
          "text": [
            "Epoch 1/50\n",
            "2/2 [==============================] - 5s 466ms/step - loss: 1.2180 - val_loss: 1.7418\n",
            "Epoch 2/50\n",
            "2/2 [==============================] - 0s 45ms/step - loss: 1.2213 - val_loss: 1.7301\n",
            "Epoch 3/50\n",
            "2/2 [==============================] - 0s 61ms/step - loss: 1.1881 - val_loss: 1.7192\n",
            "Epoch 4/50\n",
            "2/2 [==============================] - 0s 47ms/step - loss: 1.1728 - val_loss: 1.7081\n",
            "Epoch 5/50\n",
            "2/2 [==============================] - 0s 43ms/step - loss: 1.1469 - val_loss: 1.6956\n",
            "Epoch 6/50\n",
            "2/2 [==============================] - 0s 44ms/step - loss: 1.1537 - val_loss: 1.6812\n",
            "Epoch 7/50\n",
            "2/2 [==============================] - 0s 62ms/step - loss: 1.0947 - val_loss: 1.6681\n",
            "Epoch 8/50\n",
            "2/2 [==============================] - 0s 62ms/step - loss: 1.0794 - val_loss: 1.6526\n",
            "Epoch 9/50\n",
            "2/2 [==============================] - 0s 59ms/step - loss: 1.0523 - val_loss: 1.6364\n",
            "Epoch 10/50\n",
            "2/2 [==============================] - 0s 45ms/step - loss: 1.0334 - val_loss: 1.6193\n",
            "Epoch 11/50\n",
            "2/2 [==============================] - 0s 53ms/step - loss: 1.0249 - val_loss: 1.5998\n",
            "Epoch 12/50\n",
            "2/2 [==============================] - 0s 43ms/step - loss: 0.9966 - val_loss: 1.5819\n",
            "Epoch 13/50\n",
            "2/2 [==============================] - 0s 43ms/step - loss: 0.9475 - val_loss: 1.5632\n",
            "Epoch 14/50\n",
            "2/2 [==============================] - 0s 43ms/step - loss: 0.9566 - val_loss: 1.5429\n",
            "Epoch 15/50\n",
            "2/2 [==============================] - 0s 62ms/step - loss: 0.8343 - val_loss: 1.5180\n",
            "Epoch 16/50\n",
            "2/2 [==============================] - 0s 42ms/step - loss: 0.8142 - val_loss: 1.4886\n",
            "Epoch 17/50\n",
            "2/2 [==============================] - 0s 42ms/step - loss: 0.8073 - val_loss: 1.4584\n",
            "Epoch 18/50\n",
            "2/2 [==============================] - 0s 42ms/step - loss: 0.7063 - val_loss: 1.4216\n",
            "Epoch 19/50\n",
            "2/2 [==============================] - 0s 46ms/step - loss: 0.7613 - val_loss: 1.3846\n",
            "Epoch 20/50\n",
            "2/2 [==============================] - 0s 65ms/step - loss: 0.6932 - val_loss: 1.3458\n",
            "Epoch 21/50\n",
            "2/2 [==============================] - 0s 44ms/step - loss: 0.6958 - val_loss: 1.3053\n",
            "Epoch 22/50\n",
            "2/2 [==============================] - 0s 47ms/step - loss: 0.4989 - val_loss: 1.2622\n",
            "Epoch 23/50\n",
            "2/2 [==============================] - 0s 42ms/step - loss: 0.6340 - val_loss: 1.2203\n",
            "Epoch 24/50\n",
            "2/2 [==============================] - 0s 43ms/step - loss: 0.5056 - val_loss: 1.1708\n",
            "Epoch 25/50\n",
            "2/2 [==============================] - 0s 54ms/step - loss: 0.5059 - val_loss: 1.1132\n",
            "Epoch 26/50\n",
            "2/2 [==============================] - 0s 41ms/step - loss: 0.4561 - val_loss: 1.0549\n",
            "Epoch 27/50\n",
            "2/2 [==============================] - 0s 43ms/step - loss: 0.3524 - val_loss: 0.9914\n",
            "Epoch 28/50\n",
            "2/2 [==============================] - 0s 44ms/step - loss: 0.5816 - val_loss: 0.9208\n",
            "Epoch 29/50\n",
            "2/2 [==============================] - 0s 46ms/step - loss: 0.2805 - val_loss: 0.8587\n",
            "Epoch 30/50\n",
            "2/2 [==============================] - 0s 50ms/step - loss: 0.2965 - val_loss: 0.7978\n",
            "Epoch 31/50\n",
            "2/2 [==============================] - 0s 51ms/step - loss: 0.2746 - val_loss: 0.7283\n",
            "Epoch 32/50\n",
            "2/2 [==============================] - 0s 42ms/step - loss: 0.1748 - val_loss: 0.6559\n",
            "Epoch 33/50\n",
            "2/2 [==============================] - 0s 61ms/step - loss: 0.3847 - val_loss: 0.5938\n",
            "Epoch 34/50\n",
            "2/2 [==============================] - 0s 43ms/step - loss: 0.4178 - val_loss: 0.5700\n",
            "Epoch 35/50\n",
            "2/2 [==============================] - 0s 61ms/step - loss: 0.3214 - val_loss: 0.5650\n",
            "Epoch 36/50\n",
            "2/2 [==============================] - 0s 43ms/step - loss: 0.3192 - val_loss: 0.5726\n",
            "Epoch 37/50\n",
            "2/2 [==============================] - 0s 50ms/step - loss: 0.2241 - val_loss: 0.5663\n",
            "Epoch 38/50\n",
            "2/2 [==============================] - 0s 45ms/step - loss: 0.2166 - val_loss: 0.5634\n",
            "Epoch 39/50\n",
            "2/2 [==============================] - 0s 49ms/step - loss: 0.3401 - val_loss: 0.5592\n",
            "Epoch 40/50\n",
            "2/2 [==============================] - 0s 47ms/step - loss: 0.1361 - val_loss: 0.5656\n",
            "Epoch 41/50\n",
            "2/2 [==============================] - 0s 51ms/step - loss: 0.1941 - val_loss: 0.5521\n",
            "Epoch 42/50\n",
            "2/2 [==============================] - 0s 43ms/step - loss: 0.1807 - val_loss: 0.5196\n",
            "Epoch 43/50\n",
            "2/2 [==============================] - 0s 59ms/step - loss: 0.2288 - val_loss: 0.4816\n",
            "Epoch 44/50\n",
            "2/2 [==============================] - 0s 44ms/step - loss: 0.1455 - val_loss: 0.4466\n",
            "Epoch 45/50\n",
            "2/2 [==============================] - 0s 53ms/step - loss: 0.1234 - val_loss: 0.4150\n",
            "Epoch 46/50\n",
            "2/2 [==============================] - 0s 43ms/step - loss: 0.1059 - val_loss: 0.3871\n",
            "Epoch 47/50\n",
            "2/2 [==============================] - 0s 59ms/step - loss: 0.0991 - val_loss: 0.3539\n",
            "Epoch 48/50\n",
            "2/2 [==============================] - 0s 43ms/step - loss: 0.1354 - val_loss: 0.3228\n",
            "Epoch 49/50\n",
            "2/2 [==============================] - 0s 44ms/step - loss: 0.3711 - val_loss: 0.2901\n",
            "Epoch 50/50\n",
            "2/2 [==============================] - 0s 42ms/step - loss: 0.0571 - val_loss: 0.2565\n"
          ]
        }
      ]
    },
    {
      "cell_type": "code",
      "source": [
        "plt.plot(historyS.history['loss'], label='Training loss')\n",
        "plt.plot(historyS.history['val_loss'], label='Validation loss')\n",
        "plt.legend()"
      ],
      "metadata": {
        "colab": {
          "base_uri": "https://localhost:8080/",
          "height": 447
        },
        "id": "K79oSFnibAhV",
        "outputId": "503a6952-76c0-49c0-c95d-d834d126c2c9"
      },
      "execution_count": null,
      "outputs": [
        {
          "output_type": "execute_result",
          "data": {
            "text/plain": [
              "<matplotlib.legend.Legend at 0x79911d729ae0>"
            ]
          },
          "metadata": {},
          "execution_count": 42
        },
        {
          "output_type": "display_data",
          "data": {
            "text/plain": [
              "<Figure size 640x480 with 1 Axes>"
            ],
            "image/png": "[encoded data removed]"
          },
          "metadata": {}
        }
      ]
    },
    {
      "cell_type": "code",
      "source": [
        "predictionS = modelS.predict(trainX)"
      ],
      "metadata": {
        "colab": {
          "base_uri": "https://localhost:8080/"
        },
        "id": "HsJYC_9jbIn8",
        "outputId": "d639e303-503b-499e-91ca-9788f6796a20"
      },
      "execution_count": null,
      "outputs": [
        {
          "output_type": "stream",
          "name": "stdout",
          "text": [
            "1/1 [==============================] - 0s 335ms/step\n"
          ]
        }
      ]
    },
    {
      "cell_type": "code",
      "source": [
        "prediction_copiesS = np.repeat(predictionS, df_for_training.shape[1], axis=-1)\n",
        "y_pred_futureS = scaler.inverse_transform(prediction_copiesS)[:,2]"
      ],
      "metadata": {
        "id": "sHi-BKCabLUq"
      },
      "execution_count": null,
      "outputs": []
    },
    {
      "cell_type": "code",
      "source": [
        "print(y_pred_futureS)"
      ],
      "metadata": {
        "colab": {
          "base_uri": "https://localhost:8080/"
        },
        "id": "2je0SzCQbSdB",
        "outputId": "41200917-1ae8-4de0-a7ed-3dc59202311a"
      },
      "execution_count": null,
      "outputs": [
        {
          "output_type": "stream",
          "name": "stdout",
          "text": [
            "[3.8100479 3.159399  2.8296483 2.326789  1.9540123 1.451599  2.052101 ]\n"
          ]
        }
      ]
    },
    {
      "cell_type": "code",
      "source": [
        "i=y_pred_futureS[-1]\n",
        "tur=(i*100/5)*0.1\n",
        "print(tur)"
      ],
      "metadata": {
        "colab": {
          "base_uri": "https://localhost:8080/"
        },
        "id": "bbkc656hbXOu",
        "outputId": "20ad6271-3e6e-483a-c0ca-d9826a334d81"
      },
      "execution_count": null,
      "outputs": [
        {
          "output_type": "stream",
          "name": "stdout",
          "text": [
            "4.104201793670654\n"
          ]
        }
      ]
    },
    {
      "cell_type": "code",
      "source": [
        "modelS = Sequential()\n",
        "modelS.add(LSTM(64, activation='relu', input_shape=(trainX.shape[1], trainX.shape[2]), return_sequences=True))\n",
        "modelS.add(LSTM(32, activation='relu', return_sequences=False))\n",
        "modelS.add(Dropout(0.2))\n",
        "modelS.add(Dense(trainYB.shape[1]))"
      ],
      "metadata": {
        "id": "RW8XajyYbgOI"
      },
      "execution_count": null,
      "outputs": []
    },
    {
      "cell_type": "code",
      "source": [
        "modelS.compile(optimizer='adam', loss='mse')\n",
        "modelS.summary()"
      ],
      "metadata": {
        "colab": {
          "base_uri": "https://localhost:8080/"
        },
        "id": "Y_ab4isrbtT-",
        "outputId": "b052eea4-f29c-409e-8e36-bd643f7431ba"
      },
      "execution_count": null,
      "outputs": [
        {
          "output_type": "stream",
          "name": "stdout",
          "text": [
            "Model: \"sequential_4\"\n",
            "_________________________________________________________________\n",
            " Layer (type)                Output Shape              Param #   \n",
            "=================================================================\n",
            " lstm_8 (LSTM)               (None, 3, 64)             18432     \n",
            "                                                                 \n",
            " lstm_9 (LSTM)               (None, 32)                12416     \n",
            "                                                                 \n",
            " dropout_4 (Dropout)         (None, 32)                0         \n",
            "                                                                 \n",
            " dense_4 (Dense)             (None, 1)                 33        \n",
            "                                                                 \n",
            "=================================================================\n",
            "Total params: 30881 (120.63 KB)\n",
            "Trainable params: 30881 (120.63 KB)\n",
            "Non-trainable params: 0 (0.00 Byte)\n",
            "_________________________________________________________________\n"
          ]
        }
      ]
    },
    {
      "cell_type": "code",
      "source": [
        "historyS = modelS.fit(trainX, trainYS, epochs=50, batch_size=4, validation_split=0.1, verbose=1)"
      ],
      "metadata": {
        "colab": {
          "base_uri": "https://localhost:8080/"
        },
        "id": "3d4PijwBbvK5",
        "outputId": "f4d4b69c-5a8d-428f-8bc1-8a667b7ac4f0"
      },
      "execution_count": null,
      "outputs": [
        {
          "output_type": "stream",
          "name": "stdout",
          "text": [
            "Epoch 1/50\n",
            "2/2 [==============================] - 4s 804ms/step - loss: 1.2909 - val_loss: 1.6753\n",
            "Epoch 2/50\n",
            "2/2 [==============================] - 0s 94ms/step - loss: 1.2744 - val_loss: 1.6567\n",
            "Epoch 3/50\n",
            "2/2 [==============================] - 0s 78ms/step - loss: 1.2343 - val_loss: 1.6392\n",
            "Epoch 4/50\n",
            "2/2 [==============================] - 0s 63ms/step - loss: 1.1984 - val_loss: 1.6158\n",
            "Epoch 5/50\n",
            "2/2 [==============================] - 0s 62ms/step - loss: 1.1870 - val_loss: 1.5941\n",
            "Epoch 6/50\n",
            "2/2 [==============================] - 0s 62ms/step - loss: 1.1446 - val_loss: 1.5706\n",
            "Epoch 7/50\n",
            "2/2 [==============================] - 0s 77ms/step - loss: 1.1441 - val_loss: 1.5460\n",
            "Epoch 8/50\n",
            "2/2 [==============================] - 0s 65ms/step - loss: 1.1344 - val_loss: 1.5220\n",
            "Epoch 9/50\n",
            "2/2 [==============================] - 0s 91ms/step - loss: 1.0832 - val_loss: 1.4961\n",
            "Epoch 10/50\n",
            "2/2 [==============================] - 0s 77ms/step - loss: 1.1138 - val_loss: 1.4704\n",
            "Epoch 11/50\n",
            "2/2 [==============================] - 0s 74ms/step - loss: 1.0863 - val_loss: 1.4409\n",
            "Epoch 12/50\n",
            "2/2 [==============================] - 0s 76ms/step - loss: 1.0227 - val_loss: 1.4107\n",
            "Epoch 13/50\n",
            "2/2 [==============================] - 0s 84ms/step - loss: 1.0060 - val_loss: 1.3798\n",
            "Epoch 14/50\n",
            "2/2 [==============================] - 0s 58ms/step - loss: 0.9589 - val_loss: 1.3443\n",
            "Epoch 15/50\n",
            "2/2 [==============================] - 0s 65ms/step - loss: 1.0053 - val_loss: 1.3015\n",
            "Epoch 16/50\n",
            "2/2 [==============================] - 0s 79ms/step - loss: 0.8769 - val_loss: 1.2531\n",
            "Epoch 17/50\n",
            "2/2 [==============================] - 0s 76ms/step - loss: 0.9723 - val_loss: 1.2018\n",
            "Epoch 18/50\n",
            "2/2 [==============================] - 0s 89ms/step - loss: 0.8853 - val_loss: 1.1478\n",
            "Epoch 19/50\n",
            "2/2 [==============================] - 0s 73ms/step - loss: 0.8195 - val_loss: 1.0845\n",
            "Epoch 20/50\n",
            "2/2 [==============================] - 0s 75ms/step - loss: 0.6777 - val_loss: 1.0188\n",
            "Epoch 21/50\n",
            "2/2 [==============================] - 0s 88ms/step - loss: 0.7086 - val_loss: 0.9416\n",
            "Epoch 22/50\n",
            "2/2 [==============================] - 0s 79ms/step - loss: 0.5714 - val_loss: 0.8661\n",
            "Epoch 23/50\n",
            "2/2 [==============================] - 0s 59ms/step - loss: 0.5669 - val_loss: 0.7840\n",
            "Epoch 24/50\n",
            "2/2 [==============================] - 0s 61ms/step - loss: 0.5350 - val_loss: 0.6920\n",
            "Epoch 25/50\n",
            "2/2 [==============================] - 0s 61ms/step - loss: 0.5715 - val_loss: 0.6145\n",
            "Epoch 26/50\n",
            "2/2 [==============================] - 0s 77ms/step - loss: 0.4959 - val_loss: 0.5316\n",
            "Epoch 27/50\n",
            "2/2 [==============================] - 0s 86ms/step - loss: 0.4269 - val_loss: 0.4619\n",
            "Epoch 28/50\n",
            "2/2 [==============================] - 0s 79ms/step - loss: 0.3972 - val_loss: 0.4180\n",
            "Epoch 29/50\n",
            "2/2 [==============================] - 0s 87ms/step - loss: 0.2449 - val_loss: 0.3601\n",
            "Epoch 30/50\n",
            "2/2 [==============================] - 0s 79ms/step - loss: 0.2702 - val_loss: 0.3114\n",
            "Epoch 31/50\n",
            "2/2 [==============================] - 0s 63ms/step - loss: 0.2687 - val_loss: 0.2801\n",
            "Epoch 32/50\n",
            "2/2 [==============================] - 0s 77ms/step - loss: 0.3116 - val_loss: 0.2421\n",
            "Epoch 33/50\n",
            "2/2 [==============================] - 0s 76ms/step - loss: 0.3324 - val_loss: 0.2170\n",
            "Epoch 34/50\n",
            "2/2 [==============================] - 0s 64ms/step - loss: 0.1913 - val_loss: 0.1847\n",
            "Epoch 35/50\n",
            "2/2 [==============================] - 0s 71ms/step - loss: 0.1512 - val_loss: 0.1638\n",
            "Epoch 36/50\n",
            "2/2 [==============================] - 0s 89ms/step - loss: 0.2991 - val_loss: 0.1447\n",
            "Epoch 37/50\n",
            "2/2 [==============================] - 0s 82ms/step - loss: 0.1632 - val_loss: 0.1336\n",
            "Epoch 38/50\n",
            "2/2 [==============================] - 0s 80ms/step - loss: 0.2519 - val_loss: 0.1210\n",
            "Epoch 39/50\n",
            "2/2 [==============================] - 0s 78ms/step - loss: 0.2140 - val_loss: 0.0931\n",
            "Epoch 40/50\n",
            "2/2 [==============================] - 0s 45ms/step - loss: 0.1382 - val_loss: 0.0633\n",
            "Epoch 41/50\n",
            "2/2 [==============================] - 0s 44ms/step - loss: 0.1483 - val_loss: 0.0423\n",
            "Epoch 42/50\n",
            "2/2 [==============================] - 0s 45ms/step - loss: 0.1699 - val_loss: 0.0297\n",
            "Epoch 43/50\n",
            "2/2 [==============================] - 0s 61ms/step - loss: 0.2189 - val_loss: 0.0203\n",
            "Epoch 44/50\n",
            "2/2 [==============================] - 0s 58ms/step - loss: 0.2134 - val_loss: 0.0120\n",
            "Epoch 45/50\n",
            "2/2 [==============================] - 0s 43ms/step - loss: 0.1339 - val_loss: 0.0061\n",
            "Epoch 46/50\n",
            "2/2 [==============================] - 0s 64ms/step - loss: 0.1149 - val_loss: 0.0044\n",
            "Epoch 47/50\n",
            "2/2 [==============================] - 0s 41ms/step - loss: 0.1071 - val_loss: 0.0019\n",
            "Epoch 48/50\n",
            "2/2 [==============================] - 0s 47ms/step - loss: 0.0821 - val_loss: 0.0018\n",
            "Epoch 49/50\n",
            "2/2 [==============================] - 0s 47ms/step - loss: 0.0778 - val_loss: 9.0626e-04\n",
            "Epoch 50/50\n",
            "2/2 [==============================] - 0s 44ms/step - loss: 0.1309 - val_loss: 2.6088e-05\n"
          ]
        }
      ]
    },
    {
      "cell_type": "code",
      "source": [
        "plt.plot(historyS.history['loss'], label='Training loss')\n",
        "plt.plot(historyS.history['val_loss'], label='Validation loss')\n",
        "plt.legend()"
      ],
      "metadata": {
        "colab": {
          "base_uri": "https://localhost:8080/",
          "height": 451
        },
        "id": "zPJwc-mFgFve",
        "outputId": "67edf187-d287-492e-e66c-5bb3cf837152"
      },
      "execution_count": null,
      "outputs": [
        {
          "output_type": "execute_result",
          "data": {
            "text/plain": [
              "<matplotlib.legend.Legend at 0x79912250e2c0>"
            ]
          },
          "metadata": {},
          "execution_count": 50
        },
        {
          "output_type": "display_data",
          "data": {
            "text/plain": [
              "<Figure size 640x480 with 1 Axes>"
            ],
            "image/png": "[encoded data removed]"
          },
          "metadata": {}
        }
      ]
    },
    {
      "cell_type": "code",
      "source": [
        "predictionS = modelS.predict(trainX)"
      ],
      "metadata": {
        "colab": {
          "base_uri": "https://localhost:8080/"
        },
        "id": "d9XYC52CgKvW",
        "outputId": "52e91f5c-4331-4a64-9e85-a363cae82c1b"
      },
      "execution_count": null,
      "outputs": [
        {
          "output_type": "stream",
          "name": "stderr",
          "text": [
            "WARNING:tensorflow:5 out of the last 5 calls to <function Model.make_predict_function.<locals>.predict_function at 0x799122508ca0> triggered tf.function retracing. Tracing is expensive and the excessive number of tracings could be due to (1) creating @tf.function repeatedly in a loop, (2) passing tensors with different shapes, (3) passing Python objects instead of tensors. For (1), please define your @tf.function outside of the loop. For (2), @tf.function has reduce_retracing=True option that can avoid unnecessary retracing. For (3), please refer to https://www.tensorflow.org/guide/function#controlling_retracing and https://www.tensorflow.org/api_docs/python/tf/function for  more details.\n"
          ]
        },
        {
          "output_type": "stream",
          "name": "stdout",
          "text": [
            "1/1 [==============================] - 0s 350ms/step\n"
          ]
        }
      ]
    },
    {
      "cell_type": "code",
      "source": [
        "prediction_copiesS = np.repeat(predictionS, df_for_training.shape[1], axis=-1)\n",
        "y_pred_futureS = scaler.inverse_transform(prediction_copiesS)[:,2]"
      ],
      "metadata": {
        "id": "HiReb9wDgOd-"
      },
      "execution_count": null,
      "outputs": []
    },
    {
      "cell_type": "code",
      "source": [
        "print(y_pred_futureS)\n",
        "i=y_pred_futureS[-1]\n",
        "cod=(i*100/10)*0.12\n",
        "print(cod)"
      ],
      "metadata": {
        "colab": {
          "base_uri": "https://localhost:8080/"
        },
        "id": "0-ick9MngSTS",
        "outputId": "343573bb-d8c4-426f-aebc-9a784cfd52c0"
      },
      "execution_count": null,
      "outputs": [
        {
          "output_type": "stream",
          "name": "stdout",
          "text": [
            "[3.650508  3.1283767 2.875248  2.4043071 2.0687468 1.3190902 1.6837527]\n",
            "2.0205031871795653\n"
          ]
        }
      ]
    },
    {
      "cell_type": "code",
      "source": [
        "l=[do,ph,bod,tur,cod]\n",
        "print(l)\n",
        "print(sum(l))"
      ],
      "metadata": {
        "colab": {
          "base_uri": "https://localhost:8080/"
        },
        "id": "rUBYQGsrghCL",
        "outputId": "dde81549-9323-443c-9f96-7fc504b08f1b"
      },
      "execution_count": null,
      "outputs": [
        {
          "output_type": "stream",
          "name": "stdout",
          "text": [
            "[24.01932798703512, 7.962014007568359, 2.80972464094162, 4.104201793670654, 2.0205031871795653]\n",
            "40.91577161639532\n"
          ]
        }
      ]
    },
    {
      "cell_type": "code",
      "source": [
        "modelP = Sequential()\n",
        "modelP.add(LSTM(64, activation='relu', input_shape=(trainX.shape[1], trainX.shape[2]), return_sequences=True))\n",
        "modelP.add(LSTM(32, activation='relu', return_sequences=False))\n",
        "modelP.add(Dropout(0.2))\n",
        "modelP.add(Dense(trainYC.shape[1]))"
      ],
      "metadata": {
        "id": "Afys-MidtGxw"
      },
      "execution_count": null,
      "outputs": []
    },
    {
      "cell_type": "code",
      "source": [
        "modelP.compile(optimizer='adam', loss='mse')\n",
        "modelP.summary()"
      ],
      "metadata": {
        "colab": {
          "base_uri": "https://localhost:8080/"
        },
        "id": "ut__0Jll3kET",
        "outputId": "884040b0-4ee0-486a-b132-bb7ba4d074c4"
      },
      "execution_count": null,
      "outputs": [
        {
          "output_type": "stream",
          "name": "stdout",
          "text": [
            "Model: \"sequential_5\"\n",
            "_________________________________________________________________\n",
            " Layer (type)                Output Shape              Param #   \n",
            "=================================================================\n",
            " lstm_10 (LSTM)              (None, 3, 64)             18432     \n",
            "                                                                 \n",
            " lstm_11 (LSTM)              (None, 32)                12416     \n",
            "                                                                 \n",
            " dropout_5 (Dropout)         (None, 32)                0         \n",
            "                                                                 \n",
            " dense_5 (Dense)             (None, 1)                 33        \n",
            "                                                                 \n",
            "=================================================================\n",
            "Total params: 30881 (120.63 KB)\n",
            "Trainable params: 30881 (120.63 KB)\n",
            "Non-trainable params: 0 (0.00 Byte)\n",
            "_________________________________________________________________\n"
          ]
        }
      ]
    },
    {
      "cell_type": "code",
      "source": [
        "history = modelP.fit(trainX, trainYP, epochs=50, batch_size=4, validation_split=0.1, verbose=1)"
      ],
      "metadata": {
        "colab": {
          "base_uri": "https://localhost:8080/"
        },
        "id": "VVO7Pbwn3nnE",
        "outputId": "4e12d6b6-9732-4435-f18c-3006b3f1937f"
      },
      "execution_count": null,
      "outputs": [
        {
          "output_type": "stream",
          "name": "stdout",
          "text": [
            "Epoch 1/50\n",
            "2/2 [==============================] - 4s 732ms/step - loss: 1.1732 - val_loss: 2.0703\n",
            "Epoch 2/50\n",
            "2/2 [==============================] - 0s 53ms/step - loss: 1.1546 - val_loss: 2.0656\n",
            "Epoch 3/50\n",
            "2/2 [==============================] - 0s 74ms/step - loss: 1.1222 - val_loss: 2.0538\n",
            "Epoch 4/50\n",
            "2/2 [==============================] - 0s 59ms/step - loss: 1.0879 - val_loss: 2.0456\n",
            "Epoch 5/50\n",
            "2/2 [==============================] - 0s 70ms/step - loss: 1.0350 - val_loss: 2.0407\n",
            "Epoch 6/50\n",
            "2/2 [==============================] - 0s 81ms/step - loss: 1.0309 - val_loss: 2.0321\n",
            "Epoch 7/50\n",
            "2/2 [==============================] - 0s 85ms/step - loss: 0.9716 - val_loss: 2.0259\n",
            "Epoch 8/50\n",
            "2/2 [==============================] - 0s 82ms/step - loss: 0.9395 - val_loss: 2.0197\n",
            "Epoch 9/50\n",
            "2/2 [==============================] - 0s 72ms/step - loss: 0.8719 - val_loss: 2.0169\n",
            "Epoch 10/50\n",
            "2/2 [==============================] - 0s 75ms/step - loss: 0.8166 - val_loss: 2.0129\n",
            "Epoch 11/50\n",
            "2/2 [==============================] - 0s 77ms/step - loss: 0.8543 - val_loss: 2.0075\n",
            "Epoch 12/50\n",
            "2/2 [==============================] - 0s 73ms/step - loss: 0.8094 - val_loss: 2.0011\n",
            "Epoch 13/50\n",
            "2/2 [==============================] - 0s 72ms/step - loss: 0.7339 - val_loss: 1.9899\n",
            "Epoch 14/50\n",
            "2/2 [==============================] - 0s 59ms/step - loss: 0.6379 - val_loss: 1.9758\n",
            "Epoch 15/50\n",
            "2/2 [==============================] - 0s 79ms/step - loss: 0.5529 - val_loss: 1.9613\n",
            "Epoch 16/50\n",
            "2/2 [==============================] - 0s 74ms/step - loss: 0.6729 - val_loss: 1.9441\n",
            "Epoch 17/50\n",
            "2/2 [==============================] - 0s 70ms/step - loss: 0.4674 - val_loss: 1.9237\n",
            "Epoch 18/50\n",
            "2/2 [==============================] - 0s 113ms/step - loss: 0.4509 - val_loss: 1.9038\n",
            "Epoch 19/50\n",
            "2/2 [==============================] - 0s 82ms/step - loss: 0.3891 - val_loss: 1.8798\n",
            "Epoch 20/50\n",
            "2/2 [==============================] - 0s 76ms/step - loss: 0.3477 - val_loss: 1.8536\n",
            "Epoch 21/50\n",
            "2/2 [==============================] - 0s 76ms/step - loss: 0.3799 - val_loss: 1.8237\n",
            "Epoch 22/50\n",
            "2/2 [==============================] - 0s 68ms/step - loss: 0.3354 - val_loss: 1.7914\n",
            "Epoch 23/50\n",
            "2/2 [==============================] - 0s 68ms/step - loss: 0.3473 - val_loss: 1.7557\n",
            "Epoch 24/50\n",
            "2/2 [==============================] - 0s 58ms/step - loss: 0.3619 - val_loss: 1.7099\n",
            "Epoch 25/50\n",
            "2/2 [==============================] - 0s 66ms/step - loss: 0.3217 - val_loss: 1.6593\n",
            "Epoch 26/50\n",
            "2/2 [==============================] - 0s 66ms/step - loss: 0.3234 - val_loss: 1.6016\n",
            "Epoch 27/50\n",
            "2/2 [==============================] - 0s 77ms/step - loss: 0.3063 - val_loss: 1.5405\n",
            "Epoch 28/50\n",
            "2/2 [==============================] - 0s 79ms/step - loss: 0.2532 - val_loss: 1.4757\n",
            "Epoch 29/50\n",
            "2/2 [==============================] - 0s 101ms/step - loss: 0.2469 - val_loss: 1.4080\n",
            "Epoch 30/50\n",
            "2/2 [==============================] - 0s 76ms/step - loss: 0.2650 - val_loss: 1.3296\n",
            "Epoch 31/50\n",
            "2/2 [==============================] - 0s 87ms/step - loss: 0.1815 - val_loss: 1.2423\n",
            "Epoch 32/50\n",
            "2/2 [==============================] - 0s 68ms/step - loss: 0.1854 - val_loss: 1.1426\n",
            "Epoch 33/50\n",
            "2/2 [==============================] - 0s 64ms/step - loss: 0.2626 - val_loss: 1.0352\n",
            "Epoch 34/50\n",
            "2/2 [==============================] - 0s 77ms/step - loss: 0.1380 - val_loss: 0.9199\n",
            "Epoch 35/50\n",
            "2/2 [==============================] - 0s 82ms/step - loss: 0.1047 - val_loss: 0.7976\n",
            "Epoch 36/50\n",
            "2/2 [==============================] - 0s 49ms/step - loss: 0.1235 - val_loss: 0.6827\n",
            "Epoch 37/50\n",
            "2/2 [==============================] - 0s 41ms/step - loss: 0.0494 - val_loss: 0.5824\n",
            "Epoch 38/50\n",
            "2/2 [==============================] - 0s 43ms/step - loss: 0.0770 - val_loss: 0.5111\n",
            "Epoch 39/50\n",
            "2/2 [==============================] - 0s 64ms/step - loss: 0.1367 - val_loss: 0.5026\n",
            "Epoch 40/50\n",
            "2/2 [==============================] - 0s 43ms/step - loss: 0.0938 - val_loss: 0.5542\n",
            "Epoch 41/50\n",
            "2/2 [==============================] - 0s 55ms/step - loss: 0.1742 - val_loss: 0.6025\n",
            "Epoch 42/50\n",
            "2/2 [==============================] - 0s 42ms/step - loss: 0.1015 - val_loss: 0.6113\n",
            "Epoch 43/50\n",
            "2/2 [==============================] - 0s 58ms/step - loss: 0.0822 - val_loss: 0.5954\n",
            "Epoch 44/50\n",
            "2/2 [==============================] - 0s 43ms/step - loss: 0.0704 - val_loss: 0.5726\n",
            "Epoch 45/50\n",
            "2/2 [==============================] - 0s 42ms/step - loss: 0.0910 - val_loss: 0.5247\n",
            "Epoch 46/50\n",
            "2/2 [==============================] - 0s 58ms/step - loss: 0.0950 - val_loss: 0.4739\n",
            "Epoch 47/50\n",
            "2/2 [==============================] - 0s 61ms/step - loss: 0.0482 - val_loss: 0.4320\n",
            "Epoch 48/50\n",
            "2/2 [==============================] - 0s 41ms/step - loss: 0.0313 - val_loss: 0.4330\n",
            "Epoch 49/50\n",
            "2/2 [==============================] - 0s 40ms/step - loss: 0.0353 - val_loss: 0.4247\n",
            "Epoch 50/50\n",
            "2/2 [==============================] - 0s 44ms/step - loss: 0.0450 - val_loss: 0.4263\n"
          ]
        }
      ]
    },
    {
      "cell_type": "code",
      "source": [
        "historyP = history"
      ],
      "metadata": {
        "id": "DvqLuQ9F3wvt"
      },
      "execution_count": null,
      "outputs": []
    },
    {
      "cell_type": "code",
      "source": [
        "plt.plot(historyP.history['loss'], label='Training loss')\n",
        "plt.plot(historyP.history['val_loss'], label='Validation loss')\n",
        "plt.legend()"
      ],
      "metadata": {
        "colab": {
          "base_uri": "https://localhost:8080/",
          "height": 447
        },
        "id": "QWAUXe6w3yna",
        "outputId": "d9a9088f-528a-49ab-8ada-b78ac5de99d8"
      },
      "execution_count": null,
      "outputs": [
        {
          "output_type": "execute_result",
          "data": {
            "text/plain": [
              "<matplotlib.legend.Legend at 0x79911dfdb880>"
            ]
          },
          "metadata": {},
          "execution_count": 59
        },
        {
          "output_type": "display_data",
          "data": {
            "text/plain": [
              "<Figure size 640x480 with 1 Axes>"
            ],
            "image/png": "[encoded data removed]"
          },
          "metadata": {}
        }
      ]
    },
    {
      "cell_type": "code",
      "source": [
        "predictionP = modelP.predict(trainX)"
      ],
      "metadata": {
        "colab": {
          "base_uri": "https://localhost:8080/"
        },
        "id": "Eofi1P5M35Kv",
        "outputId": "9f8fba0c-6e1e-44a6-8eff-8c86661a4996"
      },
      "execution_count": null,
      "outputs": [
        {
          "output_type": "stream",
          "name": "stderr",
          "text": [
            "WARNING:tensorflow:6 out of the last 6 calls to <function Model.make_predict_function.<locals>.predict_function at 0x79911e078ee0> triggered tf.function retracing. Tracing is expensive and the excessive number of tracings could be due to (1) creating @tf.function repeatedly in a loop, (2) passing tensors with different shapes, (3) passing Python objects instead of tensors. For (1), please define your @tf.function outside of the loop. For (2), @tf.function has reduce_retracing=True option that can avoid unnecessary retracing. For (3), please refer to https://www.tensorflow.org/guide/function#controlling_retracing and https://www.tensorflow.org/api_docs/python/tf/function for  more details.\n"
          ]
        },
        {
          "output_type": "stream",
          "name": "stdout",
          "text": [
            "1/1 [==============================] - 0s 337ms/step\n"
          ]
        }
      ]
    },
    {
      "cell_type": "code",
      "source": [
        "prediction_copiesP = np.repeat(predictionP, df_for_training.shape[1], axis=-1)\n",
        "y_pred_futureP = scaler.inverse_transform(prediction_copiesP)[:,0]"
      ],
      "metadata": {
        "id": "NTWCTZiM37ya"
      },
      "execution_count": null,
      "outputs": []
    },
    {
      "cell_type": "code",
      "source": [
        "print(y_pred_futureP)\n",
        "ec=y_pred_futureP[-1]\n",
        "print(ec)"
      ],
      "metadata": {
        "colab": {
          "base_uri": "https://localhost:8080/"
        },
        "id": "TrbiFJqo4Alz",
        "outputId": "9a6056cc-aa5b-4d5e-ecad-ccdebacd24ff"
      },
      "execution_count": null,
      "outputs": [
        {
          "output_type": "stream",
          "name": "stdout",
          "text": [
            "[5.29728   5.2377453 5.37298   5.537285  5.760661  5.887046  5.770606 ]\n",
            "5.770606\n"
          ]
        }
      ]
    },
    {
      "cell_type": "code",
      "source": [
        "l=[do,ph,bod,tur,cod,ec]\n",
        "print(l)\n",
        "WQI=sum(l)\n",
        "print(WQI)"
      ],
      "metadata": {
        "colab": {
          "base_uri": "https://localhost:8080/"
        },
        "id": "bkrV4Kjw8mJf",
        "outputId": "b4376160-c085-42d7-c5e9-a36380c39e9f"
      },
      "execution_count": null,
      "outputs": [
        {
          "output_type": "stream",
          "name": "stdout",
          "text": [
            "[24.01932798703512, 7.962014007568359, 2.80972464094162, 4.104201793670654, 2.0205031871795653, 5.770606]\n",
            "46.68637765734991\n"
          ]
        }
      ]
    },
    {
      "cell_type": "code",
      "source": [
        "def get_WQI_bucket(x):\n",
        "    if x>=0 and x <= 25:\n",
        "        return \"Excellent\"\n",
        "    elif x>=26 and x<=50:\n",
        "        return \"Good\"\n",
        "    elif x >=51 and x<=75:\n",
        "        return \"Poor\"\n",
        "    elif x>=76 and x<100:\n",
        "        return \"Very Poor\"\n",
        "    else:\n",
        "        return \"Not Suitable for drinking\"\n",
        "result=get_WQI_bucket(WQI)\n",
        "print(result)"
      ],
      "metadata": {
        "colab": {
          "base_uri": "https://localhost:8080/"
        },
        "id": "jCwF1m238o9a",
        "outputId": "8a3497a7-d166-4de9-9e31-5785f5b20a36"
      },
      "execution_count": null,
      "outputs": [
        {
          "output_type": "stream",
          "name": "stdout",
          "text": [
            "Good\n"
          ]
        }
      ]
    }
  ]
}