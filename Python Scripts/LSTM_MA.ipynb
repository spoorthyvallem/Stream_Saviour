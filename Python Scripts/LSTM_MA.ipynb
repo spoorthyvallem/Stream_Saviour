{
  "nbformat": 4,
  "nbformat_minor": 0,
  "metadata": {
    "colab": {
      "provenance": []
    },
    "kernelspec": {
      "name": "python3",
      "display_name": "Python 3"
    },
    "language_info": {
      "name": "python"
    }
  },
  "cells": [
    {
      "cell_type": "code",
      "execution_count": null,
      "metadata": {
        "id": "A2FScVPSF0Ky"
      },
      "outputs": [],
      "source": [
        "import numpy as np\n",
        "from tensorflow.keras.models import Sequential\n",
        "from tensorflow.keras.layers import LSTM\n",
        "from tensorflow.keras.layers import Dense, Dropout\n",
        "import pandas as pd\n",
        "from matplotlib import pyplot as plt\n",
        "from sklearn.preprocessing import StandardScaler\n",
        "import seaborn as sns"
      ]
    },
    {
      "cell_type": "code",
      "source": [
        "from google.colab import drive\n",
        "drive.mount('/content/drive')\n"
      ],
      "metadata": {
        "colab": {
          "base_uri": "https://localhost:8080/"
        },
        "id": "Uh8kxTU5GA8n",
        "outputId": "396c5798-6f0a-4a9a-a327-74b321ad5d62"
      },
      "execution_count": null,
      "outputs": [
        {
          "output_type": "stream",
          "name": "stdout",
          "text": [
            "Mounted at /content/drive\n"
          ]
        }
      ]
    },
    {
      "cell_type": "code",
      "source": [
        "fi = pd.read_csv('/content/drive/MyDrive/Manthani.csv')\n",
        "print(fi.shape)\n",
        "fi\n"
      ],
      "metadata": {
        "colab": {
          "base_uri": "https://localhost:8080/",
          "height": 380
        },
        "id": "KS1XeEJAGLky",
        "outputId": "45d7d875-b8bc-4e14-d237-eff161436e87"
      },
      "execution_count": null,
      "outputs": [
        {
          "output_type": "stream",
          "name": "stdout",
          "text": [
            "(10, 10)\n"
          ]
        },
        {
          "output_type": "execute_result",
          "data": {
            "text/plain": [
              "   S.No.   DO (mg/L)    pH  BOD (mg/L)  Turbidity (NTU)  COD (mg/L)  \\\n",
              "0       1       5.50  8.21        4.40             18.0          22   \n",
              "1       2       5.90  7.66        2.20             11.0          20   \n",
              "2       3       5.20  8.13       27.00             30.0          27   \n",
              "3       4       4.60  8.21        3.00             16.0          34   \n",
              "4       5       5.40  8.04        3.00              6.0          23   \n",
              "5       6       4.50  7.90        4.30              6.0          26   \n",
              "6       7       5.20  7.99        2.80              8.0          23   \n",
              "7       8       5.50  7.84        2.20              6.0          17   \n",
              "8       9       5.80  7.98        1.40              6.0          16   \n",
              "9      10       5.88  7.73        1.63              5.5          20   \n",
              "\n",
              "   TDS (mg/L)   EC  TSS (mg/L)  Year  \n",
              "0       362.0  597         6.0  2014  \n",
              "1       207.0  595        14.0  2015  \n",
              "2       311.0  497        17.0  2016  \n",
              "3       469.0  712        14.0  2017  \n",
              "4       499.0  821        10.0  2018  \n",
              "5       443.0  720         8.0  2019  \n",
              "6       337.0  558        11.0  2020  \n",
              "7       331.0  551         8.0  2021  \n",
              "8       355.0  578        11.0  2022  \n",
              "9       337.6  560        11.3  2023  "
            ],
            "text/html": [
              "\n",
              "  <div id=\"df-1e01e100-04c3-4c5f-9ace-53f48eda9de2\" class=\"colab-df-container\">\n",
              "    <div>\n",
              "<style scoped>\n",
              "    .dataframe tbody tr th:only-of-type {\n",
              "        vertical-align: middle;\n",
              "    }\n",
              "\n",
              "    .dataframe tbody tr th {\n",
              "        vertical-align: top;\n",
              "    }\n",
              "\n",
              "    .dataframe thead th {\n",
              "        text-align: right;\n",
              "    }\n",
              "</style>\n",
              "<table border=\"1\" class=\"dataframe\">\n",
              "  <thead>\n",
              "    <tr style=\"text-align: right;\">\n",
              "      <th></th>\n",
              "      <th>S.No.</th>\n",
              "      <th>DO (mg/L)</th>\n",
              "      <th>pH</th>\n",
              "      <th>BOD (mg/L)</th>\n",
              "      <th>Turbidity (NTU)</th>\n",
              "      <th>COD (mg/L)</th>\n",
              "      <th>TDS (mg/L)</th>\n",
              "      <th>EC</th>\n",
              "      <th>TSS (mg/L)</th>\n",
              "      <th>Year</th>\n",
              "    </tr>\n",
              "  </thead>\n",
              "  <tbody>\n",
              "    <tr>\n",
              "      <th>0</th>\n",
              "      <td>1</td>\n",
              "      <td>5.50</td>\n",
              "      <td>8.21</td>\n",
              "      <td>4.40</td>\n",
              "      <td>18.0</td>\n",
              "      <td>22</td>\n",
              "      <td>362.0</td>\n",
              "      <td>597</td>\n",
              "      <td>6.0</td>\n",
              "      <td>2014</td>\n",
              "    </tr>\n",
              "    <tr>\n",
              "      <th>1</th>\n",
              "      <td>2</td>\n",
              "      <td>5.90</td>\n",
              "      <td>7.66</td>\n",
              "      <td>2.20</td>\n",
              "      <td>11.0</td>\n",
              "      <td>20</td>\n",
              "      <td>207.0</td>\n",
              "      <td>595</td>\n",
              "      <td>14.0</td>\n",
              "      <td>2015</td>\n",
              "    </tr>\n",
              "    <tr>\n",
              "      <th>2</th>\n",
              "      <td>3</td>\n",
              "      <td>5.20</td>\n",
              "      <td>8.13</td>\n",
              "      <td>27.00</td>\n",
              "      <td>30.0</td>\n",
              "      <td>27</td>\n",
              "      <td>311.0</td>\n",
              "      <td>497</td>\n",
              "      <td>17.0</td>\n",
              "      <td>2016</td>\n",
              "    </tr>\n",
              "    <tr>\n",
              "      <th>3</th>\n",
              "      <td>4</td>\n",
              "      <td>4.60</td>\n",
              "      <td>8.21</td>\n",
              "      <td>3.00</td>\n",
              "      <td>16.0</td>\n",
              "      <td>34</td>\n",
              "      <td>469.0</td>\n",
              "      <td>712</td>\n",
              "      <td>14.0</td>\n",
              "      <td>2017</td>\n",
              "    </tr>\n",
              "    <tr>\n",
              "      <th>4</th>\n",
              "      <td>5</td>\n",
              "      <td>5.40</td>\n",
              "      <td>8.04</td>\n",
              "      <td>3.00</td>\n",
              "      <td>6.0</td>\n",
              "      <td>23</td>\n",
              "      <td>499.0</td>\n",
              "      <td>821</td>\n",
              "      <td>10.0</td>\n",
              "      <td>2018</td>\n",
              "    </tr>\n",
              "    <tr>\n",
              "      <th>5</th>\n",
              "      <td>6</td>\n",
              "      <td>4.50</td>\n",
              "      <td>7.90</td>\n",
              "      <td>4.30</td>\n",
              "      <td>6.0</td>\n",
              "      <td>26</td>\n",
              "      <td>443.0</td>\n",
              "      <td>720</td>\n",
              "      <td>8.0</td>\n",
              "      <td>2019</td>\n",
              "    </tr>\n",
              "    <tr>\n",
              "      <th>6</th>\n",
              "      <td>7</td>\n",
              "      <td>5.20</td>\n",
              "      <td>7.99</td>\n",
              "      <td>2.80</td>\n",
              "      <td>8.0</td>\n",
              "      <td>23</td>\n",
              "      <td>337.0</td>\n",
              "      <td>558</td>\n",
              "      <td>11.0</td>\n",
              "      <td>2020</td>\n",
              "    </tr>\n",
              "    <tr>\n",
              "      <th>7</th>\n",
              "      <td>8</td>\n",
              "      <td>5.50</td>\n",
              "      <td>7.84</td>\n",
              "      <td>2.20</td>\n",
              "      <td>6.0</td>\n",
              "      <td>17</td>\n",
              "      <td>331.0</td>\n",
              "      <td>551</td>\n",
              "      <td>8.0</td>\n",
              "      <td>2021</td>\n",
              "    </tr>\n",
              "    <tr>\n",
              "      <th>8</th>\n",
              "      <td>9</td>\n",
              "      <td>5.80</td>\n",
              "      <td>7.98</td>\n",
              "      <td>1.40</td>\n",
              "      <td>6.0</td>\n",
              "      <td>16</td>\n",
              "      <td>355.0</td>\n",
              "      <td>578</td>\n",
              "      <td>11.0</td>\n",
              "      <td>2022</td>\n",
              "    </tr>\n",
              "    <tr>\n",
              "      <th>9</th>\n",
              "      <td>10</td>\n",
              "      <td>5.88</td>\n",
              "      <td>7.73</td>\n",
              "      <td>1.63</td>\n",
              "      <td>5.5</td>\n",
              "      <td>20</td>\n",
              "      <td>337.6</td>\n",
              "      <td>560</td>\n",
              "      <td>11.3</td>\n",
              "      <td>2023</td>\n",
              "    </tr>\n",
              "  </tbody>\n",
              "</table>\n",
              "</div>\n",
              "    <div class=\"colab-df-buttons\">\n",
              "\n",
              "  <div class=\"colab-df-container\">\n",
              "    <button class=\"colab-df-convert\" onclick=\"convertToInteractive('df-1e01e100-04c3-4c5f-9ace-53f48eda9de2')\"\n",
              "            title=\"Convert this dataframe to an interactive table.\"\n",
              "            style=\"display:none;\">\n",
              "\n",
              "  <svg xmlns=\"http://www.w3.org/2000/svg\" height=\"24px\" viewBox=\"0 -960 960 960\">\n",
              "    <path d=\"M120-120v-720h720v720H120Zm60-500h600v-160H180v160Zm220 220h160v-160H400v160Zm0 220h160v-160H400v160ZM180-400h160v-160H180v160Zm440 0h160v-160H620v160ZM180-180h160v-160H180v160Zm440 0h160v-160H620v160Z\"/>\n",
              "  </svg>\n",
              "    </button>\n",
              "\n",
              "  <style>\n",
              "    .colab-df-container {\n",
              "      display:flex;\n",
              "      gap: 12px;\n",
              "    }\n",
              "\n",
              "    .colab-df-convert {\n",
              "      background-color: #E8F0FE;\n",
              "      border: none;\n",
              "      border-radius: 50%;\n",
              "      cursor: pointer;\n",
              "      display: none;\n",
              "      fill: #1967D2;\n",
              "      height: 32px;\n",
              "      padding: 0 0 0 0;\n",
              "      width: 32px;\n",
              "    }\n",
              "\n",
              "    .colab-df-convert:hover {\n",
              "      background-color: #E2EBFA;\n",
              "      box-shadow: 0px 1px 2px rgba(60, 64, 67, 0.3), 0px 1px 3px 1px rgba(60, 64, 67, 0.15);\n",
              "      fill: #174EA6;\n",
              "    }\n",
              "\n",
              "    .colab-df-buttons div {\n",
              "      margin-bottom: 4px;\n",
              "    }\n",
              "\n",
              "    [theme=dark] .colab-df-convert {\n",
              "      background-color: #3B4455;\n",
              "      fill: #D2E3FC;\n",
              "    }\n",
              "\n",
              "    [theme=dark] .colab-df-convert:hover {\n",
              "      background-color: #434B5C;\n",
              "      box-shadow: 0px 1px 3px 1px rgba(0, 0, 0, 0.15);\n",
              "      filter: drop-shadow(0px 1px 2px rgba(0, 0, 0, 0.3));\n",
              "      fill: #FFFFFF;\n",
              "    }\n",
              "  </style>\n",
              "\n",
              "    <script>\n",
              "      const buttonEl =\n",
              "        document.querySelector('#df-1e01e100-04c3-4c5f-9ace-53f48eda9de2 button.colab-df-convert');\n",
              "      buttonEl.style.display =\n",
              "        google.colab.kernel.accessAllowed ? 'block' : 'none';\n",
              "\n",
              "      async function convertToInteractive(key) {\n",
              "        const element = document.querySelector('#df-1e01e100-04c3-4c5f-9ace-53f48eda9de2');\n",
              "        const dataTable =\n",
              "          await google.colab.kernel.invokeFunction('convertToInteractive',\n",
              "                                                    [key], {});\n",
              "        if (!dataTable) return;\n",
              "\n",
              "        const docLinkHtml = 'Like what you see? Visit the ' +\n",
              "          '<a target=\"_blank\" href=https://colab.research.google.com/notebooks/data_table.ipynb>data table notebook</a>'\n",
              "          + ' to learn more about interactive tables.';\n",
              "        element.innerHTML = '';\n",
              "        dataTable['output_type'] = 'display_data';\n",
              "        await google.colab.output.renderOutput(dataTable, element);\n",
              "        const docLink = document.createElement('div');\n",
              "        docLink.innerHTML = docLinkHtml;\n",
              "        element.appendChild(docLink);\n",
              "      }\n",
              "    </script>\n",
              "  </div>\n",
              "\n",
              "\n",
              "<div id=\"df-245a7513-872f-47a6-b0be-411f57bad86c\">\n",
              "  <button class=\"colab-df-quickchart\" onclick=\"quickchart('df-245a7513-872f-47a6-b0be-411f57bad86c')\"\n",
              "            title=\"Suggest charts\"\n",
              "            style=\"display:none;\">\n",
              "\n",
              "<svg xmlns=\"http://www.w3.org/2000/svg\" height=\"24px\"viewBox=\"0 0 24 24\"\n",
              "     width=\"24px\">\n",
              "    <g>\n",
              "        <path d=\"M19 3H5c-1.1 0-2 .9-2 2v14c0 1.1.9 2 2 2h14c1.1 0 2-.9 2-2V5c0-1.1-.9-2-2-2zM9 17H7v-7h2v7zm4 0h-2V7h2v10zm4 0h-2v-4h2v4z\"/>\n",
              "    </g>\n",
              "</svg>\n",
              "  </button>\n",
              "\n",
              "<style>\n",
              "  .colab-df-quickchart {\n",
              "      --bg-color: #E8F0FE;\n",
              "      --fill-color: #1967D2;\n",
              "      --hover-bg-color: #E2EBFA;\n",
              "      --hover-fill-color: #174EA6;\n",
              "      --disabled-fill-color: #AAA;\n",
              "      --disabled-bg-color: #DDD;\n",
              "  }\n",
              "\n",
              "  [theme=dark] .colab-df-quickchart {\n",
              "      --bg-color: #3B4455;\n",
              "      --fill-color: #D2E3FC;\n",
              "      --hover-bg-color: #434B5C;\n",
              "      --hover-fill-color: #FFFFFF;\n",
              "      --disabled-bg-color: #3B4455;\n",
              "      --disabled-fill-color: #666;\n",
              "  }\n",
              "\n",
              "  .colab-df-quickchart {\n",
              "    background-color: var(--bg-color);\n",
              "    border: none;\n",
              "    border-radius: 50%;\n",
              "    cursor: pointer;\n",
              "    display: none;\n",
              "    fill: var(--fill-color);\n",
              "    height: 32px;\n",
              "    padding: 0;\n",
              "    width: 32px;\n",
              "  }\n",
              "\n",
              "  .colab-df-quickchart:hover {\n",
              "    background-color: var(--hover-bg-color);\n",
              "    box-shadow: 0 1px 2px rgba(60, 64, 67, 0.3), 0 1px 3px 1px rgba(60, 64, 67, 0.15);\n",
              "    fill: var(--button-hover-fill-color);\n",
              "  }\n",
              "\n",
              "  .colab-df-quickchart-complete:disabled,\n",
              "  .colab-df-quickchart-complete:disabled:hover {\n",
              "    background-color: var(--disabled-bg-color);\n",
              "    fill: var(--disabled-fill-color);\n",
              "    box-shadow: none;\n",
              "  }\n",
              "\n",
              "  .colab-df-spinner {\n",
              "    border: 2px solid var(--fill-color);\n",
              "    border-color: transparent;\n",
              "    border-bottom-color: var(--fill-color);\n",
              "    animation:\n",
              "      spin 1s steps(1) infinite;\n",
              "  }\n",
              "\n",
              "  @keyframes spin {\n",
              "    0% {\n",
              "      border-color: transparent;\n",
              "      border-bottom-color: var(--fill-color);\n",
              "      border-left-color: var(--fill-color);\n",
              "    }\n",
              "    20% {\n",
              "      border-color: transparent;\n",
              "      border-left-color: var(--fill-color);\n",
              "      border-top-color: var(--fill-color);\n",
              "    }\n",
              "    30% {\n",
              "      border-color: transparent;\n",
              "      border-left-color: var(--fill-color);\n",
              "      border-top-color: var(--fill-color);\n",
              "      border-right-color: var(--fill-color);\n",
              "    }\n",
              "    40% {\n",
              "      border-color: transparent;\n",
              "      border-right-color: var(--fill-color);\n",
              "      border-top-color: var(--fill-color);\n",
              "    }\n",
              "    60% {\n",
              "      border-color: transparent;\n",
              "      border-right-color: var(--fill-color);\n",
              "    }\n",
              "    80% {\n",
              "      border-color: transparent;\n",
              "      border-right-color: var(--fill-color);\n",
              "      border-bottom-color: var(--fill-color);\n",
              "    }\n",
              "    90% {\n",
              "      border-color: transparent;\n",
              "      border-bottom-color: var(--fill-color);\n",
              "    }\n",
              "  }\n",
              "</style>\n",
              "\n",
              "  <script>\n",
              "    async function quickchart(key) {\n",
              "      const quickchartButtonEl =\n",
              "        document.querySelector('#' + key + ' button');\n",
              "      quickchartButtonEl.disabled = true;  // To prevent multiple clicks.\n",
              "      quickchartButtonEl.classList.add('colab-df-spinner');\n",
              "      try {\n",
              "        const charts = await google.colab.kernel.invokeFunction(\n",
              "            'suggestCharts', [key], {});\n",
              "      } catch (error) {\n",
              "        console.error('Error during call to suggestCharts:', error);\n",
              "      }\n",
              "      quickchartButtonEl.classList.remove('colab-df-spinner');\n",
              "      quickchartButtonEl.classList.add('colab-df-quickchart-complete');\n",
              "    }\n",
              "    (() => {\n",
              "      let quickchartButtonEl =\n",
              "        document.querySelector('#df-245a7513-872f-47a6-b0be-411f57bad86c button');\n",
              "      quickchartButtonEl.style.display =\n",
              "        google.colab.kernel.accessAllowed ? 'block' : 'none';\n",
              "    })();\n",
              "  </script>\n",
              "</div>\n",
              "    </div>\n",
              "  </div>\n"
            ],
            "application/vnd.google.colaboratory.intrinsic+json": {
              "type": "dataframe",
              "variable_name": "fi",
              "summary": "{\n  \"name\": \"fi\",\n  \"rows\": 10,\n  \"fields\": [\n    {\n      \"column\": \"S.No. \",\n      \"properties\": {\n        \"dtype\": \"number\",\n        \"std\": 3,\n        \"min\": 1,\n        \"max\": 10,\n        \"num_unique_values\": 10,\n        \"samples\": [\n          9,\n          2,\n          6\n        ],\n        \"semantic_type\": \"\",\n        \"description\": \"\"\n      }\n    },\n    {\n      \"column\": \"DO (mg/L)\",\n      \"properties\": {\n        \"dtype\": \"number\",\n        \"std\": 0.49027883223053126,\n        \"min\": 4.5,\n        \"max\": 5.9,\n        \"num_unique_values\": 8,\n        \"samples\": [\n          5.9,\n          4.5,\n          5.5\n        ],\n        \"semantic_type\": \"\",\n        \"description\": \"\"\n      }\n    },\n    {\n      \"column\": \"pH\",\n      \"properties\": {\n        \"dtype\": \"number\",\n        \"std\": 0.18905907366041283,\n        \"min\": 7.66,\n        \"max\": 8.21,\n        \"num_unique_values\": 9,\n        \"samples\": [\n          7.98,\n          7.66,\n          7.99\n        ],\n        \"semantic_type\": \"\",\n        \"description\": \"\"\n      }\n    },\n    {\n      \"column\": \"BOD (mg/L)\",\n      \"properties\": {\n        \"dtype\": \"number\",\n        \"std\": 7.7266811187670426,\n        \"min\": 1.4,\n        \"max\": 27.0,\n        \"num_unique_values\": 8,\n        \"samples\": [\n          2.2,\n          2.8,\n          4.4\n        ],\n        \"semantic_type\": \"\",\n        \"description\": \"\"\n      }\n    },\n    {\n      \"column\": \"Turbidity (NTU)\",\n      \"properties\": {\n        \"dtype\": \"number\",\n        \"std\": 7.983489907998326,\n        \"min\": 5.5,\n        \"max\": 30.0,\n        \"num_unique_values\": 7,\n        \"samples\": [\n          18.0,\n          11.0,\n          8.0\n        ],\n        \"semantic_type\": \"\",\n        \"description\": \"\"\n      }\n    },\n    {\n      \"column\": \"COD (mg/L)\",\n      \"properties\": {\n        \"dtype\": \"number\",\n        \"std\": 5,\n        \"min\": 16,\n        \"max\": 34,\n        \"num_unique_values\": 8,\n        \"samples\": [\n          20,\n          26,\n          22\n        ],\n        \"semantic_type\": \"\",\n        \"description\": \"\"\n      }\n    },\n    {\n      \"column\": \"TDS (mg/L)\",\n      \"properties\": {\n        \"dtype\": \"number\",\n        \"std\": 85.33301041605567,\n        \"min\": 207.0,\n        \"max\": 499.0,\n        \"num_unique_values\": 10,\n        \"samples\": [\n          355.0,\n          207.0,\n          443.0\n        ],\n        \"semantic_type\": \"\",\n        \"description\": \"\"\n      }\n    },\n    {\n      \"column\": \"EC\",\n      \"properties\": {\n        \"dtype\": \"number\",\n        \"std\": 99,\n        \"min\": 497,\n        \"max\": 821,\n        \"num_unique_values\": 10,\n        \"samples\": [\n          578,\n          595,\n          720\n        ],\n        \"semantic_type\": \"\",\n        \"description\": \"\"\n      }\n    },\n    {\n      \"column\": \"TSS (mg/L)\",\n      \"properties\": {\n        \"dtype\": \"number\",\n        \"std\": 3.3011950698025845,\n        \"min\": 6.0,\n        \"max\": 17.0,\n        \"num_unique_values\": 7,\n        \"samples\": [\n          6.0,\n          14.0,\n          11.0\n        ],\n        \"semantic_type\": \"\",\n        \"description\": \"\"\n      }\n    },\n    {\n      \"column\": \"Year\",\n      \"properties\": {\n        \"dtype\": \"number\",\n        \"std\": 3,\n        \"min\": 2014,\n        \"max\": 2023,\n        \"num_unique_values\": 10,\n        \"samples\": [\n          2022,\n          2015,\n          2019\n        ],\n        \"semantic_type\": \"\",\n        \"description\": \"\"\n      }\n    }\n  ]\n}"
            }
          },
          "metadata": {},
          "execution_count": 3
        }
      ]
    },
    {
      "cell_type": "code",
      "source": [
        "cols = list(fi)[1:8]\n",
        "print(cols)"
      ],
      "metadata": {
        "colab": {
          "base_uri": "https://localhost:8080/"
        },
        "id": "XsMeQLLFGqgf",
        "outputId": "70d8ff63-127e-4594-a6f7-d3a4e2cc2405"
      },
      "execution_count": null,
      "outputs": [
        {
          "output_type": "stream",
          "name": "stdout",
          "text": [
            "['DO (mg/L)', 'pH', 'BOD (mg/L)', 'Turbidity (NTU)', 'COD (mg/L)', 'TDS (mg/L)', 'EC']\n"
          ]
        }
      ]
    },
    {
      "cell_type": "code",
      "source": [
        "df_for_training = fi[cols].astype(float)\n",
        "df_for_training.plot()"
      ],
      "metadata": {
        "colab": {
          "base_uri": "https://localhost:8080/",
          "height": 447
        },
        "id": "Gztls76KHDB2",
        "outputId": "5d63193f-5d6d-4782-a406-640726ff433f"
      },
      "execution_count": null,
      "outputs": [
        {
          "output_type": "execute_result",
          "data": {
            "text/plain": [
              "<Axes: >"
            ]
          },
          "metadata": {},
          "execution_count": 5
        },
        {
          "output_type": "display_data",
          "data": {
            "text/plain": [
              "<Figure size 640x480 with 1 Axes>"
            ],
            "image/png": "[encoded data removed]"
          },
          "metadata": {}
        }
      ]
    },
    {
      "cell_type": "code",
      "source": [
        "scaler = StandardScaler()\n",
        "scaler = scaler.fit(df_for_training)\n",
        "df_for_training_scaled = scaler.transform(df_for_training)\n",
        "df_for_training"
      ],
      "metadata": {
        "colab": {
          "base_uri": "https://localhost:8080/",
          "height": 363
        },
        "id": "m4k7E8tMHIx7",
        "outputId": "25cac2d9-6722-4382-9bff-4c1643a74776"
      },
      "execution_count": null,
      "outputs": [
        {
          "output_type": "execute_result",
          "data": {
            "text/plain": [
              "   DO (mg/L)    pH  BOD (mg/L)  Turbidity (NTU)  COD (mg/L)  TDS (mg/L)     EC\n",
              "0       5.50  8.21        4.40             18.0        22.0       362.0  597.0\n",
              "1       5.90  7.66        2.20             11.0        20.0       207.0  595.0\n",
              "2       5.20  8.13       27.00             30.0        27.0       311.0  497.0\n",
              "3       4.60  8.21        3.00             16.0        34.0       469.0  712.0\n",
              "4       5.40  8.04        3.00              6.0        23.0       499.0  821.0\n",
              "5       4.50  7.90        4.30              6.0        26.0       443.0  720.0\n",
              "6       5.20  7.99        2.80              8.0        23.0       337.0  558.0\n",
              "7       5.50  7.84        2.20              6.0        17.0       331.0  551.0\n",
              "8       5.80  7.98        1.40              6.0        16.0       355.0  578.0\n",
              "9       5.88  7.73        1.63              5.5        20.0       337.6  560.0"
            ],
            "text/html": [
              "\n",
              "  <div id=\"df-007cf032-4384-468b-a532-f615ce287594\" class=\"colab-df-container\">\n",
              "    <div>\n",
              "<style scoped>\n",
              "    .dataframe tbody tr th:only-of-type {\n",
              "        vertical-align: middle;\n",
              "    }\n",
              "\n",
              "    .dataframe tbody tr th {\n",
              "        vertical-align: top;\n",
              "    }\n",
              "\n",
              "    .dataframe thead th {\n",
              "        text-align: right;\n",
              "    }\n",
              "</style>\n",
              "<table border=\"1\" class=\"dataframe\">\n",
              "  <thead>\n",
              "    <tr style=\"text-align: right;\">\n",
              "      <th></th>\n",
              "      <th>DO (mg/L)</th>\n",
              "      <th>pH</th>\n",
              "      <th>BOD (mg/L)</th>\n",
              "      <th>Turbidity (NTU)</th>\n",
              "      <th>COD (mg/L)</th>\n",
              "      <th>TDS (mg/L)</th>\n",
              "      <th>EC</th>\n",
              "    </tr>\n",
              "  </thead>\n",
              "  <tbody>\n",
              "    <tr>\n",
              "      <th>0</th>\n",
              "      <td>5.50</td>\n",
              "      <td>8.21</td>\n",
              "      <td>4.40</td>\n",
              "      <td>18.0</td>\n",
              "      <td>22.0</td>\n",
              "      <td>362.0</td>\n",
              "      <td>597.0</td>\n",
              "    </tr>\n",
              "    <tr>\n",
              "      <th>1</th>\n",
              "      <td>5.90</td>\n",
              "      <td>7.66</td>\n",
              "      <td>2.20</td>\n",
              "      <td>11.0</td>\n",
              "      <td>20.0</td>\n",
              "      <td>207.0</td>\n",
              "      <td>595.0</td>\n",
              "    </tr>\n",
              "    <tr>\n",
              "      <th>2</th>\n",
              "      <td>5.20</td>\n",
              "      <td>8.13</td>\n",
              "      <td>27.00</td>\n",
              "      <td>30.0</td>\n",
              "      <td>27.0</td>\n",
              "      <td>311.0</td>\n",
              "      <td>497.0</td>\n",
              "    </tr>\n",
              "    <tr>\n",
              "      <th>3</th>\n",
              "      <td>4.60</td>\n",
              "      <td>8.21</td>\n",
              "      <td>3.00</td>\n",
              "      <td>16.0</td>\n",
              "      <td>34.0</td>\n",
              "      <td>469.0</td>\n",
              "      <td>712.0</td>\n",
              "    </tr>\n",
              "    <tr>\n",
              "      <th>4</th>\n",
              "      <td>5.40</td>\n",
              "      <td>8.04</td>\n",
              "      <td>3.00</td>\n",
              "      <td>6.0</td>\n",
              "      <td>23.0</td>\n",
              "      <td>499.0</td>\n",
              "      <td>821.0</td>\n",
              "    </tr>\n",
              "    <tr>\n",
              "      <th>5</th>\n",
              "      <td>4.50</td>\n",
              "      <td>7.90</td>\n",
              "      <td>4.30</td>\n",
              "      <td>6.0</td>\n",
              "      <td>26.0</td>\n",
              "      <td>443.0</td>\n",
              "      <td>720.0</td>\n",
              "    </tr>\n",
              "    <tr>\n",
              "      <th>6</th>\n",
              "      <td>5.20</td>\n",
              "      <td>7.99</td>\n",
              "      <td>2.80</td>\n",
              "      <td>8.0</td>\n",
              "      <td>23.0</td>\n",
              "      <td>337.0</td>\n",
              "      <td>558.0</td>\n",
              "    </tr>\n",
              "    <tr>\n",
              "      <th>7</th>\n",
              "      <td>5.50</td>\n",
              "      <td>7.84</td>\n",
              "      <td>2.20</td>\n",
              "      <td>6.0</td>\n",
              "      <td>17.0</td>\n",
              "      <td>331.0</td>\n",
              "      <td>551.0</td>\n",
              "    </tr>\n",
              "    <tr>\n",
              "      <th>8</th>\n",
              "      <td>5.80</td>\n",
              "      <td>7.98</td>\n",
              "      <td>1.40</td>\n",
              "      <td>6.0</td>\n",
              "      <td>16.0</td>\n",
              "      <td>355.0</td>\n",
              "      <td>578.0</td>\n",
              "    </tr>\n",
              "    <tr>\n",
              "      <th>9</th>\n",
              "      <td>5.88</td>\n",
              "      <td>7.73</td>\n",
              "      <td>1.63</td>\n",
              "      <td>5.5</td>\n",
              "      <td>20.0</td>\n",
              "      <td>337.6</td>\n",
              "      <td>560.0</td>\n",
              "    </tr>\n",
              "  </tbody>\n",
              "</table>\n",
              "</div>\n",
              "    <div class=\"colab-df-buttons\">\n",
              "\n",
              "  <div class=\"colab-df-container\">\n",
              "    <button class=\"colab-df-convert\" onclick=\"convertToInteractive('df-007cf032-4384-468b-a532-f615ce287594')\"\n",
              "            title=\"Convert this dataframe to an interactive table.\"\n",
              "            style=\"display:none;\">\n",
              "\n",
              "  <svg xmlns=\"http://www.w3.org/2000/svg\" height=\"24px\" viewBox=\"0 -960 960 960\">\n",
              "    <path d=\"M120-120v-720h720v720H120Zm60-500h600v-160H180v160Zm220 220h160v-160H400v160Zm0 220h160v-160H400v160ZM180-400h160v-160H180v160Zm440 0h160v-160H620v160ZM180-180h160v-160H180v160Zm440 0h160v-160H620v160Z\"/>\n",
              "  </svg>\n",
              "    </button>\n",
              "\n",
              "  <style>\n",
              "    .colab-df-container {\n",
              "      display:flex;\n",
              "      gap: 12px;\n",
              "    }\n",
              "\n",
              "    .colab-df-convert {\n",
              "      background-color: #E8F0FE;\n",
              "      border: none;\n",
              "      border-radius: 50%;\n",
              "      cursor: pointer;\n",
              "      display: none;\n",
              "      fill: #1967D2;\n",
              "      height: 32px;\n",
              "      padding: 0 0 0 0;\n",
              "      width: 32px;\n",
              "    }\n",
              "\n",
              "    .colab-df-convert:hover {\n",
              "      background-color: #E2EBFA;\n",
              "      box-shadow: 0px 1px 2px rgba(60, 64, 67, 0.3), 0px 1px 3px 1px rgba(60, 64, 67, 0.15);\n",
              "      fill: #174EA6;\n",
              "    }\n",
              "\n",
              "    .colab-df-buttons div {\n",
              "      margin-bottom: 4px;\n",
              "    }\n",
              "\n",
              "    [theme=dark] .colab-df-convert {\n",
              "      background-color: #3B4455;\n",
              "      fill: #D2E3FC;\n",
              "    }\n",
              "\n",
              "    [theme=dark] .colab-df-convert:hover {\n",
              "      background-color: #434B5C;\n",
              "      box-shadow: 0px 1px 3px 1px rgba(0, 0, 0, 0.15);\n",
              "      filter: drop-shadow(0px 1px 2px rgba(0, 0, 0, 0.3));\n",
              "      fill: #FFFFFF;\n",
              "    }\n",
              "  </style>\n",
              "\n",
              "    <script>\n",
              "      const buttonEl =\n",
              "        document.querySelector('#df-007cf032-4384-468b-a532-f615ce287594 button.colab-df-convert');\n",
              "      buttonEl.style.display =\n",
              "        google.colab.kernel.accessAllowed ? 'block' : 'none';\n",
              "\n",
              "      async function convertToInteractive(key) {\n",
              "        const element = document.querySelector('#df-007cf032-4384-468b-a532-f615ce287594');\n",
              "        const dataTable =\n",
              "          await google.colab.kernel.invokeFunction('convertToInteractive',\n",
              "                                                    [key], {});\n",
              "        if (!dataTable) return;\n",
              "\n",
              "        const docLinkHtml = 'Like what you see? Visit the ' +\n",
              "          '<a target=\"_blank\" href=https://colab.research.google.com/notebooks/data_table.ipynb>data table notebook</a>'\n",
              "          + ' to learn more about interactive tables.';\n",
              "        element.innerHTML = '';\n",
              "        dataTable['output_type'] = 'display_data';\n",
              "        await google.colab.output.renderOutput(dataTable, element);\n",
              "        const docLink = document.createElement('div');\n",
              "        docLink.innerHTML = docLinkHtml;\n",
              "        element.appendChild(docLink);\n",
              "      }\n",
              "    </script>\n",
              "  </div>\n",
              "\n",
              "\n",
              "<div id=\"df-878ffb1d-3e0e-434f-a739-0b827077b284\">\n",
              "  <button class=\"colab-df-quickchart\" onclick=\"quickchart('df-878ffb1d-3e0e-434f-a739-0b827077b284')\"\n",
              "            title=\"Suggest charts\"\n",
              "            style=\"display:none;\">\n",
              "\n",
              "<svg xmlns=\"http://www.w3.org/2000/svg\" height=\"24px\"viewBox=\"0 0 24 24\"\n",
              "     width=\"24px\">\n",
              "    <g>\n",
              "        <path d=\"M19 3H5c-1.1 0-2 .9-2 2v14c0 1.1.9 2 2 2h14c1.1 0 2-.9 2-2V5c0-1.1-.9-2-2-2zM9 17H7v-7h2v7zm4 0h-2V7h2v10zm4 0h-2v-4h2v4z\"/>\n",
              "    </g>\n",
              "</svg>\n",
              "  </button>\n",
              "\n",
              "<style>\n",
              "  .colab-df-quickchart {\n",
              "      --bg-color: #E8F0FE;\n",
              "      --fill-color: #1967D2;\n",
              "      --hover-bg-color: #E2EBFA;\n",
              "      --hover-fill-color: #174EA6;\n",
              "      --disabled-fill-color: #AAA;\n",
              "      --disabled-bg-color: #DDD;\n",
              "  }\n",
              "\n",
              "  [theme=dark] .colab-df-quickchart {\n",
              "      --bg-color: #3B4455;\n",
              "      --fill-color: #D2E3FC;\n",
              "      --hover-bg-color: #434B5C;\n",
              "      --hover-fill-color: #FFFFFF;\n",
              "      --disabled-bg-color: #3B4455;\n",
              "      --disabled-fill-color: #666;\n",
              "  }\n",
              "\n",
              "  .colab-df-quickchart {\n",
              "    background-color: var(--bg-color);\n",
              "    border: none;\n",
              "    border-radius: 50%;\n",
              "    cursor: pointer;\n",
              "    display: none;\n",
              "    fill: var(--fill-color);\n",
              "    height: 32px;\n",
              "    padding: 0;\n",
              "    width: 32px;\n",
              "  }\n",
              "\n",
              "  .colab-df-quickchart:hover {\n",
              "    background-color: var(--hover-bg-color);\n",
              "    box-shadow: 0 1px 2px rgba(60, 64, 67, 0.3), 0 1px 3px 1px rgba(60, 64, 67, 0.15);\n",
              "    fill: var(--button-hover-fill-color);\n",
              "  }\n",
              "\n",
              "  .colab-df-quickchart-complete:disabled,\n",
              "  .colab-df-quickchart-complete:disabled:hover {\n",
              "    background-color: var(--disabled-bg-color);\n",
              "    fill: var(--disabled-fill-color);\n",
              "    box-shadow: none;\n",
              "  }\n",
              "\n",
              "  .colab-df-spinner {\n",
              "    border: 2px solid var(--fill-color);\n",
              "    border-color: transparent;\n",
              "    border-bottom-color: var(--fill-color);\n",
              "    animation:\n",
              "      spin 1s steps(1) infinite;\n",
              "  }\n",
              "\n",
              "  @keyframes spin {\n",
              "    0% {\n",
              "      border-color: transparent;\n",
              "      border-bottom-color: var(--fill-color);\n",
              "      border-left-color: var(--fill-color);\n",
              "    }\n",
              "    20% {\n",
              "      border-color: transparent;\n",
              "      border-left-color: var(--fill-color);\n",
              "      border-top-color: var(--fill-color);\n",
              "    }\n",
              "    30% {\n",
              "      border-color: transparent;\n",
              "      border-left-color: var(--fill-color);\n",
              "      border-top-color: var(--fill-color);\n",
              "      border-right-color: var(--fill-color);\n",
              "    }\n",
              "    40% {\n",
              "      border-color: transparent;\n",
              "      border-right-color: var(--fill-color);\n",
              "      border-top-color: var(--fill-color);\n",
              "    }\n",
              "    60% {\n",
              "      border-color: transparent;\n",
              "      border-right-color: var(--fill-color);\n",
              "    }\n",
              "    80% {\n",
              "      border-color: transparent;\n",
              "      border-right-color: var(--fill-color);\n",
              "      border-bottom-color: var(--fill-color);\n",
              "    }\n",
              "    90% {\n",
              "      border-color: transparent;\n",
              "      border-bottom-color: var(--fill-color);\n",
              "    }\n",
              "  }\n",
              "</style>\n",
              "\n",
              "  <script>\n",
              "    async function quickchart(key) {\n",
              "      const quickchartButtonEl =\n",
              "        document.querySelector('#' + key + ' button');\n",
              "      quickchartButtonEl.disabled = true;  // To prevent multiple clicks.\n",
              "      quickchartButtonEl.classList.add('colab-df-spinner');\n",
              "      try {\n",
              "        const charts = await google.colab.kernel.invokeFunction(\n",
              "            'suggestCharts', [key], {});\n",
              "      } catch (error) {\n",
              "        console.error('Error during call to suggestCharts:', error);\n",
              "      }\n",
              "      quickchartButtonEl.classList.remove('colab-df-spinner');\n",
              "      quickchartButtonEl.classList.add('colab-df-quickchart-complete');\n",
              "    }\n",
              "    (() => {\n",
              "      let quickchartButtonEl =\n",
              "        document.querySelector('#df-878ffb1d-3e0e-434f-a739-0b827077b284 button');\n",
              "      quickchartButtonEl.style.display =\n",
              "        google.colab.kernel.accessAllowed ? 'block' : 'none';\n",
              "    })();\n",
              "  </script>\n",
              "</div>\n",
              "    </div>\n",
              "  </div>\n"
            ],
            "application/vnd.google.colaboratory.intrinsic+json": {
              "type": "dataframe",
              "variable_name": "df_for_training",
              "summary": "{\n  \"name\": \"df_for_training\",\n  \"rows\": 10,\n  \"fields\": [\n    {\n      \"column\": \"DO (mg/L)\",\n      \"properties\": {\n        \"dtype\": \"number\",\n        \"std\": 0.49027883223053126,\n        \"min\": 4.5,\n        \"max\": 5.9,\n        \"num_unique_values\": 8,\n        \"samples\": [\n          5.9,\n          4.5,\n          5.5\n        ],\n        \"semantic_type\": \"\",\n        \"description\": \"\"\n      }\n    },\n    {\n      \"column\": \"pH\",\n      \"properties\": {\n        \"dtype\": \"number\",\n        \"std\": 0.18905907366041283,\n        \"min\": 7.66,\n        \"max\": 8.21,\n        \"num_unique_values\": 9,\n        \"samples\": [\n          7.98,\n          7.66,\n          7.99\n        ],\n        \"semantic_type\": \"\",\n        \"description\": \"\"\n      }\n    },\n    {\n      \"column\": \"BOD (mg/L)\",\n      \"properties\": {\n        \"dtype\": \"number\",\n        \"std\": 7.7266811187670426,\n        \"min\": 1.4,\n        \"max\": 27.0,\n        \"num_unique_values\": 8,\n        \"samples\": [\n          2.2,\n          2.8,\n          4.4\n        ],\n        \"semantic_type\": \"\",\n        \"description\": \"\"\n      }\n    },\n    {\n      \"column\": \"Turbidity (NTU)\",\n      \"properties\": {\n        \"dtype\": \"number\",\n        \"std\": 7.983489907998326,\n        \"min\": 5.5,\n        \"max\": 30.0,\n        \"num_unique_values\": 7,\n        \"samples\": [\n          18.0,\n          11.0,\n          8.0\n        ],\n        \"semantic_type\": \"\",\n        \"description\": \"\"\n      }\n    },\n    {\n      \"column\": \"COD (mg/L)\",\n      \"properties\": {\n        \"dtype\": \"number\",\n        \"std\": 5.266244708835067,\n        \"min\": 16.0,\n        \"max\": 34.0,\n        \"num_unique_values\": 8,\n        \"samples\": [\n          20.0,\n          26.0,\n          22.0\n        ],\n        \"semantic_type\": \"\",\n        \"description\": \"\"\n      }\n    },\n    {\n      \"column\": \"TDS (mg/L)\",\n      \"properties\": {\n        \"dtype\": \"number\",\n        \"std\": 85.33301041605567,\n        \"min\": 207.0,\n        \"max\": 499.0,\n        \"num_unique_values\": 10,\n        \"samples\": [\n          355.0,\n          207.0,\n          443.0\n        ],\n        \"semantic_type\": \"\",\n        \"description\": \"\"\n      }\n    },\n    {\n      \"column\": \"EC\",\n      \"properties\": {\n        \"dtype\": \"number\",\n        \"std\": 99.50147960932262,\n        \"min\": 497.0,\n        \"max\": 821.0,\n        \"num_unique_values\": 10,\n        \"samples\": [\n          578.0,\n          595.0,\n          720.0\n        ],\n        \"semantic_type\": \"\",\n        \"description\": \"\"\n      }\n    }\n  ]\n}"
            }
          },
          "metadata": {},
          "execution_count": 6
        }
      ]
    },
    {
      "cell_type": "code",
      "source": [
        "n_future = 1\n",
        "n_past = 3"
      ],
      "metadata": {
        "id": "EY1rIh68HNYl"
      },
      "execution_count": null,
      "outputs": []
    },
    {
      "cell_type": "code",
      "source": [
        "trainX = []\n",
        "trainYP = []\n",
        "trainYN = []\n",
        "trainYS = []\n",
        "trainYA = []\n",
        "trainYB = []\n",
        "trainYC = []\n",
        "trainYD = []"
      ],
      "metadata": {
        "id": "8bXT7Y8cHaEB"
      },
      "execution_count": null,
      "outputs": []
    },
    {
      "cell_type": "code",
      "source": [
        "for i in range(n_past, len(df_for_training_scaled) - n_future +1):\n",
        "  trainX.append(df_for_training_scaled[i - n_past:i, 0:df_for_training.shape[1]])\n",
        "  trainYP.append(df_for_training_scaled[i + n_future - 1:i + n_future, 0])\n",
        "  trainYN.append(df_for_training_scaled[i + n_future - 1:i + n_future, 1])\n",
        "  trainYS.append(df_for_training_scaled[i + n_future - 1:i + n_future, 2])\n",
        "  trainYA.append(df_for_training_scaled[i + n_future - 1:i + n_future, 3])\n",
        "  trainYB.append(df_for_training_scaled[i + n_future - 1:i + n_future, 4])\n",
        "  trainYC.append(df_for_training_scaled[i + n_future - 1:i + n_future, 5])\n",
        "  trainYD.append(df_for_training_scaled[i + n_future - 1:i + n_future, 6])\n"
      ],
      "metadata": {
        "id": "fFfRokTaHmHB"
      },
      "execution_count": null,
      "outputs": []
    },
    {
      "cell_type": "code",
      "source": [],
      "metadata": {
        "id": "E0dhLicONY-A"
      },
      "execution_count": null,
      "outputs": []
    },
    {
      "cell_type": "code",
      "source": [
        "print( trainX)\n",
        "print(trainYP)"
      ],
      "metadata": {
        "colab": {
          "base_uri": "https://localhost:8080/"
        },
        "id": "gt_zNQMEH6Jc",
        "outputId": "9a14e2b1-faac-4b12-c173-b265516750be"
      },
      "execution_count": null,
      "outputs": [
        {
          "output_type": "stream",
          "name": "stdout",
          "text": [
            "[array([[ 0.32679785,  1.34368745, -0.10818298,  0.89122988, -0.16012815,\n",
            "        -0.03903451, -0.23200285],\n",
            "       [ 1.18679219, -1.72281918, -0.40831231, -0.03300851, -0.56044854,\n",
            "        -1.95370206, -0.25319033],\n",
            "       [-0.31819791,  0.89765012,  2.97496376,  2.47563855,  0.84067281,\n",
            "        -0.6690219 , -1.2913766 ]]), array([[ 1.18679219, -1.72281918, -0.40831231, -0.03300851, -0.56044854,\n",
            "        -1.95370206, -0.25319033],\n",
            "       [-0.31819791,  0.89765012,  2.97496376,  2.47563855,  0.84067281,\n",
            "        -0.6690219 , -1.2913766 ],\n",
            "       [-1.60818942,  1.34368745, -0.29917437,  0.62716177,  2.24179415,\n",
            "         1.28270373,  0.98627696]]), array([[-0.31819791,  0.89765012,  2.97496376,  2.47563855,  0.84067281,\n",
            "        -0.6690219 , -1.2913766 ],\n",
            "       [-1.60818942,  1.34368745, -0.29917437,  0.62716177,  2.24179415,\n",
            "         1.28270373,  0.98627696],\n",
            "       [ 0.11179926,  0.39585813, -0.29917437, -0.69317879,  0.04003204,\n",
            "         1.65328455,  2.14099434]]), array([[-1.60818942,  1.34368745, -0.29917437,  0.62716177,  2.24179415,\n",
            "         1.28270373,  0.98627696],\n",
            "       [ 0.11179926,  0.39585813, -0.29917437, -0.69317879,  0.04003204,\n",
            "         1.65328455,  2.14099434],\n",
            "       [-1.823188  , -0.3847072 , -0.12182522, -0.69317879,  0.64051262,\n",
            "         0.96153369,  1.07102686]]), array([[ 0.11179926,  0.39585813, -0.29917437, -0.69317879,  0.04003204,\n",
            "         1.65328455,  2.14099434],\n",
            "       [-1.823188  , -0.3847072 , -0.12182522, -0.69317879,  0.64051262,\n",
            "         0.96153369,  1.07102686],\n",
            "       [-0.31819791,  0.1170848 , -0.32645886, -0.42911068,  0.04003204,\n",
            "        -0.34785186, -0.64515861]]), array([[-1.823188  , -0.3847072 , -0.12182522, -0.69317879,  0.64051262,\n",
            "         0.96153369,  1.07102686],\n",
            "       [-0.31819791,  0.1170848 , -0.32645886, -0.42911068,  0.04003204,\n",
            "        -0.34785186, -0.64515861],\n",
            "       [ 0.32679785, -0.71923519, -0.40831231, -0.69317879, -1.16092912,\n",
            "        -0.42196802, -0.71931477]]), array([[-0.31819791,  0.1170848 , -0.32645886, -0.42911068,  0.04003204,\n",
            "        -0.34785186, -0.64515861],\n",
            "       [ 0.32679785, -0.71923519, -0.40831231, -0.69317879, -1.16092912,\n",
            "        -0.42196802, -0.71931477],\n",
            "       [ 0.97179361,  0.06133013, -0.51745025, -0.69317879, -1.36108931,\n",
            "        -0.12550337, -0.43328386]])]\n",
            "[array([-1.60818942]), array([0.11179926]), array([-1.823188]), array([-0.31819791]), array([0.32679785]), array([0.97179361]), array([1.14379247])]\n"
          ]
        }
      ]
    },
    {
      "cell_type": "code",
      "source": [
        "trainX, trainYP, trainYN, trainYS,trainYA,trainYB,trainYC,trainYD= np.array(trainX), np.array(trainYP), np.array(trainYN), np.array(trainYS),np.array(trainYA),np.array(trainYB),np.array(trainYC),np.array(trainYD)\n",
        "print('trainX shape == {}.'.format(trainX.shape))\n",
        "print('trainYP shape == {}.'.format(trainYP.shape))\n",
        "print('trainYN shape == {}.'.format(trainYN.shape))\n",
        "print('trainYS shape == {}.'.format(trainYS.shape))\n",
        "print('trainYA shape == {}.'.format(trainYA.shape))\n",
        "print('trainYB shape == {}.'.format(trainYB.shape))\n",
        "print('trainYC shape == {}.'.format(trainYC.shape))\n",
        "print('trainYD shape == {}.'.format(trainYD.shape))"
      ],
      "metadata": {
        "colab": {
          "base_uri": "https://localhost:8080/"
        },
        "id": "AvXlpmvpNaGA",
        "outputId": "03220445-e8f3-49a8-bfcd-2c2fb75d46ac"
      },
      "execution_count": null,
      "outputs": [
        {
          "output_type": "stream",
          "name": "stdout",
          "text": [
            "trainX shape == (7, 3, 7).\n",
            "trainYP shape == (7, 1).\n",
            "trainYN shape == (7, 1).\n",
            "trainYS shape == (7, 1).\n",
            "trainYA shape == (7, 1).\n",
            "trainYB shape == (7, 1).\n",
            "trainYC shape == (7, 1).\n",
            "trainYD shape == (7, 1).\n"
          ]
        }
      ]
    },
    {
      "cell_type": "code",
      "source": [
        "list1=[]"
      ],
      "metadata": {
        "id": "oovBNf2EtsUU"
      },
      "execution_count": null,
      "outputs": []
    },
    {
      "cell_type": "code",
      "source": [
        "modelP = Sequential()\n",
        "modelP.add(LSTM(64, activation='relu', input_shape=(trainX.shape[1], trainX.shape[2]), return_sequences=True))\n",
        "modelP.add(LSTM(32, activation='relu', return_sequences=False))\n",
        "modelP.add(Dropout(0.2))\n",
        "modelP.add(Dense(trainYP.shape[1]))"
      ],
      "metadata": {
        "id": "8ftLaxqHN903"
      },
      "execution_count": null,
      "outputs": []
    },
    {
      "cell_type": "code",
      "source": [
        "modelP.compile(optimizer='adam', loss='mse')\n",
        "modelP.summary()"
      ],
      "metadata": {
        "colab": {
          "base_uri": "https://localhost:8080/"
        },
        "id": "iniwhqBYOHLS",
        "outputId": "6c0a79d5-6009-49d7-e4a9-b67208ea6f69"
      },
      "execution_count": null,
      "outputs": [
        {
          "output_type": "stream",
          "name": "stdout",
          "text": [
            "Model: \"sequential\"\n",
            "_________________________________________________________________\n",
            " Layer (type)                Output Shape              Param #   \n",
            "=================================================================\n",
            " lstm (LSTM)                 (None, 3, 64)             18432     \n",
            "                                                                 \n",
            " lstm_1 (LSTM)               (None, 32)                12416     \n",
            "                                                                 \n",
            " dropout (Dropout)           (None, 32)                0         \n",
            "                                                                 \n",
            " dense (Dense)               (None, 1)                 33        \n",
            "                                                                 \n",
            "=================================================================\n",
            "Total params: 30881 (120.63 KB)\n",
            "Trainable params: 30881 (120.63 KB)\n",
            "Non-trainable params: 0 (0.00 Byte)\n",
            "_________________________________________________________________\n"
          ]
        }
      ]
    },
    {
      "cell_type": "code",
      "source": [
        "\n",
        "history = modelP.fit(trainX, trainYP, epochs=50, batch_size=4, validation_split=0.1, verbose=1)"
      ],
      "metadata": {
        "colab": {
          "base_uri": "https://localhost:8080/"
        },
        "id": "Fkl-wxkJOJhR",
        "outputId": "abe6efa3-cf01-411a-affd-246fa03fe049"
      },
      "execution_count": null,
      "outputs": [
        {
          "output_type": "stream",
          "name": "stdout",
          "text": [
            "Epoch 1/50\n",
            "2/2 [==============================] - 5s 701ms/step - loss: 1.1823 - val_loss: 1.2923\n",
            "Epoch 2/50\n",
            "2/2 [==============================] - 0s 54ms/step - loss: 1.1332 - val_loss: 1.3022\n",
            "Epoch 3/50\n",
            "2/2 [==============================] - 0s 51ms/step - loss: 1.1216 - val_loss: 1.3123\n",
            "Epoch 4/50\n",
            "2/2 [==============================] - 0s 53ms/step - loss: 1.0815 - val_loss: 1.3176\n",
            "Epoch 5/50\n",
            "2/2 [==============================] - 0s 49ms/step - loss: 1.0599 - val_loss: 1.3258\n",
            "Epoch 6/50\n",
            "2/2 [==============================] - 0s 55ms/step - loss: 1.0293 - val_loss: 1.3324\n",
            "Epoch 7/50\n",
            "2/2 [==============================] - 0s 58ms/step - loss: 1.0266 - val_loss: 1.3379\n",
            "Epoch 8/50\n",
            "2/2 [==============================] - 0s 71ms/step - loss: 1.0097 - val_loss: 1.3412\n",
            "Epoch 9/50\n",
            "2/2 [==============================] - 0s 72ms/step - loss: 0.9984 - val_loss: 1.3459\n",
            "Epoch 10/50\n",
            "2/2 [==============================] - 0s 49ms/step - loss: 0.9631 - val_loss: 1.3510\n",
            "Epoch 11/50\n",
            "2/2 [==============================] - 0s 58ms/step - loss: 0.9700 - val_loss: 1.3510\n",
            "Epoch 12/50\n",
            "2/2 [==============================] - 0s 52ms/step - loss: 0.9268 - val_loss: 1.3538\n",
            "Epoch 13/50\n",
            "2/2 [==============================] - 0s 51ms/step - loss: 0.8979 - val_loss: 1.3591\n",
            "Epoch 14/50\n",
            "2/2 [==============================] - 0s 56ms/step - loss: 0.8486 - val_loss: 1.3599\n",
            "Epoch 15/50\n",
            "2/2 [==============================] - 0s 55ms/step - loss: 0.8636 - val_loss: 1.3534\n",
            "Epoch 16/50\n",
            "2/2 [==============================] - 0s 63ms/step - loss: 0.7879 - val_loss: 1.3447\n",
            "Epoch 17/50\n",
            "2/2 [==============================] - 0s 52ms/step - loss: 0.7710 - val_loss: 1.3317\n",
            "Epoch 18/50\n",
            "2/2 [==============================] - 0s 74ms/step - loss: 0.7014 - val_loss: 1.3131\n",
            "Epoch 19/50\n",
            "2/2 [==============================] - 0s 56ms/step - loss: 0.7135 - val_loss: 1.2924\n",
            "Epoch 20/50\n",
            "2/2 [==============================] - 0s 55ms/step - loss: 0.7165 - val_loss: 1.2744\n",
            "Epoch 21/50\n",
            "2/2 [==============================] - 0s 53ms/step - loss: 0.6675 - val_loss: 1.2502\n",
            "Epoch 22/50\n",
            "2/2 [==============================] - 0s 60ms/step - loss: 0.6472 - val_loss: 1.2240\n",
            "Epoch 23/50\n",
            "2/2 [==============================] - 0s 69ms/step - loss: 0.6782 - val_loss: 1.1991\n",
            "Epoch 24/50\n",
            "2/2 [==============================] - 0s 55ms/step - loss: 0.5123 - val_loss: 1.1714\n",
            "Epoch 25/50\n",
            "2/2 [==============================] - 0s 48ms/step - loss: 0.5485 - val_loss: 1.1468\n",
            "Epoch 26/50\n",
            "2/2 [==============================] - 0s 63ms/step - loss: 0.5042 - val_loss: 1.1188\n",
            "Epoch 27/50\n",
            "2/2 [==============================] - 0s 59ms/step - loss: 0.6088 - val_loss: 1.0838\n",
            "Epoch 28/50\n",
            "2/2 [==============================] - 0s 59ms/step - loss: 0.7165 - val_loss: 1.0465\n",
            "Epoch 29/50\n",
            "2/2 [==============================] - 0s 76ms/step - loss: 0.5040 - val_loss: 1.0106\n",
            "Epoch 30/50\n",
            "2/2 [==============================] - 0s 61ms/step - loss: 0.5021 - val_loss: 0.9763\n",
            "Epoch 31/50\n",
            "2/2 [==============================] - 0s 64ms/step - loss: 0.4237 - val_loss: 0.9447\n",
            "Epoch 32/50\n",
            "2/2 [==============================] - 0s 75ms/step - loss: 0.3526 - val_loss: 0.9059\n",
            "Epoch 33/50\n",
            "2/2 [==============================] - 0s 72ms/step - loss: 0.4157 - val_loss: 0.8624\n",
            "Epoch 34/50\n",
            "2/2 [==============================] - 0s 79ms/step - loss: 0.3624 - val_loss: 0.8217\n",
            "Epoch 35/50\n",
            "2/2 [==============================] - 0s 65ms/step - loss: 0.3605 - val_loss: 0.7747\n",
            "Epoch 36/50\n",
            "2/2 [==============================] - 0s 78ms/step - loss: 0.3673 - val_loss: 0.7272\n",
            "Epoch 37/50\n",
            "2/2 [==============================] - 0s 62ms/step - loss: 0.3815 - val_loss: 0.6754\n",
            "Epoch 38/50\n",
            "2/2 [==============================] - 0s 37ms/step - loss: 0.2844 - val_loss: 0.6201\n",
            "Epoch 39/50\n",
            "2/2 [==============================] - 0s 37ms/step - loss: 0.4541 - val_loss: 0.5553\n",
            "Epoch 40/50\n",
            "2/2 [==============================] - 0s 36ms/step - loss: 0.2271 - val_loss: 0.4880\n",
            "Epoch 41/50\n",
            "2/2 [==============================] - 0s 37ms/step - loss: 0.3215 - val_loss: 0.4206\n",
            "Epoch 42/50\n",
            "2/2 [==============================] - 0s 36ms/step - loss: 0.2554 - val_loss: 0.3599\n",
            "Epoch 43/50\n",
            "2/2 [==============================] - 0s 34ms/step - loss: 0.2950 - val_loss: 0.3007\n",
            "Epoch 44/50\n",
            "2/2 [==============================] - 0s 35ms/step - loss: 0.1862 - val_loss: 0.2540\n",
            "Epoch 45/50\n",
            "2/2 [==============================] - 0s 36ms/step - loss: 0.1953 - val_loss: 0.2104\n",
            "Epoch 46/50\n",
            "2/2 [==============================] - 0s 40ms/step - loss: 0.2041 - val_loss: 0.1692\n",
            "Epoch 47/50\n",
            "2/2 [==============================] - 0s 37ms/step - loss: 0.3338 - val_loss: 0.1373\n",
            "Epoch 48/50\n",
            "2/2 [==============================] - 0s 41ms/step - loss: 0.0709 - val_loss: 0.1158\n",
            "Epoch 49/50\n",
            "2/2 [==============================] - 0s 37ms/step - loss: 0.0371 - val_loss: 0.0930\n",
            "Epoch 50/50\n",
            "2/2 [==============================] - 0s 34ms/step - loss: 0.1551 - val_loss: 0.0633\n"
          ]
        }
      ]
    },
    {
      "cell_type": "code",
      "source": [
        "historyP = history"
      ],
      "metadata": {
        "id": "BbZcHsIyOd9D"
      },
      "execution_count": null,
      "outputs": []
    },
    {
      "cell_type": "code",
      "source": [
        "plt.plot(historyP.history['loss'], label='Training loss')\n",
        "plt.plot(historyP.history['val_loss'], label='Validation loss')\n",
        "plt.legend()"
      ],
      "metadata": {
        "colab": {
          "base_uri": "https://localhost:8080/",
          "height": 447
        },
        "id": "RkidKBV7Of6h",
        "outputId": "4b7fc325-59f7-4c89-a3e9-553ca63b8468"
      },
      "execution_count": null,
      "outputs": [
        {
          "output_type": "execute_result",
          "data": {
            "text/plain": [
              "<matplotlib.legend.Legend at 0x7a3e3744bfd0>"
            ]
          },
          "metadata": {},
          "execution_count": 17
        },
        {
          "output_type": "display_data",
          "data": {
            "text/plain": [
              "<Figure size 640x480 with 1 Axes>"
            ],
            "image/png": "[encoded data removed]"
          },
          "metadata": {}
        }
      ]
    },
    {
      "cell_type": "code",
      "source": [
        "predictionP = modelP.predict(trainX)"
      ],
      "metadata": {
        "colab": {
          "base_uri": "https://localhost:8080/"
        },
        "id": "JhArTUJWOjn_",
        "outputId": "a6d13087-4d21-45e9-a076-ea247b250d3f"
      },
      "execution_count": null,
      "outputs": [
        {
          "output_type": "stream",
          "name": "stdout",
          "text": [
            "1/1 [==============================] - 0s 375ms/step\n"
          ]
        }
      ]
    },
    {
      "cell_type": "code",
      "source": [
        "prediction_copiesP = np.repeat(predictionP, df_for_training.shape[1], axis=-1)\n",
        "y_pred_futureP = scaler.inverse_transform(prediction_copiesP)[:,0]"
      ],
      "metadata": {
        "id": "HQrnUDY4Pvuf"
      },
      "execution_count": null,
      "outputs": []
    },
    {
      "cell_type": "code",
      "source": [
        "print(y_pred_futureP)"
      ],
      "metadata": {
        "colab": {
          "base_uri": "https://localhost:8080/"
        },
        "id": "TTt-ZpSvP0c8",
        "outputId": "c7c5aae4-1665-488a-88c1-4e90436fbff4"
      },
      "execution_count": null,
      "outputs": [
        {
          "output_type": "stream",
          "name": "stdout",
          "text": [
            "[4.7352967 5.139647  4.3284817 5.188315  5.529246  5.771194  5.7630043]\n"
          ]
        }
      ]
    },
    {
      "cell_type": "code",
      "source": [
        "print(y_pred_futureP[-1])\n",
        "i=y_pred_futureP[-1]\n",
        "do=((i)*100/9)*0.3723\n",
        "do"
      ],
      "metadata": {
        "colab": {
          "base_uri": "https://localhost:8080/"
        },
        "id": "3cEjwtDYWRXc",
        "outputId": "9bb6a4a2-9490-415c-d57f-7cc0a1f8c050"
      },
      "execution_count": null,
      "outputs": [
        {
          "output_type": "stream",
          "name": "stdout",
          "text": [
            "5.7630043\n"
          ]
        },
        {
          "output_type": "execute_result",
          "data": {
            "text/plain": [
              "23.839627799987795"
            ]
          },
          "metadata": {},
          "execution_count": 21
        }
      ]
    },
    {
      "cell_type": "code",
      "source": [
        "modelN = Sequential()\n",
        "modelN.add(LSTM(64, activation='relu', input_shape=(trainX.shape[1], trainX.shape[2]), return_sequences=True))\n",
        "modelN.add(LSTM(32, activation='relu', return_sequences=False))\n",
        "modelN.add(Dropout(0.2))\n",
        "modelN.add(Dense(trainYN.shape[1]))"
      ],
      "metadata": {
        "id": "g0LSbRJkXStu"
      },
      "execution_count": null,
      "outputs": []
    },
    {
      "cell_type": "code",
      "source": [
        "modelN.compile(optimizer='adam', loss='mse')\n",
        "modelN.summary()"
      ],
      "metadata": {
        "colab": {
          "base_uri": "https://localhost:8080/"
        },
        "id": "kfybrmkcYLMz",
        "outputId": "507a0e64-7529-47e7-cb6d-5b21750705cf"
      },
      "execution_count": null,
      "outputs": [
        {
          "output_type": "stream",
          "name": "stdout",
          "text": [
            "Model: \"sequential_1\"\n",
            "_________________________________________________________________\n",
            " Layer (type)                Output Shape              Param #   \n",
            "=================================================================\n",
            " lstm_2 (LSTM)               (None, 3, 64)             18432     \n",
            "                                                                 \n",
            " lstm_3 (LSTM)               (None, 32)                12416     \n",
            "                                                                 \n",
            " dropout_1 (Dropout)         (None, 32)                0         \n",
            "                                                                 \n",
            " dense_1 (Dense)             (None, 1)                 33        \n",
            "                                                                 \n",
            "=================================================================\n",
            "Total params: 30881 (120.63 KB)\n",
            "Trainable params: 30881 (120.63 KB)\n",
            "Non-trainable params: 0 (0.00 Byte)\n",
            "_________________________________________________________________\n"
          ]
        }
      ]
    },
    {
      "cell_type": "code",
      "source": [
        "historyN = modelN.fit(trainX, trainYN, epochs=50, batch_size=4, validation_split=0.1, verbose=1)"
      ],
      "metadata": {
        "colab": {
          "base_uri": "https://localhost:8080/"
        },
        "id": "h42wOHgwYWGn",
        "outputId": "4a278378-c523-4e44-8f18-e8267475994c"
      },
      "execution_count": null,
      "outputs": [
        {
          "output_type": "stream",
          "name": "stdout",
          "text": [
            "Epoch 1/50\n",
            "2/2 [==============================] - 3s 416ms/step - loss: 0.4284 - val_loss: 1.7860\n",
            "Epoch 2/50\n",
            "2/2 [==============================] - 0s 48ms/step - loss: 0.4295 - val_loss: 1.8025\n",
            "Epoch 3/50\n",
            "2/2 [==============================] - 0s 36ms/step - loss: 0.4250 - val_loss: 1.8175\n",
            "Epoch 4/50\n",
            "2/2 [==============================] - 0s 36ms/step - loss: 0.4118 - val_loss: 1.8268\n",
            "Epoch 5/50\n",
            "2/2 [==============================] - 0s 41ms/step - loss: 0.4218 - val_loss: 1.8333\n",
            "Epoch 6/50\n",
            "2/2 [==============================] - 0s 36ms/step - loss: 0.3906 - val_loss: 1.8402\n",
            "Epoch 7/50\n",
            "2/2 [==============================] - 0s 40ms/step - loss: 0.3866 - val_loss: 1.8499\n",
            "Epoch 8/50\n",
            "2/2 [==============================] - 0s 37ms/step - loss: 0.3711 - val_loss: 1.8587\n",
            "Epoch 9/50\n",
            "2/2 [==============================] - 0s 35ms/step - loss: 0.3624 - val_loss: 1.8707\n",
            "Epoch 10/50\n",
            "2/2 [==============================] - 0s 41ms/step - loss: 0.3549 - val_loss: 1.8858\n",
            "Epoch 11/50\n",
            "2/2 [==============================] - 0s 38ms/step - loss: 0.3545 - val_loss: 1.9044\n",
            "Epoch 12/50\n",
            "2/2 [==============================] - 0s 37ms/step - loss: 0.3364 - val_loss: 1.9213\n",
            "Epoch 13/50\n",
            "2/2 [==============================] - 0s 37ms/step - loss: 0.3646 - val_loss: 1.9405\n",
            "Epoch 14/50\n",
            "2/2 [==============================] - 0s 38ms/step - loss: 0.3280 - val_loss: 1.9571\n",
            "Epoch 15/50\n",
            "2/2 [==============================] - 0s 35ms/step - loss: 0.3448 - val_loss: 1.9749\n",
            "Epoch 16/50\n",
            "2/2 [==============================] - 0s 37ms/step - loss: 0.2900 - val_loss: 1.9978\n",
            "Epoch 17/50\n",
            "2/2 [==============================] - 0s 43ms/step - loss: 0.2719 - val_loss: 2.0195\n",
            "Epoch 18/50\n",
            "2/2 [==============================] - 0s 38ms/step - loss: 0.2977 - val_loss: 2.0406\n",
            "Epoch 19/50\n",
            "2/2 [==============================] - 0s 39ms/step - loss: 0.2439 - val_loss: 2.0643\n",
            "Epoch 20/50\n",
            "2/2 [==============================] - 0s 35ms/step - loss: 0.2777 - val_loss: 2.0946\n",
            "Epoch 21/50\n",
            "2/2 [==============================] - 0s 38ms/step - loss: 0.2550 - val_loss: 2.1288\n",
            "Epoch 22/50\n",
            "2/2 [==============================] - 0s 56ms/step - loss: 0.2254 - val_loss: 2.1647\n",
            "Epoch 23/50\n",
            "2/2 [==============================] - 0s 39ms/step - loss: 0.2929 - val_loss: 2.2052\n",
            "Epoch 24/50\n",
            "2/2 [==============================] - 0s 36ms/step - loss: 0.2071 - val_loss: 2.2533\n",
            "Epoch 25/50\n",
            "2/2 [==============================] - 0s 35ms/step - loss: 0.1968 - val_loss: 2.3154\n",
            "Epoch 26/50\n",
            "2/2 [==============================] - 0s 37ms/step - loss: 0.1902 - val_loss: 2.3753\n",
            "Epoch 27/50\n",
            "2/2 [==============================] - 0s 37ms/step - loss: 0.1295 - val_loss: 2.4426\n",
            "Epoch 28/50\n",
            "2/2 [==============================] - 0s 43ms/step - loss: 0.1848 - val_loss: 2.4995\n",
            "Epoch 29/50\n",
            "2/2 [==============================] - 0s 41ms/step - loss: 0.1529 - val_loss: 2.5612\n",
            "Epoch 30/50\n",
            "2/2 [==============================] - 0s 37ms/step - loss: 0.1092 - val_loss: 2.6160\n",
            "Epoch 31/50\n",
            "2/2 [==============================] - 0s 38ms/step - loss: 0.1515 - val_loss: 2.6579\n",
            "Epoch 32/50\n",
            "2/2 [==============================] - 0s 36ms/step - loss: 0.1946 - val_loss: 2.6801\n",
            "Epoch 33/50\n",
            "2/2 [==============================] - 0s 35ms/step - loss: 0.1248 - val_loss: 2.7036\n",
            "Epoch 34/50\n",
            "2/2 [==============================] - 0s 38ms/step - loss: 0.1087 - val_loss: 2.7227\n",
            "Epoch 35/50\n",
            "2/2 [==============================] - 0s 36ms/step - loss: 0.1069 - val_loss: 2.7493\n",
            "Epoch 36/50\n",
            "2/2 [==============================] - 0s 35ms/step - loss: 0.1283 - val_loss: 2.7727\n",
            "Epoch 37/50\n",
            "2/2 [==============================] - 0s 54ms/step - loss: 0.0717 - val_loss: 2.8180\n",
            "Epoch 38/50\n",
            "2/2 [==============================] - 0s 36ms/step - loss: 0.0915 - val_loss: 2.8728\n",
            "Epoch 39/50\n",
            "2/2 [==============================] - 0s 36ms/step - loss: 0.1311 - val_loss: 2.9460\n",
            "Epoch 40/50\n",
            "2/2 [==============================] - 0s 40ms/step - loss: 0.0426 - val_loss: 3.0156\n",
            "Epoch 41/50\n",
            "2/2 [==============================] - 0s 61ms/step - loss: 0.0881 - val_loss: 3.0421\n",
            "Epoch 42/50\n",
            "2/2 [==============================] - 0s 37ms/step - loss: 0.0381 - val_loss: 3.0652\n",
            "Epoch 43/50\n",
            "2/2 [==============================] - 0s 41ms/step - loss: 0.0560 - val_loss: 3.0623\n",
            "Epoch 44/50\n",
            "2/2 [==============================] - 0s 37ms/step - loss: 0.0517 - val_loss: 3.0711\n",
            "Epoch 45/50\n",
            "2/2 [==============================] - 0s 36ms/step - loss: 0.0349 - val_loss: 3.0915\n",
            "Epoch 46/50\n",
            "2/2 [==============================] - 0s 38ms/step - loss: 0.0418 - val_loss: 3.0983\n",
            "Epoch 47/50\n",
            "2/2 [==============================] - 0s 39ms/step - loss: 0.0625 - val_loss: 3.0977\n",
            "Epoch 48/50\n",
            "2/2 [==============================] - 0s 39ms/step - loss: 0.0906 - val_loss: 3.0729\n",
            "Epoch 49/50\n",
            "2/2 [==============================] - 0s 38ms/step - loss: 0.0342 - val_loss: 3.0327\n",
            "Epoch 50/50\n",
            "2/2 [==============================] - 0s 36ms/step - loss: 0.0184 - val_loss: 2.9769\n"
          ]
        }
      ]
    },
    {
      "cell_type": "code",
      "source": [
        "plt.plot(historyN.history['loss'], label='Training loss')\n",
        "plt.plot(historyN.history['val_loss'], label='Validation loss')\n",
        "plt.legend()"
      ],
      "metadata": {
        "colab": {
          "base_uri": "https://localhost:8080/",
          "height": 447
        },
        "id": "XVQ9CPiCYh_Z",
        "outputId": "5168f3b2-a103-4f90-8e65-b01231f631b1"
      },
      "execution_count": null,
      "outputs": [
        {
          "output_type": "execute_result",
          "data": {
            "text/plain": [
              "<matplotlib.legend.Legend at 0x7a3e48442470>"
            ]
          },
          "metadata": {},
          "execution_count": 25
        },
        {
          "output_type": "display_data",
          "data": {
            "text/plain": [
              "<Figure size 640x480 with 1 Axes>"
            ],
            "image/png": "[encoded data removed]"
          },
          "metadata": {}
        }
      ]
    },
    {
      "cell_type": "code",
      "source": [
        "predictionN = modelN.predict(trainX)"
      ],
      "metadata": {
        "colab": {
          "base_uri": "https://localhost:8080/"
        },
        "id": "7dSknr60Ykga",
        "outputId": "657f233b-591a-46b5-ce69-303b0082a368"
      },
      "execution_count": null,
      "outputs": [
        {
          "output_type": "stream",
          "name": "stdout",
          "text": [
            "1/1 [==============================] - 0s 338ms/step\n"
          ]
        }
      ]
    },
    {
      "cell_type": "code",
      "source": [
        "prediction_copiesN = np.repeat(predictionN, df_for_training.shape[1], axis=-1)\n",
        "y_pred_futureN = scaler.inverse_transform(prediction_copiesN)[:,1]"
      ],
      "metadata": {
        "id": "RlUU7jFaYo9e"
      },
      "execution_count": null,
      "outputs": []
    },
    {
      "cell_type": "code",
      "source": [
        "print(y_pred_futureN)"
      ],
      "metadata": {
        "colab": {
          "base_uri": "https://localhost:8080/"
        },
        "id": "jBiMhlByYuLR",
        "outputId": "261afe9a-cce1-4f6c-9711-d15fc075aa12"
      },
      "execution_count": null,
      "outputs": [
        {
          "output_type": "stream",
          "name": "stdout",
          "text": [
            "[8.205994  8.045659  7.9122043 7.963305  7.8927603 7.973825  8.039455 ]\n"
          ]
        }
      ]
    },
    {
      "cell_type": "code",
      "source": [
        "print(y_pred_futureN[-1])\n",
        "i=y_pred_futureN[-1]\n",
        "ph=((i-7)*100/1.5)*0.1176"
      ],
      "metadata": {
        "colab": {
          "base_uri": "https://localhost:8080/"
        },
        "id": "RWKDuLgbYzFd",
        "outputId": "4fa200d5-9586-4da1-ce41-9b73a52f2c9f"
      },
      "execution_count": null,
      "outputs": [
        {
          "output_type": "stream",
          "name": "stdout",
          "text": [
            "8.039455\n"
          ]
        }
      ]
    },
    {
      "cell_type": "code",
      "source": [
        "modelS = Sequential()\n",
        "modelS.add(LSTM(64, activation='relu', input_shape=(trainX.shape[1], trainX.shape[2]), return_sequences=True))\n",
        "modelS.add(LSTM(32, activation='relu', return_sequences=False))\n",
        "modelS.add(Dropout(0.2))\n",
        "modelS.add(Dense(trainYS.shape[1]))"
      ],
      "metadata": {
        "id": "kBfqZWLzZR0L"
      },
      "execution_count": null,
      "outputs": []
    },
    {
      "cell_type": "code",
      "source": [
        "modelS.compile(optimizer='adam', loss='mse')\n",
        "modelS.summary()"
      ],
      "metadata": {
        "colab": {
          "base_uri": "https://localhost:8080/"
        },
        "id": "NY3Pb2OmZc5d",
        "outputId": "1555eeb9-53d2-4b55-dea2-a0fc7bd78a57"
      },
      "execution_count": null,
      "outputs": [
        {
          "output_type": "stream",
          "name": "stdout",
          "text": [
            "Model: \"sequential_2\"\n",
            "_________________________________________________________________\n",
            " Layer (type)                Output Shape              Param #   \n",
            "=================================================================\n",
            " lstm_4 (LSTM)               (None, 3, 64)             18432     \n",
            "                                                                 \n",
            " lstm_5 (LSTM)               (None, 32)                12416     \n",
            "                                                                 \n",
            " dropout_2 (Dropout)         (None, 32)                0         \n",
            "                                                                 \n",
            " dense_2 (Dense)             (None, 1)                 33        \n",
            "                                                                 \n",
            "=================================================================\n",
            "Total params: 30881 (120.63 KB)\n",
            "Trainable params: 30881 (120.63 KB)\n",
            "Non-trainable params: 0 (0.00 Byte)\n",
            "_________________________________________________________________\n"
          ]
        }
      ]
    },
    {
      "cell_type": "code",
      "source": [
        "modelS.compile(optimizer='adam', loss='mse')\n",
        "modelS.summary()"
      ],
      "metadata": {
        "colab": {
          "base_uri": "https://localhost:8080/"
        },
        "id": "8gg6CnijZexC",
        "outputId": "9c01a92f-de23-49af-e148-1cfcd2d6e368"
      },
      "execution_count": null,
      "outputs": [
        {
          "output_type": "stream",
          "name": "stdout",
          "text": [
            "Model: \"sequential_2\"\n",
            "_________________________________________________________________\n",
            " Layer (type)                Output Shape              Param #   \n",
            "=================================================================\n",
            " lstm_4 (LSTM)               (None, 3, 64)             18432     \n",
            "                                                                 \n",
            " lstm_5 (LSTM)               (None, 32)                12416     \n",
            "                                                                 \n",
            " dropout_2 (Dropout)         (None, 32)                0         \n",
            "                                                                 \n",
            " dense_2 (Dense)             (None, 1)                 33        \n",
            "                                                                 \n",
            "=================================================================\n",
            "Total params: 30881 (120.63 KB)\n",
            "Trainable params: 30881 (120.63 KB)\n",
            "Non-trainable params: 0 (0.00 Byte)\n",
            "_________________________________________________________________\n"
          ]
        }
      ]
    },
    {
      "cell_type": "code",
      "source": [
        "historyS = modelS.fit(trainX, trainYS, epochs=50, batch_size=4, validation_split=0.1, verbose=1)"
      ],
      "metadata": {
        "colab": {
          "base_uri": "https://localhost:8080/"
        },
        "id": "jh70reWHZkBe",
        "outputId": "303818ee-9378-4e32-d9d0-60d391406c3c"
      },
      "execution_count": null,
      "outputs": [
        {
          "output_type": "stream",
          "name": "stdout",
          "text": [
            "Epoch 1/50\n",
            "2/2 [==============================] - 4s 579ms/step - loss: 0.1116 - val_loss: 0.2307\n",
            "Epoch 2/50\n",
            "2/2 [==============================] - 0s 38ms/step - loss: 0.0948 - val_loss: 0.2191\n",
            "Epoch 3/50\n",
            "2/2 [==============================] - 0s 47ms/step - loss: 0.0823 - val_loss: 0.2080\n",
            "Epoch 4/50\n",
            "2/2 [==============================] - 0s 55ms/step - loss: 0.0694 - val_loss: 0.1967\n",
            "Epoch 5/50\n",
            "2/2 [==============================] - 0s 36ms/step - loss: 0.0580 - val_loss: 0.1862\n",
            "Epoch 6/50\n",
            "2/2 [==============================] - 0s 37ms/step - loss: 0.0478 - val_loss: 0.1754\n",
            "Epoch 7/50\n",
            "2/2 [==============================] - 0s 37ms/step - loss: 0.0442 - val_loss: 0.1641\n",
            "Epoch 8/50\n",
            "2/2 [==============================] - 0s 36ms/step - loss: 0.0430 - val_loss: 0.1521\n",
            "Epoch 9/50\n",
            "2/2 [==============================] - 0s 44ms/step - loss: 0.0466 - val_loss: 0.1403\n",
            "Epoch 10/50\n",
            "2/2 [==============================] - 0s 37ms/step - loss: 0.0319 - val_loss: 0.1292\n",
            "Epoch 11/50\n",
            "2/2 [==============================] - 0s 35ms/step - loss: 0.0268 - val_loss: 0.1184\n",
            "Epoch 12/50\n",
            "2/2 [==============================] - 0s 39ms/step - loss: 0.0270 - val_loss: 0.1079\n",
            "Epoch 13/50\n",
            "2/2 [==============================] - 0s 38ms/step - loss: 0.0183 - val_loss: 0.0983\n",
            "Epoch 14/50\n",
            "2/2 [==============================] - 0s 37ms/step - loss: 0.0376 - val_loss: 0.0905\n",
            "Epoch 15/50\n",
            "2/2 [==============================] - 0s 40ms/step - loss: 0.0243 - val_loss: 0.0844\n",
            "Epoch 16/50\n",
            "2/2 [==============================] - 0s 35ms/step - loss: 0.0228 - val_loss: 0.0786\n",
            "Epoch 17/50\n",
            "2/2 [==============================] - 0s 41ms/step - loss: 0.0259 - val_loss: 0.0742\n",
            "Epoch 18/50\n",
            "2/2 [==============================] - 0s 39ms/step - loss: 0.0218 - val_loss: 0.0705\n",
            "Epoch 19/50\n",
            "2/2 [==============================] - 0s 39ms/step - loss: 0.0097 - val_loss: 0.0670\n",
            "Epoch 20/50\n",
            "2/2 [==============================] - 0s 45ms/step - loss: 0.0118 - val_loss: 0.0631\n",
            "Epoch 21/50\n",
            "2/2 [==============================] - 0s 43ms/step - loss: 0.0134 - val_loss: 0.0585\n",
            "Epoch 22/50\n",
            "2/2 [==============================] - 0s 38ms/step - loss: 0.0121 - val_loss: 0.0538\n",
            "Epoch 23/50\n",
            "2/2 [==============================] - 0s 53ms/step - loss: 0.0112 - val_loss: 0.0482\n",
            "Epoch 24/50\n",
            "2/2 [==============================] - 0s 37ms/step - loss: 0.0066 - val_loss: 0.0428\n",
            "Epoch 25/50\n",
            "2/2 [==============================] - 0s 43ms/step - loss: 0.0080 - val_loss: 0.0368\n",
            "Epoch 26/50\n",
            "2/2 [==============================] - 0s 51ms/step - loss: 0.0079 - val_loss: 0.0306\n",
            "Epoch 27/50\n",
            "2/2 [==============================] - 0s 46ms/step - loss: 0.0148 - val_loss: 0.0250\n",
            "Epoch 28/50\n",
            "2/2 [==============================] - 0s 37ms/step - loss: 0.0019 - val_loss: 0.0205\n",
            "Epoch 29/50\n",
            "2/2 [==============================] - 0s 37ms/step - loss: 0.0025 - val_loss: 0.0169\n",
            "Epoch 30/50\n",
            "2/2 [==============================] - 0s 43ms/step - loss: 0.0025 - val_loss: 0.0143\n",
            "Epoch 31/50\n",
            "2/2 [==============================] - 0s 45ms/step - loss: 0.0071 - val_loss: 0.0135\n",
            "Epoch 32/50\n",
            "2/2 [==============================] - 0s 43ms/step - loss: 0.0048 - val_loss: 0.0141\n",
            "Epoch 33/50\n",
            "2/2 [==============================] - 0s 47ms/step - loss: 0.0037 - val_loss: 0.0144\n",
            "Epoch 34/50\n",
            "2/2 [==============================] - 0s 43ms/step - loss: 0.0019 - val_loss: 0.0151\n",
            "Epoch 35/50\n",
            "2/2 [==============================] - 0s 42ms/step - loss: 0.0059 - val_loss: 0.0150\n",
            "Epoch 36/50\n",
            "2/2 [==============================] - 0s 45ms/step - loss: 0.0024 - val_loss: 0.0139\n",
            "Epoch 37/50\n",
            "2/2 [==============================] - 0s 41ms/step - loss: 0.0011 - val_loss: 0.0134\n",
            "Epoch 38/50\n",
            "2/2 [==============================] - 0s 43ms/step - loss: 0.0028 - val_loss: 0.0126\n",
            "Epoch 39/50\n",
            "2/2 [==============================] - 0s 39ms/step - loss: 0.0051 - val_loss: 0.0112\n",
            "Epoch 40/50\n",
            "2/2 [==============================] - 0s 63ms/step - loss: 0.0018 - val_loss: 0.0101\n",
            "Epoch 41/50\n",
            "2/2 [==============================] - 0s 42ms/step - loss: 0.0033 - val_loss: 0.0093\n",
            "Epoch 42/50\n",
            "2/2 [==============================] - 0s 42ms/step - loss: 0.0019 - val_loss: 0.0089\n",
            "Epoch 43/50\n",
            "2/2 [==============================] - 0s 37ms/step - loss: 0.0030 - val_loss: 0.0080\n",
            "Epoch 44/50\n",
            "2/2 [==============================] - 0s 39ms/step - loss: 0.0039 - val_loss: 0.0066\n",
            "Epoch 45/50\n",
            "2/2 [==============================] - 0s 37ms/step - loss: 0.0055 - val_loss: 0.0061\n",
            "Epoch 46/50\n",
            "2/2 [==============================] - 0s 45ms/step - loss: 0.0037 - val_loss: 0.0052\n",
            "Epoch 47/50\n",
            "2/2 [==============================] - 0s 42ms/step - loss: 0.0057 - val_loss: 0.0040\n",
            "Epoch 48/50\n",
            "2/2 [==============================] - 0s 38ms/step - loss: 0.0038 - val_loss: 0.0038\n",
            "Epoch 49/50\n",
            "2/2 [==============================] - 0s 43ms/step - loss: 0.0039 - val_loss: 0.0038\n",
            "Epoch 50/50\n",
            "2/2 [==============================] - 0s 38ms/step - loss: 0.0020 - val_loss: 0.0041\n"
          ]
        }
      ]
    },
    {
      "cell_type": "code",
      "source": [
        "plt.plot(historyS.history['loss'], label='Training loss')\n",
        "plt.plot(historyS.history['val_loss'], label='Validation loss')\n",
        "plt.legend()"
      ],
      "metadata": {
        "colab": {
          "base_uri": "https://localhost:8080/",
          "height": 447
        },
        "id": "Y1v1MF7kZzR2",
        "outputId": "f83923cd-20a9-4d89-a5c7-8451a9355629"
      },
      "execution_count": null,
      "outputs": [
        {
          "output_type": "execute_result",
          "data": {
            "text/plain": [
              "<matplotlib.legend.Legend at 0x7a3e38d18ca0>"
            ]
          },
          "metadata": {},
          "execution_count": 34
        },
        {
          "output_type": "display_data",
          "data": {
            "text/plain": [
              "<Figure size 640x480 with 1 Axes>"
            ],
            "image/png": "[encoded data removed]"
          },
          "metadata": {}
        }
      ]
    },
    {
      "cell_type": "code",
      "source": [
        "predictionS = modelS.predict(trainX)"
      ],
      "metadata": {
        "colab": {
          "base_uri": "https://localhost:8080/"
        },
        "id": "UmhHBi8yZ3_Q",
        "outputId": "a56f4201-d1e3-4747-83f2-13064fbaa9bb"
      },
      "execution_count": null,
      "outputs": [
        {
          "output_type": "stream",
          "name": "stdout",
          "text": [
            "1/1 [==============================] - 0s 317ms/step\n"
          ]
        }
      ]
    },
    {
      "cell_type": "code",
      "source": [
        "prediction_copiesS = np.repeat(predictionS, df_for_training.shape[1], axis=-1)\n",
        "y_pred_futureS = scaler.inverse_transform(prediction_copiesS)[:,2]"
      ],
      "metadata": {
        "id": "WR0ur2wBZ82T"
      },
      "execution_count": null,
      "outputs": []
    },
    {
      "cell_type": "code",
      "source": [
        "print(y_pred_futureS)"
      ],
      "metadata": {
        "colab": {
          "base_uri": "https://localhost:8080/"
        },
        "id": "cQ9HMNWmaHaz",
        "outputId": "2763f1dc-9970-4ecb-d7e3-f23dd5e8f941"
      },
      "execution_count": null,
      "outputs": [
        {
          "output_type": "stream",
          "name": "stdout",
          "text": [
            "[2.8829234 2.8605819 4.0927486 2.6610322 1.7954215 1.2850965 2.1004164]\n"
          ]
        }
      ]
    },
    {
      "cell_type": "code",
      "source": [
        "i=y_pred_futureS[-1]\n",
        "bod=(i*100/25)*0.3723\n",
        "print(i)"
      ],
      "metadata": {
        "colab": {
          "base_uri": "https://localhost:8080/"
        },
        "id": "O1jzvQtzaPWz",
        "outputId": "3f8b8e4e-29f5-464c-c301-dd29f2d94feb"
      },
      "execution_count": null,
      "outputs": [
        {
          "output_type": "stream",
          "name": "stdout",
          "text": [
            "2.1004164\n"
          ]
        }
      ]
    },
    {
      "cell_type": "code",
      "source": [
        "modelS = Sequential()\n",
        "modelS.add(LSTM(64, activation='relu', input_shape=(trainX.shape[1], trainX.shape[2]), return_sequences=True))\n",
        "modelS.add(LSTM(32, activation='relu', return_sequences=False))\n",
        "modelS.add(Dropout(0.2))\n",
        "modelS.add(Dense(trainYA.shape[1]))"
      ],
      "metadata": {
        "id": "Z5MC2KCgagQf"
      },
      "execution_count": null,
      "outputs": []
    },
    {
      "cell_type": "code",
      "source": [
        "modelS.compile(optimizer='adam', loss='mse')\n",
        "modelS.summary()"
      ],
      "metadata": {
        "colab": {
          "base_uri": "https://localhost:8080/"
        },
        "id": "VFW5xkeIaxnZ",
        "outputId": "c2ec79b2-27c3-46ce-9063-643c0af148f1"
      },
      "execution_count": null,
      "outputs": [
        {
          "output_type": "stream",
          "name": "stdout",
          "text": [
            "Model: \"sequential_3\"\n",
            "_________________________________________________________________\n",
            " Layer (type)                Output Shape              Param #   \n",
            "=================================================================\n",
            " lstm_6 (LSTM)               (None, 3, 64)             18432     \n",
            "                                                                 \n",
            " lstm_7 (LSTM)               (None, 32)                12416     \n",
            "                                                                 \n",
            " dropout_3 (Dropout)         (None, 32)                0         \n",
            "                                                                 \n",
            " dense_3 (Dense)             (None, 1)                 33        \n",
            "                                                                 \n",
            "=================================================================\n",
            "Total params: 30881 (120.63 KB)\n",
            "Trainable params: 30881 (120.63 KB)\n",
            "Non-trainable params: 0 (0.00 Byte)\n",
            "_________________________________________________________________\n"
          ]
        }
      ]
    },
    {
      "cell_type": "code",
      "source": [
        "historyS = modelS.fit(trainX, trainYS, epochs=50, batch_size=4, validation_split=0.1, verbose=1)"
      ],
      "metadata": {
        "colab": {
          "base_uri": "https://localhost:8080/"
        },
        "id": "px8fESK9a1pL",
        "outputId": "11e9451d-54bf-4066-8230-70f2ec37fe68"
      },
      "execution_count": null,
      "outputs": [
        {
          "output_type": "stream",
          "name": "stdout",
          "text": [
            "Epoch 1/50\n",
            "2/2 [==============================] - 3s 425ms/step - loss: 0.1329 - val_loss: 0.2134\n",
            "Epoch 2/50\n",
            "2/2 [==============================] - 0s 40ms/step - loss: 0.1142 - val_loss: 0.2037\n",
            "Epoch 3/50\n",
            "2/2 [==============================] - 0s 41ms/step - loss: 0.0971 - val_loss: 0.1941\n",
            "Epoch 4/50\n",
            "2/2 [==============================] - 0s 38ms/step - loss: 0.0809 - val_loss: 0.1848\n",
            "Epoch 5/50\n",
            "2/2 [==============================] - 0s 40ms/step - loss: 0.0742 - val_loss: 0.1751\n",
            "Epoch 6/50\n",
            "2/2 [==============================] - 0s 44ms/step - loss: 0.0626 - val_loss: 0.1652\n",
            "Epoch 7/50\n",
            "2/2 [==============================] - 0s 50ms/step - loss: 0.0554 - val_loss: 0.1552\n",
            "Epoch 8/50\n",
            "2/2 [==============================] - 0s 39ms/step - loss: 0.0411 - val_loss: 0.1448\n",
            "Epoch 9/50\n",
            "2/2 [==============================] - 0s 41ms/step - loss: 0.0371 - val_loss: 0.1346\n",
            "Epoch 10/50\n",
            "2/2 [==============================] - 0s 36ms/step - loss: 0.0286 - val_loss: 0.1248\n",
            "Epoch 11/50\n",
            "2/2 [==============================] - 0s 42ms/step - loss: 0.0399 - val_loss: 0.1162\n",
            "Epoch 12/50\n",
            "2/2 [==============================] - 0s 39ms/step - loss: 0.0303 - val_loss: 0.1097\n",
            "Epoch 13/50\n",
            "2/2 [==============================] - 0s 37ms/step - loss: 0.0223 - val_loss: 0.1041\n",
            "Epoch 14/50\n",
            "2/2 [==============================] - 0s 37ms/step - loss: 0.0282 - val_loss: 0.0992\n",
            "Epoch 15/50\n",
            "2/2 [==============================] - 0s 41ms/step - loss: 0.0200 - val_loss: 0.0947\n",
            "Epoch 16/50\n",
            "2/2 [==============================] - 0s 54ms/step - loss: 0.0220 - val_loss: 0.0900\n",
            "Epoch 17/50\n",
            "2/2 [==============================] - 0s 36ms/step - loss: 0.0214 - val_loss: 0.0844\n",
            "Epoch 18/50\n",
            "2/2 [==============================] - 0s 36ms/step - loss: 0.0268 - val_loss: 0.0790\n",
            "Epoch 19/50\n",
            "2/2 [==============================] - 0s 35ms/step - loss: 0.0138 - val_loss: 0.0735\n",
            "Epoch 20/50\n",
            "2/2 [==============================] - 0s 41ms/step - loss: 0.0193 - val_loss: 0.0679\n",
            "Epoch 21/50\n",
            "2/2 [==============================] - 0s 36ms/step - loss: 0.0130 - val_loss: 0.0621\n",
            "Epoch 22/50\n",
            "2/2 [==============================] - 0s 35ms/step - loss: 0.0105 - val_loss: 0.0564\n",
            "Epoch 23/50\n",
            "2/2 [==============================] - 0s 59ms/step - loss: 0.0121 - val_loss: 0.0502\n",
            "Epoch 24/50\n",
            "2/2 [==============================] - 0s 36ms/step - loss: 0.0045 - val_loss: 0.0451\n",
            "Epoch 25/50\n",
            "2/2 [==============================] - 0s 46ms/step - loss: 0.0061 - val_loss: 0.0411\n",
            "Epoch 26/50\n",
            "2/2 [==============================] - 0s 58ms/step - loss: 0.0042 - val_loss: 0.0379\n",
            "Epoch 27/50\n",
            "2/2 [==============================] - 0s 38ms/step - loss: 0.0031 - val_loss: 0.0350\n",
            "Epoch 28/50\n",
            "2/2 [==============================] - 0s 38ms/step - loss: 0.0057 - val_loss: 0.0316\n",
            "Epoch 29/50\n",
            "2/2 [==============================] - 0s 39ms/step - loss: 0.0060 - val_loss: 0.0280\n",
            "Epoch 30/50\n",
            "2/2 [==============================] - 0s 43ms/step - loss: 0.0044 - val_loss: 0.0242\n",
            "Epoch 31/50\n",
            "2/2 [==============================] - 0s 37ms/step - loss: 0.0034 - val_loss: 0.0207\n",
            "Epoch 32/50\n",
            "2/2 [==============================] - 0s 38ms/step - loss: 0.0034 - val_loss: 0.0181\n",
            "Epoch 33/50\n",
            "2/2 [==============================] - 0s 40ms/step - loss: 0.0013 - val_loss: 0.0161\n",
            "Epoch 34/50\n",
            "2/2 [==============================] - 0s 38ms/step - loss: 0.0039 - val_loss: 0.0138\n",
            "Epoch 35/50\n",
            "2/2 [==============================] - 0s 37ms/step - loss: 0.0022 - val_loss: 0.0121\n",
            "Epoch 36/50\n",
            "2/2 [==============================] - 0s 36ms/step - loss: 0.0028 - val_loss: 0.0119\n",
            "Epoch 37/50\n",
            "2/2 [==============================] - 0s 37ms/step - loss: 0.0039 - val_loss: 0.0131\n",
            "Epoch 38/50\n",
            "2/2 [==============================] - 0s 36ms/step - loss: 0.0025 - val_loss: 0.0156\n",
            "Epoch 39/50\n",
            "2/2 [==============================] - 0s 43ms/step - loss: 0.0032 - val_loss: 0.0177\n",
            "Epoch 40/50\n",
            "2/2 [==============================] - 0s 37ms/step - loss: 0.0076 - val_loss: 0.0181\n",
            "Epoch 41/50\n",
            "2/2 [==============================] - 0s 40ms/step - loss: 0.0031 - val_loss: 0.0167\n",
            "Epoch 42/50\n",
            "2/2 [==============================] - 0s 40ms/step - loss: 0.0033 - val_loss: 0.0149\n",
            "Epoch 43/50\n",
            "2/2 [==============================] - 0s 68ms/step - loss: 0.0016 - val_loss: 0.0130\n",
            "Epoch 44/50\n",
            "2/2 [==============================] - 0s 39ms/step - loss: 0.0028 - val_loss: 0.0116\n",
            "Epoch 45/50\n",
            "2/2 [==============================] - 0s 55ms/step - loss: 8.2313e-04 - val_loss: 0.0106\n",
            "Epoch 46/50\n",
            "2/2 [==============================] - 0s 42ms/step - loss: 0.0037 - val_loss: 0.0101\n",
            "Epoch 47/50\n",
            "2/2 [==============================] - 0s 40ms/step - loss: 0.0019 - val_loss: 0.0095\n",
            "Epoch 48/50\n",
            "2/2 [==============================] - 0s 38ms/step - loss: 0.0022 - val_loss: 0.0097\n",
            "Epoch 49/50\n",
            "2/2 [==============================] - 0s 37ms/step - loss: 0.0035 - val_loss: 0.0097\n",
            "Epoch 50/50\n",
            "2/2 [==============================] - 0s 41ms/step - loss: 0.0033 - val_loss: 0.0093\n"
          ]
        }
      ]
    },
    {
      "cell_type": "code",
      "source": [
        "plt.plot(historyS.history['loss'], label='Training loss')\n",
        "plt.plot(historyS.history['val_loss'], label='Validation loss')\n",
        "plt.legend()"
      ],
      "metadata": {
        "colab": {
          "base_uri": "https://localhost:8080/",
          "height": 447
        },
        "id": "K79oSFnibAhV",
        "outputId": "53a8416c-bbfc-425a-d6fd-554cce9ce123"
      },
      "execution_count": null,
      "outputs": [
        {
          "output_type": "execute_result",
          "data": {
            "text/plain": [
              "<matplotlib.legend.Legend at 0x7a3e359965c0>"
            ]
          },
          "metadata": {},
          "execution_count": 42
        },
        {
          "output_type": "display_data",
          "data": {
            "text/plain": [
              "<Figure size 640x480 with 1 Axes>"
            ],
            "image/png": "[encoded data removed]"
          },
          "metadata": {}
        }
      ]
    },
    {
      "cell_type": "code",
      "source": [
        "predictionS = modelS.predict(trainX)"
      ],
      "metadata": {
        "colab": {
          "base_uri": "https://localhost:8080/"
        },
        "id": "HsJYC_9jbIn8",
        "outputId": "c791f01e-5c33-46cb-87d1-1e7c07139631"
      },
      "execution_count": null,
      "outputs": [
        {
          "output_type": "stream",
          "name": "stdout",
          "text": [
            "1/1 [==============================] - 0s 368ms/step\n"
          ]
        }
      ]
    },
    {
      "cell_type": "code",
      "source": [
        "prediction_copiesS = np.repeat(predictionS, df_for_training.shape[1], axis=-1)\n",
        "y_pred_futureS = scaler.inverse_transform(prediction_copiesS)[:,2]"
      ],
      "metadata": {
        "id": "sHi-BKCabLUq"
      },
      "execution_count": null,
      "outputs": []
    },
    {
      "cell_type": "code",
      "source": [
        "print(y_pred_futureS)"
      ],
      "metadata": {
        "colab": {
          "base_uri": "https://localhost:8080/"
        },
        "id": "2je0SzCQbSdB",
        "outputId": "3e8ee9de-e094-48f0-8096-e738290a4fd5"
      },
      "execution_count": null,
      "outputs": [
        {
          "output_type": "stream",
          "name": "stdout",
          "text": [
            "[2.9348054 2.9568846 4.1034756 3.0030894 2.156693  1.524002  2.3364842]\n"
          ]
        }
      ]
    },
    {
      "cell_type": "code",
      "source": [
        "i=y_pred_futureS[-1]\n",
        "tur=(i*100/5)*0.1\n",
        "print(tur)"
      ],
      "metadata": {
        "colab": {
          "base_uri": "https://localhost:8080/"
        },
        "id": "bbkc656hbXOu",
        "outputId": "469d47a3-bcc3-4e76-f04d-a85cea579187"
      },
      "execution_count": null,
      "outputs": [
        {
          "output_type": "stream",
          "name": "stdout",
          "text": [
            "4.67296838760376\n"
          ]
        }
      ]
    },
    {
      "cell_type": "code",
      "source": [
        "modelS = Sequential()\n",
        "modelS.add(LSTM(64, activation='relu', input_shape=(trainX.shape[1], trainX.shape[2]), return_sequences=True))\n",
        "modelS.add(LSTM(32, activation='relu', return_sequences=False))\n",
        "modelS.add(Dropout(0.2))\n",
        "modelS.add(Dense(trainYB.shape[1]))"
      ],
      "metadata": {
        "id": "RW8XajyYbgOI"
      },
      "execution_count": null,
      "outputs": []
    },
    {
      "cell_type": "code",
      "source": [
        "modelS.compile(optimizer='adam', loss='mse')\n",
        "modelS.summary()"
      ],
      "metadata": {
        "colab": {
          "base_uri": "https://localhost:8080/"
        },
        "id": "Y_ab4isrbtT-",
        "outputId": "307ed520-fbf8-4fbf-f7a4-0077165ddfa0"
      },
      "execution_count": null,
      "outputs": [
        {
          "output_type": "stream",
          "name": "stdout",
          "text": [
            "Model: \"sequential_4\"\n",
            "_________________________________________________________________\n",
            " Layer (type)                Output Shape              Param #   \n",
            "=================================================================\n",
            " lstm_8 (LSTM)               (None, 3, 64)             18432     \n",
            "                                                                 \n",
            " lstm_9 (LSTM)               (None, 32)                12416     \n",
            "                                                                 \n",
            " dropout_4 (Dropout)         (None, 32)                0         \n",
            "                                                                 \n",
            " dense_4 (Dense)             (None, 1)                 33        \n",
            "                                                                 \n",
            "=================================================================\n",
            "Total params: 30881 (120.63 KB)\n",
            "Trainable params: 30881 (120.63 KB)\n",
            "Non-trainable params: 0 (0.00 Byte)\n",
            "_________________________________________________________________\n"
          ]
        }
      ]
    },
    {
      "cell_type": "code",
      "source": [
        "historyS = modelS.fit(trainX, trainYS, epochs=50, batch_size=4, validation_split=0.1, verbose=1)"
      ],
      "metadata": {
        "colab": {
          "base_uri": "https://localhost:8080/"
        },
        "id": "3d4PijwBbvK5",
        "outputId": "77666c27-9552-40c7-8916-45639f149ded"
      },
      "execution_count": null,
      "outputs": [
        {
          "output_type": "stream",
          "name": "stdout",
          "text": [
            "Epoch 1/50\n",
            "2/2 [==============================] - 3s 452ms/step - loss: 0.1309 - val_loss: 0.2216\n",
            "Epoch 2/50\n",
            "2/2 [==============================] - 0s 48ms/step - loss: 0.1169 - val_loss: 0.2101\n",
            "Epoch 3/50\n",
            "2/2 [==============================] - 0s 40ms/step - loss: 0.1091 - val_loss: 0.1991\n",
            "Epoch 4/50\n",
            "2/2 [==============================] - 0s 35ms/step - loss: 0.0963 - val_loss: 0.1883\n",
            "Epoch 5/50\n",
            "2/2 [==============================] - 0s 39ms/step - loss: 0.0869 - val_loss: 0.1778\n",
            "Epoch 6/50\n",
            "2/2 [==============================] - 0s 44ms/step - loss: 0.0852 - val_loss: 0.1669\n",
            "Epoch 7/50\n",
            "2/2 [==============================] - 0s 40ms/step - loss: 0.0656 - val_loss: 0.1556\n",
            "Epoch 8/50\n",
            "2/2 [==============================] - 0s 38ms/step - loss: 0.0537 - val_loss: 0.1442\n",
            "Epoch 9/50\n",
            "2/2 [==============================] - 0s 60ms/step - loss: 0.0557 - val_loss: 0.1321\n",
            "Epoch 10/50\n",
            "2/2 [==============================] - 0s 43ms/step - loss: 0.0415 - val_loss: 0.1201\n",
            "Epoch 11/50\n",
            "2/2 [==============================] - 0s 46ms/step - loss: 0.0320 - val_loss: 0.1071\n",
            "Epoch 12/50\n",
            "2/2 [==============================] - 0s 38ms/step - loss: 0.0274 - val_loss: 0.0947\n",
            "Epoch 13/50\n",
            "2/2 [==============================] - 0s 40ms/step - loss: 0.0174 - val_loss: 0.0823\n",
            "Epoch 14/50\n",
            "2/2 [==============================] - 0s 62ms/step - loss: 0.0167 - val_loss: 0.0717\n",
            "Epoch 15/50\n",
            "2/2 [==============================] - 0s 42ms/step - loss: 0.0258 - val_loss: 0.0616\n",
            "Epoch 16/50\n",
            "2/2 [==============================] - 0s 36ms/step - loss: 0.0251 - val_loss: 0.0542\n",
            "Epoch 17/50\n",
            "2/2 [==============================] - 0s 47ms/step - loss: 0.0180 - val_loss: 0.0474\n",
            "Epoch 18/50\n",
            "2/2 [==============================] - 0s 42ms/step - loss: 0.0132 - val_loss: 0.0424\n",
            "Epoch 19/50\n",
            "2/2 [==============================] - 0s 40ms/step - loss: 0.0155 - val_loss: 0.0378\n",
            "Epoch 20/50\n",
            "2/2 [==============================] - 0s 37ms/step - loss: 0.0142 - val_loss: 0.0340\n",
            "Epoch 21/50\n",
            "2/2 [==============================] - 0s 45ms/step - loss: 0.0097 - val_loss: 0.0305\n",
            "Epoch 22/50\n",
            "2/2 [==============================] - 0s 38ms/step - loss: 0.0104 - val_loss: 0.0269\n",
            "Epoch 23/50\n",
            "2/2 [==============================] - 0s 38ms/step - loss: 0.0055 - val_loss: 0.0227\n",
            "Epoch 24/50\n",
            "2/2 [==============================] - 0s 45ms/step - loss: 0.0081 - val_loss: 0.0182\n",
            "Epoch 25/50\n",
            "2/2 [==============================] - 0s 39ms/step - loss: 0.0065 - val_loss: 0.0140\n",
            "Epoch 26/50\n",
            "2/2 [==============================] - 0s 37ms/step - loss: 0.0036 - val_loss: 0.0099\n",
            "Epoch 27/50\n",
            "2/2 [==============================] - 0s 41ms/step - loss: 0.0036 - val_loss: 0.0066\n",
            "Epoch 28/50\n",
            "2/2 [==============================] - 0s 40ms/step - loss: 0.0021 - val_loss: 0.0043\n",
            "Epoch 29/50\n",
            "2/2 [==============================] - 0s 40ms/step - loss: 0.0022 - val_loss: 0.0028\n",
            "Epoch 30/50\n",
            "2/2 [==============================] - 0s 41ms/step - loss: 0.0058 - val_loss: 0.0016\n",
            "Epoch 31/50\n",
            "2/2 [==============================] - 0s 41ms/step - loss: 0.0030 - val_loss: 9.4411e-04\n",
            "Epoch 32/50\n",
            "2/2 [==============================] - 0s 41ms/step - loss: 0.0037 - val_loss: 3.7976e-04\n",
            "Epoch 33/50\n",
            "2/2 [==============================] - 0s 49ms/step - loss: 0.0025 - val_loss: 5.6076e-05\n",
            "Epoch 34/50\n",
            "2/2 [==============================] - 0s 40ms/step - loss: 0.0038 - val_loss: 4.1724e-05\n",
            "Epoch 35/50\n",
            "2/2 [==============================] - 0s 40ms/step - loss: 0.0018 - val_loss: 2.3116e-04\n",
            "Epoch 36/50\n",
            "2/2 [==============================] - 0s 41ms/step - loss: 0.0064 - val_loss: 6.6335e-04\n",
            "Epoch 37/50\n",
            "2/2 [==============================] - 0s 62ms/step - loss: 0.0043 - val_loss: 0.0016\n",
            "Epoch 38/50\n",
            "2/2 [==============================] - 0s 42ms/step - loss: 0.0080 - val_loss: 0.0017\n",
            "Epoch 39/50\n",
            "2/2 [==============================] - 0s 36ms/step - loss: 0.0023 - val_loss: 9.9817e-04\n",
            "Epoch 40/50\n",
            "2/2 [==============================] - 0s 37ms/step - loss: 7.6401e-04 - val_loss: 5.6182e-04\n",
            "Epoch 41/50\n",
            "2/2 [==============================] - 0s 36ms/step - loss: 0.0012 - val_loss: 2.3732e-04\n",
            "Epoch 42/50\n",
            "2/2 [==============================] - 0s 47ms/step - loss: 0.0038 - val_loss: 3.2534e-07\n",
            "Epoch 43/50\n",
            "2/2 [==============================] - 0s 43ms/step - loss: 0.0025 - val_loss: 2.5150e-04\n",
            "Epoch 44/50\n",
            "2/2 [==============================] - 0s 43ms/step - loss: 0.0046 - val_loss: 4.8050e-04\n",
            "Epoch 45/50\n",
            "2/2 [==============================] - 0s 39ms/step - loss: 0.0013 - val_loss: 6.8505e-04\n",
            "Epoch 46/50\n",
            "2/2 [==============================] - 0s 44ms/step - loss: 0.0090 - val_loss: 5.6121e-04\n",
            "Epoch 47/50\n",
            "2/2 [==============================] - 0s 45ms/step - loss: 0.0048 - val_loss: 1.8821e-04\n",
            "Epoch 48/50\n",
            "2/2 [==============================] - 0s 43ms/step - loss: 0.0027 - val_loss: 1.8146e-06\n",
            "Epoch 49/50\n",
            "2/2 [==============================] - 0s 45ms/step - loss: 0.0034 - val_loss: 1.0913e-04\n",
            "Epoch 50/50\n",
            "2/2 [==============================] - 0s 58ms/step - loss: 0.0033 - val_loss: 3.6015e-04\n"
          ]
        }
      ]
    },
    {
      "cell_type": "code",
      "source": [
        "plt.plot(historyS.history['loss'], label='Training loss')\n",
        "plt.plot(historyS.history['val_loss'], label='Validation loss')\n",
        "plt.legend()"
      ],
      "metadata": {
        "colab": {
          "base_uri": "https://localhost:8080/",
          "height": 447
        },
        "id": "zPJwc-mFgFve",
        "outputId": "69d85e5b-2ff6-4bec-d673-e3e4a846c79b"
      },
      "execution_count": null,
      "outputs": [
        {
          "output_type": "execute_result",
          "data": {
            "text/plain": [
              "<matplotlib.legend.Legend at 0x7a3e3680a950>"
            ]
          },
          "metadata": {},
          "execution_count": 50
        },
        {
          "output_type": "display_data",
          "data": {
            "text/plain": [
              "<Figure size 640x480 with 1 Axes>"
            ],
            "image/png": "[encoded data removed]"
          },
          "metadata": {}
        }
      ]
    },
    {
      "cell_type": "code",
      "source": [
        "predictionS = modelS.predict(trainX)"
      ],
      "metadata": {
        "colab": {
          "base_uri": "https://localhost:8080/"
        },
        "id": "d9XYC52CgKvW",
        "outputId": "7a1f57c0-0d64-4b99-cd61-df2e6a545f74"
      },
      "execution_count": null,
      "outputs": [
        {
          "output_type": "stream",
          "name": "stderr",
          "text": [
            "WARNING:tensorflow:5 out of the last 5 calls to <function Model.make_predict_function.<locals>.predict_function at 0x7a3e36838dc0> triggered tf.function retracing. Tracing is expensive and the excessive number of tracings could be due to (1) creating @tf.function repeatedly in a loop, (2) passing tensors with different shapes, (3) passing Python objects instead of tensors. For (1), please define your @tf.function outside of the loop. For (2), @tf.function has reduce_retracing=True option that can avoid unnecessary retracing. For (3), please refer to https://www.tensorflow.org/guide/function#controlling_retracing and https://www.tensorflow.org/api_docs/python/tf/function for  more details.\n"
          ]
        },
        {
          "output_type": "stream",
          "name": "stdout",
          "text": [
            "1/1 [==============================] - 0s 486ms/step\n"
          ]
        }
      ]
    },
    {
      "cell_type": "code",
      "source": [
        "prediction_copiesS = np.repeat(predictionS, df_for_training.shape[1], axis=-1)\n",
        "y_pred_futureS = scaler.inverse_transform(prediction_copiesS)[:,2]"
      ],
      "metadata": {
        "id": "HiReb9wDgOd-"
      },
      "execution_count": null,
      "outputs": []
    },
    {
      "cell_type": "code",
      "source": [
        "print(y_pred_futureS)\n",
        "i=y_pred_futureS[-1]\n",
        "cod=(i*100/10)*0.12\n",
        "print(cod)"
      ],
      "metadata": {
        "colab": {
          "base_uri": "https://localhost:8080/"
        },
        "id": "0-ick9MngSTS",
        "outputId": "afc9cd7d-5b11-4490-94a9-89c17e5353f7"
      },
      "execution_count": null,
      "outputs": [
        {
          "output_type": "stream",
          "name": "stdout",
          "text": [
            "[2.8900282 2.970815  4.1789107 3.0190597 2.1305585 1.4670299 1.4908906]\n",
            "1.7890687465667725\n"
          ]
        }
      ]
    },
    {
      "cell_type": "code",
      "source": [
        "l=[do,ph,bod,tur,cod]\n",
        "print(l)\n",
        "print(sum(l))"
      ],
      "metadata": {
        "colab": {
          "base_uri": "https://localhost:8080/"
        },
        "id": "rUBYQGsrghCL",
        "outputId": "0b48392b-36ea-422a-d63f-ebfdbe2befb4"
      },
      "execution_count": null,
      "outputs": [
        {
          "output_type": "stream",
          "name": "stdout",
          "text": [
            "[23.839627799987795, 8.149330444335938, 3.1279401354789735, 4.67296838760376, 1.7890687465667725]\n",
            "41.578935513973235\n"
          ]
        }
      ]
    },
    {
      "cell_type": "code",
      "source": [
        "modelP = Sequential()\n",
        "modelP.add(LSTM(64, activation='relu', input_shape=(trainX.shape[1], trainX.shape[2]), return_sequences=True))\n",
        "modelP.add(LSTM(32, activation='relu', return_sequences=False))\n",
        "modelP.add(Dropout(0.2))\n",
        "modelP.add(Dense(trainYC.shape[1]))"
      ],
      "metadata": {
        "id": "Afys-MidtGxw"
      },
      "execution_count": null,
      "outputs": []
    },
    {
      "cell_type": "code",
      "source": [
        "modelP.compile(optimizer='adam', loss='mse')\n",
        "modelP.summary()"
      ],
      "metadata": {
        "colab": {
          "base_uri": "https://localhost:8080/"
        },
        "id": "ut__0Jll3kET",
        "outputId": "eae36bfe-8ea0-426e-9665-07e50b49f57d"
      },
      "execution_count": null,
      "outputs": [
        {
          "output_type": "stream",
          "name": "stdout",
          "text": [
            "Model: \"sequential_5\"\n",
            "_________________________________________________________________\n",
            " Layer (type)                Output Shape              Param #   \n",
            "=================================================================\n",
            " lstm_10 (LSTM)              (None, 3, 64)             18432     \n",
            "                                                                 \n",
            " lstm_11 (LSTM)              (None, 32)                12416     \n",
            "                                                                 \n",
            " dropout_5 (Dropout)         (None, 32)                0         \n",
            "                                                                 \n",
            " dense_5 (Dense)             (None, 1)                 33        \n",
            "                                                                 \n",
            "=================================================================\n",
            "Total params: 30881 (120.63 KB)\n",
            "Trainable params: 30881 (120.63 KB)\n",
            "Non-trainable params: 0 (0.00 Byte)\n",
            "_________________________________________________________________\n"
          ]
        }
      ]
    },
    {
      "cell_type": "code",
      "source": [
        "history = modelP.fit(trainX, trainYP, epochs=50, batch_size=4, validation_split=0.1, verbose=1)"
      ],
      "metadata": {
        "colab": {
          "base_uri": "https://localhost:8080/"
        },
        "id": "VVO7Pbwn3nnE",
        "outputId": "adb4d13f-f17d-4a90-ca3e-1f376ebd6a96"
      },
      "execution_count": null,
      "outputs": [
        {
          "output_type": "stream",
          "name": "stdout",
          "text": [
            "Epoch 1/50\n",
            "2/2 [==============================] - 5s 664ms/step - loss: 1.1875 - val_loss: 1.3049\n",
            "Epoch 2/50\n",
            "2/2 [==============================] - 0s 57ms/step - loss: 1.1571 - val_loss: 1.3065\n",
            "Epoch 3/50\n",
            "2/2 [==============================] - 0s 52ms/step - loss: 1.1624 - val_loss: 1.3110\n",
            "Epoch 4/50\n",
            "2/2 [==============================] - 0s 69ms/step - loss: 1.1344 - val_loss: 1.3132\n",
            "Epoch 5/50\n",
            "2/2 [==============================] - 0s 72ms/step - loss: 1.1241 - val_loss: 1.3126\n",
            "Epoch 6/50\n",
            "2/2 [==============================] - 0s 66ms/step - loss: 1.1143 - val_loss: 1.3113\n",
            "Epoch 7/50\n",
            "2/2 [==============================] - 0s 71ms/step - loss: 1.1081 - val_loss: 1.3112\n",
            "Epoch 8/50\n",
            "2/2 [==============================] - 0s 58ms/step - loss: 1.0664 - val_loss: 1.3115\n",
            "Epoch 9/50\n",
            "2/2 [==============================] - 0s 67ms/step - loss: 1.0568 - val_loss: 1.3122\n",
            "Epoch 10/50\n",
            "2/2 [==============================] - 0s 54ms/step - loss: 1.0271 - val_loss: 1.3107\n",
            "Epoch 11/50\n",
            "2/2 [==============================] - 0s 71ms/step - loss: 1.0406 - val_loss: 1.3069\n",
            "Epoch 12/50\n",
            "2/2 [==============================] - 0s 75ms/step - loss: 1.0271 - val_loss: 1.3015\n",
            "Epoch 13/50\n",
            "2/2 [==============================] - 0s 59ms/step - loss: 1.0069 - val_loss: 1.2946\n",
            "Epoch 14/50\n",
            "2/2 [==============================] - 0s 58ms/step - loss: 0.9713 - val_loss: 1.2899\n",
            "Epoch 15/50\n",
            "2/2 [==============================] - 0s 54ms/step - loss: 0.9500 - val_loss: 1.2856\n",
            "Epoch 16/50\n",
            "2/2 [==============================] - 0s 52ms/step - loss: 0.9192 - val_loss: 1.2798\n",
            "Epoch 17/50\n",
            "2/2 [==============================] - 0s 71ms/step - loss: 0.8946 - val_loss: 1.2730\n",
            "Epoch 18/50\n",
            "2/2 [==============================] - 0s 59ms/step - loss: 0.8567 - val_loss: 1.2672\n",
            "Epoch 19/50\n",
            "2/2 [==============================] - 0s 55ms/step - loss: 0.8689 - val_loss: 1.2649\n",
            "Epoch 20/50\n",
            "2/2 [==============================] - 0s 41ms/step - loss: 0.7886 - val_loss: 1.2607\n",
            "Epoch 21/50\n",
            "2/2 [==============================] - 0s 34ms/step - loss: 0.7394 - val_loss: 1.2558\n",
            "Epoch 22/50\n",
            "2/2 [==============================] - 0s 37ms/step - loss: 0.7558 - val_loss: 1.2491\n",
            "Epoch 23/50\n",
            "2/2 [==============================] - 0s 39ms/step - loss: 0.6901 - val_loss: 1.2434\n",
            "Epoch 24/50\n",
            "2/2 [==============================] - 0s 38ms/step - loss: 0.6020 - val_loss: 1.2362\n",
            "Epoch 25/50\n",
            "2/2 [==============================] - 0s 38ms/step - loss: 0.7687 - val_loss: 1.2265\n",
            "Epoch 26/50\n",
            "2/2 [==============================] - 0s 42ms/step - loss: 0.5143 - val_loss: 1.2152\n",
            "Epoch 27/50\n",
            "2/2 [==============================] - 0s 42ms/step - loss: 0.6426 - val_loss: 1.2023\n",
            "Epoch 28/50\n",
            "2/2 [==============================] - 0s 49ms/step - loss: 0.4720 - val_loss: 1.1850\n",
            "Epoch 29/50\n",
            "2/2 [==============================] - 0s 37ms/step - loss: 0.6518 - val_loss: 1.1640\n",
            "Epoch 30/50\n",
            "2/2 [==============================] - 0s 46ms/step - loss: 0.4432 - val_loss: 1.1415\n",
            "Epoch 31/50\n",
            "2/2 [==============================] - 0s 38ms/step - loss: 0.5012 - val_loss: 1.1147\n",
            "Epoch 32/50\n",
            "2/2 [==============================] - 0s 36ms/step - loss: 0.4323 - val_loss: 1.0900\n",
            "Epoch 33/50\n",
            "2/2 [==============================] - 0s 36ms/step - loss: 0.4029 - val_loss: 1.0643\n",
            "Epoch 34/50\n",
            "2/2 [==============================] - 0s 45ms/step - loss: 0.4026 - val_loss: 1.0365\n",
            "Epoch 35/50\n",
            "2/2 [==============================] - 0s 36ms/step - loss: 0.4452 - val_loss: 1.0047\n",
            "Epoch 36/50\n",
            "2/2 [==============================] - 0s 37ms/step - loss: 0.4623 - val_loss: 0.9725\n",
            "Epoch 37/50\n",
            "2/2 [==============================] - 0s 35ms/step - loss: 0.4983 - val_loss: 0.9427\n",
            "Epoch 38/50\n",
            "2/2 [==============================] - 0s 37ms/step - loss: 0.3374 - val_loss: 0.9150\n",
            "Epoch 39/50\n",
            "2/2 [==============================] - 0s 38ms/step - loss: 0.3521 - val_loss: 0.8855\n",
            "Epoch 40/50\n",
            "2/2 [==============================] - 0s 35ms/step - loss: 0.2803 - val_loss: 0.8556\n",
            "Epoch 41/50\n",
            "2/2 [==============================] - 0s 39ms/step - loss: 0.3149 - val_loss: 0.8238\n",
            "Epoch 42/50\n",
            "2/2 [==============================] - 0s 41ms/step - loss: 0.2571 - val_loss: 0.7921\n",
            "Epoch 43/50\n",
            "2/2 [==============================] - 0s 36ms/step - loss: 0.2697 - val_loss: 0.7570\n",
            "Epoch 44/50\n",
            "2/2 [==============================] - 0s 39ms/step - loss: 0.4181 - val_loss: 0.7237\n",
            "Epoch 45/50\n",
            "2/2 [==============================] - 0s 37ms/step - loss: 0.2340 - val_loss: 0.6894\n",
            "Epoch 46/50\n",
            "2/2 [==============================] - 0s 38ms/step - loss: 0.1931 - val_loss: 0.6596\n",
            "Epoch 47/50\n",
            "2/2 [==============================] - 0s 41ms/step - loss: 0.3060 - val_loss: 0.6295\n",
            "Epoch 48/50\n",
            "2/2 [==============================] - 0s 41ms/step - loss: 0.1770 - val_loss: 0.6024\n",
            "Epoch 49/50\n",
            "2/2 [==============================] - 0s 38ms/step - loss: 0.1734 - val_loss: 0.5819\n",
            "Epoch 50/50\n",
            "2/2 [==============================] - 0s 39ms/step - loss: 0.2304 - val_loss: 0.5591\n"
          ]
        }
      ]
    },
    {
      "cell_type": "code",
      "source": [
        "historyP = history"
      ],
      "metadata": {
        "id": "DvqLuQ9F3wvt"
      },
      "execution_count": null,
      "outputs": []
    },
    {
      "cell_type": "code",
      "source": [
        "plt.plot(historyP.history['loss'], label='Training loss')\n",
        "plt.plot(historyP.history['val_loss'], label='Validation loss')\n",
        "plt.legend()"
      ],
      "metadata": {
        "colab": {
          "base_uri": "https://localhost:8080/",
          "height": 447
        },
        "id": "QWAUXe6w3yna",
        "outputId": "0be0edbe-f6d4-4d6e-d6ad-88128cbbed55"
      },
      "execution_count": null,
      "outputs": [
        {
          "output_type": "execute_result",
          "data": {
            "text/plain": [
              "<matplotlib.legend.Legend at 0x7a3e357d1390>"
            ]
          },
          "metadata": {},
          "execution_count": 59
        },
        {
          "output_type": "display_data",
          "data": {
            "text/plain": [
              "<Figure size 640x480 with 1 Axes>"
            ],
            "image/png": "[encoded data removed]"
          },
          "metadata": {}
        }
      ]
    },
    {
      "cell_type": "code",
      "source": [
        "predictionP = modelP.predict(trainX)"
      ],
      "metadata": {
        "colab": {
          "base_uri": "https://localhost:8080/"
        },
        "id": "Eofi1P5M35Kv",
        "outputId": "f2b113ce-8b6e-4e01-ac5f-74c116ed11e1"
      },
      "execution_count": null,
      "outputs": [
        {
          "output_type": "stream",
          "name": "stderr",
          "text": [
            "WARNING:tensorflow:6 out of the last 6 calls to <function Model.make_predict_function.<locals>.predict_function at 0x7a3e35690ee0> triggered tf.function retracing. Tracing is expensive and the excessive number of tracings could be due to (1) creating @tf.function repeatedly in a loop, (2) passing tensors with different shapes, (3) passing Python objects instead of tensors. For (1), please define your @tf.function outside of the loop. For (2), @tf.function has reduce_retracing=True option that can avoid unnecessary retracing. For (3), please refer to https://www.tensorflow.org/guide/function#controlling_retracing and https://www.tensorflow.org/api_docs/python/tf/function for  more details.\n"
          ]
        },
        {
          "output_type": "stream",
          "name": "stdout",
          "text": [
            "1/1 [==============================] - 0s 349ms/step\n"
          ]
        }
      ]
    },
    {
      "cell_type": "code",
      "source": [
        "prediction_copiesP = np.repeat(predictionP, df_for_training.shape[1], axis=-1)\n",
        "y_pred_futureP = scaler.inverse_transform(prediction_copiesP)[:,0]"
      ],
      "metadata": {
        "id": "NTWCTZiM37ya"
      },
      "execution_count": null,
      "outputs": []
    },
    {
      "cell_type": "code",
      "source": [
        "print(y_pred_futureP)\n",
        "ec=y_pred_futureP[-1]\n",
        "print(ec)"
      ],
      "metadata": {
        "colab": {
          "base_uri": "https://localhost:8080/"
        },
        "id": "TrbiFJqo4Alz",
        "outputId": "57600493-745e-4de3-89d6-5fcb244b422f"
      },
      "execution_count": null,
      "outputs": [
        {
          "output_type": "stream",
          "name": "stdout",
          "text": [
            "[4.8937745 5.058568  4.6499786 5.1647825 5.5333853 5.713256  5.532223 ]\n",
            "5.532223\n"
          ]
        }
      ]
    },
    {
      "cell_type": "code",
      "source": [
        "l=[do,ph,bod,tur,cod,ec]\n",
        "print(l)\n",
        "WQI=sum(l)\n",
        "print(WQI)"
      ],
      "metadata": {
        "colab": {
          "base_uri": "https://localhost:8080/"
        },
        "id": "bkrV4Kjw8mJf",
        "outputId": "95f4ee38-683c-4723-8454-420cf446e37c"
      },
      "execution_count": null,
      "outputs": [
        {
          "output_type": "stream",
          "name": "stdout",
          "text": [
            "[23.839627799987795, 8.149330444335938, 3.1279401354789735, 4.67296838760376, 1.7890687465667725, 5.532223]\n",
            "47.11115873861313\n"
          ]
        }
      ]
    },
    {
      "cell_type": "code",
      "source": [
        "def get_WQI_bucket(x):\n",
        "    if x>=0 and x <= 25:\n",
        "        return \"Excellent\"\n",
        "    elif x>=26 and x<=50:\n",
        "        return \"Good\"\n",
        "    elif x >=51 and x<=75:\n",
        "        return \"Poor\"\n",
        "    elif x>=76 and x<100:\n",
        "        return \"Very Poor\"\n",
        "    else:\n",
        "        return \"Not Suitable for drinking\"\n",
        "result=get_WQI_bucket(WQI)\n",
        "print(result)"
      ],
      "metadata": {
        "id": "jCwF1m238o9a",
        "colab": {
          "base_uri": "https://localhost:8080/"
        },
        "outputId": "f23861ba-ce98-45e5-d89f-5ab7095aa016"
      },
      "execution_count": null,
      "outputs": [
        {
          "output_type": "stream",
          "name": "stdout",
          "text": [
            "Good\n"
          ]
        }
      ]
    }
  ]
}