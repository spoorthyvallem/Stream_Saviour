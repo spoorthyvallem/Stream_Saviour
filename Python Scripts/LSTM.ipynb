{
  "nbformat": 4,
  "nbformat_minor": 0,
  "metadata": {
    "colab": {
      "provenance": []
    },
    "kernelspec": {
      "name": "python3",
      "display_name": "Python 3"
    },
    "language_info": {
      "name": "python"
    }
  },
  "cells": [
    {
      "cell_type": "code",
      "execution_count": null,
      "metadata": {
        "id": "A2FScVPSF0Ky"
      },
      "outputs": [],
      "source": [
        "import numpy as np\n",
        "from tensorflow.keras.models import Sequential\n",
        "from tensorflow.keras.layers import LSTM\n",
        "from tensorflow.keras.layers import Dense, Dropout\n",
        "import pandas as pd\n",
        "from matplotlib import pyplot as plt\n",
        "from sklearn.preprocessing import StandardScaler\n",
        "import seaborn as sns"
      ]
    },
    {
      "cell_type": "code",
      "source": [
        "from google.colab import drive\n",
        "drive.mount('/content/drive')\n"
      ],
      "metadata": {
        "colab": {
          "base_uri": "https://localhost:8080/"
        },
        "id": "Uh8kxTU5GA8n",
        "outputId": "1a043e1e-3659-4de0-a744-982e0e8e2a24"
      },
      "execution_count": null,
      "outputs": [
        {
          "output_type": "stream",
          "name": "stdout",
          "text": [
            "Drive already mounted at /content/drive; to attempt to forcibly remount, call drive.mount(\"/content/drive\", force_remount=True).\n"
          ]
        }
      ]
    },
    {
      "cell_type": "code",
      "source": [
        "fi = pd.read_csv('/content/drive/MyDrive/Basara1.csv')\n",
        "print(fi.shape)\n",
        "fi"
      ],
      "metadata": {
        "colab": {
          "base_uri": "https://localhost:8080/",
          "height": 380
        },
        "id": "KS1XeEJAGLky",
        "outputId": "3018867a-a56f-443c-ae4b-061dc1eb197d"
      },
      "execution_count": null,
      "outputs": [
        {
          "output_type": "stream",
          "name": "stdout",
          "text": [
            "(10, 9)\n"
          ]
        },
        {
          "output_type": "execute_result",
          "data": {
            "text/plain": [
              "   S.No.   DO (mg/L)    pH  BOD (mg/L)  Turbidity (NTU)  COD (mg/L)   EC  \\\n",
              "0       1       6.30  8.02         1.1             11.0           4  606   \n",
              "1       2       5.80  7.52         3.0              9.0          20  662   \n",
              "2       3       7.20  7.87         2.0             25.0          19  436   \n",
              "3       4       7.30  7.91         3.0             25.0          18  558   \n",
              "4       5       6.70  7.67         3.0             36.0          21  600   \n",
              "5       6       7.00  7.31         2.0             18.0          11  486   \n",
              "6       6       7.30  7.31         2.1             10.0          16  410   \n",
              "7       7       6.40  7.28         2.1              9.0          20  615   \n",
              "8       8       6.60  7.72         1.7              7.0          16  747   \n",
              "9       9       6.97  7.73         3.0              3.4          34  791   \n",
              "\n",
              "    TSS  Year  \n",
              "0  17.0  2014  \n",
              "1  38.0  2015  \n",
              "2  36.0  2016  \n",
              "3  15.0  2017  \n",
              "4  15.0  2018  \n",
              "5  11.0  2019  \n",
              "6   9.0  2020  \n",
              "7   9.0  2021  \n",
              "8  10.0  2022  \n",
              "9   6.1  2023  "
            ],
            "text/html": [
              "\n",
              "  <div id=\"df-65618e79-5045-431e-b626-b186f64b2995\" class=\"colab-df-container\">\n",
              "    <div>\n",
              "<style scoped>\n",
              "    .dataframe tbody tr th:only-of-type {\n",
              "        vertical-align: middle;\n",
              "    }\n",
              "\n",
              "    .dataframe tbody tr th {\n",
              "        vertical-align: top;\n",
              "    }\n",
              "\n",
              "    .dataframe thead th {\n",
              "        text-align: right;\n",
              "    }\n",
              "</style>\n",
              "<table border=\"1\" class=\"dataframe\">\n",
              "  <thead>\n",
              "    <tr style=\"text-align: right;\">\n",
              "      <th></th>\n",
              "      <th>S.No.</th>\n",
              "      <th>DO (mg/L)</th>\n",
              "      <th>pH</th>\n",
              "      <th>BOD (mg/L)</th>\n",
              "      <th>Turbidity (NTU)</th>\n",
              "      <th>COD (mg/L)</th>\n",
              "      <th>EC</th>\n",
              "      <th>TSS</th>\n",
              "      <th>Year</th>\n",
              "    </tr>\n",
              "  </thead>\n",
              "  <tbody>\n",
              "    <tr>\n",
              "      <th>0</th>\n",
              "      <td>1</td>\n",
              "      <td>6.30</td>\n",
              "      <td>8.02</td>\n",
              "      <td>1.1</td>\n",
              "      <td>11.0</td>\n",
              "      <td>4</td>\n",
              "      <td>606</td>\n",
              "      <td>17.0</td>\n",
              "      <td>2014</td>\n",
              "    </tr>\n",
              "    <tr>\n",
              "      <th>1</th>\n",
              "      <td>2</td>\n",
              "      <td>5.80</td>\n",
              "      <td>7.52</td>\n",
              "      <td>3.0</td>\n",
              "      <td>9.0</td>\n",
              "      <td>20</td>\n",
              "      <td>662</td>\n",
              "      <td>38.0</td>\n",
              "      <td>2015</td>\n",
              "    </tr>\n",
              "    <tr>\n",
              "      <th>2</th>\n",
              "      <td>3</td>\n",
              "      <td>7.20</td>\n",
              "      <td>7.87</td>\n",
              "      <td>2.0</td>\n",
              "      <td>25.0</td>\n",
              "      <td>19</td>\n",
              "      <td>436</td>\n",
              "      <td>36.0</td>\n",
              "      <td>2016</td>\n",
              "    </tr>\n",
              "    <tr>\n",
              "      <th>3</th>\n",
              "      <td>4</td>\n",
              "      <td>7.30</td>\n",
              "      <td>7.91</td>\n",
              "      <td>3.0</td>\n",
              "      <td>25.0</td>\n",
              "      <td>18</td>\n",
              "      <td>558</td>\n",
              "      <td>15.0</td>\n",
              "      <td>2017</td>\n",
              "    </tr>\n",
              "    <tr>\n",
              "      <th>4</th>\n",
              "      <td>5</td>\n",
              "      <td>6.70</td>\n",
              "      <td>7.67</td>\n",
              "      <td>3.0</td>\n",
              "      <td>36.0</td>\n",
              "      <td>21</td>\n",
              "      <td>600</td>\n",
              "      <td>15.0</td>\n",
              "      <td>2018</td>\n",
              "    </tr>\n",
              "    <tr>\n",
              "      <th>5</th>\n",
              "      <td>6</td>\n",
              "      <td>7.00</td>\n",
              "      <td>7.31</td>\n",
              "      <td>2.0</td>\n",
              "      <td>18.0</td>\n",
              "      <td>11</td>\n",
              "      <td>486</td>\n",
              "      <td>11.0</td>\n",
              "      <td>2019</td>\n",
              "    </tr>\n",
              "    <tr>\n",
              "      <th>6</th>\n",
              "      <td>6</td>\n",
              "      <td>7.30</td>\n",
              "      <td>7.31</td>\n",
              "      <td>2.1</td>\n",
              "      <td>10.0</td>\n",
              "      <td>16</td>\n",
              "      <td>410</td>\n",
              "      <td>9.0</td>\n",
              "      <td>2020</td>\n",
              "    </tr>\n",
              "    <tr>\n",
              "      <th>7</th>\n",
              "      <td>7</td>\n",
              "      <td>6.40</td>\n",
              "      <td>7.28</td>\n",
              "      <td>2.1</td>\n",
              "      <td>9.0</td>\n",
              "      <td>20</td>\n",
              "      <td>615</td>\n",
              "      <td>9.0</td>\n",
              "      <td>2021</td>\n",
              "    </tr>\n",
              "    <tr>\n",
              "      <th>8</th>\n",
              "      <td>8</td>\n",
              "      <td>6.60</td>\n",
              "      <td>7.72</td>\n",
              "      <td>1.7</td>\n",
              "      <td>7.0</td>\n",
              "      <td>16</td>\n",
              "      <td>747</td>\n",
              "      <td>10.0</td>\n",
              "      <td>2022</td>\n",
              "    </tr>\n",
              "    <tr>\n",
              "      <th>9</th>\n",
              "      <td>9</td>\n",
              "      <td>6.97</td>\n",
              "      <td>7.73</td>\n",
              "      <td>3.0</td>\n",
              "      <td>3.4</td>\n",
              "      <td>34</td>\n",
              "      <td>791</td>\n",
              "      <td>6.1</td>\n",
              "      <td>2023</td>\n",
              "    </tr>\n",
              "  </tbody>\n",
              "</table>\n",
              "</div>\n",
              "    <div class=\"colab-df-buttons\">\n",
              "\n",
              "  <div class=\"colab-df-container\">\n",
              "    <button class=\"colab-df-convert\" onclick=\"convertToInteractive('df-65618e79-5045-431e-b626-b186f64b2995')\"\n",
              "            title=\"Convert this dataframe to an interactive table.\"\n",
              "            style=\"display:none;\">\n",
              "\n",
              "  <svg xmlns=\"http://www.w3.org/2000/svg\" height=\"24px\" viewBox=\"0 -960 960 960\">\n",
              "    <path d=\"M120-120v-720h720v720H120Zm60-500h600v-160H180v160Zm220 220h160v-160H400v160Zm0 220h160v-160H400v160ZM180-400h160v-160H180v160Zm440 0h160v-160H620v160ZM180-180h160v-160H180v160Zm440 0h160v-160H620v160Z\"/>\n",
              "  </svg>\n",
              "    </button>\n",
              "\n",
              "  <style>\n",
              "    .colab-df-container {\n",
              "      display:flex;\n",
              "      gap: 12px;\n",
              "    }\n",
              "\n",
              "    .colab-df-convert {\n",
              "      background-color: #E8F0FE;\n",
              "      border: none;\n",
              "      border-radius: 50%;\n",
              "      cursor: pointer;\n",
              "      display: none;\n",
              "      fill: #1967D2;\n",
              "      height: 32px;\n",
              "      padding: 0 0 0 0;\n",
              "      width: 32px;\n",
              "    }\n",
              "\n",
              "    .colab-df-convert:hover {\n",
              "      background-color: #E2EBFA;\n",
              "      box-shadow: 0px 1px 2px rgba(60, 64, 67, 0.3), 0px 1px 3px 1px rgba(60, 64, 67, 0.15);\n",
              "      fill: #174EA6;\n",
              "    }\n",
              "\n",
              "    .colab-df-buttons div {\n",
              "      margin-bottom: 4px;\n",
              "    }\n",
              "\n",
              "    [theme=dark] .colab-df-convert {\n",
              "      background-color: #3B4455;\n",
              "      fill: #D2E3FC;\n",
              "    }\n",
              "\n",
              "    [theme=dark] .colab-df-convert:hover {\n",
              "      background-color: #434B5C;\n",
              "      box-shadow: 0px 1px 3px 1px rgba(0, 0, 0, 0.15);\n",
              "      filter: drop-shadow(0px 1px 2px rgba(0, 0, 0, 0.3));\n",
              "      fill: #FFFFFF;\n",
              "    }\n",
              "  </style>\n",
              "\n",
              "    <script>\n",
              "      const buttonEl =\n",
              "        document.querySelector('#df-65618e79-5045-431e-b626-b186f64b2995 button.colab-df-convert');\n",
              "      buttonEl.style.display =\n",
              "        google.colab.kernel.accessAllowed ? 'block' : 'none';\n",
              "\n",
              "      async function convertToInteractive(key) {\n",
              "        const element = document.querySelector('#df-65618e79-5045-431e-b626-b186f64b2995');\n",
              "        const dataTable =\n",
              "          await google.colab.kernel.invokeFunction('convertToInteractive',\n",
              "                                                    [key], {});\n",
              "        if (!dataTable) return;\n",
              "\n",
              "        const docLinkHtml = 'Like what you see? Visit the ' +\n",
              "          '<a target=\"_blank\" href=https://colab.research.google.com/notebooks/data_table.ipynb>data table notebook</a>'\n",
              "          + ' to learn more about interactive tables.';\n",
              "        element.innerHTML = '';\n",
              "        dataTable['output_type'] = 'display_data';\n",
              "        await google.colab.output.renderOutput(dataTable, element);\n",
              "        const docLink = document.createElement('div');\n",
              "        docLink.innerHTML = docLinkHtml;\n",
              "        element.appendChild(docLink);\n",
              "      }\n",
              "    </script>\n",
              "  </div>\n",
              "\n",
              "\n",
              "<div id=\"df-78154e55-24c5-4e49-8776-a68d6e7a71a1\">\n",
              "  <button class=\"colab-df-quickchart\" onclick=\"quickchart('df-78154e55-24c5-4e49-8776-a68d6e7a71a1')\"\n",
              "            title=\"Suggest charts\"\n",
              "            style=\"display:none;\">\n",
              "\n",
              "<svg xmlns=\"http://www.w3.org/2000/svg\" height=\"24px\"viewBox=\"0 0 24 24\"\n",
              "     width=\"24px\">\n",
              "    <g>\n",
              "        <path d=\"M19 3H5c-1.1 0-2 .9-2 2v14c0 1.1.9 2 2 2h14c1.1 0 2-.9 2-2V5c0-1.1-.9-2-2-2zM9 17H7v-7h2v7zm4 0h-2V7h2v10zm4 0h-2v-4h2v4z\"/>\n",
              "    </g>\n",
              "</svg>\n",
              "  </button>\n",
              "\n",
              "<style>\n",
              "  .colab-df-quickchart {\n",
              "      --bg-color: #E8F0FE;\n",
              "      --fill-color: #1967D2;\n",
              "      --hover-bg-color: #E2EBFA;\n",
              "      --hover-fill-color: #174EA6;\n",
              "      --disabled-fill-color: #AAA;\n",
              "      --disabled-bg-color: #DDD;\n",
              "  }\n",
              "\n",
              "  [theme=dark] .colab-df-quickchart {\n",
              "      --bg-color: #3B4455;\n",
              "      --fill-color: #D2E3FC;\n",
              "      --hover-bg-color: #434B5C;\n",
              "      --hover-fill-color: #FFFFFF;\n",
              "      --disabled-bg-color: #3B4455;\n",
              "      --disabled-fill-color: #666;\n",
              "  }\n",
              "\n",
              "  .colab-df-quickchart {\n",
              "    background-color: var(--bg-color);\n",
              "    border: none;\n",
              "    border-radius: 50%;\n",
              "    cursor: pointer;\n",
              "    display: none;\n",
              "    fill: var(--fill-color);\n",
              "    height: 32px;\n",
              "    padding: 0;\n",
              "    width: 32px;\n",
              "  }\n",
              "\n",
              "  .colab-df-quickchart:hover {\n",
              "    background-color: var(--hover-bg-color);\n",
              "    box-shadow: 0 1px 2px rgba(60, 64, 67, 0.3), 0 1px 3px 1px rgba(60, 64, 67, 0.15);\n",
              "    fill: var(--button-hover-fill-color);\n",
              "  }\n",
              "\n",
              "  .colab-df-quickchart-complete:disabled,\n",
              "  .colab-df-quickchart-complete:disabled:hover {\n",
              "    background-color: var(--disabled-bg-color);\n",
              "    fill: var(--disabled-fill-color);\n",
              "    box-shadow: none;\n",
              "  }\n",
              "\n",
              "  .colab-df-spinner {\n",
              "    border: 2px solid var(--fill-color);\n",
              "    border-color: transparent;\n",
              "    border-bottom-color: var(--fill-color);\n",
              "    animation:\n",
              "      spin 1s steps(1) infinite;\n",
              "  }\n",
              "\n",
              "  @keyframes spin {\n",
              "    0% {\n",
              "      border-color: transparent;\n",
              "      border-bottom-color: var(--fill-color);\n",
              "      border-left-color: var(--fill-color);\n",
              "    }\n",
              "    20% {\n",
              "      border-color: transparent;\n",
              "      border-left-color: var(--fill-color);\n",
              "      border-top-color: var(--fill-color);\n",
              "    }\n",
              "    30% {\n",
              "      border-color: transparent;\n",
              "      border-left-color: var(--fill-color);\n",
              "      border-top-color: var(--fill-color);\n",
              "      border-right-color: var(--fill-color);\n",
              "    }\n",
              "    40% {\n",
              "      border-color: transparent;\n",
              "      border-right-color: var(--fill-color);\n",
              "      border-top-color: var(--fill-color);\n",
              "    }\n",
              "    60% {\n",
              "      border-color: transparent;\n",
              "      border-right-color: var(--fill-color);\n",
              "    }\n",
              "    80% {\n",
              "      border-color: transparent;\n",
              "      border-right-color: var(--fill-color);\n",
              "      border-bottom-color: var(--fill-color);\n",
              "    }\n",
              "    90% {\n",
              "      border-color: transparent;\n",
              "      border-bottom-color: var(--fill-color);\n",
              "    }\n",
              "  }\n",
              "</style>\n",
              "\n",
              "  <script>\n",
              "    async function quickchart(key) {\n",
              "      const quickchartButtonEl =\n",
              "        document.querySelector('#' + key + ' button');\n",
              "      quickchartButtonEl.disabled = true;  // To prevent multiple clicks.\n",
              "      quickchartButtonEl.classList.add('colab-df-spinner');\n",
              "      try {\n",
              "        const charts = await google.colab.kernel.invokeFunction(\n",
              "            'suggestCharts', [key], {});\n",
              "      } catch (error) {\n",
              "        console.error('Error during call to suggestCharts:', error);\n",
              "      }\n",
              "      quickchartButtonEl.classList.remove('colab-df-spinner');\n",
              "      quickchartButtonEl.classList.add('colab-df-quickchart-complete');\n",
              "    }\n",
              "    (() => {\n",
              "      let quickchartButtonEl =\n",
              "        document.querySelector('#df-78154e55-24c5-4e49-8776-a68d6e7a71a1 button');\n",
              "      quickchartButtonEl.style.display =\n",
              "        google.colab.kernel.accessAllowed ? 'block' : 'none';\n",
              "    })();\n",
              "  </script>\n",
              "</div>\n",
              "    </div>\n",
              "  </div>\n"
            ],
            "application/vnd.google.colaboratory.intrinsic+json": {
              "type": "dataframe",
              "variable_name": "fi",
              "summary": "{\n  \"name\": \"fi\",\n  \"rows\": 10,\n  \"fields\": [\n    {\n      \"column\": \"S.No. \",\n      \"properties\": {\n        \"dtype\": \"number\",\n        \"std\": 2,\n        \"min\": 1,\n        \"max\": 9,\n        \"num_unique_values\": 9,\n        \"samples\": [\n          8,\n          2,\n          6\n        ],\n        \"semantic_type\": \"\",\n        \"description\": \"\"\n      }\n    },\n    {\n      \"column\": \"DO (mg/L)\",\n      \"properties\": {\n        \"dtype\": \"number\",\n        \"std\": 0.49107704758690024,\n        \"min\": 5.8,\n        \"max\": 7.3,\n        \"num_unique_values\": 9,\n        \"samples\": [\n          6.6,\n          5.8,\n          7.0\n        ],\n        \"semantic_type\": \"\",\n        \"description\": \"\"\n      }\n    },\n    {\n      \"column\": \"pH\",\n      \"properties\": {\n        \"dtype\": \"number\",\n        \"std\": 0.2681293220319877,\n        \"min\": 7.28,\n        \"max\": 8.02,\n        \"num_unique_values\": 9,\n        \"samples\": [\n          7.72,\n          7.52,\n          7.31\n        ],\n        \"semantic_type\": \"\",\n        \"description\": \"\"\n      }\n    },\n    {\n      \"column\": \"BOD (mg/L)\",\n      \"properties\": {\n        \"dtype\": \"number\",\n        \"std\": 0.6683312551921141,\n        \"min\": 1.1,\n        \"max\": 3.0,\n        \"num_unique_values\": 5,\n        \"samples\": [\n          3.0,\n          1.7,\n          2.0\n        ],\n        \"semantic_type\": \"\",\n        \"description\": \"\"\n      }\n    },\n    {\n      \"column\": \"Turbidity (NTU)\",\n      \"properties\": {\n        \"dtype\": \"number\",\n        \"std\": 10.330128535287233,\n        \"min\": 3.4,\n        \"max\": 36.0,\n        \"num_unique_values\": 8,\n        \"samples\": [\n          9.0,\n          10.0,\n          11.0\n        ],\n        \"semantic_type\": \"\",\n        \"description\": \"\"\n      }\n    },\n    {\n      \"column\": \"COD (mg/L)\",\n      \"properties\": {\n        \"dtype\": \"number\",\n        \"std\": 7,\n        \"min\": 4,\n        \"max\": 34,\n        \"num_unique_values\": 8,\n        \"samples\": [\n          20,\n          11,\n          4\n        ],\n        \"semantic_type\": \"\",\n        \"description\": \"\"\n      }\n    },\n    {\n      \"column\": \"EC\",\n      \"properties\": {\n        \"dtype\": \"number\",\n        \"std\": 124,\n        \"min\": 410,\n        \"max\": 791,\n        \"num_unique_values\": 10,\n        \"samples\": [\n          747,\n          662,\n          486\n        ],\n        \"semantic_type\": \"\",\n        \"description\": \"\"\n      }\n    },\n    {\n      \"column\": \"TSS\",\n      \"properties\": {\n        \"dtype\": \"number\",\n        \"std\": 11.256055160569256,\n        \"min\": 6.1,\n        \"max\": 38.0,\n        \"num_unique_values\": 8,\n        \"samples\": [\n          38.0,\n          9.0,\n          17.0\n        ],\n        \"semantic_type\": \"\",\n        \"description\": \"\"\n      }\n    },\n    {\n      \"column\": \"Year\",\n      \"properties\": {\n        \"dtype\": \"number\",\n        \"std\": 3,\n        \"min\": 2014,\n        \"max\": 2023,\n        \"num_unique_values\": 10,\n        \"samples\": [\n          2022,\n          2015,\n          2019\n        ],\n        \"semantic_type\": \"\",\n        \"description\": \"\"\n      }\n    }\n  ]\n}"
            }
          },
          "metadata": {},
          "execution_count": 67
        }
      ]
    },
    {
      "cell_type": "code",
      "source": [
        "cols = list(fi)[1:8]\n",
        "print(cols)"
      ],
      "metadata": {
        "colab": {
          "base_uri": "https://localhost:8080/"
        },
        "id": "XsMeQLLFGqgf",
        "outputId": "9d99e6af-5a07-40c0-acaf-5c3a77458287"
      },
      "execution_count": null,
      "outputs": [
        {
          "output_type": "stream",
          "name": "stdout",
          "text": [
            "['DO (mg/L)', 'pH', 'BOD (mg/L)', 'Turbidity (NTU)', 'COD (mg/L)', 'EC', 'TSS']\n"
          ]
        }
      ]
    },
    {
      "cell_type": "code",
      "source": [
        "df_for_training = fi[cols].astype(float)\n",
        "df_for_training.plot()"
      ],
      "metadata": {
        "colab": {
          "base_uri": "https://localhost:8080/",
          "height": 447
        },
        "id": "Gztls76KHDB2",
        "outputId": "21dbef20-01dd-44d8-91ca-313218c0892f"
      },
      "execution_count": null,
      "outputs": [
        {
          "output_type": "execute_result",
          "data": {
            "text/plain": [
              "<Axes: >"
            ]
          },
          "metadata": {},
          "execution_count": 69
        },
        {
          "output_type": "display_data",
          "data": {
            "text/plain": [
              "<Figure size 640x480 with 1 Axes>"
            ],
            "image/png": "[encoded data removed]"
          },
          "metadata": {}
        }
      ]
    },
    {
      "cell_type": "code",
      "source": [
        "scaler = StandardScaler()\n",
        "scaler = scaler.fit(df_for_training)\n",
        "df_for_training_scaled = scaler.transform(df_for_training)\n",
        "df_for_training"
      ],
      "metadata": {
        "colab": {
          "base_uri": "https://localhost:8080/",
          "height": 363
        },
        "id": "m4k7E8tMHIx7",
        "outputId": "55719b31-4497-495b-cd3b-865e81e53be4"
      },
      "execution_count": null,
      "outputs": [
        {
          "output_type": "execute_result",
          "data": {
            "text/plain": [
              "   DO (mg/L)    pH  BOD (mg/L)  Turbidity (NTU)  COD (mg/L)     EC   TSS\n",
              "0       6.30  8.02         1.1             11.0         4.0  606.0  17.0\n",
              "1       5.80  7.52         3.0              9.0        20.0  662.0  38.0\n",
              "2       7.20  7.87         2.0             25.0        19.0  436.0  36.0\n",
              "3       7.30  7.91         3.0             25.0        18.0  558.0  15.0\n",
              "4       6.70  7.67         3.0             36.0        21.0  600.0  15.0\n",
              "5       7.00  7.31         2.0             18.0        11.0  486.0  11.0\n",
              "6       7.30  7.31         2.1             10.0        16.0  410.0   9.0\n",
              "7       6.40  7.28         2.1              9.0        20.0  615.0   9.0\n",
              "8       6.60  7.72         1.7              7.0        16.0  747.0  10.0\n",
              "9       6.97  7.73         3.0              3.4        34.0  791.0   6.1"
            ],
            "text/html": [
              "\n",
              "  <div id=\"df-8f1ff23e-02ce-438f-9790-29eb1a0b0a7f\" class=\"colab-df-container\">\n",
              "    <div>\n",
              "<style scoped>\n",
              "    .dataframe tbody tr th:only-of-type {\n",
              "        vertical-align: middle;\n",
              "    }\n",
              "\n",
              "    .dataframe tbody tr th {\n",
              "        vertical-align: top;\n",
              "    }\n",
              "\n",
              "    .dataframe thead th {\n",
              "        text-align: right;\n",
              "    }\n",
              "</style>\n",
              "<table border=\"1\" class=\"dataframe\">\n",
              "  <thead>\n",
              "    <tr style=\"text-align: right;\">\n",
              "      <th></th>\n",
              "      <th>DO (mg/L)</th>\n",
              "      <th>pH</th>\n",
              "      <th>BOD (mg/L)</th>\n",
              "      <th>Turbidity (NTU)</th>\n",
              "      <th>COD (mg/L)</th>\n",
              "      <th>EC</th>\n",
              "      <th>TSS</th>\n",
              "    </tr>\n",
              "  </thead>\n",
              "  <tbody>\n",
              "    <tr>\n",
              "      <th>0</th>\n",
              "      <td>6.30</td>\n",
              "      <td>8.02</td>\n",
              "      <td>1.1</td>\n",
              "      <td>11.0</td>\n",
              "      <td>4.0</td>\n",
              "      <td>606.0</td>\n",
              "      <td>17.0</td>\n",
              "    </tr>\n",
              "    <tr>\n",
              "      <th>1</th>\n",
              "      <td>5.80</td>\n",
              "      <td>7.52</td>\n",
              "      <td>3.0</td>\n",
              "      <td>9.0</td>\n",
              "      <td>20.0</td>\n",
              "      <td>662.0</td>\n",
              "      <td>38.0</td>\n",
              "    </tr>\n",
              "    <tr>\n",
              "      <th>2</th>\n",
              "      <td>7.20</td>\n",
              "      <td>7.87</td>\n",
              "      <td>2.0</td>\n",
              "      <td>25.0</td>\n",
              "      <td>19.0</td>\n",
              "      <td>436.0</td>\n",
              "      <td>36.0</td>\n",
              "    </tr>\n",
              "    <tr>\n",
              "      <th>3</th>\n",
              "      <td>7.30</td>\n",
              "      <td>7.91</td>\n",
              "      <td>3.0</td>\n",
              "      <td>25.0</td>\n",
              "      <td>18.0</td>\n",
              "      <td>558.0</td>\n",
              "      <td>15.0</td>\n",
              "    </tr>\n",
              "    <tr>\n",
              "      <th>4</th>\n",
              "      <td>6.70</td>\n",
              "      <td>7.67</td>\n",
              "      <td>3.0</td>\n",
              "      <td>36.0</td>\n",
              "      <td>21.0</td>\n",
              "      <td>600.0</td>\n",
              "      <td>15.0</td>\n",
              "    </tr>\n",
              "    <tr>\n",
              "      <th>5</th>\n",
              "      <td>7.00</td>\n",
              "      <td>7.31</td>\n",
              "      <td>2.0</td>\n",
              "      <td>18.0</td>\n",
              "      <td>11.0</td>\n",
              "      <td>486.0</td>\n",
              "      <td>11.0</td>\n",
              "    </tr>\n",
              "    <tr>\n",
              "      <th>6</th>\n",
              "      <td>7.30</td>\n",
              "      <td>7.31</td>\n",
              "      <td>2.1</td>\n",
              "      <td>10.0</td>\n",
              "      <td>16.0</td>\n",
              "      <td>410.0</td>\n",
              "      <td>9.0</td>\n",
              "    </tr>\n",
              "    <tr>\n",
              "      <th>7</th>\n",
              "      <td>6.40</td>\n",
              "      <td>7.28</td>\n",
              "      <td>2.1</td>\n",
              "      <td>9.0</td>\n",
              "      <td>20.0</td>\n",
              "      <td>615.0</td>\n",
              "      <td>9.0</td>\n",
              "    </tr>\n",
              "    <tr>\n",
              "      <th>8</th>\n",
              "      <td>6.60</td>\n",
              "      <td>7.72</td>\n",
              "      <td>1.7</td>\n",
              "      <td>7.0</td>\n",
              "      <td>16.0</td>\n",
              "      <td>747.0</td>\n",
              "      <td>10.0</td>\n",
              "    </tr>\n",
              "    <tr>\n",
              "      <th>9</th>\n",
              "      <td>6.97</td>\n",
              "      <td>7.73</td>\n",
              "      <td>3.0</td>\n",
              "      <td>3.4</td>\n",
              "      <td>34.0</td>\n",
              "      <td>791.0</td>\n",
              "      <td>6.1</td>\n",
              "    </tr>\n",
              "  </tbody>\n",
              "</table>\n",
              "</div>\n",
              "    <div class=\"colab-df-buttons\">\n",
              "\n",
              "  <div class=\"colab-df-container\">\n",
              "    <button class=\"colab-df-convert\" onclick=\"convertToInteractive('df-8f1ff23e-02ce-438f-9790-29eb1a0b0a7f')\"\n",
              "            title=\"Convert this dataframe to an interactive table.\"\n",
              "            style=\"display:none;\">\n",
              "\n",
              "  <svg xmlns=\"http://www.w3.org/2000/svg\" height=\"24px\" viewBox=\"0 -960 960 960\">\n",
              "    <path d=\"M120-120v-720h720v720H120Zm60-500h600v-160H180v160Zm220 220h160v-160H400v160Zm0 220h160v-160H400v160ZM180-400h160v-160H180v160Zm440 0h160v-160H620v160ZM180-180h160v-160H180v160Zm440 0h160v-160H620v160Z\"/>\n",
              "  </svg>\n",
              "    </button>\n",
              "\n",
              "  <style>\n",
              "    .colab-df-container {\n",
              "      display:flex;\n",
              "      gap: 12px;\n",
              "    }\n",
              "\n",
              "    .colab-df-convert {\n",
              "      background-color: #E8F0FE;\n",
              "      border: none;\n",
              "      border-radius: 50%;\n",
              "      cursor: pointer;\n",
              "      display: none;\n",
              "      fill: #1967D2;\n",
              "      height: 32px;\n",
              "      padding: 0 0 0 0;\n",
              "      width: 32px;\n",
              "    }\n",
              "\n",
              "    .colab-df-convert:hover {\n",
              "      background-color: #E2EBFA;\n",
              "      box-shadow: 0px 1px 2px rgba(60, 64, 67, 0.3), 0px 1px 3px 1px rgba(60, 64, 67, 0.15);\n",
              "      fill: #174EA6;\n",
              "    }\n",
              "\n",
              "    .colab-df-buttons div {\n",
              "      margin-bottom: 4px;\n",
              "    }\n",
              "\n",
              "    [theme=dark] .colab-df-convert {\n",
              "      background-color: #3B4455;\n",
              "      fill: #D2E3FC;\n",
              "    }\n",
              "\n",
              "    [theme=dark] .colab-df-convert:hover {\n",
              "      background-color: #434B5C;\n",
              "      box-shadow: 0px 1px 3px 1px rgba(0, 0, 0, 0.15);\n",
              "      filter: drop-shadow(0px 1px 2px rgba(0, 0, 0, 0.3));\n",
              "      fill: #FFFFFF;\n",
              "    }\n",
              "  </style>\n",
              "\n",
              "    <script>\n",
              "      const buttonEl =\n",
              "        document.querySelector('#df-8f1ff23e-02ce-438f-9790-29eb1a0b0a7f button.colab-df-convert');\n",
              "      buttonEl.style.display =\n",
              "        google.colab.kernel.accessAllowed ? 'block' : 'none';\n",
              "\n",
              "      async function convertToInteractive(key) {\n",
              "        const element = document.querySelector('#df-8f1ff23e-02ce-438f-9790-29eb1a0b0a7f');\n",
              "        const dataTable =\n",
              "          await google.colab.kernel.invokeFunction('convertToInteractive',\n",
              "                                                    [key], {});\n",
              "        if (!dataTable) return;\n",
              "\n",
              "        const docLinkHtml = 'Like what you see? Visit the ' +\n",
              "          '<a target=\"_blank\" href=https://colab.research.google.com/notebooks/data_table.ipynb>data table notebook</a>'\n",
              "          + ' to learn more about interactive tables.';\n",
              "        element.innerHTML = '';\n",
              "        dataTable['output_type'] = 'display_data';\n",
              "        await google.colab.output.renderOutput(dataTable, element);\n",
              "        const docLink = document.createElement('div');\n",
              "        docLink.innerHTML = docLinkHtml;\n",
              "        element.appendChild(docLink);\n",
              "      }\n",
              "    </script>\n",
              "  </div>\n",
              "\n",
              "\n",
              "<div id=\"df-b127baf7-a5ac-4a2b-8b11-1b78f85ee852\">\n",
              "  <button class=\"colab-df-quickchart\" onclick=\"quickchart('df-b127baf7-a5ac-4a2b-8b11-1b78f85ee852')\"\n",
              "            title=\"Suggest charts\"\n",
              "            style=\"display:none;\">\n",
              "\n",
              "<svg xmlns=\"http://www.w3.org/2000/svg\" height=\"24px\"viewBox=\"0 0 24 24\"\n",
              "     width=\"24px\">\n",
              "    <g>\n",
              "        <path d=\"M19 3H5c-1.1 0-2 .9-2 2v14c0 1.1.9 2 2 2h14c1.1 0 2-.9 2-2V5c0-1.1-.9-2-2-2zM9 17H7v-7h2v7zm4 0h-2V7h2v10zm4 0h-2v-4h2v4z\"/>\n",
              "    </g>\n",
              "</svg>\n",
              "  </button>\n",
              "\n",
              "<style>\n",
              "  .colab-df-quickchart {\n",
              "      --bg-color: #E8F0FE;\n",
              "      --fill-color: #1967D2;\n",
              "      --hover-bg-color: #E2EBFA;\n",
              "      --hover-fill-color: #174EA6;\n",
              "      --disabled-fill-color: #AAA;\n",
              "      --disabled-bg-color: #DDD;\n",
              "  }\n",
              "\n",
              "  [theme=dark] .colab-df-quickchart {\n",
              "      --bg-color: #3B4455;\n",
              "      --fill-color: #D2E3FC;\n",
              "      --hover-bg-color: #434B5C;\n",
              "      --hover-fill-color: #FFFFFF;\n",
              "      --disabled-bg-color: #3B4455;\n",
              "      --disabled-fill-color: #666;\n",
              "  }\n",
              "\n",
              "  .colab-df-quickchart {\n",
              "    background-color: var(--bg-color);\n",
              "    border: none;\n",
              "    border-radius: 50%;\n",
              "    cursor: pointer;\n",
              "    display: none;\n",
              "    fill: var(--fill-color);\n",
              "    height: 32px;\n",
              "    padding: 0;\n",
              "    width: 32px;\n",
              "  }\n",
              "\n",
              "  .colab-df-quickchart:hover {\n",
              "    background-color: var(--hover-bg-color);\n",
              "    box-shadow: 0 1px 2px rgba(60, 64, 67, 0.3), 0 1px 3px 1px rgba(60, 64, 67, 0.15);\n",
              "    fill: var(--button-hover-fill-color);\n",
              "  }\n",
              "\n",
              "  .colab-df-quickchart-complete:disabled,\n",
              "  .colab-df-quickchart-complete:disabled:hover {\n",
              "    background-color: var(--disabled-bg-color);\n",
              "    fill: var(--disabled-fill-color);\n",
              "    box-shadow: none;\n",
              "  }\n",
              "\n",
              "  .colab-df-spinner {\n",
              "    border: 2px solid var(--fill-color);\n",
              "    border-color: transparent;\n",
              "    border-bottom-color: var(--fill-color);\n",
              "    animation:\n",
              "      spin 1s steps(1) infinite;\n",
              "  }\n",
              "\n",
              "  @keyframes spin {\n",
              "    0% {\n",
              "      border-color: transparent;\n",
              "      border-bottom-color: var(--fill-color);\n",
              "      border-left-color: var(--fill-color);\n",
              "    }\n",
              "    20% {\n",
              "      border-color: transparent;\n",
              "      border-left-color: var(--fill-color);\n",
              "      border-top-color: var(--fill-color);\n",
              "    }\n",
              "    30% {\n",
              "      border-color: transparent;\n",
              "      border-left-color: var(--fill-color);\n",
              "      border-top-color: var(--fill-color);\n",
              "      border-right-color: var(--fill-color);\n",
              "    }\n",
              "    40% {\n",
              "      border-color: transparent;\n",
              "      border-right-color: var(--fill-color);\n",
              "      border-top-color: var(--fill-color);\n",
              "    }\n",
              "    60% {\n",
              "      border-color: transparent;\n",
              "      border-right-color: var(--fill-color);\n",
              "    }\n",
              "    80% {\n",
              "      border-color: transparent;\n",
              "      border-right-color: var(--fill-color);\n",
              "      border-bottom-color: var(--fill-color);\n",
              "    }\n",
              "    90% {\n",
              "      border-color: transparent;\n",
              "      border-bottom-color: var(--fill-color);\n",
              "    }\n",
              "  }\n",
              "</style>\n",
              "\n",
              "  <script>\n",
              "    async function quickchart(key) {\n",
              "      const quickchartButtonEl =\n",
              "        document.querySelector('#' + key + ' button');\n",
              "      quickchartButtonEl.disabled = true;  // To prevent multiple clicks.\n",
              "      quickchartButtonEl.classList.add('colab-df-spinner');\n",
              "      try {\n",
              "        const charts = await google.colab.kernel.invokeFunction(\n",
              "            'suggestCharts', [key], {});\n",
              "      } catch (error) {\n",
              "        console.error('Error during call to suggestCharts:', error);\n",
              "      }\n",
              "      quickchartButtonEl.classList.remove('colab-df-spinner');\n",
              "      quickchartButtonEl.classList.add('colab-df-quickchart-complete');\n",
              "    }\n",
              "    (() => {\n",
              "      let quickchartButtonEl =\n",
              "        document.querySelector('#df-b127baf7-a5ac-4a2b-8b11-1b78f85ee852 button');\n",
              "      quickchartButtonEl.style.display =\n",
              "        google.colab.kernel.accessAllowed ? 'block' : 'none';\n",
              "    })();\n",
              "  </script>\n",
              "</div>\n",
              "    </div>\n",
              "  </div>\n"
            ],
            "application/vnd.google.colaboratory.intrinsic+json": {
              "type": "dataframe",
              "variable_name": "df_for_training",
              "summary": "{\n  \"name\": \"df_for_training\",\n  \"rows\": 10,\n  \"fields\": [\n    {\n      \"column\": \"DO (mg/L)\",\n      \"properties\": {\n        \"dtype\": \"number\",\n        \"std\": 0.49107704758690024,\n        \"min\": 5.8,\n        \"max\": 7.3,\n        \"num_unique_values\": 9,\n        \"samples\": [\n          6.6,\n          5.8,\n          7.0\n        ],\n        \"semantic_type\": \"\",\n        \"description\": \"\"\n      }\n    },\n    {\n      \"column\": \"pH\",\n      \"properties\": {\n        \"dtype\": \"number\",\n        \"std\": 0.2681293220319877,\n        \"min\": 7.28,\n        \"max\": 8.02,\n        \"num_unique_values\": 9,\n        \"samples\": [\n          7.72,\n          7.52,\n          7.31\n        ],\n        \"semantic_type\": \"\",\n        \"description\": \"\"\n      }\n    },\n    {\n      \"column\": \"BOD (mg/L)\",\n      \"properties\": {\n        \"dtype\": \"number\",\n        \"std\": 0.6683312551921141,\n        \"min\": 1.1,\n        \"max\": 3.0,\n        \"num_unique_values\": 5,\n        \"samples\": [\n          3.0,\n          1.7,\n          2.0\n        ],\n        \"semantic_type\": \"\",\n        \"description\": \"\"\n      }\n    },\n    {\n      \"column\": \"Turbidity (NTU)\",\n      \"properties\": {\n        \"dtype\": \"number\",\n        \"std\": 10.330128535287233,\n        \"min\": 3.4,\n        \"max\": 36.0,\n        \"num_unique_values\": 8,\n        \"samples\": [\n          9.0,\n          10.0,\n          11.0\n        ],\n        \"semantic_type\": \"\",\n        \"description\": \"\"\n      }\n    },\n    {\n      \"column\": \"COD (mg/L)\",\n      \"properties\": {\n        \"dtype\": \"number\",\n        \"std\": 7.651434142985512,\n        \"min\": 4.0,\n        \"max\": 34.0,\n        \"num_unique_values\": 8,\n        \"samples\": [\n          20.0,\n          11.0,\n          4.0\n        ],\n        \"semantic_type\": \"\",\n        \"description\": \"\"\n      }\n    },\n    {\n      \"column\": \"EC\",\n      \"properties\": {\n        \"dtype\": \"number\",\n        \"std\": 124.34669275859329,\n        \"min\": 410.0,\n        \"max\": 791.0,\n        \"num_unique_values\": 10,\n        \"samples\": [\n          747.0,\n          662.0,\n          486.0\n        ],\n        \"semantic_type\": \"\",\n        \"description\": \"\"\n      }\n    },\n    {\n      \"column\": \"TSS\",\n      \"properties\": {\n        \"dtype\": \"number\",\n        \"std\": 11.256055160569256,\n        \"min\": 6.1,\n        \"max\": 38.0,\n        \"num_unique_values\": 8,\n        \"samples\": [\n          38.0,\n          9.0,\n          17.0\n        ],\n        \"semantic_type\": \"\",\n        \"description\": \"\"\n      }\n    }\n  ]\n}"
            }
          },
          "metadata": {},
          "execution_count": 70
        }
      ]
    },
    {
      "cell_type": "code",
      "source": [
        "n_future = 1\n",
        "n_past = 3"
      ],
      "metadata": {
        "id": "EY1rIh68HNYl"
      },
      "execution_count": null,
      "outputs": []
    },
    {
      "cell_type": "code",
      "source": [
        "trainX = []\n",
        "trainYP = []\n",
        "trainYN = []\n",
        "trainYS = []\n",
        "trainYA = []\n",
        "trainYB = []\n",
        "trainYC = []\n",
        "trainYD = []"
      ],
      "metadata": {
        "id": "8bXT7Y8cHaEB"
      },
      "execution_count": null,
      "outputs": []
    },
    {
      "cell_type": "code",
      "source": [
        "for i in range(n_past, len(df_for_training_scaled) - n_future +1):\n",
        "  trainX.append(df_for_training_scaled[i - n_past:i, 0:df_for_training.shape[1]])\n",
        "  trainYP.append(df_for_training_scaled[i + n_future - 1:i + n_future, 0])\n",
        "  trainYN.append(df_for_training_scaled[i + n_future - 1:i + n_future, 1])\n",
        "  trainYS.append(df_for_training_scaled[i + n_future - 1:i + n_future, 2])\n",
        "  trainYA.append(df_for_training_scaled[i + n_future - 1:i + n_future, 3])\n",
        "  trainYB.append(df_for_training_scaled[i + n_future - 1:i + n_future, 4])\n",
        "  trainYC.append(df_for_training_scaled[i + n_future - 1:i + n_future, 5])\n",
        "  trainYD.append(df_for_training_scaled[i + n_future - 1:i + n_future, 6])\n"
      ],
      "metadata": {
        "id": "fFfRokTaHmHB"
      },
      "execution_count": null,
      "outputs": []
    },
    {
      "cell_type": "code",
      "source": [],
      "metadata": {
        "id": "E0dhLicONY-A"
      },
      "execution_count": null,
      "outputs": []
    },
    {
      "cell_type": "code",
      "source": [
        "trainX, trainYP, trainYN, trainYS,trainYA,trainYB,trainYC,trainYD= np.array(trainX), np.array(trainYP), np.array(trainYN), np.array(trainYS),np.array(trainYA),np.array(trainYB),np.array(trainYC),np.array(trainYD)\n",
        "print('trainX shape == {}.'.format(trainX.shape))\n",
        "print('trainYP shape == {}.'.format(trainYP.shape))\n",
        "print('trainYN shape == {}.'.format(trainYN.shape))\n",
        "print('trainYS shape == {}.'.format(trainYS.shape))\n",
        "print('trainYA shape == {}.'.format(trainYA.shape))\n",
        "print('trainYB shape == {}.'.format(trainYB.shape))\n",
        "print('trainYC shape == {}.'.format(trainYC.shape))\n",
        "print('trainYD shape == {}.'.format(trainYD.shape))"
      ],
      "metadata": {
        "colab": {
          "base_uri": "https://localhost:8080/"
        },
        "id": "AvXlpmvpNaGA",
        "outputId": "570053cc-6931-4f22-8558-7478cc7348a6"
      },
      "execution_count": null,
      "outputs": [
        {
          "output_type": "stream",
          "name": "stdout",
          "text": [
            "trainX shape == (7, 3, 7).\n",
            "trainYP shape == (7, 1).\n",
            "trainYN shape == (7, 1).\n",
            "trainYS shape == (7, 1).\n",
            "trainYA shape == (7, 1).\n",
            "trainYB shape == (7, 1).\n",
            "trainYC shape == (7, 1).\n",
            "trainYD shape == (7, 1).\n"
          ]
        }
      ]
    },
    {
      "cell_type": "code",
      "source": [
        "list1=[]"
      ],
      "metadata": {
        "id": "oovBNf2EtsUU"
      },
      "execution_count": null,
      "outputs": []
    },
    {
      "cell_type": "code",
      "source": [
        "modelP = Sequential()\n",
        "modelP.add(LSTM(64, activation='relu', input_shape=(trainX.shape[1], trainX.shape[2]), return_sequences=True))\n",
        "modelP.add(LSTM(32, activation='relu', return_sequences=False))\n",
        "modelP.add(Dropout(0.2))\n",
        "modelP.add(Dense(trainYP.shape[1]))"
      ],
      "metadata": {
        "id": "8ftLaxqHN903"
      },
      "execution_count": null,
      "outputs": []
    },
    {
      "cell_type": "code",
      "source": [
        "modelP.compile(optimizer='adam', loss='mse')\n",
        "modelP.summary()"
      ],
      "metadata": {
        "colab": {
          "base_uri": "https://localhost:8080/"
        },
        "id": "iniwhqBYOHLS",
        "outputId": "ea6ae450-0c05-4c4d-f87c-f44c057510d6"
      },
      "execution_count": null,
      "outputs": [
        {
          "output_type": "stream",
          "name": "stdout",
          "text": [
            "Model: \"sequential_6\"\n",
            "_________________________________________________________________\n",
            " Layer (type)                Output Shape              Param #   \n",
            "=================================================================\n",
            " lstm_12 (LSTM)              (None, 3, 64)             18432     \n",
            "                                                                 \n",
            " lstm_13 (LSTM)              (None, 32)                12416     \n",
            "                                                                 \n",
            " dropout_6 (Dropout)         (None, 32)                0         \n",
            "                                                                 \n",
            " dense_6 (Dense)             (None, 1)                 33        \n",
            "                                                                 \n",
            "=================================================================\n",
            "Total params: 30881 (120.63 KB)\n",
            "Trainable params: 30881 (120.63 KB)\n",
            "Non-trainable params: 0 (0.00 Byte)\n",
            "_________________________________________________________________\n"
          ]
        }
      ]
    },
    {
      "cell_type": "code",
      "source": [
        "\n",
        "history = modelP.fit(trainX, trainYP, epochs=50, batch_size=4, validation_split=0.1, verbose=1)"
      ],
      "metadata": {
        "colab": {
          "base_uri": "https://localhost:8080/"
        },
        "id": "Fkl-wxkJOJhR",
        "outputId": "f5a65122-1524-4c2e-f9e5-adc09f031d3d"
      },
      "execution_count": null,
      "outputs": [
        {
          "output_type": "stream",
          "name": "stdout",
          "text": [
            "Epoch 1/50\n",
            "2/2 [==============================] - 10s 751ms/step - loss: 0.6098 - val_loss: 0.1971\n",
            "Epoch 2/50\n",
            "2/2 [==============================] - 0s 93ms/step - loss: 0.5976 - val_loss: 0.1963\n",
            "Epoch 3/50\n",
            "2/2 [==============================] - 0s 74ms/step - loss: 0.5813 - val_loss: 0.1950\n",
            "Epoch 4/50\n",
            "2/2 [==============================] - 0s 57ms/step - loss: 0.5865 - val_loss: 0.1951\n",
            "Epoch 5/50\n",
            "2/2 [==============================] - 0s 107ms/step - loss: 0.5697 - val_loss: 0.1958\n",
            "Epoch 6/50\n",
            "2/2 [==============================] - 0s 111ms/step - loss: 0.5666 - val_loss: 0.1985\n",
            "Epoch 7/50\n",
            "2/2 [==============================] - 0s 125ms/step - loss: 0.5539 - val_loss: 0.2012\n",
            "Epoch 8/50\n",
            "2/2 [==============================] - 0s 63ms/step - loss: 0.5495 - val_loss: 0.2031\n",
            "Epoch 9/50\n",
            "2/2 [==============================] - 0s 76ms/step - loss: 0.5561 - val_loss: 0.2058\n",
            "Epoch 10/50\n",
            "2/2 [==============================] - 0s 111ms/step - loss: 0.5098 - val_loss: 0.2078\n",
            "Epoch 11/50\n",
            "2/2 [==============================] - 0s 183ms/step - loss: 0.5415 - val_loss: 0.2098\n",
            "Epoch 12/50\n",
            "2/2 [==============================] - 0s 82ms/step - loss: 0.4977 - val_loss: 0.2119\n",
            "Epoch 13/50\n",
            "2/2 [==============================] - 0s 79ms/step - loss: 0.5110 - val_loss: 0.2130\n",
            "Epoch 14/50\n",
            "2/2 [==============================] - 0s 71ms/step - loss: 0.5056 - val_loss: 0.2153\n",
            "Epoch 15/50\n",
            "2/2 [==============================] - 0s 96ms/step - loss: 0.4867 - val_loss: 0.2192\n",
            "Epoch 16/50\n",
            "2/2 [==============================] - 0s 60ms/step - loss: 0.4569 - val_loss: 0.2233\n",
            "Epoch 17/50\n",
            "2/2 [==============================] - 0s 78ms/step - loss: 0.4457 - val_loss: 0.2265\n",
            "Epoch 18/50\n",
            "2/2 [==============================] - 0s 116ms/step - loss: 0.4308 - val_loss: 0.2303\n",
            "Epoch 19/50\n",
            "2/2 [==============================] - 0s 205ms/step - loss: 0.4537 - val_loss: 0.2361\n",
            "Epoch 20/50\n",
            "2/2 [==============================] - 0s 82ms/step - loss: 0.4361 - val_loss: 0.2443\n",
            "Epoch 21/50\n",
            "2/2 [==============================] - 0s 83ms/step - loss: 0.4387 - val_loss: 0.2534\n",
            "Epoch 22/50\n",
            "2/2 [==============================] - 0s 65ms/step - loss: 0.3691 - val_loss: 0.2609\n",
            "Epoch 23/50\n",
            "2/2 [==============================] - 0s 58ms/step - loss: 0.3664 - val_loss: 0.2699\n",
            "Epoch 24/50\n",
            "2/2 [==============================] - 0s 105ms/step - loss: 0.3346 - val_loss: 0.2800\n",
            "Epoch 25/50\n",
            "2/2 [==============================] - 0s 71ms/step - loss: 0.2855 - val_loss: 0.2934\n",
            "Epoch 26/50\n",
            "2/2 [==============================] - 0s 68ms/step - loss: 0.4762 - val_loss: 0.3058\n",
            "Epoch 27/50\n",
            "2/2 [==============================] - 0s 70ms/step - loss: 0.3538 - val_loss: 0.3245\n",
            "Epoch 28/50\n",
            "2/2 [==============================] - 0s 70ms/step - loss: 0.3081 - val_loss: 0.3425\n",
            "Epoch 29/50\n",
            "2/2 [==============================] - 0s 74ms/step - loss: 0.3291 - val_loss: 0.3617\n",
            "Epoch 30/50\n",
            "2/2 [==============================] - 0s 126ms/step - loss: 0.3070 - val_loss: 0.3872\n",
            "Epoch 31/50\n",
            "2/2 [==============================] - 0s 49ms/step - loss: 0.2985 - val_loss: 0.4162\n",
            "Epoch 32/50\n",
            "2/2 [==============================] - 0s 67ms/step - loss: 0.2503 - val_loss: 0.4475\n",
            "Epoch 33/50\n",
            "2/2 [==============================] - 0s 81ms/step - loss: 0.2355 - val_loss: 0.4786\n",
            "Epoch 34/50\n",
            "2/2 [==============================] - 0s 67ms/step - loss: 0.2716 - val_loss: 0.5016\n",
            "Epoch 35/50\n",
            "2/2 [==============================] - 0s 66ms/step - loss: 0.2353 - val_loss: 0.5354\n",
            "Epoch 36/50\n",
            "2/2 [==============================] - 0s 59ms/step - loss: 0.2305 - val_loss: 0.5711\n",
            "Epoch 37/50\n",
            "2/2 [==============================] - 0s 94ms/step - loss: 0.2169 - val_loss: 0.6055\n",
            "Epoch 38/50\n",
            "2/2 [==============================] - 0s 54ms/step - loss: 0.2749 - val_loss: 0.6398\n",
            "Epoch 39/50\n",
            "2/2 [==============================] - 0s 83ms/step - loss: 0.2048 - val_loss: 0.6837\n",
            "Epoch 40/50\n",
            "2/2 [==============================] - 0s 65ms/step - loss: 0.1372 - val_loss: 0.7045\n",
            "Epoch 41/50\n",
            "2/2 [==============================] - 0s 138ms/step - loss: 0.1782 - val_loss: 0.7148\n",
            "Epoch 42/50\n",
            "2/2 [==============================] - 0s 55ms/step - loss: 0.1501 - val_loss: 0.7302\n",
            "Epoch 43/50\n",
            "2/2 [==============================] - 0s 78ms/step - loss: 0.1637 - val_loss: 0.7242\n",
            "Epoch 44/50\n",
            "2/2 [==============================] - 0s 56ms/step - loss: 0.1744 - val_loss: 0.7064\n",
            "Epoch 45/50\n",
            "2/2 [==============================] - 0s 51ms/step - loss: 0.1046 - val_loss: 0.6860\n",
            "Epoch 46/50\n",
            "2/2 [==============================] - 0s 90ms/step - loss: 0.1427 - val_loss: 0.6916\n",
            "Epoch 47/50\n",
            "2/2 [==============================] - 0s 133ms/step - loss: 0.1184 - val_loss: 0.6971\n",
            "Epoch 48/50\n",
            "2/2 [==============================] - 0s 92ms/step - loss: 0.0783 - val_loss: 0.6907\n",
            "Epoch 49/50\n",
            "2/2 [==============================] - 0s 55ms/step - loss: 0.0937 - val_loss: 0.6888\n",
            "Epoch 50/50\n",
            "2/2 [==============================] - 0s 115ms/step - loss: 0.1812 - val_loss: 0.6670\n"
          ]
        }
      ]
    },
    {
      "cell_type": "code",
      "source": [
        "historyP = history"
      ],
      "metadata": {
        "id": "BbZcHsIyOd9D"
      },
      "execution_count": null,
      "outputs": []
    },
    {
      "cell_type": "code",
      "source": [
        "plt.plot(historyP.history['loss'], label='Training loss')\n",
        "plt.plot(historyP.history['val_loss'], label='Validation loss')\n",
        "plt.legend()"
      ],
      "metadata": {
        "colab": {
          "base_uri": "https://localhost:8080/",
          "height": 447
        },
        "id": "RkidKBV7Of6h",
        "outputId": "3eedc307-f349-428f-889f-8623c8a3ba32"
      },
      "execution_count": null,
      "outputs": [
        {
          "output_type": "execute_result",
          "data": {
            "text/plain": [
              "<matplotlib.legend.Legend at 0x7c47bdeeb430>"
            ]
          },
          "metadata": {},
          "execution_count": 80
        },
        {
          "output_type": "display_data",
          "data": {
            "text/plain": [
              "<Figure size 640x480 with 1 Axes>"
            ],
            "image/png": "[encoded data removed]"
          },
          "metadata": {}
        }
      ]
    },
    {
      "cell_type": "code",
      "source": [
        "predictionP = modelP.predict(trainX)"
      ],
      "metadata": {
        "colab": {
          "base_uri": "https://localhost:8080/"
        },
        "id": "JhArTUJWOjn_",
        "outputId": "4a98b9a7-e58c-4e39-a0f1-e70736abf2ee"
      },
      "execution_count": null,
      "outputs": [
        {
          "output_type": "stream",
          "name": "stdout",
          "text": [
            "1/1 [==============================] - 1s 629ms/step\n"
          ]
        }
      ]
    },
    {
      "cell_type": "code",
      "source": [
        "prediction_copiesP = np.repeat(predictionP, df_for_training.shape[1], axis=-1)\n",
        "y_pred_futureP = scaler.inverse_transform(prediction_copiesP)[:,0]"
      ],
      "metadata": {
        "id": "HQrnUDY4Pvuf"
      },
      "execution_count": null,
      "outputs": []
    },
    {
      "cell_type": "code",
      "source": [
        "print(y_pred_futureP)"
      ],
      "metadata": {
        "colab": {
          "base_uri": "https://localhost:8080/"
        },
        "id": "TTt-ZpSvP0c8",
        "outputId": "ae8fbbbc-d735-45ca-d10b-f5cefb674382"
      },
      "execution_count": null,
      "outputs": [
        {
          "output_type": "stream",
          "name": "stdout",
          "text": [
            "[7.3257647 6.863125  7.0959435 7.2410264 6.614979  6.484008  6.589517 ]\n"
          ]
        }
      ]
    },
    {
      "cell_type": "code",
      "source": [
        "print(y_pred_futureP[-1])\n",
        "i=y_pred_futureP[-1]\n",
        "do=((i)*100/9)*0.3723\n",
        "do"
      ],
      "metadata": {
        "colab": {
          "base_uri": "https://localhost:8080/"
        },
        "id": "3cEjwtDYWRXc",
        "outputId": "fa492675-1f6b-4649-cc33-8c70c143306d"
      },
      "execution_count": null,
      "outputs": [
        {
          "output_type": "stream",
          "name": "stdout",
          "text": [
            "6.589517\n"
          ]
        },
        {
          "output_type": "execute_result",
          "data": {
            "text/plain": [
              "27.2586358054479"
            ]
          },
          "metadata": {},
          "execution_count": 84
        }
      ]
    },
    {
      "cell_type": "code",
      "source": [
        "modelN = Sequential()\n",
        "modelN.add(LSTM(64, activation='relu', input_shape=(trainX.shape[1], trainX.shape[2]), return_sequences=True))\n",
        "modelN.add(LSTM(32, activation='relu', return_sequences=False))\n",
        "modelN.add(Dropout(0.2))\n",
        "modelN.add(Dense(trainYN.shape[1]))"
      ],
      "metadata": {
        "id": "g0LSbRJkXStu"
      },
      "execution_count": null,
      "outputs": []
    },
    {
      "cell_type": "code",
      "source": [
        "modelN.compile(optimizer='adam', loss='mse')\n",
        "modelN.summary()"
      ],
      "metadata": {
        "colab": {
          "base_uri": "https://localhost:8080/"
        },
        "id": "kfybrmkcYLMz",
        "outputId": "a05d22e0-00e1-43da-ffde-ba8c94463966"
      },
      "execution_count": null,
      "outputs": [
        {
          "output_type": "stream",
          "name": "stdout",
          "text": [
            "Model: \"sequential_7\"\n",
            "_________________________________________________________________\n",
            " Layer (type)                Output Shape              Param #   \n",
            "=================================================================\n",
            " lstm_14 (LSTM)              (None, 3, 64)             18432     \n",
            "                                                                 \n",
            " lstm_15 (LSTM)              (None, 32)                12416     \n",
            "                                                                 \n",
            " dropout_7 (Dropout)         (None, 32)                0         \n",
            "                                                                 \n",
            " dense_7 (Dense)             (None, 1)                 33        \n",
            "                                                                 \n",
            "=================================================================\n",
            "Total params: 30881 (120.63 KB)\n",
            "Trainable params: 30881 (120.63 KB)\n",
            "Non-trainable params: 0 (0.00 Byte)\n",
            "_________________________________________________________________\n"
          ]
        }
      ]
    },
    {
      "cell_type": "code",
      "source": [
        "historyN = modelN.fit(trainX, trainYN, epochs=50, batch_size=4, validation_split=0.1, verbose=1)"
      ],
      "metadata": {
        "colab": {
          "base_uri": "https://localhost:8080/"
        },
        "id": "h42wOHgwYWGn",
        "outputId": "13387fc3-d040-4a42-de9d-8c901ebc726c"
      },
      "execution_count": null,
      "outputs": [
        {
          "output_type": "stream",
          "name": "stdout",
          "text": [
            "Epoch 1/50\n",
            "2/2 [==============================] - 13s 753ms/step - loss: 1.0659 - val_loss: 0.1402\n",
            "Epoch 2/50\n",
            "2/2 [==============================] - 0s 84ms/step - loss: 1.0599 - val_loss: 0.1428\n",
            "Epoch 3/50\n",
            "2/2 [==============================] - 0s 100ms/step - loss: 1.0293 - val_loss: 0.1444\n",
            "Epoch 4/50\n",
            "2/2 [==============================] - 0s 74ms/step - loss: 1.0058 - val_loss: 0.1460\n",
            "Epoch 5/50\n",
            "2/2 [==============================] - 0s 103ms/step - loss: 0.9969 - val_loss: 0.1464\n",
            "Epoch 6/50\n",
            "2/2 [==============================] - 0s 87ms/step - loss: 0.9980 - val_loss: 0.1467\n",
            "Epoch 7/50\n",
            "2/2 [==============================] - 0s 166ms/step - loss: 0.9806 - val_loss: 0.1469\n",
            "Epoch 8/50\n",
            "2/2 [==============================] - 0s 82ms/step - loss: 0.9482 - val_loss: 0.1479\n",
            "Epoch 9/50\n",
            "2/2 [==============================] - 0s 53ms/step - loss: 0.9576 - val_loss: 0.1489\n",
            "Epoch 10/50\n",
            "2/2 [==============================] - 0s 122ms/step - loss: 0.9229 - val_loss: 0.1515\n",
            "Epoch 11/50\n",
            "2/2 [==============================] - 0s 152ms/step - loss: 0.8916 - val_loss: 0.1542\n",
            "Epoch 12/50\n",
            "2/2 [==============================] - 0s 104ms/step - loss: 0.8877 - val_loss: 0.1576\n",
            "Epoch 13/50\n",
            "2/2 [==============================] - 0s 53ms/step - loss: 0.8492 - val_loss: 0.1615\n",
            "Epoch 14/50\n",
            "2/2 [==============================] - 0s 37ms/step - loss: 0.8287 - val_loss: 0.1651\n",
            "Epoch 15/50\n",
            "2/2 [==============================] - 0s 35ms/step - loss: 0.8333 - val_loss: 0.1688\n",
            "Epoch 16/50\n",
            "2/2 [==============================] - 0s 36ms/step - loss: 0.7339 - val_loss: 0.1718\n",
            "Epoch 17/50\n",
            "2/2 [==============================] - 0s 38ms/step - loss: 0.7280 - val_loss: 0.1751\n",
            "Epoch 18/50\n",
            "2/2 [==============================] - 0s 37ms/step - loss: 0.6615 - val_loss: 0.1785\n",
            "Epoch 19/50\n",
            "2/2 [==============================] - 0s 62ms/step - loss: 0.6245 - val_loss: 0.1820\n",
            "Epoch 20/50\n",
            "2/2 [==============================] - 0s 36ms/step - loss: 0.6794 - val_loss: 0.1844\n",
            "Epoch 21/50\n",
            "2/2 [==============================] - 0s 36ms/step - loss: 0.5520 - val_loss: 0.1843\n",
            "Epoch 22/50\n",
            "2/2 [==============================] - 0s 36ms/step - loss: 0.6670 - val_loss: 0.1839\n",
            "Epoch 23/50\n",
            "2/2 [==============================] - 0s 56ms/step - loss: 0.4478 - val_loss: 0.1841\n",
            "Epoch 24/50\n",
            "2/2 [==============================] - 0s 51ms/step - loss: 0.3960 - val_loss: 0.1825\n",
            "Epoch 25/50\n",
            "2/2 [==============================] - 0s 67ms/step - loss: 0.3437 - val_loss: 0.1799\n",
            "Epoch 26/50\n",
            "2/2 [==============================] - 0s 68ms/step - loss: 0.2902 - val_loss: 0.1753\n",
            "Epoch 27/50\n",
            "2/2 [==============================] - 0s 49ms/step - loss: 0.1370 - val_loss: 0.1661\n",
            "Epoch 28/50\n",
            "2/2 [==============================] - 0s 52ms/step - loss: 0.2238 - val_loss: 0.1538\n",
            "Epoch 29/50\n",
            "2/2 [==============================] - 0s 69ms/step - loss: 0.2392 - val_loss: 0.1387\n",
            "Epoch 30/50\n",
            "2/2 [==============================] - 0s 65ms/step - loss: 0.1812 - val_loss: 0.1204\n",
            "Epoch 31/50\n",
            "2/2 [==============================] - 0s 58ms/step - loss: 0.1749 - val_loss: 0.1037\n",
            "Epoch 32/50\n",
            "2/2 [==============================] - 0s 48ms/step - loss: 0.2092 - val_loss: 0.0862\n",
            "Epoch 33/50\n",
            "2/2 [==============================] - 0s 49ms/step - loss: 0.0819 - val_loss: 0.0718\n",
            "Epoch 34/50\n",
            "2/2 [==============================] - 0s 61ms/step - loss: 0.2218 - val_loss: 0.0616\n",
            "Epoch 35/50\n",
            "2/2 [==============================] - 0s 67ms/step - loss: 0.0829 - val_loss: 0.0514\n",
            "Epoch 36/50\n",
            "2/2 [==============================] - 0s 51ms/step - loss: 0.0867 - val_loss: 0.0444\n",
            "Epoch 37/50\n",
            "2/2 [==============================] - 0s 79ms/step - loss: 0.1054 - val_loss: 0.0399\n",
            "Epoch 38/50\n",
            "2/2 [==============================] - 0s 66ms/step - loss: 0.0589 - val_loss: 0.0348\n",
            "Epoch 39/50\n",
            "2/2 [==============================] - 0s 47ms/step - loss: 0.0627 - val_loss: 0.0282\n",
            "Epoch 40/50\n",
            "2/2 [==============================] - 0s 46ms/step - loss: 0.1996 - val_loss: 0.0245\n",
            "Epoch 41/50\n",
            "2/2 [==============================] - 0s 48ms/step - loss: 0.0607 - val_loss: 0.0207\n",
            "Epoch 42/50\n",
            "2/2 [==============================] - 0s 48ms/step - loss: 0.0424 - val_loss: 0.0170\n",
            "Epoch 43/50\n",
            "2/2 [==============================] - 0s 61ms/step - loss: 0.0657 - val_loss: 0.0123\n",
            "Epoch 44/50\n",
            "2/2 [==============================] - 0s 55ms/step - loss: 0.1309 - val_loss: 0.0075\n",
            "Epoch 45/50\n",
            "2/2 [==============================] - 0s 72ms/step - loss: 0.0246 - val_loss: 0.0034\n",
            "Epoch 46/50\n",
            "2/2 [==============================] - 0s 52ms/step - loss: 0.1318 - val_loss: 5.7433e-04\n",
            "Epoch 47/50\n",
            "2/2 [==============================] - 0s 76ms/step - loss: 0.0396 - val_loss: 8.6018e-05\n",
            "Epoch 48/50\n",
            "2/2 [==============================] - 0s 77ms/step - loss: 0.0918 - val_loss: 0.0019\n",
            "Epoch 49/50\n",
            "2/2 [==============================] - 0s 69ms/step - loss: 0.0413 - val_loss: 0.0058\n",
            "Epoch 50/50\n",
            "2/2 [==============================] - 0s 67ms/step - loss: 0.0937 - val_loss: 0.0118\n"
          ]
        }
      ]
    },
    {
      "cell_type": "code",
      "source": [
        "plt.plot(historyN.history['loss'], label='Training loss')\n",
        "plt.plot(historyN.history['val_loss'], label='Validation loss')\n",
        "plt.legend()"
      ],
      "metadata": {
        "colab": {
          "base_uri": "https://localhost:8080/",
          "height": 447
        },
        "id": "XVQ9CPiCYh_Z",
        "outputId": "8f21874c-a6d8-450a-ae14-1d958ad4d366"
      },
      "execution_count": null,
      "outputs": [
        {
          "output_type": "execute_result",
          "data": {
            "text/plain": [
              "<matplotlib.legend.Legend at 0x7c47d4c972b0>"
            ]
          },
          "metadata": {},
          "execution_count": 88
        },
        {
          "output_type": "display_data",
          "data": {
            "text/plain": [
              "<Figure size 640x480 with 1 Axes>"
            ],
            "image/png": "[encoded data removed]"
          },
          "metadata": {}
        }
      ]
    },
    {
      "cell_type": "code",
      "source": [
        "predictionN = modelN.predict(trainX)"
      ],
      "metadata": {
        "colab": {
          "base_uri": "https://localhost:8080/"
        },
        "id": "7dSknr60Ykga",
        "outputId": "f891021c-1edf-417f-e542-b82e098fa5ef"
      },
      "execution_count": null,
      "outputs": [
        {
          "output_type": "stream",
          "name": "stdout",
          "text": [
            "1/1 [==============================] - 0s 445ms/step\n"
          ]
        }
      ]
    },
    {
      "cell_type": "code",
      "source": [
        "prediction_copiesN = np.repeat(predictionN, df_for_training.shape[1], axis=-1)\n",
        "y_pred_futureN = scaler.inverse_transform(prediction_copiesN)[:,1]"
      ],
      "metadata": {
        "id": "RlUU7jFaYo9e"
      },
      "execution_count": null,
      "outputs": []
    },
    {
      "cell_type": "code",
      "source": [
        "print(y_pred_futureN)"
      ],
      "metadata": {
        "colab": {
          "base_uri": "https://localhost:8080/"
        },
        "id": "jBiMhlByYuLR",
        "outputId": "041cb9f0-44c0-420b-f146-084e1e2ce85a"
      },
      "execution_count": null,
      "outputs": [
        {
          "output_type": "stream",
          "name": "stdout",
          "text": [
            "[7.872804  7.665623  7.330617  7.265059  7.338665  7.6964183 7.7575893]\n"
          ]
        }
      ]
    },
    {
      "cell_type": "code",
      "source": [
        "print(y_pred_futureN[-1])\n",
        "i=y_pred_futureN[-1]\n",
        "ph=((i-7)*100/1.5)*0.1176"
      ],
      "metadata": {
        "colab": {
          "base_uri": "https://localhost:8080/"
        },
        "id": "RWKDuLgbYzFd",
        "outputId": "353cf5f3-39d9-454c-cd68-12ca202046fd"
      },
      "execution_count": null,
      "outputs": [
        {
          "output_type": "stream",
          "name": "stdout",
          "text": [
            "7.7575893\n"
          ]
        }
      ]
    },
    {
      "cell_type": "code",
      "source": [
        "modelS = Sequential()\n",
        "modelS.add(LSTM(64, activation='relu', input_shape=(trainX.shape[1], trainX.shape[2]), return_sequences=True))\n",
        "modelS.add(LSTM(32, activation='relu', return_sequences=False))\n",
        "modelS.add(Dropout(0.2))\n",
        "modelS.add(Dense(trainYS.shape[1]))"
      ],
      "metadata": {
        "id": "kBfqZWLzZR0L"
      },
      "execution_count": null,
      "outputs": []
    },
    {
      "cell_type": "code",
      "source": [
        "modelS.compile(optimizer='adam', loss='mse')\n",
        "modelS.summary()"
      ],
      "metadata": {
        "colab": {
          "base_uri": "https://localhost:8080/"
        },
        "id": "NY3Pb2OmZc5d",
        "outputId": "d50aa6ee-24b4-46d0-cb3b-46c7d2024a83"
      },
      "execution_count": null,
      "outputs": [
        {
          "output_type": "stream",
          "name": "stdout",
          "text": [
            "Model: \"sequential_8\"\n",
            "_________________________________________________________________\n",
            " Layer (type)                Output Shape              Param #   \n",
            "=================================================================\n",
            " lstm_16 (LSTM)              (None, 3, 64)             18432     \n",
            "                                                                 \n",
            " lstm_17 (LSTM)              (None, 32)                12416     \n",
            "                                                                 \n",
            " dropout_8 (Dropout)         (None, 32)                0         \n",
            "                                                                 \n",
            " dense_8 (Dense)             (None, 1)                 33        \n",
            "                                                                 \n",
            "=================================================================\n",
            "Total params: 30881 (120.63 KB)\n",
            "Trainable params: 30881 (120.63 KB)\n",
            "Non-trainable params: 0 (0.00 Byte)\n",
            "_________________________________________________________________\n"
          ]
        }
      ]
    },
    {
      "cell_type": "code",
      "source": [
        "modelS.compile(optimizer='adam', loss='mse')\n",
        "modelS.summary()"
      ],
      "metadata": {
        "colab": {
          "base_uri": "https://localhost:8080/"
        },
        "id": "8gg6CnijZexC",
        "outputId": "67545515-0515-4412-84bd-ebd89cda4ee5"
      },
      "execution_count": null,
      "outputs": [
        {
          "output_type": "stream",
          "name": "stdout",
          "text": [
            "Model: \"sequential_8\"\n",
            "_________________________________________________________________\n",
            " Layer (type)                Output Shape              Param #   \n",
            "=================================================================\n",
            " lstm_16 (LSTM)              (None, 3, 64)             18432     \n",
            "                                                                 \n",
            " lstm_17 (LSTM)              (None, 32)                12416     \n",
            "                                                                 \n",
            " dropout_8 (Dropout)         (None, 32)                0         \n",
            "                                                                 \n",
            " dense_8 (Dense)             (None, 1)                 33        \n",
            "                                                                 \n",
            "=================================================================\n",
            "Total params: 30881 (120.63 KB)\n",
            "Trainable params: 30881 (120.63 KB)\n",
            "Non-trainable params: 0 (0.00 Byte)\n",
            "_________________________________________________________________\n"
          ]
        }
      ]
    },
    {
      "cell_type": "code",
      "source": [
        "historyS = modelS.fit(trainX, trainYS, epochs=50, batch_size=4, validation_split=0.1, verbose=1)"
      ],
      "metadata": {
        "colab": {
          "base_uri": "https://localhost:8080/"
        },
        "id": "jh70reWHZkBe",
        "outputId": "d8922f9c-ca04-47b4-8d14-c7553fd04315"
      },
      "execution_count": null,
      "outputs": [
        {
          "output_type": "stream",
          "name": "stdout",
          "text": [
            "Epoch 1/50\n",
            "2/2 [==============================] - 3s 425ms/step - loss: 0.6819 - val_loss: 1.3021\n",
            "Epoch 2/50\n",
            "2/2 [==============================] - 0s 37ms/step - loss: 0.6562 - val_loss: 1.3137\n",
            "Epoch 3/50\n",
            "2/2 [==============================] - 0s 34ms/step - loss: 0.6233 - val_loss: 1.3212\n",
            "Epoch 4/50\n",
            "2/2 [==============================] - 0s 37ms/step - loss: 0.6114 - val_loss: 1.3297\n",
            "Epoch 5/50\n",
            "2/2 [==============================] - 0s 47ms/step - loss: 0.6006 - val_loss: 1.3430\n",
            "Epoch 6/50\n",
            "2/2 [==============================] - 0s 35ms/step - loss: 0.5747 - val_loss: 1.3601\n",
            "Epoch 7/50\n",
            "2/2 [==============================] - 0s 33ms/step - loss: 0.5639 - val_loss: 1.3739\n",
            "Epoch 8/50\n",
            "2/2 [==============================] - 0s 35ms/step - loss: 0.5619 - val_loss: 1.3894\n",
            "Epoch 9/50\n",
            "2/2 [==============================] - 0s 35ms/step - loss: 0.5632 - val_loss: 1.4083\n",
            "Epoch 10/50\n",
            "2/2 [==============================] - 0s 38ms/step - loss: 0.5546 - val_loss: 1.4295\n",
            "Epoch 11/50\n",
            "2/2 [==============================] - 0s 36ms/step - loss: 0.5085 - val_loss: 1.4526\n",
            "Epoch 12/50\n",
            "2/2 [==============================] - 0s 35ms/step - loss: 0.4922 - val_loss: 1.4776\n",
            "Epoch 13/50\n",
            "2/2 [==============================] - 0s 37ms/step - loss: 0.5095 - val_loss: 1.5048\n",
            "Epoch 14/50\n",
            "2/2 [==============================] - 0s 34ms/step - loss: 0.4506 - val_loss: 1.5349\n",
            "Epoch 15/50\n",
            "2/2 [==============================] - 0s 34ms/step - loss: 0.4628 - val_loss: 1.5678\n",
            "Epoch 16/50\n",
            "2/2 [==============================] - 0s 34ms/step - loss: 0.4580 - val_loss: 1.6034\n",
            "Epoch 17/50\n",
            "2/2 [==============================] - 0s 35ms/step - loss: 0.3965 - val_loss: 1.6391\n",
            "Epoch 18/50\n",
            "2/2 [==============================] - 0s 35ms/step - loss: 0.3599 - val_loss: 1.6886\n",
            "Epoch 19/50\n",
            "2/2 [==============================] - 0s 37ms/step - loss: 0.3750 - val_loss: 1.7412\n",
            "Epoch 20/50\n",
            "2/2 [==============================] - 0s 34ms/step - loss: 0.3535 - val_loss: 1.7974\n",
            "Epoch 21/50\n",
            "2/2 [==============================] - 0s 34ms/step - loss: 0.2697 - val_loss: 1.8538\n",
            "Epoch 22/50\n",
            "2/2 [==============================] - 0s 37ms/step - loss: 0.2596 - val_loss: 1.9307\n",
            "Epoch 23/50\n",
            "2/2 [==============================] - 0s 37ms/step - loss: 0.2463 - val_loss: 2.0251\n",
            "Epoch 24/50\n",
            "2/2 [==============================] - 0s 34ms/step - loss: 0.2142 - val_loss: 2.1194\n",
            "Epoch 25/50\n",
            "2/2 [==============================] - 0s 34ms/step - loss: 0.2103 - val_loss: 2.2094\n",
            "Epoch 26/50\n",
            "2/2 [==============================] - 0s 49ms/step - loss: 0.2084 - val_loss: 2.3164\n",
            "Epoch 27/50\n",
            "2/2 [==============================] - 0s 38ms/step - loss: 0.1466 - val_loss: 2.4243\n",
            "Epoch 28/50\n",
            "2/2 [==============================] - 0s 37ms/step - loss: 0.0982 - val_loss: 2.4855\n",
            "Epoch 29/50\n",
            "2/2 [==============================] - 0s 37ms/step - loss: 0.1146 - val_loss: 2.5141\n",
            "Epoch 30/50\n",
            "2/2 [==============================] - 0s 42ms/step - loss: 0.1475 - val_loss: 2.5679\n",
            "Epoch 31/50\n",
            "2/2 [==============================] - 0s 38ms/step - loss: 0.0952 - val_loss: 2.6073\n",
            "Epoch 32/50\n",
            "2/2 [==============================] - 0s 43ms/step - loss: 0.0635 - val_loss: 2.6354\n",
            "Epoch 33/50\n",
            "2/2 [==============================] - 0s 41ms/step - loss: 0.1343 - val_loss: 2.6512\n",
            "Epoch 34/50\n",
            "2/2 [==============================] - 0s 44ms/step - loss: 0.0776 - val_loss: 2.6221\n",
            "Epoch 35/50\n",
            "2/2 [==============================] - 0s 37ms/step - loss: 0.1231 - val_loss: 2.6287\n",
            "Epoch 36/50\n",
            "2/2 [==============================] - 0s 36ms/step - loss: 0.0984 - val_loss: 2.6357\n",
            "Epoch 37/50\n",
            "2/2 [==============================] - 0s 35ms/step - loss: 0.0512 - val_loss: 2.6286\n",
            "Epoch 38/50\n",
            "2/2 [==============================] - 0s 35ms/step - loss: 0.0963 - val_loss: 2.6464\n",
            "Epoch 39/50\n",
            "2/2 [==============================] - 0s 38ms/step - loss: 0.0904 - val_loss: 2.6617\n",
            "Epoch 40/50\n",
            "2/2 [==============================] - 0s 48ms/step - loss: 0.0884 - val_loss: 2.6701\n",
            "Epoch 41/50\n",
            "2/2 [==============================] - 0s 34ms/step - loss: 0.0498 - val_loss: 2.6556\n",
            "Epoch 42/50\n",
            "2/2 [==============================] - 0s 36ms/step - loss: 0.0898 - val_loss: 2.6403\n",
            "Epoch 43/50\n",
            "2/2 [==============================] - 0s 36ms/step - loss: 0.0174 - val_loss: 2.6438\n",
            "Epoch 44/50\n",
            "2/2 [==============================] - 0s 34ms/step - loss: 0.0937 - val_loss: 2.6334\n",
            "Epoch 45/50\n",
            "2/2 [==============================] - 0s 37ms/step - loss: 0.0255 - val_loss: 2.6031\n",
            "Epoch 46/50\n",
            "2/2 [==============================] - 0s 40ms/step - loss: 0.0126 - val_loss: 2.5768\n",
            "Epoch 47/50\n",
            "2/2 [==============================] - 0s 35ms/step - loss: 0.0666 - val_loss: 2.5529\n",
            "Epoch 48/50\n",
            "2/2 [==============================] - 0s 34ms/step - loss: 0.0861 - val_loss: 2.5629\n",
            "Epoch 49/50\n",
            "2/2 [==============================] - 0s 37ms/step - loss: 0.0376 - val_loss: 2.5937\n",
            "Epoch 50/50\n",
            "2/2 [==============================] - 0s 35ms/step - loss: 0.0253 - val_loss: 2.6441\n"
          ]
        }
      ]
    },
    {
      "cell_type": "code",
      "source": [
        "plt.plot(historyS.history['loss'], label='Training loss')\n",
        "plt.plot(historyS.history['val_loss'], label='Validation loss')\n",
        "plt.legend()"
      ],
      "metadata": {
        "colab": {
          "base_uri": "https://localhost:8080/",
          "height": 447
        },
        "id": "Y1v1MF7kZzR2",
        "outputId": "f54a8728-93a4-47bb-9f2e-269dbd1f5638"
      },
      "execution_count": null,
      "outputs": [
        {
          "output_type": "execute_result",
          "data": {
            "text/plain": [
              "<matplotlib.legend.Legend at 0x7c47c743fdf0>"
            ]
          },
          "metadata": {},
          "execution_count": 97
        },
        {
          "output_type": "display_data",
          "data": {
            "text/plain": [
              "<Figure size 640x480 with 1 Axes>"
            ],
            "image/png": "[encoded data removed]"
          },
          "metadata": {}
        }
      ]
    },
    {
      "cell_type": "markdown",
      "source": [],
      "metadata": {
        "id": "CHUBdamF6FIe"
      }
    },
    {
      "cell_type": "code",
      "source": [
        "predictionS = modelS.predict(trainX)"
      ],
      "metadata": {
        "colab": {
          "base_uri": "https://localhost:8080/"
        },
        "id": "UmhHBi8yZ3_Q",
        "outputId": "8160740c-1718-4fa6-a3ce-65eb7a1f293a"
      },
      "execution_count": null,
      "outputs": [
        {
          "output_type": "stream",
          "name": "stdout",
          "text": [
            "1/1 [==============================] - 0s 300ms/step\n"
          ]
        }
      ]
    },
    {
      "cell_type": "code",
      "source": [
        "prediction_copiesS = np.repeat(predictionS, df_for_training.shape[1], axis=-1)\n",
        "y_pred_futureS = scaler.inverse_transform(prediction_copiesS)[:,2]"
      ],
      "metadata": {
        "id": "WR0ur2wBZ82T"
      },
      "execution_count": null,
      "outputs": []
    },
    {
      "cell_type": "code",
      "source": [
        "print(y_pred_futureS)"
      ],
      "metadata": {
        "colab": {
          "base_uri": "https://localhost:8080/"
        },
        "id": "cQ9HMNWmaHaz",
        "outputId": "7df65bfb-c980-4d31-e937-b6da9d445904"
      },
      "execution_count": null,
      "outputs": [
        {
          "output_type": "stream",
          "name": "stdout",
          "text": [
            "[3.0308793 2.926047  2.1030834 2.082362  1.9690411 1.7766713 1.9690168]\n"
          ]
        }
      ]
    },
    {
      "cell_type": "code",
      "source": [
        "i=y_pred_futureS[-1]\n",
        "bod=(i*100/25)*0.3723\n",
        "print(i)"
      ],
      "metadata": {
        "colab": {
          "base_uri": "https://localhost:8080/"
        },
        "id": "O1jzvQtzaPWz",
        "outputId": "435b2a9c-0488-4454-f82a-c73502a7f94a"
      },
      "execution_count": null,
      "outputs": [
        {
          "output_type": "stream",
          "name": "stdout",
          "text": [
            "1.9690168\n"
          ]
        }
      ]
    },
    {
      "cell_type": "code",
      "source": [
        "modelS = Sequential()\n",
        "modelS.add(LSTM(64, activation='relu', input_shape=(trainX.shape[1], trainX.shape[2]), return_sequences=True))\n",
        "modelS.add(LSTM(32, activation='relu', return_sequences=False))\n",
        "modelS.add(Dropout(0.2))\n",
        "modelS.add(Dense(trainYA.shape[1]))"
      ],
      "metadata": {
        "id": "Z5MC2KCgagQf"
      },
      "execution_count": null,
      "outputs": []
    },
    {
      "cell_type": "code",
      "source": [
        "modelS.compile(optimizer='adam', loss='mse')\n",
        "modelS.summary()"
      ],
      "metadata": {
        "colab": {
          "base_uri": "https://localhost:8080/"
        },
        "id": "VFW5xkeIaxnZ",
        "outputId": "95d12c62-0d29-41ba-b264-48b296733161"
      },
      "execution_count": null,
      "outputs": [
        {
          "output_type": "stream",
          "name": "stdout",
          "text": [
            "Model: \"sequential_9\"\n",
            "_________________________________________________________________\n",
            " Layer (type)                Output Shape              Param #   \n",
            "=================================================================\n",
            " lstm_18 (LSTM)              (None, 3, 64)             18432     \n",
            "                                                                 \n",
            " lstm_19 (LSTM)              (None, 32)                12416     \n",
            "                                                                 \n",
            " dropout_9 (Dropout)         (None, 32)                0         \n",
            "                                                                 \n",
            " dense_9 (Dense)             (None, 1)                 33        \n",
            "                                                                 \n",
            "=================================================================\n",
            "Total params: 30881 (120.63 KB)\n",
            "Trainable params: 30881 (120.63 KB)\n",
            "Non-trainable params: 0 (0.00 Byte)\n",
            "_________________________________________________________________\n"
          ]
        }
      ]
    },
    {
      "cell_type": "code",
      "source": [
        "historyS = modelS.fit(trainX, trainYS, epochs=50, batch_size=4, validation_split=0.1, verbose=1)"
      ],
      "metadata": {
        "colab": {
          "base_uri": "https://localhost:8080/"
        },
        "id": "px8fESK9a1pL",
        "outputId": "b66e1e0c-d384-41f3-a01d-7d034813f994"
      },
      "execution_count": null,
      "outputs": [
        {
          "output_type": "stream",
          "name": "stdout",
          "text": [
            "Epoch 1/50\n",
            "2/2 [==============================] - 3s 436ms/step - loss: 0.6238 - val_loss: 1.2444\n",
            "Epoch 2/50\n",
            "2/2 [==============================] - 0s 37ms/step - loss: 0.5957 - val_loss: 1.2507\n",
            "Epoch 3/50\n",
            "2/2 [==============================] - 0s 36ms/step - loss: 0.6075 - val_loss: 1.2534\n",
            "Epoch 4/50\n",
            "2/2 [==============================] - 0s 39ms/step - loss: 0.5669 - val_loss: 1.2560\n",
            "Epoch 5/50\n",
            "2/2 [==============================] - 0s 35ms/step - loss: 0.5540 - val_loss: 1.2635\n",
            "Epoch 6/50\n",
            "2/2 [==============================] - 0s 35ms/step - loss: 0.5621 - val_loss: 1.2730\n",
            "Epoch 7/50\n",
            "2/2 [==============================] - 0s 35ms/step - loss: 0.5217 - val_loss: 1.2836\n",
            "Epoch 8/50\n",
            "2/2 [==============================] - 0s 35ms/step - loss: 0.5340 - val_loss: 1.2997\n",
            "Epoch 9/50\n",
            "2/2 [==============================] - 0s 36ms/step - loss: 0.5149 - val_loss: 1.3119\n",
            "Epoch 10/50\n",
            "2/2 [==============================] - 0s 45ms/step - loss: 0.4931 - val_loss: 1.3275\n",
            "Epoch 11/50\n",
            "2/2 [==============================] - 0s 36ms/step - loss: 0.4611 - val_loss: 1.3463\n",
            "Epoch 12/50\n",
            "2/2 [==============================] - 0s 37ms/step - loss: 0.4709 - val_loss: 1.3663\n",
            "Epoch 13/50\n",
            "2/2 [==============================] - 0s 36ms/step - loss: 0.4644 - val_loss: 1.3841\n",
            "Epoch 14/50\n",
            "2/2 [==============================] - 0s 35ms/step - loss: 0.4228 - val_loss: 1.4022\n",
            "Epoch 15/50\n",
            "2/2 [==============================] - 0s 37ms/step - loss: 0.4186 - val_loss: 1.4232\n",
            "Epoch 16/50\n",
            "2/2 [==============================] - 0s 35ms/step - loss: 0.4100 - val_loss: 1.4465\n",
            "Epoch 17/50\n",
            "2/2 [==============================] - 0s 46ms/step - loss: 0.3169 - val_loss: 1.4704\n",
            "Epoch 18/50\n",
            "2/2 [==============================] - 0s 35ms/step - loss: 0.3317 - val_loss: 1.4962\n",
            "Epoch 19/50\n",
            "2/2 [==============================] - 0s 36ms/step - loss: 0.3328 - val_loss: 1.5291\n",
            "Epoch 20/50\n",
            "2/2 [==============================] - 0s 35ms/step - loss: 0.3525 - val_loss: 1.5623\n",
            "Epoch 21/50\n",
            "2/2 [==============================] - 0s 36ms/step - loss: 0.3023 - val_loss: 1.5966\n",
            "Epoch 22/50\n",
            "2/2 [==============================] - 0s 57ms/step - loss: 0.1842 - val_loss: 1.6432\n",
            "Epoch 23/50\n",
            "2/2 [==============================] - 0s 79ms/step - loss: 0.1695 - val_loss: 1.6924\n",
            "Epoch 24/50\n",
            "2/2 [==============================] - 0s 69ms/step - loss: 0.1220 - val_loss: 1.7483\n",
            "Epoch 25/50\n",
            "2/2 [==============================] - 0s 69ms/step - loss: 0.0656 - val_loss: 1.8163\n",
            "Epoch 26/50\n",
            "2/2 [==============================] - 0s 49ms/step - loss: 0.0572 - val_loss: 1.8999\n",
            "Epoch 27/50\n",
            "2/2 [==============================] - 0s 54ms/step - loss: 0.0828 - val_loss: 1.9919\n",
            "Epoch 28/50\n",
            "2/2 [==============================] - 0s 52ms/step - loss: 0.0975 - val_loss: 2.1012\n",
            "Epoch 29/50\n",
            "2/2 [==============================] - 0s 57ms/step - loss: 0.0528 - val_loss: 2.2338\n",
            "Epoch 30/50\n",
            "2/2 [==============================] - 0s 58ms/step - loss: 0.1400 - val_loss: 2.3627\n",
            "Epoch 31/50\n",
            "2/2 [==============================] - 0s 77ms/step - loss: 0.0629 - val_loss: 2.4427\n",
            "Epoch 32/50\n",
            "2/2 [==============================] - 0s 55ms/step - loss: 0.0452 - val_loss: 2.4698\n",
            "Epoch 33/50\n",
            "2/2 [==============================] - 0s 45ms/step - loss: 0.0844 - val_loss: 2.4576\n",
            "Epoch 34/50\n",
            "2/2 [==============================] - 0s 79ms/step - loss: 0.0766 - val_loss: 2.4513\n",
            "Epoch 35/50\n",
            "2/2 [==============================] - 0s 74ms/step - loss: 0.0239 - val_loss: 2.4800\n",
            "Epoch 36/50\n",
            "2/2 [==============================] - 0s 69ms/step - loss: 0.0889 - val_loss: 2.4963\n",
            "Epoch 37/50\n",
            "2/2 [==============================] - 0s 69ms/step - loss: 0.1000 - val_loss: 2.4898\n",
            "Epoch 38/50\n",
            "2/2 [==============================] - 0s 82ms/step - loss: 0.1161 - val_loss: 2.4996\n",
            "Epoch 39/50\n",
            "2/2 [==============================] - 0s 68ms/step - loss: 0.0363 - val_loss: 2.4981\n",
            "Epoch 40/50\n",
            "2/2 [==============================] - 0s 54ms/step - loss: 0.0303 - val_loss: 2.4677\n",
            "Epoch 41/50\n",
            "2/2 [==============================] - 0s 66ms/step - loss: 0.0393 - val_loss: 2.4202\n",
            "Epoch 42/50\n",
            "2/2 [==============================] - 0s 68ms/step - loss: 0.0259 - val_loss: 2.3997\n",
            "Epoch 43/50\n",
            "2/2 [==============================] - 0s 47ms/step - loss: 0.0322 - val_loss: 2.4084\n",
            "Epoch 44/50\n",
            "2/2 [==============================] - 0s 68ms/step - loss: 0.0450 - val_loss: 2.4493\n",
            "Epoch 45/50\n",
            "2/2 [==============================] - 0s 56ms/step - loss: 0.0622 - val_loss: 2.4881\n",
            "Epoch 46/50\n",
            "2/2 [==============================] - 0s 67ms/step - loss: 0.0714 - val_loss: 2.5456\n",
            "Epoch 47/50\n",
            "2/2 [==============================] - 0s 50ms/step - loss: 0.0195 - val_loss: 2.5864\n",
            "Epoch 48/50\n",
            "2/2 [==============================] - 0s 49ms/step - loss: 0.0211 - val_loss: 2.6318\n",
            "Epoch 49/50\n",
            "2/2 [==============================] - 0s 47ms/step - loss: 0.0256 - val_loss: 2.6914\n",
            "Epoch 50/50\n",
            "2/2 [==============================] - 0s 51ms/step - loss: 0.0242 - val_loss: 2.7188\n"
          ]
        }
      ]
    },
    {
      "cell_type": "code",
      "source": [
        "plt.plot(historyS.history['loss'], label='Training loss')\n",
        "plt.plot(historyS.history['val_loss'], label='Validation loss')\n",
        "plt.legend()"
      ],
      "metadata": {
        "colab": {
          "base_uri": "https://localhost:8080/",
          "height": 447
        },
        "id": "K79oSFnibAhV",
        "outputId": "c5b18c7c-3462-48dd-93bc-bc41ccc3ac7a"
      },
      "execution_count": null,
      "outputs": [
        {
          "output_type": "execute_result",
          "data": {
            "text/plain": [
              "<matplotlib.legend.Legend at 0x7c47c6f8fa00>"
            ]
          },
          "metadata": {},
          "execution_count": 105
        },
        {
          "output_type": "display_data",
          "data": {
            "text/plain": [
              "<Figure size 640x480 with 1 Axes>"
            ],
            "image/png": "[encoded data removed]"
          },
          "metadata": {}
        }
      ]
    },
    {
      "cell_type": "code",
      "source": [
        "predictionS = modelS.predict(trainX)"
      ],
      "metadata": {
        "colab": {
          "base_uri": "https://localhost:8080/"
        },
        "id": "HsJYC_9jbIn8",
        "outputId": "059012f1-cf0c-4373-9943-8839b56dc408"
      },
      "execution_count": null,
      "outputs": [
        {
          "output_type": "stream",
          "name": "stdout",
          "text": [
            "1/1 [==============================] - 0s 314ms/step\n"
          ]
        }
      ]
    },
    {
      "cell_type": "code",
      "source": [
        "prediction_copiesS = np.repeat(predictionS, df_for_training.shape[1], axis=-1)\n",
        "y_pred_futureS = scaler.inverse_transform(prediction_copiesS)[:,2]"
      ],
      "metadata": {
        "id": "sHi-BKCabLUq"
      },
      "execution_count": null,
      "outputs": []
    },
    {
      "cell_type": "code",
      "source": [
        "print(y_pred_futureS)"
      ],
      "metadata": {
        "colab": {
          "base_uri": "https://localhost:8080/"
        },
        "id": "2je0SzCQbSdB",
        "outputId": "a2638286-8666-40b1-ef29-d19642f5f296"
      },
      "execution_count": null,
      "outputs": [
        {
          "output_type": "stream",
          "name": "stdout",
          "text": [
            "[2.9455237 2.911265  2.113101  2.065123  1.9718626 1.7566874 1.9545598]\n"
          ]
        }
      ]
    },
    {
      "cell_type": "code",
      "source": [
        "i=y_pred_futureS[-1]\n",
        "tur=(i*100/5)*0.1\n",
        "print(tur)"
      ],
      "metadata": {
        "colab": {
          "base_uri": "https://localhost:8080/"
        },
        "id": "bbkc656hbXOu",
        "outputId": "88cd95bd-ae03-423d-e479-363711798a19"
      },
      "execution_count": null,
      "outputs": [
        {
          "output_type": "stream",
          "name": "stdout",
          "text": [
            "3.9091196060180664\n"
          ]
        }
      ]
    },
    {
      "cell_type": "code",
      "source": [
        "modelS = Sequential()\n",
        "modelS.add(LSTM(64, activation='relu', input_shape=(trainX.shape[1], trainX.shape[2]), return_sequences=True))\n",
        "modelS.add(LSTM(32, activation='relu', return_sequences=False))\n",
        "modelS.add(Dropout(0.2))\n",
        "modelS.add(Dense(trainYB.shape[1]))"
      ],
      "metadata": {
        "id": "RW8XajyYbgOI"
      },
      "execution_count": null,
      "outputs": []
    },
    {
      "cell_type": "code",
      "source": [
        "modelS.compile(optimizer='adam', loss='mse')\n",
        "modelS.summary()"
      ],
      "metadata": {
        "colab": {
          "base_uri": "https://localhost:8080/"
        },
        "id": "Y_ab4isrbtT-",
        "outputId": "fa9d0969-1e43-44a4-8340-f7d3451a6e7c"
      },
      "execution_count": null,
      "outputs": [
        {
          "output_type": "stream",
          "name": "stdout",
          "text": [
            "Model: \"sequential_10\"\n",
            "_________________________________________________________________\n",
            " Layer (type)                Output Shape              Param #   \n",
            "=================================================================\n",
            " lstm_20 (LSTM)              (None, 3, 64)             18432     \n",
            "                                                                 \n",
            " lstm_21 (LSTM)              (None, 32)                12416     \n",
            "                                                                 \n",
            " dropout_10 (Dropout)        (None, 32)                0         \n",
            "                                                                 \n",
            " dense_10 (Dense)            (None, 1)                 33        \n",
            "                                                                 \n",
            "=================================================================\n",
            "Total params: 30881 (120.63 KB)\n",
            "Trainable params: 30881 (120.63 KB)\n",
            "Non-trainable params: 0 (0.00 Byte)\n",
            "_________________________________________________________________\n"
          ]
        }
      ]
    },
    {
      "cell_type": "code",
      "source": [
        "historyS = modelS.fit(trainX, trainYS, epochs=50, batch_size=4, validation_split=0.1, verbose=1)"
      ],
      "metadata": {
        "colab": {
          "base_uri": "https://localhost:8080/"
        },
        "id": "3d4PijwBbvK5",
        "outputId": "5c1cda53-bed5-4685-ce22-afdebe7c9ce4"
      },
      "execution_count": null,
      "outputs": [
        {
          "output_type": "stream",
          "name": "stdout",
          "text": [
            "Epoch 1/50\n",
            "2/2 [==============================] - 3s 414ms/step - loss: 0.6218 - val_loss: 1.1608\n",
            "Epoch 2/50\n",
            "2/2 [==============================] - 0s 37ms/step - loss: 0.6086 - val_loss: 1.1800\n",
            "Epoch 3/50\n",
            "2/2 [==============================] - 0s 36ms/step - loss: 0.6043 - val_loss: 1.1969\n",
            "Epoch 4/50\n",
            "2/2 [==============================] - 0s 36ms/step - loss: 0.5930 - val_loss: 1.2125\n",
            "Epoch 5/50\n",
            "2/2 [==============================] - 0s 35ms/step - loss: 0.5908 - val_loss: 1.2316\n",
            "Epoch 6/50\n",
            "2/2 [==============================] - 0s 52ms/step - loss: 0.5711 - val_loss: 1.2477\n",
            "Epoch 7/50\n",
            "2/2 [==============================] - 0s 37ms/step - loss: 0.5506 - val_loss: 1.2603\n",
            "Epoch 8/50\n",
            "2/2 [==============================] - 0s 37ms/step - loss: 0.5443 - val_loss: 1.2734\n",
            "Epoch 9/50\n",
            "2/2 [==============================] - 0s 40ms/step - loss: 0.5264 - val_loss: 1.2849\n",
            "Epoch 10/50\n",
            "2/2 [==============================] - 0s 36ms/step - loss: 0.5001 - val_loss: 1.2971\n",
            "Epoch 11/50\n",
            "2/2 [==============================] - 0s 41ms/step - loss: 0.5134 - val_loss: 1.3095\n",
            "Epoch 12/50\n",
            "2/2 [==============================] - 0s 36ms/step - loss: 0.4794 - val_loss: 1.3218\n",
            "Epoch 13/50\n",
            "2/2 [==============================] - 0s 36ms/step - loss: 0.4552 - val_loss: 1.3385\n",
            "Epoch 14/50\n",
            "2/2 [==============================] - 0s 36ms/step - loss: 0.4388 - val_loss: 1.3590\n",
            "Epoch 15/50\n",
            "2/2 [==============================] - 0s 35ms/step - loss: 0.4472 - val_loss: 1.3794\n",
            "Epoch 16/50\n",
            "2/2 [==============================] - 0s 35ms/step - loss: 0.3953 - val_loss: 1.3993\n",
            "Epoch 17/50\n",
            "2/2 [==============================] - 0s 37ms/step - loss: 0.3828 - val_loss: 1.4249\n",
            "Epoch 18/50\n",
            "2/2 [==============================] - 0s 42ms/step - loss: 0.3778 - val_loss: 1.4532\n",
            "Epoch 19/50\n",
            "2/2 [==============================] - 0s 41ms/step - loss: 0.3151 - val_loss: 1.4836\n",
            "Epoch 20/50\n",
            "2/2 [==============================] - 0s 36ms/step - loss: 0.2867 - val_loss: 1.5180\n",
            "Epoch 21/50\n",
            "2/2 [==============================] - 0s 39ms/step - loss: 0.2809 - val_loss: 1.5509\n",
            "Epoch 22/50\n",
            "2/2 [==============================] - 0s 37ms/step - loss: 0.2832 - val_loss: 1.5936\n",
            "Epoch 23/50\n",
            "2/2 [==============================] - 0s 41ms/step - loss: 0.2085 - val_loss: 1.6408\n",
            "Epoch 24/50\n",
            "2/2 [==============================] - 0s 43ms/step - loss: 0.1672 - val_loss: 1.7009\n",
            "Epoch 25/50\n",
            "2/2 [==============================] - 0s 60ms/step - loss: 0.1822 - val_loss: 1.7805\n",
            "Epoch 26/50\n",
            "2/2 [==============================] - 0s 37ms/step - loss: 0.1624 - val_loss: 1.8697\n",
            "Epoch 27/50\n",
            "2/2 [==============================] - 0s 35ms/step - loss: 0.0919 - val_loss: 1.9727\n",
            "Epoch 28/50\n",
            "2/2 [==============================] - 0s 37ms/step - loss: 0.1347 - val_loss: 2.0951\n",
            "Epoch 29/50\n",
            "2/2 [==============================] - 0s 41ms/step - loss: 0.0936 - val_loss: 2.2251\n",
            "Epoch 30/50\n",
            "2/2 [==============================] - 0s 38ms/step - loss: 0.0859 - val_loss: 2.3742\n",
            "Epoch 31/50\n",
            "2/2 [==============================] - 0s 37ms/step - loss: 0.0427 - val_loss: 2.5087\n",
            "Epoch 32/50\n",
            "2/2 [==============================] - 0s 38ms/step - loss: 0.1338 - val_loss: 2.6135\n",
            "Epoch 33/50\n",
            "2/2 [==============================] - 0s 35ms/step - loss: 0.0843 - val_loss: 2.6996\n",
            "Epoch 34/50\n",
            "2/2 [==============================] - 0s 36ms/step - loss: 0.0636 - val_loss: 2.7459\n",
            "Epoch 35/50\n",
            "2/2 [==============================] - 0s 39ms/step - loss: 0.0554 - val_loss: 2.7515\n",
            "Epoch 36/50\n",
            "2/2 [==============================] - 0s 34ms/step - loss: 0.0483 - val_loss: 2.7497\n",
            "Epoch 37/50\n",
            "2/2 [==============================] - 0s 36ms/step - loss: 0.0514 - val_loss: 2.7343\n",
            "Epoch 38/50\n",
            "2/2 [==============================] - 0s 35ms/step - loss: 0.0309 - val_loss: 2.7168\n",
            "Epoch 39/50\n",
            "2/2 [==============================] - 0s 35ms/step - loss: 0.0320 - val_loss: 2.7206\n",
            "Epoch 40/50\n",
            "2/2 [==============================] - 0s 41ms/step - loss: 0.0226 - val_loss: 2.7267\n",
            "Epoch 41/50\n",
            "2/2 [==============================] - 0s 39ms/step - loss: 0.0410 - val_loss: 2.7546\n",
            "Epoch 42/50\n",
            "2/2 [==============================] - 0s 36ms/step - loss: 0.0558 - val_loss: 2.7896\n",
            "Epoch 43/50\n",
            "2/2 [==============================] - 0s 36ms/step - loss: 0.0364 - val_loss: 2.8679\n",
            "Epoch 44/50\n",
            "2/2 [==============================] - 0s 55ms/step - loss: 0.0334 - val_loss: 2.9465\n",
            "Epoch 45/50\n",
            "2/2 [==============================] - 0s 47ms/step - loss: 0.0360 - val_loss: 3.0746\n",
            "Epoch 46/50\n",
            "2/2 [==============================] - 0s 36ms/step - loss: 0.0078 - val_loss: 3.2427\n",
            "Epoch 47/50\n",
            "2/2 [==============================] - 0s 37ms/step - loss: 0.0275 - val_loss: 3.3566\n",
            "Epoch 48/50\n",
            "2/2 [==============================] - 0s 37ms/step - loss: 0.0305 - val_loss: 3.4451\n",
            "Epoch 49/50\n",
            "2/2 [==============================] - 0s 36ms/step - loss: 0.0389 - val_loss: 3.4942\n",
            "Epoch 50/50\n",
            "2/2 [==============================] - 0s 40ms/step - loss: 0.0154 - val_loss: 3.5055\n"
          ]
        }
      ]
    },
    {
      "cell_type": "code",
      "source": [
        "plt.plot(historyS.history['loss'], label='Training loss')\n",
        "plt.plot(historyS.history['val_loss'], label='Validation loss')\n",
        "plt.legend()"
      ],
      "metadata": {
        "colab": {
          "base_uri": "https://localhost:8080/",
          "height": 447
        },
        "id": "zPJwc-mFgFve",
        "outputId": "2fe89ec5-71df-4397-93af-16d87971084a"
      },
      "execution_count": null,
      "outputs": [
        {
          "output_type": "execute_result",
          "data": {
            "text/plain": [
              "<matplotlib.legend.Legend at 0x7c47c3bda5f0>"
            ]
          },
          "metadata": {},
          "execution_count": 113
        },
        {
          "output_type": "display_data",
          "data": {
            "text/plain": [
              "<Figure size 640x480 with 1 Axes>"
            ],
            "image/png": "[encoded data removed]"
          },
          "metadata": {}
        }
      ]
    },
    {
      "cell_type": "code",
      "source": [
        "predictionS = modelS.predict(trainX)"
      ],
      "metadata": {
        "colab": {
          "base_uri": "https://localhost:8080/"
        },
        "id": "d9XYC52CgKvW",
        "outputId": "88590880-12e0-4436-9fd9-5bfbb350512d"
      },
      "execution_count": null,
      "outputs": [
        {
          "output_type": "stream",
          "name": "stdout",
          "text": [
            "1/1 [==============================] - 0s 293ms/step\n"
          ]
        }
      ]
    },
    {
      "cell_type": "code",
      "source": [
        "prediction_copiesS = np.repeat(predictionS, df_for_training.shape[1], axis=-1)\n",
        "y_pred_futureS = scaler.inverse_transform(prediction_copiesS)[:,2]"
      ],
      "metadata": {
        "id": "HiReb9wDgOd-"
      },
      "execution_count": null,
      "outputs": []
    },
    {
      "cell_type": "code",
      "source": [
        "print(y_pred_futureS)\n",
        "i=y_pred_futureS[-1]\n",
        "cod=(i*100/10)*0.12\n",
        "print(cod)"
      ],
      "metadata": {
        "colab": {
          "base_uri": "https://localhost:8080/"
        },
        "id": "0-ick9MngSTS",
        "outputId": "2bcf2ba8-26c2-48af-fba0-1a9bbba1ecc2"
      },
      "execution_count": null,
      "outputs": [
        {
          "output_type": "stream",
          "name": "stdout",
          "text": [
            "[3.0583582 3.0484605 2.0364883 2.0676725 1.9523351 1.6285262 1.8129008]\n",
            "2.1754809379577638\n"
          ]
        }
      ]
    },
    {
      "cell_type": "code",
      "source": [
        "l=[do,ph,bod,tur,cod]\n",
        "print(l)\n",
        "print(sum(l))"
      ],
      "metadata": {
        "colab": {
          "base_uri": "https://localhost:8080/"
        },
        "id": "rUBYQGsrghCL",
        "outputId": "d6f9c520-7331-42a1-9a87-1186771b2b77"
      },
      "execution_count": null,
      "outputs": [
        {
          "output_type": "stream",
          "name": "stdout",
          "text": [
            "[27.2586358054479, 5.939500427246093, 2.93225980424881, 3.9091196060180664, 2.1754809379577638]\n",
            "42.21499658091863\n"
          ]
        }
      ]
    },
    {
      "cell_type": "code",
      "source": [
        "modelP = Sequential()\n",
        "modelP.add(LSTM(64, activation='relu', input_shape=(trainX.shape[1], trainX.shape[2]), return_sequences=True))\n",
        "modelP.add(LSTM(32, activation='relu', return_sequences=False))\n",
        "modelP.add(Dropout(0.2))\n",
        "modelP.add(Dense(trainYC.shape[1]))"
      ],
      "metadata": {
        "id": "Afys-MidtGxw"
      },
      "execution_count": null,
      "outputs": []
    },
    {
      "cell_type": "code",
      "source": [
        "modelP.compile(optimizer='adam', loss='mse')\n",
        "modelP.summary()"
      ],
      "metadata": {
        "colab": {
          "base_uri": "https://localhost:8080/"
        },
        "id": "ut__0Jll3kET",
        "outputId": "9f39b3b0-c1e7-494a-a058-43ee5c65dc9a"
      },
      "execution_count": null,
      "outputs": [
        {
          "output_type": "stream",
          "name": "stdout",
          "text": [
            "Model: \"sequential_11\"\n",
            "_________________________________________________________________\n",
            " Layer (type)                Output Shape              Param #   \n",
            "=================================================================\n",
            " lstm_22 (LSTM)              (None, 3, 64)             18432     \n",
            "                                                                 \n",
            " lstm_23 (LSTM)              (None, 32)                12416     \n",
            "                                                                 \n",
            " dropout_11 (Dropout)        (None, 32)                0         \n",
            "                                                                 \n",
            " dense_11 (Dense)            (None, 1)                 33        \n",
            "                                                                 \n",
            "=================================================================\n",
            "Total params: 30881 (120.63 KB)\n",
            "Trainable params: 30881 (120.63 KB)\n",
            "Non-trainable params: 0 (0.00 Byte)\n",
            "_________________________________________________________________\n"
          ]
        }
      ]
    },
    {
      "cell_type": "code",
      "source": [
        "history = modelP.fit(trainX, trainYP, epochs=50, batch_size=4, validation_split=0.1, verbose=1)"
      ],
      "metadata": {
        "colab": {
          "base_uri": "https://localhost:8080/"
        },
        "id": "VVO7Pbwn3nnE",
        "outputId": "f49a840c-b2b6-460a-c84c-9c94b69a133e"
      },
      "execution_count": null,
      "outputs": [
        {
          "output_type": "stream",
          "name": "stdout",
          "text": [
            "Epoch 1/50\n",
            "2/2 [==============================] - 4s 649ms/step - loss: 0.6204 - val_loss: 0.2340\n",
            "Epoch 2/50\n",
            "2/2 [==============================] - 0s 60ms/step - loss: 0.6006 - val_loss: 0.2347\n",
            "Epoch 3/50\n",
            "2/2 [==============================] - 0s 78ms/step - loss: 0.5984 - val_loss: 0.2352\n",
            "Epoch 4/50\n",
            "2/2 [==============================] - 0s 53ms/step - loss: 0.6101 - val_loss: 0.2352\n",
            "Epoch 5/50\n",
            "2/2 [==============================] - 0s 54ms/step - loss: 0.5696 - val_loss: 0.2372\n",
            "Epoch 6/50\n",
            "2/2 [==============================] - 0s 69ms/step - loss: 0.5797 - val_loss: 0.2393\n",
            "Epoch 7/50\n",
            "2/2 [==============================] - 0s 55ms/step - loss: 0.5599 - val_loss: 0.2406\n",
            "Epoch 8/50\n",
            "2/2 [==============================] - 0s 53ms/step - loss: 0.5459 - val_loss: 0.2416\n",
            "Epoch 9/50\n",
            "2/2 [==============================] - 0s 73ms/step - loss: 0.5355 - val_loss: 0.2427\n",
            "Epoch 10/50\n",
            "2/2 [==============================] - 0s 64ms/step - loss: 0.5612 - val_loss: 0.2449\n",
            "Epoch 11/50\n",
            "2/2 [==============================] - 0s 49ms/step - loss: 0.5100 - val_loss: 0.2468\n",
            "Epoch 12/50\n",
            "2/2 [==============================] - 0s 49ms/step - loss: 0.5224 - val_loss: 0.2477\n",
            "Epoch 13/50\n",
            "2/2 [==============================] - 0s 50ms/step - loss: 0.4976 - val_loss: 0.2478\n",
            "Epoch 14/50\n",
            "2/2 [==============================] - 0s 48ms/step - loss: 0.4887 - val_loss: 0.2481\n",
            "Epoch 15/50\n",
            "2/2 [==============================] - 0s 50ms/step - loss: 0.4917 - val_loss: 0.2497\n",
            "Epoch 16/50\n",
            "2/2 [==============================] - 0s 79ms/step - loss: 0.4656 - val_loss: 0.2544\n",
            "Epoch 17/50\n",
            "2/2 [==============================] - 0s 73ms/step - loss: 0.4784 - val_loss: 0.2609\n",
            "Epoch 18/50\n",
            "2/2 [==============================] - 0s 87ms/step - loss: 0.4681 - val_loss: 0.2675\n",
            "Epoch 19/50\n",
            "2/2 [==============================] - 0s 69ms/step - loss: 0.4546 - val_loss: 0.2773\n",
            "Epoch 20/50\n",
            "2/2 [==============================] - 0s 93ms/step - loss: 0.4114 - val_loss: 0.2917\n",
            "Epoch 21/50\n",
            "2/2 [==============================] - 0s 72ms/step - loss: 0.3818 - val_loss: 0.3100\n",
            "Epoch 22/50\n",
            "2/2 [==============================] - 0s 68ms/step - loss: 0.4031 - val_loss: 0.3312\n",
            "Epoch 23/50\n",
            "2/2 [==============================] - 0s 69ms/step - loss: 0.3748 - val_loss: 0.3563\n",
            "Epoch 24/50\n",
            "2/2 [==============================] - 0s 51ms/step - loss: 0.3329 - val_loss: 0.3802\n",
            "Epoch 25/50\n",
            "2/2 [==============================] - 0s 54ms/step - loss: 0.3509 - val_loss: 0.4115\n",
            "Epoch 26/50\n",
            "2/2 [==============================] - 0s 70ms/step - loss: 0.3619 - val_loss: 0.4496\n",
            "Epoch 27/50\n",
            "2/2 [==============================] - 0s 73ms/step - loss: 0.3285 - val_loss: 0.4840\n",
            "Epoch 28/50\n",
            "2/2 [==============================] - 0s 69ms/step - loss: 0.3194 - val_loss: 0.5129\n",
            "Epoch 29/50\n",
            "2/2 [==============================] - 0s 55ms/step - loss: 0.3033 - val_loss: 0.5318\n",
            "Epoch 30/50\n",
            "2/2 [==============================] - 0s 71ms/step - loss: 0.2208 - val_loss: 0.5599\n",
            "Epoch 31/50\n",
            "2/2 [==============================] - 0s 50ms/step - loss: 0.2437 - val_loss: 0.6035\n",
            "Epoch 32/50\n",
            "2/2 [==============================] - 0s 35ms/step - loss: 0.2822 - val_loss: 0.6422\n",
            "Epoch 33/50\n",
            "2/2 [==============================] - 0s 37ms/step - loss: 0.2435 - val_loss: 0.6862\n",
            "Epoch 34/50\n",
            "2/2 [==============================] - 0s 38ms/step - loss: 0.2549 - val_loss: 0.7283\n",
            "Epoch 35/50\n",
            "2/2 [==============================] - 0s 39ms/step - loss: 0.1546 - val_loss: 0.7824\n",
            "Epoch 36/50\n",
            "2/2 [==============================] - 0s 43ms/step - loss: 0.1869 - val_loss: 0.8113\n",
            "Epoch 37/50\n",
            "2/2 [==============================] - 0s 36ms/step - loss: 0.2243 - val_loss: 0.8641\n",
            "Epoch 38/50\n",
            "2/2 [==============================] - 0s 40ms/step - loss: 0.1995 - val_loss: 0.8941\n",
            "Epoch 39/50\n",
            "2/2 [==============================] - 0s 35ms/step - loss: 0.2600 - val_loss: 0.8811\n",
            "Epoch 40/50\n",
            "2/2 [==============================] - 0s 35ms/step - loss: 0.3097 - val_loss: 0.8204\n",
            "Epoch 41/50\n",
            "2/2 [==============================] - 0s 35ms/step - loss: 0.2097 - val_loss: 0.7493\n",
            "Epoch 42/50\n",
            "2/2 [==============================] - 0s 35ms/step - loss: 0.1326 - val_loss: 0.6983\n",
            "Epoch 43/50\n",
            "2/2 [==============================] - 0s 39ms/step - loss: 0.1492 - val_loss: 0.6690\n",
            "Epoch 44/50\n",
            "2/2 [==============================] - 0s 34ms/step - loss: 0.1759 - val_loss: 0.6438\n",
            "Epoch 45/50\n",
            "2/2 [==============================] - 0s 39ms/step - loss: 0.1733 - val_loss: 0.6304\n",
            "Epoch 46/50\n",
            "2/2 [==============================] - 0s 38ms/step - loss: 0.1208 - val_loss: 0.6263\n",
            "Epoch 47/50\n",
            "2/2 [==============================] - 0s 44ms/step - loss: 0.1170 - val_loss: 0.6259\n",
            "Epoch 48/50\n",
            "2/2 [==============================] - 0s 39ms/step - loss: 0.1594 - val_loss: 0.6345\n",
            "Epoch 49/50\n",
            "2/2 [==============================] - 0s 35ms/step - loss: 0.1364 - val_loss: 0.6402\n",
            "Epoch 50/50\n",
            "2/2 [==============================] - 0s 38ms/step - loss: 0.0894 - val_loss: 0.6390\n"
          ]
        }
      ]
    },
    {
      "cell_type": "code",
      "source": [
        "historyP = history"
      ],
      "metadata": {
        "id": "DvqLuQ9F3wvt"
      },
      "execution_count": null,
      "outputs": []
    },
    {
      "cell_type": "code",
      "source": [
        "plt.plot(historyP.history['loss'], label='Training loss')\n",
        "plt.plot(historyP.history['val_loss'], label='Validation loss')\n",
        "plt.legend()"
      ],
      "metadata": {
        "colab": {
          "base_uri": "https://localhost:8080/",
          "height": 447
        },
        "id": "QWAUXe6w3yna",
        "outputId": "1b2b7ba2-b0a0-49ff-d187-9f8b6b7e2f26"
      },
      "execution_count": null,
      "outputs": [
        {
          "output_type": "execute_result",
          "data": {
            "text/plain": [
              "<matplotlib.legend.Legend at 0x7c47bd41a620>"
            ]
          },
          "metadata": {},
          "execution_count": 122
        },
        {
          "output_type": "display_data",
          "data": {
            "text/plain": [
              "<Figure size 640x480 with 1 Axes>"
            ],
            "image/png": "[encoded data removed]"
          },
          "metadata": {}
        }
      ]
    },
    {
      "cell_type": "code",
      "source": [
        "predictionP = modelP.predict(trainX)"
      ],
      "metadata": {
        "colab": {
          "base_uri": "https://localhost:8080/"
        },
        "id": "Eofi1P5M35Kv",
        "outputId": "2be2f49e-0463-4253-b9e6-13c9e562152c"
      },
      "execution_count": null,
      "outputs": [
        {
          "output_type": "stream",
          "name": "stdout",
          "text": [
            "1/1 [==============================] - 0s 332ms/step\n"
          ]
        }
      ]
    },
    {
      "cell_type": "code",
      "source": [
        "prediction_copiesP = np.repeat(predictionP, df_for_training.shape[1], axis=-1)\n",
        "y_pred_futureP = scaler.inverse_transform(prediction_copiesP)[:,0]"
      ],
      "metadata": {
        "id": "NTWCTZiM37ya"
      },
      "execution_count": null,
      "outputs": []
    },
    {
      "cell_type": "code",
      "source": [
        "print(y_pred_futureP)\n",
        "i=y_pred_futureP[-1]\n",
        "ec=((i)/300)*0.0033\n",
        "print(ec)"
      ],
      "metadata": {
        "colab": {
          "base_uri": "https://localhost:8080/"
        },
        "id": "TrbiFJqo4Alz",
        "outputId": "e971a394-a65b-42ac-8f5c-7c9cd6070337"
      },
      "execution_count": null,
      "outputs": [
        {
          "output_type": "stream",
          "name": "stdout",
          "text": [
            "[7.2707605 6.8746333 7.0719585 7.1813197 6.614965  6.501031  6.597576 ]\n",
            "7.257333755493164e-05\n"
          ]
        }
      ]
    },
    {
      "cell_type": "code",
      "source": [],
      "metadata": {
        "id": "4cNAq1QG9idK"
      },
      "execution_count": null,
      "outputs": []
    },
    {
      "cell_type": "code",
      "source": [
        "l=[do,ph,bod,tur,cod,ec]\n",
        "print(l)\n",
        "WQI=sum(l)\n",
        "print(sum(l))"
      ],
      "metadata": {
        "colab": {
          "base_uri": "https://localhost:8080/"
        },
        "id": "ZWxooqqhGCUN",
        "outputId": "6bcb69d0-870c-4fda-ac2b-3d163c595800"
      },
      "execution_count": null,
      "outputs": [
        {
          "output_type": "stream",
          "name": "stdout",
          "text": [
            "[27.2586358054479, 5.939500427246093, 2.93225980424881, 3.9091196060180664, 2.1754809379577638, 7.257333755493164e-05]\n",
            "42.215069154256184\n"
          ]
        }
      ]
    },
    {
      "cell_type": "code",
      "source": [
        "def get_WQI_bucket(x):\n",
        "    if x>=0 and x <= 25:\n",
        "        return \"Excellent\"\n",
        "    elif x>=26 and x<=50:\n",
        "        return \"Good\"\n",
        "    elif x >=51 and x<=75:\n",
        "        return \"Poor\"\n",
        "    elif x>=76 and x<100:\n",
        "        return \"Very Poor\"\n",
        "    else:\n",
        "        return \"Not Suitable for drinking\"\n",
        "result=get_WQI_bucket(WQI)\n",
        "print(result)\n"
      ],
      "metadata": {
        "colab": {
          "base_uri": "https://localhost:8080/"
        },
        "id": "0Xz_VvTOEH1Z",
        "outputId": "9b528a1e-8455-449f-b6d3-6cfb8497e924"
      },
      "execution_count": null,
      "outputs": [
        {
          "output_type": "stream",
          "name": "stdout",
          "text": [
            "Good\n"
          ]
        }
      ]
    }
  ]
}