{
  "nbformat": 4,
  "nbformat_minor": 0,
  "metadata": {
    "colab": {
      "provenance": []
    },
    "kernelspec": {
      "name": "python3",
      "display_name": "Python 3"
    },
    "language_info": {
      "name": "python"
    }
  },
  "cells": [
    {
      "cell_type": "code",
      "execution_count": null,
      "metadata": {
        "id": "A2FScVPSF0Ky"
      },
      "outputs": [],
      "source": [
        "import numpy as np\n",
        "from tensorflow.keras.models import Sequential\n",
        "from tensorflow.keras.layers import LSTM\n",
        "from tensorflow.keras.layers import Dense, Dropout\n",
        "import pandas as pd\n",
        "from matplotlib import pyplot as plt\n",
        "from sklearn.preprocessing import StandardScaler\n",
        "import seaborn as sns"
      ]
    },
    {
      "cell_type": "code",
      "source": [
        "from google.colab import drive\n",
        "drive.mount('/content/drive')\n"
      ],
      "metadata": {
        "colab": {
          "base_uri": "https://localhost:8080/"
        },
        "id": "Uh8kxTU5GA8n",
        "outputId": "d462cc38-7f0f-4937-8fee-da3b9e501b39"
      },
      "execution_count": null,
      "outputs": [
        {
          "output_type": "stream",
          "name": "stdout",
          "text": [
            "Mounted at /content/drive\n"
          ]
        }
      ]
    },
    {
      "cell_type": "code",
      "source": [
        "fi = pd.read_csv('/content/drive/MyDrive/Badrachalam.csv')\n",
        "print(fi.shape)\n",
        "fi\n"
      ],
      "metadata": {
        "colab": {
          "base_uri": "https://localhost:8080/",
          "height": 380
        },
        "id": "KS1XeEJAGLky",
        "outputId": "ce705328-9e3e-4891-94e7-97594ccbcdfd"
      },
      "execution_count": null,
      "outputs": [
        {
          "output_type": "stream",
          "name": "stdout",
          "text": [
            "(10, 10)\n"
          ]
        },
        {
          "output_type": "execute_result",
          "data": {
            "text/plain": [
              "   S.No.   DO (mg/L)    pH  BOD (mg/L)  Turbidity (NTU)  COD (mg/L)  \\\n",
              "0       1       5.20  7.97        2.40             16.0        23.0   \n",
              "1       2       5.30  7.35        4.80             31.0        34.0   \n",
              "2       3       5.40  7.75        5.00             28.0        35.0   \n",
              "3       4       5.70  8.37        3.00             12.0        32.0   \n",
              "4       5       5.40  7.91        3.00             18.0        18.0   \n",
              "5       6       5.00  7.78        3.00              7.0        14.0   \n",
              "6       7       5.40  7.88        2.80             11.0        20.0   \n",
              "7       8       5.40  7.83        2.20             12.0        18.0   \n",
              "8       9       5.70  8.03        1.50              9.0        12.0   \n",
              "9      10       5.81  7.62        1.72              7.3        24.6   \n",
              "\n",
              "   TDS (mg/L)   EC  TSS (mg/L)  Year  \n",
              "0       242.0  387        15.0  2014  \n",
              "1       286.0  366        20.0  2015  \n",
              "2       256.0  399        20.0  2016  \n",
              "3       197.0  319        31.0  2017  \n",
              "4       219.0  334        11.0  2018  \n",
              "5       244.0  400         8.0  2019  \n",
              "6       187.0  305        29.0  2020  \n",
              "7       213.0  353        14.0  2021  \n",
              "8       211.0  338        14.0  2022  \n",
              "9       223.5  360        13.5  2023  "
            ],
            "text/html": [
              "\n",
              "  <div id=\"df-1a59b5d7-7679-4e4d-ab34-5c55b2bee426\" class=\"colab-df-container\">\n",
              "    <div>\n",
              "<style scoped>\n",
              "    .dataframe tbody tr th:only-of-type {\n",
              "        vertical-align: middle;\n",
              "    }\n",
              "\n",
              "    .dataframe tbody tr th {\n",
              "        vertical-align: top;\n",
              "    }\n",
              "\n",
              "    .dataframe thead th {\n",
              "        text-align: right;\n",
              "    }\n",
              "</style>\n",
              "<table border=\"1\" class=\"dataframe\">\n",
              "  <thead>\n",
              "    <tr style=\"text-align: right;\">\n",
              "      <th></th>\n",
              "      <th>S.No.</th>\n",
              "      <th>DO (mg/L)</th>\n",
              "      <th>pH</th>\n",
              "      <th>BOD (mg/L)</th>\n",
              "      <th>Turbidity (NTU)</th>\n",
              "      <th>COD (mg/L)</th>\n",
              "      <th>TDS (mg/L)</th>\n",
              "      <th>EC</th>\n",
              "      <th>TSS (mg/L)</th>\n",
              "      <th>Year</th>\n",
              "    </tr>\n",
              "  </thead>\n",
              "  <tbody>\n",
              "    <tr>\n",
              "      <th>0</th>\n",
              "      <td>1</td>\n",
              "      <td>5.20</td>\n",
              "      <td>7.97</td>\n",
              "      <td>2.40</td>\n",
              "      <td>16.0</td>\n",
              "      <td>23.0</td>\n",
              "      <td>242.0</td>\n",
              "      <td>387</td>\n",
              "      <td>15.0</td>\n",
              "      <td>2014</td>\n",
              "    </tr>\n",
              "    <tr>\n",
              "      <th>1</th>\n",
              "      <td>2</td>\n",
              "      <td>5.30</td>\n",
              "      <td>7.35</td>\n",
              "      <td>4.80</td>\n",
              "      <td>31.0</td>\n",
              "      <td>34.0</td>\n",
              "      <td>286.0</td>\n",
              "      <td>366</td>\n",
              "      <td>20.0</td>\n",
              "      <td>2015</td>\n",
              "    </tr>\n",
              "    <tr>\n",
              "      <th>2</th>\n",
              "      <td>3</td>\n",
              "      <td>5.40</td>\n",
              "      <td>7.75</td>\n",
              "      <td>5.00</td>\n",
              "      <td>28.0</td>\n",
              "      <td>35.0</td>\n",
              "      <td>256.0</td>\n",
              "      <td>399</td>\n",
              "      <td>20.0</td>\n",
              "      <td>2016</td>\n",
              "    </tr>\n",
              "    <tr>\n",
              "      <th>3</th>\n",
              "      <td>4</td>\n",
              "      <td>5.70</td>\n",
              "      <td>8.37</td>\n",
              "      <td>3.00</td>\n",
              "      <td>12.0</td>\n",
              "      <td>32.0</td>\n",
              "      <td>197.0</td>\n",
              "      <td>319</td>\n",
              "      <td>31.0</td>\n",
              "      <td>2017</td>\n",
              "    </tr>\n",
              "    <tr>\n",
              "      <th>4</th>\n",
              "      <td>5</td>\n",
              "      <td>5.40</td>\n",
              "      <td>7.91</td>\n",
              "      <td>3.00</td>\n",
              "      <td>18.0</td>\n",
              "      <td>18.0</td>\n",
              "      <td>219.0</td>\n",
              "      <td>334</td>\n",
              "      <td>11.0</td>\n",
              "      <td>2018</td>\n",
              "    </tr>\n",
              "    <tr>\n",
              "      <th>5</th>\n",
              "      <td>6</td>\n",
              "      <td>5.00</td>\n",
              "      <td>7.78</td>\n",
              "      <td>3.00</td>\n",
              "      <td>7.0</td>\n",
              "      <td>14.0</td>\n",
              "      <td>244.0</td>\n",
              "      <td>400</td>\n",
              "      <td>8.0</td>\n",
              "      <td>2019</td>\n",
              "    </tr>\n",
              "    <tr>\n",
              "      <th>6</th>\n",
              "      <td>7</td>\n",
              "      <td>5.40</td>\n",
              "      <td>7.88</td>\n",
              "      <td>2.80</td>\n",
              "      <td>11.0</td>\n",
              "      <td>20.0</td>\n",
              "      <td>187.0</td>\n",
              "      <td>305</td>\n",
              "      <td>29.0</td>\n",
              "      <td>2020</td>\n",
              "    </tr>\n",
              "    <tr>\n",
              "      <th>7</th>\n",
              "      <td>8</td>\n",
              "      <td>5.40</td>\n",
              "      <td>7.83</td>\n",
              "      <td>2.20</td>\n",
              "      <td>12.0</td>\n",
              "      <td>18.0</td>\n",
              "      <td>213.0</td>\n",
              "      <td>353</td>\n",
              "      <td>14.0</td>\n",
              "      <td>2021</td>\n",
              "    </tr>\n",
              "    <tr>\n",
              "      <th>8</th>\n",
              "      <td>9</td>\n",
              "      <td>5.70</td>\n",
              "      <td>8.03</td>\n",
              "      <td>1.50</td>\n",
              "      <td>9.0</td>\n",
              "      <td>12.0</td>\n",
              "      <td>211.0</td>\n",
              "      <td>338</td>\n",
              "      <td>14.0</td>\n",
              "      <td>2022</td>\n",
              "    </tr>\n",
              "    <tr>\n",
              "      <th>9</th>\n",
              "      <td>10</td>\n",
              "      <td>5.81</td>\n",
              "      <td>7.62</td>\n",
              "      <td>1.72</td>\n",
              "      <td>7.3</td>\n",
              "      <td>24.6</td>\n",
              "      <td>223.5</td>\n",
              "      <td>360</td>\n",
              "      <td>13.5</td>\n",
              "      <td>2023</td>\n",
              "    </tr>\n",
              "  </tbody>\n",
              "</table>\n",
              "</div>\n",
              "    <div class=\"colab-df-buttons\">\n",
              "\n",
              "  <div class=\"colab-df-container\">\n",
              "    <button class=\"colab-df-convert\" onclick=\"convertToInteractive('df-1a59b5d7-7679-4e4d-ab34-5c55b2bee426')\"\n",
              "            title=\"Convert this dataframe to an interactive table.\"\n",
              "            style=\"display:none;\">\n",
              "\n",
              "  <svg xmlns=\"http://www.w3.org/2000/svg\" height=\"24px\" viewBox=\"0 -960 960 960\">\n",
              "    <path d=\"M120-120v-720h720v720H120Zm60-500h600v-160H180v160Zm220 220h160v-160H400v160Zm0 220h160v-160H400v160ZM180-400h160v-160H180v160Zm440 0h160v-160H620v160ZM180-180h160v-160H180v160Zm440 0h160v-160H620v160Z\"/>\n",
              "  </svg>\n",
              "    </button>\n",
              "\n",
              "  <style>\n",
              "    .colab-df-container {\n",
              "      display:flex;\n",
              "      gap: 12px;\n",
              "    }\n",
              "\n",
              "    .colab-df-convert {\n",
              "      background-color: #E8F0FE;\n",
              "      border: none;\n",
              "      border-radius: 50%;\n",
              "      cursor: pointer;\n",
              "      display: none;\n",
              "      fill: #1967D2;\n",
              "      height: 32px;\n",
              "      padding: 0 0 0 0;\n",
              "      width: 32px;\n",
              "    }\n",
              "\n",
              "    .colab-df-convert:hover {\n",
              "      background-color: #E2EBFA;\n",
              "      box-shadow: 0px 1px 2px rgba(60, 64, 67, 0.3), 0px 1px 3px 1px rgba(60, 64, 67, 0.15);\n",
              "      fill: #174EA6;\n",
              "    }\n",
              "\n",
              "    .colab-df-buttons div {\n",
              "      margin-bottom: 4px;\n",
              "    }\n",
              "\n",
              "    [theme=dark] .colab-df-convert {\n",
              "      background-color: #3B4455;\n",
              "      fill: #D2E3FC;\n",
              "    }\n",
              "\n",
              "    [theme=dark] .colab-df-convert:hover {\n",
              "      background-color: #434B5C;\n",
              "      box-shadow: 0px 1px 3px 1px rgba(0, 0, 0, 0.15);\n",
              "      filter: drop-shadow(0px 1px 2px rgba(0, 0, 0, 0.3));\n",
              "      fill: #FFFFFF;\n",
              "    }\n",
              "  </style>\n",
              "\n",
              "    <script>\n",
              "      const buttonEl =\n",
              "        document.querySelector('#df-1a59b5d7-7679-4e4d-ab34-5c55b2bee426 button.colab-df-convert');\n",
              "      buttonEl.style.display =\n",
              "        google.colab.kernel.accessAllowed ? 'block' : 'none';\n",
              "\n",
              "      async function convertToInteractive(key) {\n",
              "        const element = document.querySelector('#df-1a59b5d7-7679-4e4d-ab34-5c55b2bee426');\n",
              "        const dataTable =\n",
              "          await google.colab.kernel.invokeFunction('convertToInteractive',\n",
              "                                                    [key], {});\n",
              "        if (!dataTable) return;\n",
              "\n",
              "        const docLinkHtml = 'Like what you see? Visit the ' +\n",
              "          '<a target=\"_blank\" href=https://colab.research.google.com/notebooks/data_table.ipynb>data table notebook</a>'\n",
              "          + ' to learn more about interactive tables.';\n",
              "        element.innerHTML = '';\n",
              "        dataTable['output_type'] = 'display_data';\n",
              "        await google.colab.output.renderOutput(dataTable, element);\n",
              "        const docLink = document.createElement('div');\n",
              "        docLink.innerHTML = docLinkHtml;\n",
              "        element.appendChild(docLink);\n",
              "      }\n",
              "    </script>\n",
              "  </div>\n",
              "\n",
              "\n",
              "<div id=\"df-9b43df66-50bf-4d98-a3b7-9274288af88b\">\n",
              "  <button class=\"colab-df-quickchart\" onclick=\"quickchart('df-9b43df66-50bf-4d98-a3b7-9274288af88b')\"\n",
              "            title=\"Suggest charts\"\n",
              "            style=\"display:none;\">\n",
              "\n",
              "<svg xmlns=\"http://www.w3.org/2000/svg\" height=\"24px\"viewBox=\"0 0 24 24\"\n",
              "     width=\"24px\">\n",
              "    <g>\n",
              "        <path d=\"M19 3H5c-1.1 0-2 .9-2 2v14c0 1.1.9 2 2 2h14c1.1 0 2-.9 2-2V5c0-1.1-.9-2-2-2zM9 17H7v-7h2v7zm4 0h-2V7h2v10zm4 0h-2v-4h2v4z\"/>\n",
              "    </g>\n",
              "</svg>\n",
              "  </button>\n",
              "\n",
              "<style>\n",
              "  .colab-df-quickchart {\n",
              "      --bg-color: #E8F0FE;\n",
              "      --fill-color: #1967D2;\n",
              "      --hover-bg-color: #E2EBFA;\n",
              "      --hover-fill-color: #174EA6;\n",
              "      --disabled-fill-color: #AAA;\n",
              "      --disabled-bg-color: #DDD;\n",
              "  }\n",
              "\n",
              "  [theme=dark] .colab-df-quickchart {\n",
              "      --bg-color: #3B4455;\n",
              "      --fill-color: #D2E3FC;\n",
              "      --hover-bg-color: #434B5C;\n",
              "      --hover-fill-color: #FFFFFF;\n",
              "      --disabled-bg-color: #3B4455;\n",
              "      --disabled-fill-color: #666;\n",
              "  }\n",
              "\n",
              "  .colab-df-quickchart {\n",
              "    background-color: var(--bg-color);\n",
              "    border: none;\n",
              "    border-radius: 50%;\n",
              "    cursor: pointer;\n",
              "    display: none;\n",
              "    fill: var(--fill-color);\n",
              "    height: 32px;\n",
              "    padding: 0;\n",
              "    width: 32px;\n",
              "  }\n",
              "\n",
              "  .colab-df-quickchart:hover {\n",
              "    background-color: var(--hover-bg-color);\n",
              "    box-shadow: 0 1px 2px rgba(60, 64, 67, 0.3), 0 1px 3px 1px rgba(60, 64, 67, 0.15);\n",
              "    fill: var(--button-hover-fill-color);\n",
              "  }\n",
              "\n",
              "  .colab-df-quickchart-complete:disabled,\n",
              "  .colab-df-quickchart-complete:disabled:hover {\n",
              "    background-color: var(--disabled-bg-color);\n",
              "    fill: var(--disabled-fill-color);\n",
              "    box-shadow: none;\n",
              "  }\n",
              "\n",
              "  .colab-df-spinner {\n",
              "    border: 2px solid var(--fill-color);\n",
              "    border-color: transparent;\n",
              "    border-bottom-color: var(--fill-color);\n",
              "    animation:\n",
              "      spin 1s steps(1) infinite;\n",
              "  }\n",
              "\n",
              "  @keyframes spin {\n",
              "    0% {\n",
              "      border-color: transparent;\n",
              "      border-bottom-color: var(--fill-color);\n",
              "      border-left-color: var(--fill-color);\n",
              "    }\n",
              "    20% {\n",
              "      border-color: transparent;\n",
              "      border-left-color: var(--fill-color);\n",
              "      border-top-color: var(--fill-color);\n",
              "    }\n",
              "    30% {\n",
              "      border-color: transparent;\n",
              "      border-left-color: var(--fill-color);\n",
              "      border-top-color: var(--fill-color);\n",
              "      border-right-color: var(--fill-color);\n",
              "    }\n",
              "    40% {\n",
              "      border-color: transparent;\n",
              "      border-right-color: var(--fill-color);\n",
              "      border-top-color: var(--fill-color);\n",
              "    }\n",
              "    60% {\n",
              "      border-color: transparent;\n",
              "      border-right-color: var(--fill-color);\n",
              "    }\n",
              "    80% {\n",
              "      border-color: transparent;\n",
              "      border-right-color: var(--fill-color);\n",
              "      border-bottom-color: var(--fill-color);\n",
              "    }\n",
              "    90% {\n",
              "      border-color: transparent;\n",
              "      border-bottom-color: var(--fill-color);\n",
              "    }\n",
              "  }\n",
              "</style>\n",
              "\n",
              "  <script>\n",
              "    async function quickchart(key) {\n",
              "      const quickchartButtonEl =\n",
              "        document.querySelector('#' + key + ' button');\n",
              "      quickchartButtonEl.disabled = true;  // To prevent multiple clicks.\n",
              "      quickchartButtonEl.classList.add('colab-df-spinner');\n",
              "      try {\n",
              "        const charts = await google.colab.kernel.invokeFunction(\n",
              "            'suggestCharts', [key], {});\n",
              "      } catch (error) {\n",
              "        console.error('Error during call to suggestCharts:', error);\n",
              "      }\n",
              "      quickchartButtonEl.classList.remove('colab-df-spinner');\n",
              "      quickchartButtonEl.classList.add('colab-df-quickchart-complete');\n",
              "    }\n",
              "    (() => {\n",
              "      let quickchartButtonEl =\n",
              "        document.querySelector('#df-9b43df66-50bf-4d98-a3b7-9274288af88b button');\n",
              "      quickchartButtonEl.style.display =\n",
              "        google.colab.kernel.accessAllowed ? 'block' : 'none';\n",
              "    })();\n",
              "  </script>\n",
              "</div>\n",
              "    </div>\n",
              "  </div>\n"
            ],
            "application/vnd.google.colaboratory.intrinsic+json": {
              "type": "dataframe",
              "variable_name": "fi",
              "summary": "{\n  \"name\": \"fi\",\n  \"rows\": 10,\n  \"fields\": [\n    {\n      \"column\": \"S.No. \",\n      \"properties\": {\n        \"dtype\": \"number\",\n        \"std\": 3,\n        \"min\": 1,\n        \"max\": 10,\n        \"num_unique_values\": 10,\n        \"samples\": [\n          9,\n          2,\n          6\n        ],\n        \"semantic_type\": \"\",\n        \"description\": \"\"\n      }\n    },\n    {\n      \"column\": \"DO (mg/L)\",\n      \"properties\": {\n        \"dtype\": \"number\",\n        \"std\": 0.24686703573651406,\n        \"min\": 5.0,\n        \"max\": 5.81,\n        \"num_unique_values\": 6,\n        \"samples\": [\n          5.2,\n          5.3,\n          5.81\n        ],\n        \"semantic_type\": \"\",\n        \"description\": \"\"\n      }\n    },\n    {\n      \"column\": \"pH\",\n      \"properties\": {\n        \"dtype\": \"number\",\n        \"std\": 0.26664374901521465,\n        \"min\": 7.35,\n        \"max\": 8.37,\n        \"num_unique_values\": 10,\n        \"samples\": [\n          8.03,\n          7.35,\n          7.78\n        ],\n        \"semantic_type\": \"\",\n        \"description\": \"\"\n      }\n    },\n    {\n      \"column\": \"BOD (mg/L)\",\n      \"properties\": {\n        \"dtype\": \"number\",\n        \"std\": 1.1611660805701598,\n        \"min\": 1.5,\n        \"max\": 5.0,\n        \"num_unique_values\": 8,\n        \"samples\": [\n          4.8,\n          2.2,\n          2.4\n        ],\n        \"semantic_type\": \"\",\n        \"description\": \"\"\n      }\n    },\n    {\n      \"column\": \"Turbidity (NTU)\",\n      \"properties\": {\n        \"dtype\": \"number\",\n        \"std\": 8.354114089610114,\n        \"min\": 7.0,\n        \"max\": 31.0,\n        \"num_unique_values\": 9,\n        \"samples\": [\n          9.0,\n          31.0,\n          7.0\n        ],\n        \"semantic_type\": \"\",\n        \"description\": \"\"\n      }\n    },\n    {\n      \"column\": \"COD (mg/L)\",\n      \"properties\": {\n        \"dtype\": \"number\",\n        \"std\": 8.229513283839385,\n        \"min\": 12.0,\n        \"max\": 35.0,\n        \"num_unique_values\": 9,\n        \"samples\": [\n          12.0,\n          34.0,\n          14.0\n        ],\n        \"semantic_type\": \"\",\n        \"description\": \"\"\n      }\n    },\n    {\n      \"column\": \"TDS (mg/L)\",\n      \"properties\": {\n        \"dtype\": \"number\",\n        \"std\": 29.546620412117825,\n        \"min\": 187.0,\n        \"max\": 286.0,\n        \"num_unique_values\": 10,\n        \"samples\": [\n          211.0,\n          286.0,\n          244.0\n        ],\n        \"semantic_type\": \"\",\n        \"description\": \"\"\n      }\n    },\n    {\n      \"column\": \"EC\",\n      \"properties\": {\n        \"dtype\": \"number\",\n        \"std\": 32,\n        \"min\": 305,\n        \"max\": 400,\n        \"num_unique_values\": 10,\n        \"samples\": [\n          338,\n          366,\n          400\n        ],\n        \"semantic_type\": \"\",\n        \"description\": \"\"\n      }\n    },\n    {\n      \"column\": \"TSS (mg/L)\",\n      \"properties\": {\n        \"dtype\": \"number\",\n        \"std\": 7.499814812528522,\n        \"min\": 8.0,\n        \"max\": 31.0,\n        \"num_unique_values\": 8,\n        \"samples\": [\n          20.0,\n          29.0,\n          15.0\n        ],\n        \"semantic_type\": \"\",\n        \"description\": \"\"\n      }\n    },\n    {\n      \"column\": \"Year\",\n      \"properties\": {\n        \"dtype\": \"number\",\n        \"std\": 3,\n        \"min\": 2014,\n        \"max\": 2023,\n        \"num_unique_values\": 10,\n        \"samples\": [\n          2022,\n          2015,\n          2019\n        ],\n        \"semantic_type\": \"\",\n        \"description\": \"\"\n      }\n    }\n  ]\n}"
            }
          },
          "metadata": {},
          "execution_count": 3
        }
      ]
    },
    {
      "cell_type": "code",
      "source": [
        "cols = list(fi)[1:8]\n",
        "print(cols)"
      ],
      "metadata": {
        "colab": {
          "base_uri": "https://localhost:8080/"
        },
        "id": "XsMeQLLFGqgf",
        "outputId": "bab9295d-3aaa-4351-966e-46477cce36a5"
      },
      "execution_count": null,
      "outputs": [
        {
          "output_type": "stream",
          "name": "stdout",
          "text": [
            "['DO (mg/L)', 'pH', 'BOD (mg/L)', 'Turbidity (NTU)', 'COD (mg/L)', 'TDS (mg/L)', 'EC']\n"
          ]
        }
      ]
    },
    {
      "cell_type": "code",
      "source": [
        "df_for_training = fi[cols].astype(float)\n",
        "df_for_training.plot()"
      ],
      "metadata": {
        "colab": {
          "base_uri": "https://localhost:8080/",
          "height": 447
        },
        "id": "Gztls76KHDB2",
        "outputId": "70dc84b7-8648-4562-e3cc-04b4653ca330"
      },
      "execution_count": null,
      "outputs": [
        {
          "output_type": "execute_result",
          "data": {
            "text/plain": [
              "<Axes: >"
            ]
          },
          "metadata": {},
          "execution_count": 5
        },
        {
          "output_type": "display_data",
          "data": {
            "text/plain": [
              "<Figure size 640x480 with 1 Axes>"
            ],
            "image/png": "[encoded data removed]"
          },
          "metadata": {}
        }
      ]
    },
    {
      "cell_type": "code",
      "source": [
        "scaler = StandardScaler()\n",
        "scaler = scaler.fit(df_for_training)\n",
        "df_for_training_scaled = scaler.transform(df_for_training)\n",
        "df_for_training"
      ],
      "metadata": {
        "colab": {
          "base_uri": "https://localhost:8080/",
          "height": 363
        },
        "id": "m4k7E8tMHIx7",
        "outputId": "1457a843-cfff-47b2-ef41-198f7fd2d4bd"
      },
      "execution_count": null,
      "outputs": [
        {
          "output_type": "execute_result",
          "data": {
            "text/plain": [
              "   DO (mg/L)    pH  BOD (mg/L)  Turbidity (NTU)  COD (mg/L)  TDS (mg/L)     EC\n",
              "0       5.20  7.97        2.40             16.0        23.0       242.0  387.0\n",
              "1       5.30  7.35        4.80             31.0        34.0       286.0  366.0\n",
              "2       5.40  7.75        5.00             28.0        35.0       256.0  399.0\n",
              "3       5.70  8.37        3.00             12.0        32.0       197.0  319.0\n",
              "4       5.40  7.91        3.00             18.0        18.0       219.0  334.0\n",
              "5       5.00  7.78        3.00              7.0        14.0       244.0  400.0\n",
              "6       5.40  7.88        2.80             11.0        20.0       187.0  305.0\n",
              "7       5.40  7.83        2.20             12.0        18.0       213.0  353.0\n",
              "8       5.70  8.03        1.50              9.0        12.0       211.0  338.0\n",
              "9       5.81  7.62        1.72              7.3        24.6       223.5  360.0"
            ],
            "text/html": [
              "\n",
              "  <div id=\"df-2b6da0a3-fbf4-44d3-a5e9-21d81eec77a8\" class=\"colab-df-container\">\n",
              "    <div>\n",
              "<style scoped>\n",
              "    .dataframe tbody tr th:only-of-type {\n",
              "        vertical-align: middle;\n",
              "    }\n",
              "\n",
              "    .dataframe tbody tr th {\n",
              "        vertical-align: top;\n",
              "    }\n",
              "\n",
              "    .dataframe thead th {\n",
              "        text-align: right;\n",
              "    }\n",
              "</style>\n",
              "<table border=\"1\" class=\"dataframe\">\n",
              "  <thead>\n",
              "    <tr style=\"text-align: right;\">\n",
              "      <th></th>\n",
              "      <th>DO (mg/L)</th>\n",
              "      <th>pH</th>\n",
              "      <th>BOD (mg/L)</th>\n",
              "      <th>Turbidity (NTU)</th>\n",
              "      <th>COD (mg/L)</th>\n",
              "      <th>TDS (mg/L)</th>\n",
              "      <th>EC</th>\n",
              "    </tr>\n",
              "  </thead>\n",
              "  <tbody>\n",
              "    <tr>\n",
              "      <th>0</th>\n",
              "      <td>5.20</td>\n",
              "      <td>7.97</td>\n",
              "      <td>2.40</td>\n",
              "      <td>16.0</td>\n",
              "      <td>23.0</td>\n",
              "      <td>242.0</td>\n",
              "      <td>387.0</td>\n",
              "    </tr>\n",
              "    <tr>\n",
              "      <th>1</th>\n",
              "      <td>5.30</td>\n",
              "      <td>7.35</td>\n",
              "      <td>4.80</td>\n",
              "      <td>31.0</td>\n",
              "      <td>34.0</td>\n",
              "      <td>286.0</td>\n",
              "      <td>366.0</td>\n",
              "    </tr>\n",
              "    <tr>\n",
              "      <th>2</th>\n",
              "      <td>5.40</td>\n",
              "      <td>7.75</td>\n",
              "      <td>5.00</td>\n",
              "      <td>28.0</td>\n",
              "      <td>35.0</td>\n",
              "      <td>256.0</td>\n",
              "      <td>399.0</td>\n",
              "    </tr>\n",
              "    <tr>\n",
              "      <th>3</th>\n",
              "      <td>5.70</td>\n",
              "      <td>8.37</td>\n",
              "      <td>3.00</td>\n",
              "      <td>12.0</td>\n",
              "      <td>32.0</td>\n",
              "      <td>197.0</td>\n",
              "      <td>319.0</td>\n",
              "    </tr>\n",
              "    <tr>\n",
              "      <th>4</th>\n",
              "      <td>5.40</td>\n",
              "      <td>7.91</td>\n",
              "      <td>3.00</td>\n",
              "      <td>18.0</td>\n",
              "      <td>18.0</td>\n",
              "      <td>219.0</td>\n",
              "      <td>334.0</td>\n",
              "    </tr>\n",
              "    <tr>\n",
              "      <th>5</th>\n",
              "      <td>5.00</td>\n",
              "      <td>7.78</td>\n",
              "      <td>3.00</td>\n",
              "      <td>7.0</td>\n",
              "      <td>14.0</td>\n",
              "      <td>244.0</td>\n",
              "      <td>400.0</td>\n",
              "    </tr>\n",
              "    <tr>\n",
              "      <th>6</th>\n",
              "      <td>5.40</td>\n",
              "      <td>7.88</td>\n",
              "      <td>2.80</td>\n",
              "      <td>11.0</td>\n",
              "      <td>20.0</td>\n",
              "      <td>187.0</td>\n",
              "      <td>305.0</td>\n",
              "    </tr>\n",
              "    <tr>\n",
              "      <th>7</th>\n",
              "      <td>5.40</td>\n",
              "      <td>7.83</td>\n",
              "      <td>2.20</td>\n",
              "      <td>12.0</td>\n",
              "      <td>18.0</td>\n",
              "      <td>213.0</td>\n",
              "      <td>353.0</td>\n",
              "    </tr>\n",
              "    <tr>\n",
              "      <th>8</th>\n",
              "      <td>5.70</td>\n",
              "      <td>8.03</td>\n",
              "      <td>1.50</td>\n",
              "      <td>9.0</td>\n",
              "      <td>12.0</td>\n",
              "      <td>211.0</td>\n",
              "      <td>338.0</td>\n",
              "    </tr>\n",
              "    <tr>\n",
              "      <th>9</th>\n",
              "      <td>5.81</td>\n",
              "      <td>7.62</td>\n",
              "      <td>1.72</td>\n",
              "      <td>7.3</td>\n",
              "      <td>24.6</td>\n",
              "      <td>223.5</td>\n",
              "      <td>360.0</td>\n",
              "    </tr>\n",
              "  </tbody>\n",
              "</table>\n",
              "</div>\n",
              "    <div class=\"colab-df-buttons\">\n",
              "\n",
              "  <div class=\"colab-df-container\">\n",
              "    <button class=\"colab-df-convert\" onclick=\"convertToInteractive('df-2b6da0a3-fbf4-44d3-a5e9-21d81eec77a8')\"\n",
              "            title=\"Convert this dataframe to an interactive table.\"\n",
              "            style=\"display:none;\">\n",
              "\n",
              "  <svg xmlns=\"http://www.w3.org/2000/svg\" height=\"24px\" viewBox=\"0 -960 960 960\">\n",
              "    <path d=\"M120-120v-720h720v720H120Zm60-500h600v-160H180v160Zm220 220h160v-160H400v160Zm0 220h160v-160H400v160ZM180-400h160v-160H180v160Zm440 0h160v-160H620v160ZM180-180h160v-160H180v160Zm440 0h160v-160H620v160Z\"/>\n",
              "  </svg>\n",
              "    </button>\n",
              "\n",
              "  <style>\n",
              "    .colab-df-container {\n",
              "      display:flex;\n",
              "      gap: 12px;\n",
              "    }\n",
              "\n",
              "    .colab-df-convert {\n",
              "      background-color: #E8F0FE;\n",
              "      border: none;\n",
              "      border-radius: 50%;\n",
              "      cursor: pointer;\n",
              "      display: none;\n",
              "      fill: #1967D2;\n",
              "      height: 32px;\n",
              "      padding: 0 0 0 0;\n",
              "      width: 32px;\n",
              "    }\n",
              "\n",
              "    .colab-df-convert:hover {\n",
              "      background-color: #E2EBFA;\n",
              "      box-shadow: 0px 1px 2px rgba(60, 64, 67, 0.3), 0px 1px 3px 1px rgba(60, 64, 67, 0.15);\n",
              "      fill: #174EA6;\n",
              "    }\n",
              "\n",
              "    .colab-df-buttons div {\n",
              "      margin-bottom: 4px;\n",
              "    }\n",
              "\n",
              "    [theme=dark] .colab-df-convert {\n",
              "      background-color: #3B4455;\n",
              "      fill: #D2E3FC;\n",
              "    }\n",
              "\n",
              "    [theme=dark] .colab-df-convert:hover {\n",
              "      background-color: #434B5C;\n",
              "      box-shadow: 0px 1px 3px 1px rgba(0, 0, 0, 0.15);\n",
              "      filter: drop-shadow(0px 1px 2px rgba(0, 0, 0, 0.3));\n",
              "      fill: #FFFFFF;\n",
              "    }\n",
              "  </style>\n",
              "\n",
              "    <script>\n",
              "      const buttonEl =\n",
              "        document.querySelector('#df-2b6da0a3-fbf4-44d3-a5e9-21d81eec77a8 button.colab-df-convert');\n",
              "      buttonEl.style.display =\n",
              "        google.colab.kernel.accessAllowed ? 'block' : 'none';\n",
              "\n",
              "      async function convertToInteractive(key) {\n",
              "        const element = document.querySelector('#df-2b6da0a3-fbf4-44d3-a5e9-21d81eec77a8');\n",
              "        const dataTable =\n",
              "          await google.colab.kernel.invokeFunction('convertToInteractive',\n",
              "                                                    [key], {});\n",
              "        if (!dataTable) return;\n",
              "\n",
              "        const docLinkHtml = 'Like what you see? Visit the ' +\n",
              "          '<a target=\"_blank\" href=https://colab.research.google.com/notebooks/data_table.ipynb>data table notebook</a>'\n",
              "          + ' to learn more about interactive tables.';\n",
              "        element.innerHTML = '';\n",
              "        dataTable['output_type'] = 'display_data';\n",
              "        await google.colab.output.renderOutput(dataTable, element);\n",
              "        const docLink = document.createElement('div');\n",
              "        docLink.innerHTML = docLinkHtml;\n",
              "        element.appendChild(docLink);\n",
              "      }\n",
              "    </script>\n",
              "  </div>\n",
              "\n",
              "\n",
              "<div id=\"df-1d8783f2-d3f8-45ee-9960-98dbdf3a75b5\">\n",
              "  <button class=\"colab-df-quickchart\" onclick=\"quickchart('df-1d8783f2-d3f8-45ee-9960-98dbdf3a75b5')\"\n",
              "            title=\"Suggest charts\"\n",
              "            style=\"display:none;\">\n",
              "\n",
              "<svg xmlns=\"http://www.w3.org/2000/svg\" height=\"24px\"viewBox=\"0 0 24 24\"\n",
              "     width=\"24px\">\n",
              "    <g>\n",
              "        <path d=\"M19 3H5c-1.1 0-2 .9-2 2v14c0 1.1.9 2 2 2h14c1.1 0 2-.9 2-2V5c0-1.1-.9-2-2-2zM9 17H7v-7h2v7zm4 0h-2V7h2v10zm4 0h-2v-4h2v4z\"/>\n",
              "    </g>\n",
              "</svg>\n",
              "  </button>\n",
              "\n",
              "<style>\n",
              "  .colab-df-quickchart {\n",
              "      --bg-color: #E8F0FE;\n",
              "      --fill-color: #1967D2;\n",
              "      --hover-bg-color: #E2EBFA;\n",
              "      --hover-fill-color: #174EA6;\n",
              "      --disabled-fill-color: #AAA;\n",
              "      --disabled-bg-color: #DDD;\n",
              "  }\n",
              "\n",
              "  [theme=dark] .colab-df-quickchart {\n",
              "      --bg-color: #3B4455;\n",
              "      --fill-color: #D2E3FC;\n",
              "      --hover-bg-color: #434B5C;\n",
              "      --hover-fill-color: #FFFFFF;\n",
              "      --disabled-bg-color: #3B4455;\n",
              "      --disabled-fill-color: #666;\n",
              "  }\n",
              "\n",
              "  .colab-df-quickchart {\n",
              "    background-color: var(--bg-color);\n",
              "    border: none;\n",
              "    border-radius: 50%;\n",
              "    cursor: pointer;\n",
              "    display: none;\n",
              "    fill: var(--fill-color);\n",
              "    height: 32px;\n",
              "    padding: 0;\n",
              "    width: 32px;\n",
              "  }\n",
              "\n",
              "  .colab-df-quickchart:hover {\n",
              "    background-color: var(--hover-bg-color);\n",
              "    box-shadow: 0 1px 2px rgba(60, 64, 67, 0.3), 0 1px 3px 1px rgba(60, 64, 67, 0.15);\n",
              "    fill: var(--button-hover-fill-color);\n",
              "  }\n",
              "\n",
              "  .colab-df-quickchart-complete:disabled,\n",
              "  .colab-df-quickchart-complete:disabled:hover {\n",
              "    background-color: var(--disabled-bg-color);\n",
              "    fill: var(--disabled-fill-color);\n",
              "    box-shadow: none;\n",
              "  }\n",
              "\n",
              "  .colab-df-spinner {\n",
              "    border: 2px solid var(--fill-color);\n",
              "    border-color: transparent;\n",
              "    border-bottom-color: var(--fill-color);\n",
              "    animation:\n",
              "      spin 1s steps(1) infinite;\n",
              "  }\n",
              "\n",
              "  @keyframes spin {\n",
              "    0% {\n",
              "      border-color: transparent;\n",
              "      border-bottom-color: var(--fill-color);\n",
              "      border-left-color: var(--fill-color);\n",
              "    }\n",
              "    20% {\n",
              "      border-color: transparent;\n",
              "      border-left-color: var(--fill-color);\n",
              "      border-top-color: var(--fill-color);\n",
              "    }\n",
              "    30% {\n",
              "      border-color: transparent;\n",
              "      border-left-color: var(--fill-color);\n",
              "      border-top-color: var(--fill-color);\n",
              "      border-right-color: var(--fill-color);\n",
              "    }\n",
              "    40% {\n",
              "      border-color: transparent;\n",
              "      border-right-color: var(--fill-color);\n",
              "      border-top-color: var(--fill-color);\n",
              "    }\n",
              "    60% {\n",
              "      border-color: transparent;\n",
              "      border-right-color: var(--fill-color);\n",
              "    }\n",
              "    80% {\n",
              "      border-color: transparent;\n",
              "      border-right-color: var(--fill-color);\n",
              "      border-bottom-color: var(--fill-color);\n",
              "    }\n",
              "    90% {\n",
              "      border-color: transparent;\n",
              "      border-bottom-color: var(--fill-color);\n",
              "    }\n",
              "  }\n",
              "</style>\n",
              "\n",
              "  <script>\n",
              "    async function quickchart(key) {\n",
              "      const quickchartButtonEl =\n",
              "        document.querySelector('#' + key + ' button');\n",
              "      quickchartButtonEl.disabled = true;  // To prevent multiple clicks.\n",
              "      quickchartButtonEl.classList.add('colab-df-spinner');\n",
              "      try {\n",
              "        const charts = await google.colab.kernel.invokeFunction(\n",
              "            'suggestCharts', [key], {});\n",
              "      } catch (error) {\n",
              "        console.error('Error during call to suggestCharts:', error);\n",
              "      }\n",
              "      quickchartButtonEl.classList.remove('colab-df-spinner');\n",
              "      quickchartButtonEl.classList.add('colab-df-quickchart-complete');\n",
              "    }\n",
              "    (() => {\n",
              "      let quickchartButtonEl =\n",
              "        document.querySelector('#df-1d8783f2-d3f8-45ee-9960-98dbdf3a75b5 button');\n",
              "      quickchartButtonEl.style.display =\n",
              "        google.colab.kernel.accessAllowed ? 'block' : 'none';\n",
              "    })();\n",
              "  </script>\n",
              "</div>\n",
              "    </div>\n",
              "  </div>\n"
            ],
            "application/vnd.google.colaboratory.intrinsic+json": {
              "type": "dataframe",
              "variable_name": "df_for_training",
              "summary": "{\n  \"name\": \"df_for_training\",\n  \"rows\": 10,\n  \"fields\": [\n    {\n      \"column\": \"DO (mg/L)\",\n      \"properties\": {\n        \"dtype\": \"number\",\n        \"std\": 0.24686703573651406,\n        \"min\": 5.0,\n        \"max\": 5.81,\n        \"num_unique_values\": 6,\n        \"samples\": [\n          5.2,\n          5.3,\n          5.81\n        ],\n        \"semantic_type\": \"\",\n        \"description\": \"\"\n      }\n    },\n    {\n      \"column\": \"pH\",\n      \"properties\": {\n        \"dtype\": \"number\",\n        \"std\": 0.26664374901521465,\n        \"min\": 7.35,\n        \"max\": 8.37,\n        \"num_unique_values\": 10,\n        \"samples\": [\n          8.03,\n          7.35,\n          7.78\n        ],\n        \"semantic_type\": \"\",\n        \"description\": \"\"\n      }\n    },\n    {\n      \"column\": \"BOD (mg/L)\",\n      \"properties\": {\n        \"dtype\": \"number\",\n        \"std\": 1.1611660805701598,\n        \"min\": 1.5,\n        \"max\": 5.0,\n        \"num_unique_values\": 8,\n        \"samples\": [\n          4.8,\n          2.2,\n          2.4\n        ],\n        \"semantic_type\": \"\",\n        \"description\": \"\"\n      }\n    },\n    {\n      \"column\": \"Turbidity (NTU)\",\n      \"properties\": {\n        \"dtype\": \"number\",\n        \"std\": 8.354114089610114,\n        \"min\": 7.0,\n        \"max\": 31.0,\n        \"num_unique_values\": 9,\n        \"samples\": [\n          9.0,\n          31.0,\n          7.0\n        ],\n        \"semantic_type\": \"\",\n        \"description\": \"\"\n      }\n    },\n    {\n      \"column\": \"COD (mg/L)\",\n      \"properties\": {\n        \"dtype\": \"number\",\n        \"std\": 8.229513283839385,\n        \"min\": 12.0,\n        \"max\": 35.0,\n        \"num_unique_values\": 9,\n        \"samples\": [\n          12.0,\n          34.0,\n          14.0\n        ],\n        \"semantic_type\": \"\",\n        \"description\": \"\"\n      }\n    },\n    {\n      \"column\": \"TDS (mg/L)\",\n      \"properties\": {\n        \"dtype\": \"number\",\n        \"std\": 29.546620412117825,\n        \"min\": 187.0,\n        \"max\": 286.0,\n        \"num_unique_values\": 10,\n        \"samples\": [\n          211.0,\n          286.0,\n          244.0\n        ],\n        \"semantic_type\": \"\",\n        \"description\": \"\"\n      }\n    },\n    {\n      \"column\": \"EC\",\n      \"properties\": {\n        \"dtype\": \"number\",\n        \"std\": 32.74293816993215,\n        \"min\": 305.0,\n        \"max\": 400.0,\n        \"num_unique_values\": 10,\n        \"samples\": [\n          338.0,\n          366.0,\n          400.0\n        ],\n        \"semantic_type\": \"\",\n        \"description\": \"\"\n      }\n    }\n  ]\n}"
            }
          },
          "metadata": {},
          "execution_count": 6
        }
      ]
    },
    {
      "cell_type": "code",
      "source": [
        "n_future = 1\n",
        "n_past = 3"
      ],
      "metadata": {
        "id": "EY1rIh68HNYl"
      },
      "execution_count": null,
      "outputs": []
    },
    {
      "cell_type": "code",
      "source": [
        "trainX = []\n",
        "trainYP = []\n",
        "trainYN = []\n",
        "trainYS = []\n",
        "trainYA = []\n",
        "trainYB = []\n",
        "trainYC = []\n",
        "trainYD = []"
      ],
      "metadata": {
        "id": "8bXT7Y8cHaEB"
      },
      "execution_count": null,
      "outputs": []
    },
    {
      "cell_type": "code",
      "source": [
        "for i in range(n_past, len(df_for_training_scaled) - n_future +1):\n",
        "  trainX.append(df_for_training_scaled[i - n_past:i, 0:df_for_training.shape[1]])\n",
        "  trainYP.append(df_for_training_scaled[i + n_future - 1:i + n_future, 0])\n",
        "  trainYN.append(df_for_training_scaled[i + n_future - 1:i + n_future, 1])\n",
        "  trainYS.append(df_for_training_scaled[i + n_future - 1:i + n_future, 2])\n",
        "  trainYA.append(df_for_training_scaled[i + n_future - 1:i + n_future, 3])\n",
        "  trainYB.append(df_for_training_scaled[i + n_future - 1:i + n_future, 4])\n",
        "  trainYC.append(df_for_training_scaled[i + n_future - 1:i + n_future, 5])\n",
        "  trainYD.append(df_for_training_scaled[i + n_future - 1:i + n_future, 6])\n"
      ],
      "metadata": {
        "id": "fFfRokTaHmHB"
      },
      "execution_count": null,
      "outputs": []
    },
    {
      "cell_type": "code",
      "source": [],
      "metadata": {
        "id": "E0dhLicONY-A"
      },
      "execution_count": null,
      "outputs": []
    },
    {
      "cell_type": "code",
      "source": [
        "print( trainX)\n",
        "print(trainYP)"
      ],
      "metadata": {
        "colab": {
          "base_uri": "https://localhost:8080/"
        },
        "id": "gt_zNQMEH6Jc",
        "outputId": "ef4c01a1-dbd2-40a9-9546-4475eae66d32"
      },
      "execution_count": null,
      "outputs": [
        {
          "output_type": "stream",
          "name": "stdout",
          "text": [
            "[array([[-0.98634222,  0.4783356 , -0.49202106,  0.10977352, -0.00768521,\n",
            "         0.50480933,  0.99476289],\n",
            "       [-0.55935425, -1.97264022,  1.68666998,  2.00242044,  1.4012703 ,\n",
            "         2.07453445,  0.31871044],\n",
            "       [-0.13236627, -0.39136549,  1.86822756,  1.62389106,  1.52935716,\n",
            "         1.00426732,  1.38107858]]), array([[-0.55935425, -1.97264022,  1.68666998,  2.00242044,  1.4012703 ,\n",
            "         2.07453445,  0.31871044],\n",
            "       [-0.13236627, -0.39136549,  1.86822756,  1.62389106,  1.52935716,\n",
            "         1.00426732,  1.38107858],\n",
            "       [ 1.14859765,  2.05961033,  0.0526517 , -0.39493232,  1.14509657,\n",
            "        -1.10059136, -1.19435933]]), array([[-0.13236627, -0.39136549,  1.86822756,  1.62389106,  1.52935716,\n",
            "         1.00426732,  1.38107858],\n",
            "       [ 1.14859765,  2.05961033,  0.0526517 , -0.39493232,  1.14509657,\n",
            "        -1.10059136, -1.19435933],\n",
            "       [-0.13236627,  0.2411444 ,  0.0526517 ,  0.36212644, -0.64811953,\n",
            "        -0.3157288 , -0.71146472]]), array([[ 1.14859765,  2.05961033,  0.0526517 , -0.39493232,  1.14509657,\n",
            "        -1.10059136, -1.19435933],\n",
            "       [-0.13236627,  0.2411444 ,  0.0526517 ,  0.36212644, -0.64811953,\n",
            "        -0.3157288 , -0.71146472],\n",
            "       [-1.84031817, -0.27276989,  0.0526517 , -1.02581463, -1.16046699,\n",
            "         0.57616047,  1.41327155]]), array([[-0.13236627,  0.2411444 ,  0.0526517 ,  0.36212644, -0.64811953,\n",
            "        -0.3157288 , -0.71146472],\n",
            "       [-1.84031817, -0.27276989,  0.0526517 , -1.02581463, -1.16046699,\n",
            "         0.57616047,  1.41327155],\n",
            "       [-0.13236627,  0.12254879, -0.12890589, -0.52110879, -0.39194581,\n",
            "        -1.45734707, -1.64506097]]), array([[-1.84031817, -0.27276989,  0.0526517 , -1.02581463, -1.16046699,\n",
            "         0.57616047,  1.41327155],\n",
            "       [-0.13236627,  0.12254879, -0.12890589, -0.52110879, -0.39194581,\n",
            "        -1.45734707, -1.64506097],\n",
            "       [-0.13236627, -0.07511055, -0.67357864, -0.39493232, -0.64811953,\n",
            "        -0.52978223, -0.09979822]]), array([[-0.13236627,  0.12254879, -0.12890589, -0.52110879, -0.39194581,\n",
            "        -1.45734707, -1.64506097],\n",
            "       [-0.13236627, -0.07511055, -0.67357864, -0.39493232, -0.64811953,\n",
            "        -0.52978223, -0.09979822],\n",
            "       [ 1.14859765,  0.71552681, -1.3090302 , -0.77346171, -1.41664072,\n",
            "        -0.60113337, -0.58269283]])]\n",
            "[array([1.14859765]), array([-0.13236627]), array([-1.84031817]), array([-0.13236627]), array([-0.13236627]), array([1.14859765]), array([1.61828442])]\n"
          ]
        }
      ]
    },
    {
      "cell_type": "code",
      "source": [
        "trainX, trainYP, trainYN, trainYS,trainYA,trainYB,trainYC,trainYD= np.array(trainX), np.array(trainYP), np.array(trainYN), np.array(trainYS),np.array(trainYA),np.array(trainYB),np.array(trainYC),np.array(trainYD)\n",
        "print('trainX shape == {}.'.format(trainX.shape))\n",
        "print('trainYP shape == {}.'.format(trainYP.shape))\n",
        "print('trainYN shape == {}.'.format(trainYN.shape))\n",
        "print('trainYS shape == {}.'.format(trainYS.shape))\n",
        "print('trainYA shape == {}.'.format(trainYA.shape))\n",
        "print('trainYB shape == {}.'.format(trainYB.shape))\n",
        "print('trainYC shape == {}.'.format(trainYC.shape))\n",
        "print('trainYD shape == {}.'.format(trainYD.shape))"
      ],
      "metadata": {
        "colab": {
          "base_uri": "https://localhost:8080/"
        },
        "id": "AvXlpmvpNaGA",
        "outputId": "36f4942c-6eae-487d-f878-dbb34904e54c"
      },
      "execution_count": null,
      "outputs": [
        {
          "output_type": "stream",
          "name": "stdout",
          "text": [
            "trainX shape == (7, 3, 7).\n",
            "trainYP shape == (7, 1).\n",
            "trainYN shape == (7, 1).\n",
            "trainYS shape == (7, 1).\n",
            "trainYA shape == (7, 1).\n",
            "trainYB shape == (7, 1).\n",
            "trainYC shape == (7, 1).\n",
            "trainYD shape == (7, 1).\n"
          ]
        }
      ]
    },
    {
      "cell_type": "code",
      "source": [
        "list1=[]"
      ],
      "metadata": {
        "id": "oovBNf2EtsUU"
      },
      "execution_count": null,
      "outputs": []
    },
    {
      "cell_type": "code",
      "source": [
        "modelP = Sequential()\n",
        "modelP.add(LSTM(64, activation='relu', input_shape=(trainX.shape[1], trainX.shape[2]), return_sequences=True))\n",
        "modelP.add(LSTM(32, activation='relu', return_sequences=False))\n",
        "modelP.add(Dropout(0.2))\n",
        "modelP.add(Dense(trainYP.shape[1]))"
      ],
      "metadata": {
        "id": "8ftLaxqHN903"
      },
      "execution_count": null,
      "outputs": []
    },
    {
      "cell_type": "code",
      "source": [
        "modelP.compile(optimizer='adam', loss='mse')\n",
        "modelP.summary()"
      ],
      "metadata": {
        "colab": {
          "base_uri": "https://localhost:8080/"
        },
        "id": "iniwhqBYOHLS",
        "outputId": "a8444591-d1c5-45a4-a2aa-4c9a236ae6f4"
      },
      "execution_count": null,
      "outputs": [
        {
          "output_type": "stream",
          "name": "stdout",
          "text": [
            "Model: \"sequential\"\n",
            "_________________________________________________________________\n",
            " Layer (type)                Output Shape              Param #   \n",
            "=================================================================\n",
            " lstm (LSTM)                 (None, 3, 64)             18432     \n",
            "                                                                 \n",
            " lstm_1 (LSTM)               (None, 32)                12416     \n",
            "                                                                 \n",
            " dropout (Dropout)           (None, 32)                0         \n",
            "                                                                 \n",
            " dense (Dense)               (None, 1)                 33        \n",
            "                                                                 \n",
            "=================================================================\n",
            "Total params: 30881 (120.63 KB)\n",
            "Trainable params: 30881 (120.63 KB)\n",
            "Non-trainable params: 0 (0.00 Byte)\n",
            "_________________________________________________________________\n"
          ]
        }
      ]
    },
    {
      "cell_type": "code",
      "source": [
        "\n",
        "history = modelP.fit(trainX, trainYP, epochs=50, batch_size=4, validation_split=0.1, verbose=1)"
      ],
      "metadata": {
        "colab": {
          "base_uri": "https://localhost:8080/"
        },
        "id": "Fkl-wxkJOJhR",
        "outputId": "93ab4b63-5129-4d6f-97ee-834552ce8429"
      },
      "execution_count": null,
      "outputs": [
        {
          "output_type": "stream",
          "name": "stdout",
          "text": [
            "Epoch 1/50\n",
            "2/2 [==============================] - 4s 435ms/step - loss: 1.0134 - val_loss: 2.6348\n",
            "Epoch 2/50\n",
            "2/2 [==============================] - 0s 32ms/step - loss: 0.9983 - val_loss: 2.6177\n",
            "Epoch 3/50\n",
            "2/2 [==============================] - 0s 37ms/step - loss: 0.9945 - val_loss: 2.6142\n",
            "Epoch 4/50\n",
            "2/2 [==============================] - 0s 32ms/step - loss: 1.0069 - val_loss: 2.6055\n",
            "Epoch 5/50\n",
            "2/2 [==============================] - 0s 33ms/step - loss: 0.9743 - val_loss: 2.5986\n",
            "Epoch 6/50\n",
            "2/2 [==============================] - 0s 38ms/step - loss: 0.9705 - val_loss: 2.5978\n",
            "Epoch 7/50\n",
            "2/2 [==============================] - 0s 35ms/step - loss: 0.9684 - val_loss: 2.5968\n",
            "Epoch 8/50\n",
            "2/2 [==============================] - 0s 35ms/step - loss: 0.9569 - val_loss: 2.5958\n",
            "Epoch 9/50\n",
            "2/2 [==============================] - 0s 34ms/step - loss: 0.9622 - val_loss: 2.5947\n",
            "Epoch 10/50\n",
            "2/2 [==============================] - 0s 34ms/step - loss: 0.9360 - val_loss: 2.5922\n",
            "Epoch 11/50\n",
            "2/2 [==============================] - 0s 33ms/step - loss: 0.9479 - val_loss: 2.5878\n",
            "Epoch 12/50\n",
            "2/2 [==============================] - 0s 32ms/step - loss: 0.9362 - val_loss: 2.5850\n",
            "Epoch 13/50\n",
            "2/2 [==============================] - 0s 32ms/step - loss: 0.9148 - val_loss: 2.5736\n",
            "Epoch 14/50\n",
            "2/2 [==============================] - 0s 32ms/step - loss: 0.9001 - val_loss: 2.5564\n",
            "Epoch 15/50\n",
            "2/2 [==============================] - 0s 35ms/step - loss: 0.8877 - val_loss: 2.5418\n",
            "Epoch 16/50\n",
            "2/2 [==============================] - 0s 32ms/step - loss: 0.8912 - val_loss: 2.5357\n",
            "Epoch 17/50\n",
            "2/2 [==============================] - 0s 40ms/step - loss: 0.8614 - val_loss: 2.5332\n",
            "Epoch 18/50\n",
            "2/2 [==============================] - 0s 32ms/step - loss: 0.8344 - val_loss: 2.5261\n",
            "Epoch 19/50\n",
            "2/2 [==============================] - 0s 33ms/step - loss: 0.8199 - val_loss: 2.5266\n",
            "Epoch 20/50\n",
            "2/2 [==============================] - 0s 32ms/step - loss: 0.8679 - val_loss: 2.5182\n",
            "Epoch 21/50\n",
            "2/2 [==============================] - 0s 32ms/step - loss: 0.7915 - val_loss: 2.5113\n",
            "Epoch 22/50\n",
            "2/2 [==============================] - 0s 33ms/step - loss: 0.7180 - val_loss: 2.5020\n",
            "Epoch 23/50\n",
            "2/2 [==============================] - 0s 33ms/step - loss: 0.6839 - val_loss: 2.5018\n",
            "Epoch 24/50\n",
            "2/2 [==============================] - 0s 33ms/step - loss: 0.6370 - val_loss: 2.5085\n",
            "Epoch 25/50\n",
            "2/2 [==============================] - 0s 33ms/step - loss: 0.6650 - val_loss: 2.5163\n",
            "Epoch 26/50\n",
            "2/2 [==============================] - 0s 50ms/step - loss: 0.6293 - val_loss: 2.5254\n",
            "Epoch 27/50\n",
            "2/2 [==============================] - 0s 33ms/step - loss: 0.5679 - val_loss: 2.5420\n",
            "Epoch 28/50\n",
            "2/2 [==============================] - 0s 33ms/step - loss: 0.4042 - val_loss: 2.5629\n",
            "Epoch 29/50\n",
            "2/2 [==============================] - 0s 47ms/step - loss: 0.4283 - val_loss: 2.5813\n",
            "Epoch 30/50\n",
            "2/2 [==============================] - 0s 31ms/step - loss: 0.3927 - val_loss: 2.5908\n",
            "Epoch 31/50\n",
            "2/2 [==============================] - 0s 37ms/step - loss: 0.2782 - val_loss: 2.6085\n",
            "Epoch 32/50\n",
            "2/2 [==============================] - 0s 35ms/step - loss: 0.1790 - val_loss: 2.6028\n",
            "Epoch 33/50\n",
            "2/2 [==============================] - 0s 32ms/step - loss: 0.1902 - val_loss: 2.6079\n",
            "Epoch 34/50\n",
            "2/2 [==============================] - 0s 34ms/step - loss: 0.3425 - val_loss: 2.5851\n",
            "Epoch 35/50\n",
            "2/2 [==============================] - 0s 34ms/step - loss: 0.1623 - val_loss: 2.5639\n",
            "Epoch 36/50\n",
            "2/2 [==============================] - 0s 32ms/step - loss: 0.2030 - val_loss: 2.4736\n",
            "Epoch 37/50\n",
            "2/2 [==============================] - 0s 32ms/step - loss: 0.2612 - val_loss: 2.3554\n",
            "Epoch 38/50\n",
            "2/2 [==============================] - 0s 59ms/step - loss: 0.1046 - val_loss: 2.2535\n",
            "Epoch 39/50\n",
            "2/2 [==============================] - 0s 34ms/step - loss: 0.1944 - val_loss: 2.1736\n",
            "Epoch 40/50\n",
            "2/2 [==============================] - 0s 35ms/step - loss: 0.2038 - val_loss: 2.1356\n",
            "Epoch 41/50\n",
            "2/2 [==============================] - 0s 34ms/step - loss: 0.1131 - val_loss: 2.1379\n",
            "Epoch 42/50\n",
            "2/2 [==============================] - 0s 41ms/step - loss: 0.1726 - val_loss: 2.1344\n",
            "Epoch 43/50\n",
            "2/2 [==============================] - 0s 34ms/step - loss: 0.1580 - val_loss: 2.1506\n",
            "Epoch 44/50\n",
            "2/2 [==============================] - 0s 34ms/step - loss: 0.1149 - val_loss: 2.1534\n",
            "Epoch 45/50\n",
            "2/2 [==============================] - 0s 37ms/step - loss: 0.2073 - val_loss: 2.1515\n",
            "Epoch 46/50\n",
            "2/2 [==============================] - 0s 56ms/step - loss: 0.0906 - val_loss: 2.1368\n",
            "Epoch 47/50\n",
            "2/2 [==============================] - 0s 33ms/step - loss: 0.1273 - val_loss: 2.0878\n",
            "Epoch 48/50\n",
            "2/2 [==============================] - 0s 34ms/step - loss: 0.1302 - val_loss: 2.0218\n",
            "Epoch 49/50\n",
            "2/2 [==============================] - 0s 37ms/step - loss: 0.2925 - val_loss: 1.9678\n",
            "Epoch 50/50\n",
            "2/2 [==============================] - 0s 33ms/step - loss: 0.1847 - val_loss: 1.9796\n"
          ]
        }
      ]
    },
    {
      "cell_type": "code",
      "source": [
        "historyP = history"
      ],
      "metadata": {
        "id": "BbZcHsIyOd9D"
      },
      "execution_count": null,
      "outputs": []
    },
    {
      "cell_type": "code",
      "source": [
        "plt.plot(historyP.history['loss'], label='Training loss')\n",
        "plt.plot(historyP.history['val_loss'], label='Validation loss')\n",
        "plt.legend()"
      ],
      "metadata": {
        "colab": {
          "base_uri": "https://localhost:8080/",
          "height": 447
        },
        "id": "RkidKBV7Of6h",
        "outputId": "ffa4bc2c-d186-4eb2-c354-ee95940e0a46"
      },
      "execution_count": null,
      "outputs": [
        {
          "output_type": "execute_result",
          "data": {
            "text/plain": [
              "<matplotlib.legend.Legend at 0x795b6726a290>"
            ]
          },
          "metadata": {},
          "execution_count": 17
        },
        {
          "output_type": "display_data",
          "data": {
            "text/plain": [
              "<Figure size 640x480 with 1 Axes>"
            ],
            "image/png": "[encoded data removed]"
          },
          "metadata": {}
        }
      ]
    },
    {
      "cell_type": "code",
      "source": [
        "predictionP = modelP.predict(trainX)"
      ],
      "metadata": {
        "colab": {
          "base_uri": "https://localhost:8080/"
        },
        "id": "JhArTUJWOjn_",
        "outputId": "0fed44b6-7956-4bcb-fca0-c04276b121bc"
      },
      "execution_count": null,
      "outputs": [
        {
          "output_type": "stream",
          "name": "stdout",
          "text": [
            "1/1 [==============================] - 0s 319ms/step\n"
          ]
        }
      ]
    },
    {
      "cell_type": "code",
      "source": [
        "prediction_copiesP = np.repeat(predictionP, df_for_training.shape[1], axis=-1)\n",
        "y_pred_futureP = scaler.inverse_transform(prediction_copiesP)[:,0]"
      ],
      "metadata": {
        "id": "HQrnUDY4Pvuf"
      },
      "execution_count": null,
      "outputs": []
    },
    {
      "cell_type": "code",
      "source": [
        "print(y_pred_futureP)"
      ],
      "metadata": {
        "colab": {
          "base_uri": "https://localhost:8080/"
        },
        "id": "TTt-ZpSvP0c8",
        "outputId": "02ecc67e-24d9-44fd-8679-9b3e92913650"
      },
      "execution_count": null,
      "outputs": [
        {
          "output_type": "stream",
          "name": "stdout",
          "text": [
            "[5.7111707 5.4150333 5.0405517 5.374381  5.5456443 5.654908  5.480487 ]\n"
          ]
        }
      ]
    },
    {
      "cell_type": "code",
      "source": [
        "print(y_pred_futureP[-1])\n",
        "i=y_pred_futureP[-1]\n",
        "do=((i)*100/9)*0.3723\n",
        "do"
      ],
      "metadata": {
        "colab": {
          "base_uri": "https://localhost:8080/"
        },
        "id": "3cEjwtDYWRXc",
        "outputId": "c152a0eb-560d-45c0-8899-3df64b79286f"
      },
      "execution_count": null,
      "outputs": [
        {
          "output_type": "stream",
          "name": "stdout",
          "text": [
            "5.480487\n"
          ]
        },
        {
          "output_type": "execute_result",
          "data": {
            "text/plain": [
              "22.67094735145569"
            ]
          },
          "metadata": {},
          "execution_count": 21
        }
      ]
    },
    {
      "cell_type": "code",
      "source": [
        "modelN = Sequential()\n",
        "modelN.add(LSTM(64, activation='relu', input_shape=(trainX.shape[1], trainX.shape[2]), return_sequences=True))\n",
        "modelN.add(LSTM(32, activation='relu', return_sequences=False))\n",
        "modelN.add(Dropout(0.2))\n",
        "modelN.add(Dense(trainYN.shape[1]))"
      ],
      "metadata": {
        "id": "g0LSbRJkXStu"
      },
      "execution_count": null,
      "outputs": []
    },
    {
      "cell_type": "code",
      "source": [
        "modelN.compile(optimizer='adam', loss='mse')\n",
        "modelN.summary()"
      ],
      "metadata": {
        "colab": {
          "base_uri": "https://localhost:8080/"
        },
        "id": "kfybrmkcYLMz",
        "outputId": "f4edb075-df46-4e03-83a5-0869c97d4802"
      },
      "execution_count": null,
      "outputs": [
        {
          "output_type": "stream",
          "name": "stdout",
          "text": [
            "Model: \"sequential_1\"\n",
            "_________________________________________________________________\n",
            " Layer (type)                Output Shape              Param #   \n",
            "=================================================================\n",
            " lstm_2 (LSTM)               (None, 3, 64)             18432     \n",
            "                                                                 \n",
            " lstm_3 (LSTM)               (None, 32)                12416     \n",
            "                                                                 \n",
            " dropout_1 (Dropout)         (None, 32)                0         \n",
            "                                                                 \n",
            " dense_1 (Dense)             (None, 1)                 33        \n",
            "                                                                 \n",
            "=================================================================\n",
            "Total params: 30881 (120.63 KB)\n",
            "Trainable params: 30881 (120.63 KB)\n",
            "Non-trainable params: 0 (0.00 Byte)\n",
            "_________________________________________________________________\n"
          ]
        }
      ]
    },
    {
      "cell_type": "code",
      "source": [
        "historyN = modelN.fit(trainX, trainYN, epochs=50, batch_size=4, validation_split=0.1, verbose=1)"
      ],
      "metadata": {
        "colab": {
          "base_uri": "https://localhost:8080/"
        },
        "id": "h42wOHgwYWGn",
        "outputId": "2222bbb3-907c-41c2-879f-6cfc590f9048"
      },
      "execution_count": null,
      "outputs": [
        {
          "output_type": "stream",
          "name": "stdout",
          "text": [
            "Epoch 1/50\n",
            "2/2 [==============================] - 3s 560ms/step - loss: 0.7695 - val_loss: 0.8841\n",
            "Epoch 2/50\n",
            "2/2 [==============================] - 0s 45ms/step - loss: 0.7537 - val_loss: 0.9028\n",
            "Epoch 3/50\n",
            "2/2 [==============================] - 0s 47ms/step - loss: 0.7304 - val_loss: 0.9172\n",
            "Epoch 4/50\n",
            "2/2 [==============================] - 0s 53ms/step - loss: 0.7536 - val_loss: 0.9291\n",
            "Epoch 5/50\n",
            "2/2 [==============================] - 0s 71ms/step - loss: 0.7055 - val_loss: 0.9386\n",
            "Epoch 6/50\n",
            "2/2 [==============================] - 0s 68ms/step - loss: 0.7087 - val_loss: 0.9499\n",
            "Epoch 7/50\n",
            "2/2 [==============================] - 0s 74ms/step - loss: 0.6752 - val_loss: 0.9590\n",
            "Epoch 8/50\n",
            "2/2 [==============================] - 0s 75ms/step - loss: 0.6364 - val_loss: 0.9715\n",
            "Epoch 9/50\n",
            "2/2 [==============================] - 0s 61ms/step - loss: 0.5951 - val_loss: 0.9846\n",
            "Epoch 10/50\n",
            "2/2 [==============================] - 0s 62ms/step - loss: 0.6097 - val_loss: 1.0000\n",
            "Epoch 11/50\n",
            "2/2 [==============================] - 0s 64ms/step - loss: 0.5759 - val_loss: 1.0135\n",
            "Epoch 12/50\n",
            "2/2 [==============================] - 0s 59ms/step - loss: 0.5735 - val_loss: 1.0279\n",
            "Epoch 13/50\n",
            "2/2 [==============================] - 0s 74ms/step - loss: 0.5959 - val_loss: 1.0424\n",
            "Epoch 14/50\n",
            "2/2 [==============================] - 0s 69ms/step - loss: 0.5161 - val_loss: 1.0545\n",
            "Epoch 15/50\n",
            "2/2 [==============================] - 0s 57ms/step - loss: 0.4953 - val_loss: 1.0672\n",
            "Epoch 16/50\n",
            "2/2 [==============================] - 0s 66ms/step - loss: 0.5332 - val_loss: 1.0783\n",
            "Epoch 17/50\n",
            "2/2 [==============================] - 0s 44ms/step - loss: 0.3694 - val_loss: 1.0912\n",
            "Epoch 18/50\n",
            "2/2 [==============================] - 0s 63ms/step - loss: 0.3981 - val_loss: 1.1021\n",
            "Epoch 19/50\n",
            "2/2 [==============================] - 0s 66ms/step - loss: 0.4537 - val_loss: 1.1089\n",
            "Epoch 20/50\n",
            "2/2 [==============================] - 0s 68ms/step - loss: 0.3773 - val_loss: 1.1159\n",
            "Epoch 21/50\n",
            "2/2 [==============================] - 0s 66ms/step - loss: 0.3291 - val_loss: 1.1181\n",
            "Epoch 22/50\n",
            "2/2 [==============================] - 0s 55ms/step - loss: 0.3186 - val_loss: 1.1153\n",
            "Epoch 23/50\n",
            "2/2 [==============================] - 0s 63ms/step - loss: 0.3666 - val_loss: 1.1103\n",
            "Epoch 24/50\n",
            "2/2 [==============================] - 0s 71ms/step - loss: 0.3299 - val_loss: 1.1011\n",
            "Epoch 25/50\n",
            "2/2 [==============================] - 0s 77ms/step - loss: 0.3467 - val_loss: 1.0887\n",
            "Epoch 26/50\n",
            "2/2 [==============================] - 0s 68ms/step - loss: 0.3486 - val_loss: 1.0742\n",
            "Epoch 27/50\n",
            "2/2 [==============================] - 0s 56ms/step - loss: 0.2305 - val_loss: 1.0593\n",
            "Epoch 28/50\n",
            "2/2 [==============================] - 0s 51ms/step - loss: 0.1742 - val_loss: 1.0426\n",
            "Epoch 29/50\n",
            "2/2 [==============================] - 0s 65ms/step - loss: 0.1660 - val_loss: 1.0214\n",
            "Epoch 30/50\n",
            "2/2 [==============================] - 0s 52ms/step - loss: 0.0973 - val_loss: 1.0034\n",
            "Epoch 31/50\n",
            "2/2 [==============================] - 0s 51ms/step - loss: 0.2136 - val_loss: 0.9864\n",
            "Epoch 32/50\n",
            "2/2 [==============================] - 0s 51ms/step - loss: 0.0835 - val_loss: 0.9659\n",
            "Epoch 33/50\n",
            "2/2 [==============================] - 0s 63ms/step - loss: 0.0410 - val_loss: 0.9458\n",
            "Epoch 34/50\n",
            "2/2 [==============================] - 0s 54ms/step - loss: 0.0605 - val_loss: 0.9246\n",
            "Epoch 35/50\n",
            "2/2 [==============================] - 0s 72ms/step - loss: 0.0417 - val_loss: 0.8993\n",
            "Epoch 36/50\n",
            "2/2 [==============================] - 0s 46ms/step - loss: 0.0987 - val_loss: 0.8832\n",
            "Epoch 37/50\n",
            "2/2 [==============================] - 0s 48ms/step - loss: 0.0755 - val_loss: 0.8770\n",
            "Epoch 38/50\n",
            "2/2 [==============================] - 0s 45ms/step - loss: 0.0396 - val_loss: 0.8769\n",
            "Epoch 39/50\n",
            "2/2 [==============================] - 0s 48ms/step - loss: 0.0744 - val_loss: 0.8709\n",
            "Epoch 40/50\n",
            "2/2 [==============================] - 0s 50ms/step - loss: 0.0370 - val_loss: 0.8557\n",
            "Epoch 41/50\n",
            "2/2 [==============================] - 0s 50ms/step - loss: 0.0367 - val_loss: 0.8458\n",
            "Epoch 42/50\n",
            "2/2 [==============================] - 0s 71ms/step - loss: 0.0381 - val_loss: 0.8403\n",
            "Epoch 43/50\n",
            "2/2 [==============================] - 0s 56ms/step - loss: 0.1153 - val_loss: 0.8377\n",
            "Epoch 44/50\n",
            "2/2 [==============================] - 0s 79ms/step - loss: 0.0341 - val_loss: 0.8324\n",
            "Epoch 45/50\n",
            "2/2 [==============================] - 0s 66ms/step - loss: 0.0621 - val_loss: 0.8275\n",
            "Epoch 46/50\n",
            "2/2 [==============================] - 0s 32ms/step - loss: 0.0731 - val_loss: 0.8268\n",
            "Epoch 47/50\n",
            "2/2 [==============================] - 0s 32ms/step - loss: 0.0511 - val_loss: 0.8234\n",
            "Epoch 48/50\n",
            "2/2 [==============================] - 0s 34ms/step - loss: 0.0494 - val_loss: 0.8224\n",
            "Epoch 49/50\n",
            "2/2 [==============================] - 0s 32ms/step - loss: 0.0490 - val_loss: 0.8278\n",
            "Epoch 50/50\n",
            "2/2 [==============================] - 0s 35ms/step - loss: 0.0384 - val_loss: 0.8324\n"
          ]
        }
      ]
    },
    {
      "cell_type": "code",
      "source": [
        "plt.plot(historyN.history['loss'], label='Training loss')\n",
        "plt.plot(historyN.history['val_loss'], label='Validation loss')\n",
        "plt.legend()"
      ],
      "metadata": {
        "colab": {
          "base_uri": "https://localhost:8080/",
          "height": 447
        },
        "id": "XVQ9CPiCYh_Z",
        "outputId": "75267d88-9a02-4a42-9773-a616811c6ac6"
      },
      "execution_count": null,
      "outputs": [
        {
          "output_type": "execute_result",
          "data": {
            "text/plain": [
              "<matplotlib.legend.Legend at 0x795b7839abf0>"
            ]
          },
          "metadata": {},
          "execution_count": 25
        },
        {
          "output_type": "display_data",
          "data": {
            "text/plain": [
              "<Figure size 640x480 with 1 Axes>"
            ],
            "image/png": "[encoded data removed]"
          },
          "metadata": {}
        }
      ]
    },
    {
      "cell_type": "code",
      "source": [
        "predictionN = modelN.predict(trainX)"
      ],
      "metadata": {
        "colab": {
          "base_uri": "https://localhost:8080/"
        },
        "id": "7dSknr60Ykga",
        "outputId": "1003f1dd-df48-4ef9-edd1-e0a3606aaf57"
      },
      "execution_count": null,
      "outputs": [
        {
          "output_type": "stream",
          "name": "stdout",
          "text": [
            "1/1 [==============================] - 0s 294ms/step\n"
          ]
        }
      ]
    },
    {
      "cell_type": "code",
      "source": [
        "prediction_copiesN = np.repeat(predictionN, df_for_training.shape[1], axis=-1)\n",
        "y_pred_futureN = scaler.inverse_transform(prediction_copiesN)[:,1]"
      ],
      "metadata": {
        "id": "RlUU7jFaYo9e"
      },
      "execution_count": null,
      "outputs": []
    },
    {
      "cell_type": "code",
      "source": [
        "print(y_pred_futureN)"
      ],
      "metadata": {
        "colab": {
          "base_uri": "https://localhost:8080/"
        },
        "id": "jBiMhlByYuLR",
        "outputId": "9c3534ec-23c3-4fe9-b906-93aa59fd45ea"
      },
      "execution_count": null,
      "outputs": [
        {
          "output_type": "stream",
          "name": "stdout",
          "text": [
            "[8.3433485 7.91188   7.8113647 7.855458  7.9126234 7.9759207 7.850785 ]\n"
          ]
        }
      ]
    },
    {
      "cell_type": "code",
      "source": [
        "print(y_pred_futureN[-1])\n",
        "i=y_pred_futureN[-1]\n",
        "ph=((i-7)*100/1.5)*0.1176"
      ],
      "metadata": {
        "colab": {
          "base_uri": "https://localhost:8080/"
        },
        "id": "RWKDuLgbYzFd",
        "outputId": "176b470c-cb47-48b9-b225-dfb46335d6e2"
      },
      "execution_count": null,
      "outputs": [
        {
          "output_type": "stream",
          "name": "stdout",
          "text": [
            "7.850785\n"
          ]
        }
      ]
    },
    {
      "cell_type": "code",
      "source": [
        "modelS = Sequential()\n",
        "modelS.add(LSTM(64, activation='relu', input_shape=(trainX.shape[1], trainX.shape[2]), return_sequences=True))\n",
        "modelS.add(LSTM(32, activation='relu', return_sequences=False))\n",
        "modelS.add(Dropout(0.2))\n",
        "modelS.add(Dense(trainYS.shape[1]))"
      ],
      "metadata": {
        "id": "kBfqZWLzZR0L"
      },
      "execution_count": null,
      "outputs": []
    },
    {
      "cell_type": "code",
      "source": [
        "modelS.compile(optimizer='adam', loss='mse')\n",
        "modelS.summary()"
      ],
      "metadata": {
        "colab": {
          "base_uri": "https://localhost:8080/"
        },
        "id": "NY3Pb2OmZc5d",
        "outputId": "d6a4bf28-8908-436d-a956-b7b203cd9c49"
      },
      "execution_count": null,
      "outputs": [
        {
          "output_type": "stream",
          "name": "stdout",
          "text": [
            "Model: \"sequential_2\"\n",
            "_________________________________________________________________\n",
            " Layer (type)                Output Shape              Param #   \n",
            "=================================================================\n",
            " lstm_4 (LSTM)               (None, 3, 64)             18432     \n",
            "                                                                 \n",
            " lstm_5 (LSTM)               (None, 32)                12416     \n",
            "                                                                 \n",
            " dropout_2 (Dropout)         (None, 32)                0         \n",
            "                                                                 \n",
            " dense_2 (Dense)             (None, 1)                 33        \n",
            "                                                                 \n",
            "=================================================================\n",
            "Total params: 30881 (120.63 KB)\n",
            "Trainable params: 30881 (120.63 KB)\n",
            "Non-trainable params: 0 (0.00 Byte)\n",
            "_________________________________________________________________\n"
          ]
        }
      ]
    },
    {
      "cell_type": "code",
      "source": [
        "modelS.compile(optimizer='adam', loss='mse')\n",
        "modelS.summary()"
      ],
      "metadata": {
        "colab": {
          "base_uri": "https://localhost:8080/"
        },
        "id": "8gg6CnijZexC",
        "outputId": "aa119d14-a34e-464a-92b8-b2935c2824e9"
      },
      "execution_count": null,
      "outputs": [
        {
          "output_type": "stream",
          "name": "stdout",
          "text": [
            "Model: \"sequential_2\"\n",
            "_________________________________________________________________\n",
            " Layer (type)                Output Shape              Param #   \n",
            "=================================================================\n",
            " lstm_4 (LSTM)               (None, 3, 64)             18432     \n",
            "                                                                 \n",
            " lstm_5 (LSTM)               (None, 32)                12416     \n",
            "                                                                 \n",
            " dropout_2 (Dropout)         (None, 32)                0         \n",
            "                                                                 \n",
            " dense_2 (Dense)             (None, 1)                 33        \n",
            "                                                                 \n",
            "=================================================================\n",
            "Total params: 30881 (120.63 KB)\n",
            "Trainable params: 30881 (120.63 KB)\n",
            "Non-trainable params: 0 (0.00 Byte)\n",
            "_________________________________________________________________\n"
          ]
        }
      ]
    },
    {
      "cell_type": "code",
      "source": [
        "historyS = modelS.fit(trainX, trainYS, epochs=50, batch_size=4, validation_split=0.1, verbose=1)"
      ],
      "metadata": {
        "colab": {
          "base_uri": "https://localhost:8080/"
        },
        "id": "jh70reWHZkBe",
        "outputId": "34e00e63-dd7b-41ef-d18d-14b931bcbf9e"
      },
      "execution_count": null,
      "outputs": [
        {
          "output_type": "stream",
          "name": "stdout",
          "text": [
            "Epoch 1/50\n",
            "2/2 [==============================] - 3s 400ms/step - loss: 0.3658 - val_loss: 1.1783\n",
            "Epoch 2/50\n",
            "2/2 [==============================] - 0s 31ms/step - loss: 0.3475 - val_loss: 1.1536\n",
            "Epoch 3/50\n",
            "2/2 [==============================] - 0s 32ms/step - loss: 0.3402 - val_loss: 1.1280\n",
            "Epoch 4/50\n",
            "2/2 [==============================] - 0s 32ms/step - loss: 0.3322 - val_loss: 1.0999\n",
            "Epoch 5/50\n",
            "2/2 [==============================] - 0s 32ms/step - loss: 0.3243 - val_loss: 1.0699\n",
            "Epoch 6/50\n",
            "2/2 [==============================] - 0s 33ms/step - loss: 0.3001 - val_loss: 1.0409\n",
            "Epoch 7/50\n",
            "2/2 [==============================] - 0s 32ms/step - loss: 0.3028 - val_loss: 1.0106\n",
            "Epoch 8/50\n",
            "2/2 [==============================] - 0s 32ms/step - loss: 0.2862 - val_loss: 0.9770\n",
            "Epoch 9/50\n",
            "2/2 [==============================] - 0s 35ms/step - loss: 0.2603 - val_loss: 0.9407\n",
            "Epoch 10/50\n",
            "2/2 [==============================] - 0s 34ms/step - loss: 0.2518 - val_loss: 0.9023\n",
            "Epoch 11/50\n",
            "2/2 [==============================] - 0s 32ms/step - loss: 0.2498 - val_loss: 0.8619\n",
            "Epoch 12/50\n",
            "2/2 [==============================] - 0s 39ms/step - loss: 0.2497 - val_loss: 0.8233\n",
            "Epoch 13/50\n",
            "2/2 [==============================] - 0s 31ms/step - loss: 0.2193 - val_loss: 0.7806\n",
            "Epoch 14/50\n",
            "2/2 [==============================] - 0s 33ms/step - loss: 0.2518 - val_loss: 0.7391\n",
            "Epoch 15/50\n",
            "2/2 [==============================] - 0s 32ms/step - loss: 0.1742 - val_loss: 0.6936\n",
            "Epoch 16/50\n",
            "2/2 [==============================] - 0s 31ms/step - loss: 0.1859 - val_loss: 0.6459\n",
            "Epoch 17/50\n",
            "2/2 [==============================] - 0s 43ms/step - loss: 0.1516 - val_loss: 0.5932\n",
            "Epoch 18/50\n",
            "2/2 [==============================] - 0s 32ms/step - loss: 0.1430 - val_loss: 0.5324\n",
            "Epoch 19/50\n",
            "2/2 [==============================] - 0s 34ms/step - loss: 0.1282 - val_loss: 0.4728\n",
            "Epoch 20/50\n",
            "2/2 [==============================] - 0s 33ms/step - loss: 0.1065 - val_loss: 0.4122\n",
            "Epoch 21/50\n",
            "2/2 [==============================] - 0s 33ms/step - loss: 0.1045 - val_loss: 0.3520\n",
            "Epoch 22/50\n",
            "2/2 [==============================] - 0s 36ms/step - loss: 0.0589 - val_loss: 0.2866\n",
            "Epoch 23/50\n",
            "2/2 [==============================] - 0s 32ms/step - loss: 0.0862 - val_loss: 0.2196\n",
            "Epoch 24/50\n",
            "2/2 [==============================] - 0s 42ms/step - loss: 0.0346 - val_loss: 0.1647\n",
            "Epoch 25/50\n",
            "2/2 [==============================] - 0s 32ms/step - loss: 0.0335 - val_loss: 0.1359\n",
            "Epoch 26/50\n",
            "2/2 [==============================] - 0s 33ms/step - loss: 0.0303 - val_loss: 0.1186\n",
            "Epoch 27/50\n",
            "2/2 [==============================] - 0s 33ms/step - loss: 0.0207 - val_loss: 0.1114\n",
            "Epoch 28/50\n",
            "2/2 [==============================] - 0s 33ms/step - loss: 0.0199 - val_loss: 0.1086\n",
            "Epoch 29/50\n",
            "2/2 [==============================] - 0s 33ms/step - loss: 0.0256 - val_loss: 0.1131\n",
            "Epoch 30/50\n",
            "2/2 [==============================] - 0s 35ms/step - loss: 0.0293 - val_loss: 0.1326\n",
            "Epoch 31/50\n",
            "2/2 [==============================] - 0s 36ms/step - loss: 0.0462 - val_loss: 0.1748\n",
            "Epoch 32/50\n",
            "2/2 [==============================] - 0s 35ms/step - loss: 0.0042 - val_loss: 0.2156\n",
            "Epoch 33/50\n",
            "2/2 [==============================] - 0s 34ms/step - loss: 0.0439 - val_loss: 0.2396\n",
            "Epoch 34/50\n",
            "2/2 [==============================] - 0s 38ms/step - loss: 0.0152 - val_loss: 0.2527\n",
            "Epoch 35/50\n",
            "2/2 [==============================] - 0s 36ms/step - loss: 0.0511 - val_loss: 0.2470\n",
            "Epoch 36/50\n",
            "2/2 [==============================] - 0s 45ms/step - loss: 0.0656 - val_loss: 0.2215\n",
            "Epoch 37/50\n",
            "2/2 [==============================] - 0s 35ms/step - loss: 0.0136 - val_loss: 0.1969\n",
            "Epoch 38/50\n",
            "2/2 [==============================] - 0s 61ms/step - loss: 0.0116 - val_loss: 0.1675\n",
            "Epoch 39/50\n",
            "2/2 [==============================] - 0s 35ms/step - loss: 0.0074 - val_loss: 0.1509\n",
            "Epoch 40/50\n",
            "2/2 [==============================] - 0s 38ms/step - loss: 0.0164 - val_loss: 0.1421\n",
            "Epoch 41/50\n",
            "2/2 [==============================] - 0s 39ms/step - loss: 0.0387 - val_loss: 0.1567\n",
            "Epoch 42/50\n",
            "2/2 [==============================] - 0s 35ms/step - loss: 0.0124 - val_loss: 0.1953\n",
            "Epoch 43/50\n",
            "2/2 [==============================] - 0s 35ms/step - loss: 0.0114 - val_loss: 0.2382\n",
            "Epoch 44/50\n",
            "2/2 [==============================] - 0s 37ms/step - loss: 0.0061 - val_loss: 0.2810\n",
            "Epoch 45/50\n",
            "2/2 [==============================] - 0s 36ms/step - loss: 0.0055 - val_loss: 0.3168\n",
            "Epoch 46/50\n",
            "2/2 [==============================] - 0s 34ms/step - loss: 0.0438 - val_loss: 0.3268\n",
            "Epoch 47/50\n",
            "2/2 [==============================] - 0s 36ms/step - loss: 0.0066 - val_loss: 0.3163\n",
            "Epoch 48/50\n",
            "2/2 [==============================] - 0s 49ms/step - loss: 0.0021 - val_loss: 0.3003\n",
            "Epoch 49/50\n",
            "2/2 [==============================] - 0s 34ms/step - loss: 0.0273 - val_loss: 0.2762\n",
            "Epoch 50/50\n",
            "2/2 [==============================] - 0s 34ms/step - loss: 0.0027 - val_loss: 0.2466\n"
          ]
        }
      ]
    },
    {
      "cell_type": "code",
      "source": [
        "plt.plot(historyS.history['loss'], label='Training loss')\n",
        "plt.plot(historyS.history['val_loss'], label='Validation loss')\n",
        "plt.legend()"
      ],
      "metadata": {
        "colab": {
          "base_uri": "https://localhost:8080/",
          "height": 447
        },
        "id": "Y1v1MF7kZzR2",
        "outputId": "d08eafdb-7bb6-42b9-bd14-e37aac54f710"
      },
      "execution_count": null,
      "outputs": [
        {
          "output_type": "execute_result",
          "data": {
            "text/plain": [
              "<matplotlib.legend.Legend at 0x795b68ca4220>"
            ]
          },
          "metadata": {},
          "execution_count": 34
        },
        {
          "output_type": "display_data",
          "data": {
            "text/plain": [
              "<Figure size 640x480 with 1 Axes>"
            ],
            "image/png": "[encoded data removed]"
          },
          "metadata": {}
        }
      ]
    },
    {
      "cell_type": "code",
      "source": [
        "predictionS = modelS.predict(trainX)"
      ],
      "metadata": {
        "colab": {
          "base_uri": "https://localhost:8080/"
        },
        "id": "UmhHBi8yZ3_Q",
        "outputId": "59489eee-5916-49c7-e66e-bd4efe9d6b5e"
      },
      "execution_count": null,
      "outputs": [
        {
          "output_type": "stream",
          "name": "stdout",
          "text": [
            "1/1 [==============================] - 0s 290ms/step\n"
          ]
        }
      ]
    },
    {
      "cell_type": "code",
      "source": [
        "prediction_copiesS = np.repeat(predictionS, df_for_training.shape[1], axis=-1)\n",
        "y_pred_futureS = scaler.inverse_transform(prediction_copiesS)[:,2]"
      ],
      "metadata": {
        "id": "WR0ur2wBZ82T"
      },
      "execution_count": null,
      "outputs": []
    },
    {
      "cell_type": "code",
      "source": [
        "print(y_pred_futureS)"
      ],
      "metadata": {
        "colab": {
          "base_uri": "https://localhost:8080/"
        },
        "id": "cQ9HMNWmaHaz",
        "outputId": "c05b5d8f-81a6-4e1f-e9d5-203afbc95e31"
      },
      "execution_count": null,
      "outputs": [
        {
          "output_type": "stream",
          "name": "stdout",
          "text": [
            "[2.9629536 3.0324361 3.0052016 2.7764094 2.2346869 1.6324424 2.2670295]\n"
          ]
        }
      ]
    },
    {
      "cell_type": "code",
      "source": [
        "i=y_pred_futureS[-1]\n",
        "bod=(i*100/25)*0.3723\n",
        "print(i)"
      ],
      "metadata": {
        "colab": {
          "base_uri": "https://localhost:8080/"
        },
        "id": "O1jzvQtzaPWz",
        "outputId": "17148f4a-7fa4-4931-cba8-edca860a72f6"
      },
      "execution_count": null,
      "outputs": [
        {
          "output_type": "stream",
          "name": "stdout",
          "text": [
            "2.2670295\n"
          ]
        }
      ]
    },
    {
      "cell_type": "code",
      "source": [
        "modelS = Sequential()\n",
        "modelS.add(LSTM(64, activation='relu', input_shape=(trainX.shape[1], trainX.shape[2]), return_sequences=True))\n",
        "modelS.add(LSTM(32, activation='relu', return_sequences=False))\n",
        "modelS.add(Dropout(0.2))\n",
        "modelS.add(Dense(trainYA.shape[1]))"
      ],
      "metadata": {
        "id": "Z5MC2KCgagQf"
      },
      "execution_count": null,
      "outputs": []
    },
    {
      "cell_type": "code",
      "source": [
        "modelS.compile(optimizer='adam', loss='mse')\n",
        "modelS.summary()"
      ],
      "metadata": {
        "colab": {
          "base_uri": "https://localhost:8080/"
        },
        "id": "VFW5xkeIaxnZ",
        "outputId": "24f5e886-3e3e-447b-a301-48ce012e81b2"
      },
      "execution_count": null,
      "outputs": [
        {
          "output_type": "stream",
          "name": "stdout",
          "text": [
            "Model: \"sequential_3\"\n",
            "_________________________________________________________________\n",
            " Layer (type)                Output Shape              Param #   \n",
            "=================================================================\n",
            " lstm_6 (LSTM)               (None, 3, 64)             18432     \n",
            "                                                                 \n",
            " lstm_7 (LSTM)               (None, 32)                12416     \n",
            "                                                                 \n",
            " dropout_3 (Dropout)         (None, 32)                0         \n",
            "                                                                 \n",
            " dense_3 (Dense)             (None, 1)                 33        \n",
            "                                                                 \n",
            "=================================================================\n",
            "Total params: 30881 (120.63 KB)\n",
            "Trainable params: 30881 (120.63 KB)\n",
            "Non-trainable params: 0 (0.00 Byte)\n",
            "_________________________________________________________________\n"
          ]
        }
      ]
    },
    {
      "cell_type": "code",
      "source": [
        "historyS = modelS.fit(trainX, trainYS, epochs=50, batch_size=4, validation_split=0.1, verbose=1)"
      ],
      "metadata": {
        "colab": {
          "base_uri": "https://localhost:8080/"
        },
        "id": "px8fESK9a1pL",
        "outputId": "fa6fd0df-d6f7-492b-91fb-fe17092cc3e5"
      },
      "execution_count": null,
      "outputs": [
        {
          "output_type": "stream",
          "name": "stdout",
          "text": [
            "Epoch 1/50\n",
            "2/2 [==============================] - 4s 592ms/step - loss: 0.3822 - val_loss: 1.2357\n",
            "Epoch 2/50\n",
            "2/2 [==============================] - 0s 32ms/step - loss: 0.3660 - val_loss: 1.2052\n",
            "Epoch 3/50\n",
            "2/2 [==============================] - 0s 33ms/step - loss: 0.3541 - val_loss: 1.1785\n",
            "Epoch 4/50\n",
            "2/2 [==============================] - 0s 33ms/step - loss: 0.3516 - val_loss: 1.1544\n",
            "Epoch 5/50\n",
            "2/2 [==============================] - 0s 32ms/step - loss: 0.3435 - val_loss: 1.1336\n",
            "Epoch 6/50\n",
            "2/2 [==============================] - 0s 32ms/step - loss: 0.3306 - val_loss: 1.1125\n",
            "Epoch 7/50\n",
            "2/2 [==============================] - 0s 40ms/step - loss: 0.3245 - val_loss: 1.0905\n",
            "Epoch 8/50\n",
            "2/2 [==============================] - 0s 38ms/step - loss: 0.3174 - val_loss: 1.0676\n",
            "Epoch 9/50\n",
            "2/2 [==============================] - 0s 34ms/step - loss: 0.3197 - val_loss: 1.0442\n",
            "Epoch 10/50\n",
            "2/2 [==============================] - 0s 33ms/step - loss: 0.3099 - val_loss: 1.0207\n",
            "Epoch 11/50\n",
            "2/2 [==============================] - 0s 32ms/step - loss: 0.2966 - val_loss: 0.9947\n",
            "Epoch 12/50\n",
            "2/2 [==============================] - 0s 32ms/step - loss: 0.2983 - val_loss: 0.9685\n",
            "Epoch 13/50\n",
            "2/2 [==============================] - 0s 33ms/step - loss: 0.2959 - val_loss: 0.9424\n",
            "Epoch 14/50\n",
            "2/2 [==============================] - 0s 32ms/step - loss: 0.2573 - val_loss: 0.9125\n",
            "Epoch 15/50\n",
            "2/2 [==============================] - 0s 32ms/step - loss: 0.2708 - val_loss: 0.8794\n",
            "Epoch 16/50\n",
            "2/2 [==============================] - 0s 37ms/step - loss: 0.2697 - val_loss: 0.8463\n",
            "Epoch 17/50\n",
            "2/2 [==============================] - 0s 32ms/step - loss: 0.2095 - val_loss: 0.8066\n",
            "Epoch 18/50\n",
            "2/2 [==============================] - 0s 32ms/step - loss: 0.2395 - val_loss: 0.7618\n",
            "Epoch 19/50\n",
            "2/2 [==============================] - 0s 34ms/step - loss: 0.2161 - val_loss: 0.7151\n",
            "Epoch 20/50\n",
            "2/2 [==============================] - 0s 32ms/step - loss: 0.1881 - val_loss: 0.6659\n",
            "Epoch 21/50\n",
            "2/2 [==============================] - 0s 34ms/step - loss: 0.1344 - val_loss: 0.6082\n",
            "Epoch 22/50\n",
            "2/2 [==============================] - 0s 36ms/step - loss: 0.1147 - val_loss: 0.5425\n",
            "Epoch 23/50\n",
            "2/2 [==============================] - 0s 33ms/step - loss: 0.1122 - val_loss: 0.4728\n",
            "Epoch 24/50\n",
            "2/2 [==============================] - 0s 33ms/step - loss: 0.0751 - val_loss: 0.4026\n",
            "Epoch 25/50\n",
            "2/2 [==============================] - 0s 32ms/step - loss: 0.1143 - val_loss: 0.3306\n",
            "Epoch 26/50\n",
            "2/2 [==============================] - 0s 36ms/step - loss: 0.0232 - val_loss: 0.2629\n",
            "Epoch 27/50\n",
            "2/2 [==============================] - 0s 35ms/step - loss: 0.0114 - val_loss: 0.1976\n",
            "Epoch 28/50\n",
            "2/2 [==============================] - 0s 32ms/step - loss: 0.0227 - val_loss: 0.1343\n",
            "Epoch 29/50\n",
            "2/2 [==============================] - 0s 51ms/step - loss: 0.0140 - val_loss: 0.0860\n",
            "Epoch 30/50\n",
            "2/2 [==============================] - 0s 34ms/step - loss: 0.0841 - val_loss: 0.0848\n",
            "Epoch 31/50\n",
            "2/2 [==============================] - 0s 32ms/step - loss: 0.0417 - val_loss: 0.1264\n",
            "Epoch 32/50\n",
            "2/2 [==============================] - 0s 31ms/step - loss: 0.0110 - val_loss: 0.1699\n",
            "Epoch 33/50\n",
            "2/2 [==============================] - 0s 33ms/step - loss: 0.0130 - val_loss: 0.2064\n",
            "Epoch 34/50\n",
            "2/2 [==============================] - 0s 33ms/step - loss: 0.0197 - val_loss: 0.2293\n",
            "Epoch 35/50\n",
            "2/2 [==============================] - 0s 37ms/step - loss: 0.0098 - val_loss: 0.2460\n",
            "Epoch 36/50\n",
            "2/2 [==============================] - 0s 34ms/step - loss: 0.1036 - val_loss: 0.2508\n",
            "Epoch 37/50\n",
            "2/2 [==============================] - 0s 33ms/step - loss: 0.0507 - val_loss: 0.2462\n",
            "Epoch 38/50\n",
            "2/2 [==============================] - 0s 36ms/step - loss: 0.0302 - val_loss: 0.2272\n",
            "Epoch 39/50\n",
            "2/2 [==============================] - 0s 34ms/step - loss: 0.0036 - val_loss: 0.2135\n",
            "Epoch 40/50\n",
            "2/2 [==============================] - 0s 37ms/step - loss: 0.0085 - val_loss: 0.2015\n",
            "Epoch 41/50\n",
            "2/2 [==============================] - 0s 34ms/step - loss: 0.0067 - val_loss: 0.1880\n",
            "Epoch 42/50\n",
            "2/2 [==============================] - 0s 34ms/step - loss: 0.0487 - val_loss: 0.1732\n",
            "Epoch 43/50\n",
            "2/2 [==============================] - 0s 37ms/step - loss: 0.0105 - val_loss: 0.1704\n",
            "Epoch 44/50\n",
            "2/2 [==============================] - 0s 38ms/step - loss: 0.0221 - val_loss: 0.1707\n",
            "Epoch 45/50\n",
            "2/2 [==============================] - 0s 36ms/step - loss: 0.0152 - val_loss: 0.1829\n",
            "Epoch 46/50\n",
            "2/2 [==============================] - 0s 34ms/step - loss: 0.0445 - val_loss: 0.1845\n",
            "Epoch 47/50\n",
            "2/2 [==============================] - 0s 38ms/step - loss: 0.0140 - val_loss: 0.1725\n",
            "Epoch 48/50\n",
            "2/2 [==============================] - 0s 36ms/step - loss: 0.0138 - val_loss: 0.1759\n",
            "Epoch 49/50\n",
            "2/2 [==============================] - 0s 35ms/step - loss: 0.0037 - val_loss: 0.1838\n",
            "Epoch 50/50\n",
            "2/2 [==============================] - 0s 33ms/step - loss: 0.0056 - val_loss: 0.1881\n"
          ]
        }
      ]
    },
    {
      "cell_type": "code",
      "source": [
        "plt.plot(historyS.history['loss'], label='Training loss')\n",
        "plt.plot(historyS.history['val_loss'], label='Validation loss')\n",
        "plt.legend()"
      ],
      "metadata": {
        "colab": {
          "base_uri": "https://localhost:8080/",
          "height": 447
        },
        "id": "K79oSFnibAhV",
        "outputId": "39a9a1f9-a885-44b7-879a-4272ca7e16c5"
      },
      "execution_count": null,
      "outputs": [
        {
          "output_type": "execute_result",
          "data": {
            "text/plain": [
              "<matplotlib.legend.Legend at 0x795b657f5870>"
            ]
          },
          "metadata": {},
          "execution_count": 42
        },
        {
          "output_type": "display_data",
          "data": {
            "text/plain": [
              "<Figure size 640x480 with 1 Axes>"
            ],
            "image/png": "[encoded data removed]"
          },
          "metadata": {}
        }
      ]
    },
    {
      "cell_type": "code",
      "source": [
        "predictionS = modelS.predict(trainX)"
      ],
      "metadata": {
        "colab": {
          "base_uri": "https://localhost:8080/"
        },
        "id": "HsJYC_9jbIn8",
        "outputId": "a5925a87-6d82-4831-c2fa-4f9988cef496"
      },
      "execution_count": null,
      "outputs": [
        {
          "output_type": "stream",
          "name": "stdout",
          "text": [
            "1/1 [==============================] - 0s 302ms/step\n"
          ]
        }
      ]
    },
    {
      "cell_type": "code",
      "source": [
        "prediction_copiesS = np.repeat(predictionS, df_for_training.shape[1], axis=-1)\n",
        "y_pred_futureS = scaler.inverse_transform(prediction_copiesS)[:,2]"
      ],
      "metadata": {
        "id": "sHi-BKCabLUq"
      },
      "execution_count": null,
      "outputs": []
    },
    {
      "cell_type": "code",
      "source": [
        "print(y_pred_futureS)"
      ],
      "metadata": {
        "colab": {
          "base_uri": "https://localhost:8080/"
        },
        "id": "2je0SzCQbSdB",
        "outputId": "c4b6fc63-3704-4763-9ca4-e97d94ace216"
      },
      "execution_count": null,
      "outputs": [
        {
          "output_type": "stream",
          "name": "stdout",
          "text": [
            "[2.967723  3.0295362 3.020599  2.7845922 2.18467   1.5719475 2.197788 ]\n"
          ]
        }
      ]
    },
    {
      "cell_type": "code",
      "source": [
        "i=y_pred_futureS[-1]\n",
        "tur=(i*100/5)*0.1\n",
        "print(tur)"
      ],
      "metadata": {
        "colab": {
          "base_uri": "https://localhost:8080/"
        },
        "id": "bbkc656hbXOu",
        "outputId": "01d06468-4918-4629-f5a6-b6e0888b2d47"
      },
      "execution_count": null,
      "outputs": [
        {
          "output_type": "stream",
          "name": "stdout",
          "text": [
            "4.395576000213623\n"
          ]
        }
      ]
    },
    {
      "cell_type": "code",
      "source": [
        "modelS = Sequential()\n",
        "modelS.add(LSTM(64, activation='relu', input_shape=(trainX.shape[1], trainX.shape[2]), return_sequences=True))\n",
        "modelS.add(LSTM(32, activation='relu', return_sequences=False))\n",
        "modelS.add(Dropout(0.2))\n",
        "modelS.add(Dense(trainYB.shape[1]))"
      ],
      "metadata": {
        "id": "RW8XajyYbgOI"
      },
      "execution_count": null,
      "outputs": []
    },
    {
      "cell_type": "code",
      "source": [
        "modelS.compile(optimizer='adam', loss='mse')\n",
        "modelS.summary()"
      ],
      "metadata": {
        "colab": {
          "base_uri": "https://localhost:8080/"
        },
        "id": "Y_ab4isrbtT-",
        "outputId": "09678c8b-f970-4309-bbda-83012e4be5c0"
      },
      "execution_count": null,
      "outputs": [
        {
          "output_type": "stream",
          "name": "stdout",
          "text": [
            "Model: \"sequential_4\"\n",
            "_________________________________________________________________\n",
            " Layer (type)                Output Shape              Param #   \n",
            "=================================================================\n",
            " lstm_8 (LSTM)               (None, 3, 64)             18432     \n",
            "                                                                 \n",
            " lstm_9 (LSTM)               (None, 32)                12416     \n",
            "                                                                 \n",
            " dropout_4 (Dropout)         (None, 32)                0         \n",
            "                                                                 \n",
            " dense_4 (Dense)             (None, 1)                 33        \n",
            "                                                                 \n",
            "=================================================================\n",
            "Total params: 30881 (120.63 KB)\n",
            "Trainable params: 30881 (120.63 KB)\n",
            "Non-trainable params: 0 (0.00 Byte)\n",
            "_________________________________________________________________\n"
          ]
        }
      ]
    },
    {
      "cell_type": "code",
      "source": [
        "historyS = modelS.fit(trainX, trainYS, epochs=50, batch_size=4, validation_split=0.1, verbose=1)"
      ],
      "metadata": {
        "colab": {
          "base_uri": "https://localhost:8080/"
        },
        "id": "3d4PijwBbvK5",
        "outputId": "d23c8c8e-9e35-44cb-c960-ed4eaaf4aa36"
      },
      "execution_count": null,
      "outputs": [
        {
          "output_type": "stream",
          "name": "stdout",
          "text": [
            "Epoch 1/50\n",
            "2/2 [==============================] - 3s 389ms/step - loss: 0.4006 - val_loss: 1.2591\n",
            "Epoch 2/50\n",
            "2/2 [==============================] - 0s 37ms/step - loss: 0.3800 - val_loss: 1.2292\n",
            "Epoch 3/50\n",
            "2/2 [==============================] - 0s 33ms/step - loss: 0.3661 - val_loss: 1.2038\n",
            "Epoch 4/50\n",
            "2/2 [==============================] - 0s 32ms/step - loss: 0.3485 - val_loss: 1.1795\n",
            "Epoch 5/50\n",
            "2/2 [==============================] - 0s 32ms/step - loss: 0.3425 - val_loss: 1.1538\n",
            "Epoch 6/50\n",
            "2/2 [==============================] - 0s 33ms/step - loss: 0.3304 - val_loss: 1.1292\n",
            "Epoch 7/50\n",
            "2/2 [==============================] - 0s 35ms/step - loss: 0.3326 - val_loss: 1.1046\n",
            "Epoch 8/50\n",
            "2/2 [==============================] - 0s 33ms/step - loss: 0.3244 - val_loss: 1.0809\n",
            "Epoch 9/50\n",
            "2/2 [==============================] - 0s 34ms/step - loss: 0.3175 - val_loss: 1.0557\n",
            "Epoch 10/50\n",
            "2/2 [==============================] - 0s 35ms/step - loss: 0.3065 - val_loss: 1.0303\n",
            "Epoch 11/50\n",
            "2/2 [==============================] - 0s 38ms/step - loss: 0.2814 - val_loss: 1.0034\n",
            "Epoch 12/50\n",
            "2/2 [==============================] - 0s 33ms/step - loss: 0.2565 - val_loss: 0.9750\n",
            "Epoch 13/50\n",
            "2/2 [==============================] - 0s 35ms/step - loss: 0.2572 - val_loss: 0.9414\n",
            "Epoch 14/50\n",
            "2/2 [==============================] - 0s 34ms/step - loss: 0.2487 - val_loss: 0.9074\n",
            "Epoch 15/50\n",
            "2/2 [==============================] - 0s 37ms/step - loss: 0.2286 - val_loss: 0.8733\n",
            "Epoch 16/50\n",
            "2/2 [==============================] - 0s 41ms/step - loss: 0.2439 - val_loss: 0.8352\n",
            "Epoch 17/50\n",
            "2/2 [==============================] - 0s 49ms/step - loss: 0.2363 - val_loss: 0.7976\n",
            "Epoch 18/50\n",
            "2/2 [==============================] - 0s 44ms/step - loss: 0.2146 - val_loss: 0.7538\n",
            "Epoch 19/50\n",
            "2/2 [==============================] - 0s 31ms/step - loss: 0.1699 - val_loss: 0.7059\n",
            "Epoch 20/50\n",
            "2/2 [==============================] - 0s 33ms/step - loss: 0.1446 - val_loss: 0.6546\n",
            "Epoch 21/50\n",
            "2/2 [==============================] - 0s 39ms/step - loss: 0.1233 - val_loss: 0.6024\n",
            "Epoch 22/50\n",
            "2/2 [==============================] - 0s 32ms/step - loss: 0.1191 - val_loss: 0.5475\n",
            "Epoch 23/50\n",
            "2/2 [==============================] - 0s 32ms/step - loss: 0.0937 - val_loss: 0.4925\n",
            "Epoch 24/50\n",
            "2/2 [==============================] - 0s 32ms/step - loss: 0.1056 - val_loss: 0.4397\n",
            "Epoch 25/50\n",
            "2/2 [==============================] - 0s 32ms/step - loss: 0.0574 - val_loss: 0.3798\n",
            "Epoch 26/50\n",
            "2/2 [==============================] - 0s 37ms/step - loss: 0.0390 - val_loss: 0.3146\n",
            "Epoch 27/50\n",
            "2/2 [==============================] - 0s 48ms/step - loss: 0.0749 - val_loss: 0.2513\n",
            "Epoch 28/50\n",
            "2/2 [==============================] - 0s 50ms/step - loss: 0.0250 - val_loss: 0.1951\n",
            "Epoch 29/50\n",
            "2/2 [==============================] - 0s 48ms/step - loss: 0.0162 - val_loss: 0.1540\n",
            "Epoch 30/50\n",
            "2/2 [==============================] - 0s 50ms/step - loss: 0.0254 - val_loss: 0.1413\n",
            "Epoch 31/50\n",
            "2/2 [==============================] - 0s 48ms/step - loss: 0.0225 - val_loss: 0.1430\n",
            "Epoch 32/50\n",
            "2/2 [==============================] - 0s 55ms/step - loss: 0.0235 - val_loss: 0.1441\n",
            "Epoch 33/50\n",
            "2/2 [==============================] - 0s 70ms/step - loss: 0.0284 - val_loss: 0.1528\n",
            "Epoch 34/50\n",
            "2/2 [==============================] - 0s 46ms/step - loss: 0.0162 - val_loss: 0.1717\n",
            "Epoch 35/50\n",
            "2/2 [==============================] - 0s 48ms/step - loss: 0.0111 - val_loss: 0.1849\n",
            "Epoch 36/50\n",
            "2/2 [==============================] - 0s 77ms/step - loss: 0.0092 - val_loss: 0.1921\n",
            "Epoch 37/50\n",
            "2/2 [==============================] - 0s 69ms/step - loss: 0.0091 - val_loss: 0.2099\n",
            "Epoch 38/50\n",
            "2/2 [==============================] - 0s 44ms/step - loss: 0.0555 - val_loss: 0.2122\n",
            "Epoch 39/50\n",
            "2/2 [==============================] - 0s 43ms/step - loss: 0.0493 - val_loss: 0.1903\n",
            "Epoch 40/50\n",
            "2/2 [==============================] - 0s 69ms/step - loss: 0.0060 - val_loss: 0.1787\n",
            "Epoch 41/50\n",
            "2/2 [==============================] - 0s 68ms/step - loss: 0.0156 - val_loss: 0.1733\n",
            "Epoch 42/50\n",
            "2/2 [==============================] - 0s 65ms/step - loss: 0.0181 - val_loss: 0.1892\n",
            "Epoch 43/50\n",
            "2/2 [==============================] - 0s 64ms/step - loss: 0.0073 - val_loss: 0.2033\n",
            "Epoch 44/50\n",
            "2/2 [==============================] - 0s 68ms/step - loss: 0.0152 - val_loss: 0.2054\n",
            "Epoch 45/50\n",
            "2/2 [==============================] - 0s 63ms/step - loss: 0.0133 - val_loss: 0.2225\n",
            "Epoch 46/50\n",
            "2/2 [==============================] - 0s 45ms/step - loss: 0.0112 - val_loss: 0.2371\n",
            "Epoch 47/50\n",
            "2/2 [==============================] - 0s 45ms/step - loss: 0.0113 - val_loss: 0.2456\n",
            "Epoch 48/50\n",
            "2/2 [==============================] - 0s 44ms/step - loss: 0.0104 - val_loss: 0.2363\n",
            "Epoch 49/50\n",
            "2/2 [==============================] - 0s 47ms/step - loss: 0.0014 - val_loss: 0.2216\n",
            "Epoch 50/50\n",
            "2/2 [==============================] - 0s 61ms/step - loss: 0.0032 - val_loss: 0.2095\n"
          ]
        }
      ]
    },
    {
      "cell_type": "code",
      "source": [
        "plt.plot(historyS.history['loss'], label='Training loss')\n",
        "plt.plot(historyS.history['val_loss'], label='Validation loss')\n",
        "plt.legend()"
      ],
      "metadata": {
        "colab": {
          "base_uri": "https://localhost:8080/",
          "height": 447
        },
        "id": "zPJwc-mFgFve",
        "outputId": "cfb4a61d-cd98-4637-b145-9e5d0c482bb6"
      },
      "execution_count": null,
      "outputs": [
        {
          "output_type": "execute_result",
          "data": {
            "text/plain": [
              "<matplotlib.legend.Legend at 0x795b788be830>"
            ]
          },
          "metadata": {},
          "execution_count": 50
        },
        {
          "output_type": "display_data",
          "data": {
            "text/plain": [
              "<Figure size 640x480 with 1 Axes>"
            ],
            "image/png": "[encoded data removed]"
          },
          "metadata": {}
        }
      ]
    },
    {
      "cell_type": "code",
      "source": [
        "predictionS = modelS.predict(trainX)"
      ],
      "metadata": {
        "colab": {
          "base_uri": "https://localhost:8080/"
        },
        "id": "d9XYC52CgKvW",
        "outputId": "9abc5617-b37b-4b7d-828c-ef6e8a3984c8"
      },
      "execution_count": null,
      "outputs": [
        {
          "output_type": "stream",
          "name": "stderr",
          "text": [
            "WARNING:tensorflow:5 out of the last 5 calls to <function Model.make_predict_function.<locals>.predict_function at 0x795b6683e5f0> triggered tf.function retracing. Tracing is expensive and the excessive number of tracings could be due to (1) creating @tf.function repeatedly in a loop, (2) passing tensors with different shapes, (3) passing Python objects instead of tensors. For (1), please define your @tf.function outside of the loop. For (2), @tf.function has reduce_retracing=True option that can avoid unnecessary retracing. For (3), please refer to https://www.tensorflow.org/guide/function#controlling_retracing and https://www.tensorflow.org/api_docs/python/tf/function for  more details.\n"
          ]
        },
        {
          "output_type": "stream",
          "name": "stdout",
          "text": [
            "1/1 [==============================] - 0s 283ms/step\n"
          ]
        }
      ]
    },
    {
      "cell_type": "code",
      "source": [
        "prediction_copiesS = np.repeat(predictionS, df_for_training.shape[1], axis=-1)\n",
        "y_pred_futureS = scaler.inverse_transform(prediction_copiesS)[:,2]"
      ],
      "metadata": {
        "id": "HiReb9wDgOd-"
      },
      "execution_count": null,
      "outputs": []
    },
    {
      "cell_type": "code",
      "source": [
        "print(y_pred_futureS)\n",
        "i=y_pred_futureS[-1]\n",
        "cod=(i*100/10)*0.12\n",
        "print(cod)"
      ],
      "metadata": {
        "colab": {
          "base_uri": "https://localhost:8080/"
        },
        "id": "0-ick9MngSTS",
        "outputId": "3eb13389-a499-4fe0-bf98-001d4fd8007a"
      },
      "execution_count": null,
      "outputs": [
        {
          "output_type": "stream",
          "name": "stdout",
          "text": [
            "[2.9521592 2.9971423 2.9890747 2.8402743 2.1848204 1.5811108 2.2241492]\n",
            "2.6689790725708007\n"
          ]
        }
      ]
    },
    {
      "cell_type": "code",
      "source": [
        "l=[do,ph,bod,tur,cod]\n",
        "print(l)\n",
        "print(sum(l))"
      ],
      "metadata": {
        "colab": {
          "base_uri": "https://localhost:8080/"
        },
        "id": "rUBYQGsrghCL",
        "outputId": "34b04650-19d6-4e3e-ec70-9495c0647c3d"
      },
      "execution_count": null,
      "outputs": [
        {
          "output_type": "stream",
          "name": "stdout",
          "text": [
            "[22.67094735145569, 6.670152664184569, 3.3760603669166565, 4.395576000213623, 2.6689790725708007]\n",
            "39.78171545534134\n"
          ]
        }
      ]
    },
    {
      "cell_type": "code",
      "source": [
        "modelP = Sequential()\n",
        "modelP.add(LSTM(64, activation='relu', input_shape=(trainX.shape[1], trainX.shape[2]), return_sequences=True))\n",
        "modelP.add(LSTM(32, activation='relu', return_sequences=False))\n",
        "modelP.add(Dropout(0.2))\n",
        "modelP.add(Dense(trainYC.shape[1]))"
      ],
      "metadata": {
        "id": "Afys-MidtGxw"
      },
      "execution_count": null,
      "outputs": []
    },
    {
      "cell_type": "code",
      "source": [
        "modelP.compile(optimizer='adam', loss='mse')\n",
        "modelP.summary()"
      ],
      "metadata": {
        "colab": {
          "base_uri": "https://localhost:8080/"
        },
        "id": "ut__0Jll3kET",
        "outputId": "d7539ab9-885e-4c31-e5b2-715bb05f5739"
      },
      "execution_count": null,
      "outputs": [
        {
          "output_type": "stream",
          "name": "stdout",
          "text": [
            "Model: \"sequential_5\"\n",
            "_________________________________________________________________\n",
            " Layer (type)                Output Shape              Param #   \n",
            "=================================================================\n",
            " lstm_10 (LSTM)              (None, 3, 64)             18432     \n",
            "                                                                 \n",
            " lstm_11 (LSTM)              (None, 32)                12416     \n",
            "                                                                 \n",
            " dropout_5 (Dropout)         (None, 32)                0         \n",
            "                                                                 \n",
            " dense_5 (Dense)             (None, 1)                 33        \n",
            "                                                                 \n",
            "=================================================================\n",
            "Total params: 30881 (120.63 KB)\n",
            "Trainable params: 30881 (120.63 KB)\n",
            "Non-trainable params: 0 (0.00 Byte)\n",
            "_________________________________________________________________\n"
          ]
        }
      ]
    },
    {
      "cell_type": "code",
      "source": [
        "history = modelP.fit(trainX, trainYP, epochs=50, batch_size=4, validation_split=0.1, verbose=1)"
      ],
      "metadata": {
        "colab": {
          "base_uri": "https://localhost:8080/"
        },
        "id": "VVO7Pbwn3nnE",
        "outputId": "47727f64-69af-4108-f02b-a6d55fd2cafb"
      },
      "execution_count": null,
      "outputs": [
        {
          "output_type": "stream",
          "name": "stdout",
          "text": [
            "Epoch 1/50\n",
            "2/2 [==============================] - 3s 384ms/step - loss: 1.0319 - val_loss: 2.4723\n",
            "Epoch 2/50\n",
            "2/2 [==============================] - 0s 32ms/step - loss: 1.0078 - val_loss: 2.4800\n",
            "Epoch 3/50\n",
            "2/2 [==============================] - 0s 31ms/step - loss: 1.0015 - val_loss: 2.4817\n",
            "Epoch 4/50\n",
            "2/2 [==============================] - 0s 31ms/step - loss: 0.9912 - val_loss: 2.4832\n",
            "Epoch 5/50\n",
            "2/2 [==============================] - 0s 32ms/step - loss: 0.9750 - val_loss: 2.4798\n",
            "Epoch 6/50\n",
            "2/2 [==============================] - 0s 36ms/step - loss: 0.9904 - val_loss: 2.4788\n",
            "Epoch 7/50\n",
            "2/2 [==============================] - 0s 34ms/step - loss: 0.9663 - val_loss: 2.4763\n",
            "Epoch 8/50\n",
            "2/2 [==============================] - 0s 33ms/step - loss: 0.9541 - val_loss: 2.4663\n",
            "Epoch 9/50\n",
            "2/2 [==============================] - 0s 32ms/step - loss: 0.9586 - val_loss: 2.4567\n",
            "Epoch 10/50\n",
            "2/2 [==============================] - 0s 32ms/step - loss: 0.9536 - val_loss: 2.4446\n",
            "Epoch 11/50\n",
            "2/2 [==============================] - 0s 31ms/step - loss: 0.9372 - val_loss: 2.4326\n",
            "Epoch 12/50\n",
            "2/2 [==============================] - 0s 63ms/step - loss: 0.9323 - val_loss: 2.4220\n",
            "Epoch 13/50\n",
            "2/2 [==============================] - 0s 40ms/step - loss: 0.9119 - val_loss: 2.4076\n",
            "Epoch 14/50\n",
            "2/2 [==============================] - 0s 35ms/step - loss: 0.9127 - val_loss: 2.3871\n",
            "Epoch 15/50\n",
            "2/2 [==============================] - 0s 32ms/step - loss: 0.8921 - val_loss: 2.3678\n",
            "Epoch 16/50\n",
            "2/2 [==============================] - 0s 32ms/step - loss: 0.8896 - val_loss: 2.3513\n",
            "Epoch 17/50\n",
            "2/2 [==============================] - 0s 32ms/step - loss: 0.8786 - val_loss: 2.3364\n",
            "Epoch 18/50\n",
            "2/2 [==============================] - 0s 32ms/step - loss: 0.9001 - val_loss: 2.3186\n",
            "Epoch 19/50\n",
            "2/2 [==============================] - 0s 39ms/step - loss: 0.8560 - val_loss: 2.2961\n",
            "Epoch 20/50\n",
            "2/2 [==============================] - 0s 38ms/step - loss: 0.8555 - val_loss: 2.2704\n",
            "Epoch 21/50\n",
            "2/2 [==============================] - 0s 33ms/step - loss: 0.8178 - val_loss: 2.2500\n",
            "Epoch 22/50\n",
            "2/2 [==============================] - 0s 32ms/step - loss: 0.8141 - val_loss: 2.2317\n",
            "Epoch 23/50\n",
            "2/2 [==============================] - 0s 31ms/step - loss: 0.7978 - val_loss: 2.2144\n",
            "Epoch 24/50\n",
            "2/2 [==============================] - 0s 32ms/step - loss: 0.7612 - val_loss: 2.1882\n",
            "Epoch 25/50\n",
            "2/2 [==============================] - 0s 31ms/step - loss: 0.7588 - val_loss: 2.1638\n",
            "Epoch 26/50\n",
            "2/2 [==============================] - 0s 32ms/step - loss: 0.7341 - val_loss: 2.1458\n",
            "Epoch 27/50\n",
            "2/2 [==============================] - 0s 34ms/step - loss: 0.6984 - val_loss: 2.1208\n",
            "Epoch 28/50\n",
            "2/2 [==============================] - 0s 33ms/step - loss: 0.6925 - val_loss: 2.0880\n",
            "Epoch 29/50\n",
            "2/2 [==============================] - 0s 32ms/step - loss: 0.6896 - val_loss: 2.0654\n",
            "Epoch 30/50\n",
            "2/2 [==============================] - 0s 31ms/step - loss: 0.5950 - val_loss: 2.0474\n",
            "Epoch 31/50\n",
            "2/2 [==============================] - 0s 31ms/step - loss: 0.5754 - val_loss: 2.0522\n",
            "Epoch 32/50\n",
            "2/2 [==============================] - 0s 32ms/step - loss: 0.5937 - val_loss: 2.0631\n",
            "Epoch 33/50\n",
            "2/2 [==============================] - 0s 31ms/step - loss: 0.4899 - val_loss: 2.0722\n",
            "Epoch 34/50\n",
            "2/2 [==============================] - 0s 31ms/step - loss: 0.5127 - val_loss: 2.0894\n",
            "Epoch 35/50\n",
            "2/2 [==============================] - 0s 55ms/step - loss: 0.4459 - val_loss: 2.1242\n",
            "Epoch 36/50\n",
            "2/2 [==============================] - 0s 34ms/step - loss: 0.3897 - val_loss: 2.1663\n",
            "Epoch 37/50\n",
            "2/2 [==============================] - 0s 32ms/step - loss: 0.3842 - val_loss: 2.2086\n",
            "Epoch 38/50\n",
            "2/2 [==============================] - 0s 31ms/step - loss: 0.4386 - val_loss: 2.2414\n",
            "Epoch 39/50\n",
            "2/2 [==============================] - 0s 31ms/step - loss: 0.3680 - val_loss: 2.3156\n",
            "Epoch 40/50\n",
            "2/2 [==============================] - 0s 34ms/step - loss: 0.2385 - val_loss: 2.4013\n",
            "Epoch 41/50\n",
            "2/2 [==============================] - 0s 34ms/step - loss: 0.3229 - val_loss: 2.4856\n",
            "Epoch 42/50\n",
            "2/2 [==============================] - 0s 33ms/step - loss: 0.1708 - val_loss: 2.5514\n",
            "Epoch 43/50\n",
            "2/2 [==============================] - 0s 33ms/step - loss: 0.2053 - val_loss: 2.5961\n",
            "Epoch 44/50\n",
            "2/2 [==============================] - 0s 36ms/step - loss: 0.5721 - val_loss: 2.5949\n",
            "Epoch 45/50\n",
            "2/2 [==============================] - 0s 31ms/step - loss: 0.2800 - val_loss: 2.5910\n",
            "Epoch 46/50\n",
            "2/2 [==============================] - 0s 32ms/step - loss: 0.1641 - val_loss: 2.5789\n",
            "Epoch 47/50\n",
            "2/2 [==============================] - 0s 31ms/step - loss: 0.1327 - val_loss: 2.5739\n",
            "Epoch 48/50\n",
            "2/2 [==============================] - 0s 31ms/step - loss: 0.1645 - val_loss: 2.5912\n",
            "Epoch 49/50\n",
            "2/2 [==============================] - 0s 31ms/step - loss: 0.1960 - val_loss: 2.6026\n",
            "Epoch 50/50\n",
            "2/2 [==============================] - 0s 31ms/step - loss: 0.1506 - val_loss: 2.5617\n"
          ]
        }
      ]
    },
    {
      "cell_type": "code",
      "source": [
        "historyP = history"
      ],
      "metadata": {
        "id": "DvqLuQ9F3wvt"
      },
      "execution_count": null,
      "outputs": []
    },
    {
      "cell_type": "code",
      "source": [
        "plt.plot(historyP.history['loss'], label='Training loss')\n",
        "plt.plot(historyP.history['val_loss'], label='Validation loss')\n",
        "plt.legend()"
      ],
      "metadata": {
        "colab": {
          "base_uri": "https://localhost:8080/",
          "height": 447
        },
        "id": "QWAUXe6w3yna",
        "outputId": "2b597593-7b3c-4fb0-8fc8-ccaa9b0f464d"
      },
      "execution_count": null,
      "outputs": [
        {
          "output_type": "execute_result",
          "data": {
            "text/plain": [
              "<matplotlib.legend.Legend at 0x795b660df1c0>"
            ]
          },
          "metadata": {},
          "execution_count": 59
        },
        {
          "output_type": "display_data",
          "data": {
            "text/plain": [
              "<Figure size 640x480 with 1 Axes>"
            ],
            "image/png": "[encoded data removed]"
          },
          "metadata": {}
        }
      ]
    },
    {
      "cell_type": "code",
      "source": [
        "predictionP = modelP.predict(trainX)"
      ],
      "metadata": {
        "colab": {
          "base_uri": "https://localhost:8080/"
        },
        "id": "Eofi1P5M35Kv",
        "outputId": "3ea3786a-cccb-4272-f42e-d420261ad715"
      },
      "execution_count": null,
      "outputs": [
        {
          "output_type": "stream",
          "name": "stderr",
          "text": [
            "WARNING:tensorflow:6 out of the last 6 calls to <function Model.make_predict_function.<locals>.predict_function at 0x795b65fb65f0> triggered tf.function retracing. Tracing is expensive and the excessive number of tracings could be due to (1) creating @tf.function repeatedly in a loop, (2) passing tensors with different shapes, (3) passing Python objects instead of tensors. For (1), please define your @tf.function outside of the loop. For (2), @tf.function has reduce_retracing=True option that can avoid unnecessary retracing. For (3), please refer to https://www.tensorflow.org/guide/function#controlling_retracing and https://www.tensorflow.org/api_docs/python/tf/function for  more details.\n"
          ]
        },
        {
          "output_type": "stream",
          "name": "stdout",
          "text": [
            "1/1 [==============================] - 0s 277ms/step\n"
          ]
        }
      ]
    },
    {
      "cell_type": "code",
      "source": [
        "prediction_copiesP = np.repeat(predictionP, df_for_training.shape[1], axis=-1)\n",
        "y_pred_futureP = scaler.inverse_transform(prediction_copiesP)[:,0]"
      ],
      "metadata": {
        "id": "NTWCTZiM37ya"
      },
      "execution_count": null,
      "outputs": []
    },
    {
      "cell_type": "code",
      "source": [
        "print(y_pred_futureP)\n",
        "ec=y_pred_futureP[-1]\n",
        "print(ec)"
      ],
      "metadata": {
        "colab": {
          "base_uri": "https://localhost:8080/"
        },
        "id": "TrbiFJqo4Alz",
        "outputId": "1d98748e-53b2-4bde-b1d5-d1d9cdd73b0d"
      },
      "execution_count": null,
      "outputs": [
        {
          "output_type": "stream",
          "name": "stdout",
          "text": [
            "[5.766225  5.3435616 5.122526  5.302869  5.4921074 5.6861176 5.435158 ]\n",
            "5.435158\n"
          ]
        }
      ]
    },
    {
      "cell_type": "code",
      "source": [
        "l=[do,ph,bod,tur,cod,ec]\n",
        "print(l)\n",
        "WQI=sum(l)\n",
        "print(WQI)"
      ],
      "metadata": {
        "colab": {
          "base_uri": "https://localhost:8080/"
        },
        "id": "bkrV4Kjw8mJf",
        "outputId": "f565252e-5bb0-43a2-fa8a-56a5902667ac"
      },
      "execution_count": null,
      "outputs": [
        {
          "output_type": "stream",
          "name": "stdout",
          "text": [
            "[22.67094735145569, 6.670152664184569, 3.3760603669166565, 4.395576000213623, 2.6689790725708007, 5.435158]\n",
            "45.21687323122025\n"
          ]
        }
      ]
    },
    {
      "cell_type": "code",
      "source": [
        "def get_WQI_bucket(x):\n",
        "    if x>=0 and x <= 25:\n",
        "        return \"Excellent\"\n",
        "    elif x>=26 and x<=50:\n",
        "        return \"Good\"\n",
        "    elif x >=51 and x<=75:\n",
        "        return \"Poor\"\n",
        "    elif x>=76 and x<100:\n",
        "        return \"Very Poor\"\n",
        "    else:\n",
        "        return \"Not Suitable for drinking\"\n",
        "result=get_WQI_bucket(WQI)\n",
        "print(result)"
      ],
      "metadata": {
        "id": "jCwF1m238o9a",
        "colab": {
          "base_uri": "https://localhost:8080/"
        },
        "outputId": "39911f95-99d3-45ea-d5b3-a7046d6a943d"
      },
      "execution_count": null,
      "outputs": [
        {
          "output_type": "stream",
          "name": "stdout",
          "text": [
            "Good\n"
          ]
        }
      ]
    }
  ]
}